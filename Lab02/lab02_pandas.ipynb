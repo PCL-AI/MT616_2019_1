{
  "nbformat": 4,
  "nbformat_minor": 0,
  "metadata": {
    "colab": {
      "name": "lab03_pandas.ipynb",
      "version": "0.3.2",
      "provenance": []
    },
    "language_info": {
      "codemirror_mode": {
        "name": "ipython",
        "version": 3
      },
      "file_extension": ".py",
      "mimetype": "text/x-python",
      "name": "python",
      "nbconvert_exporter": "python",
      "pygments_lexer": "ipython3",
      "version": "3.7.1"
    },
    "kernelspec": {
      "display_name": "Python 3",
      "language": "python",
      "name": "python3"
    }
  },
  "cells": [
    {
      "metadata": {
        "id": "dcDTLiY8jGyf",
        "colab_type": "text"
      },
      "cell_type": "markdown",
      "source": [
        "# UNI Machine Learning Course \n",
        "## Lab 03: Analisis exploratorio de datos (EDA) con pandas.\n",
        "\n",
        "## \"Arrests for Marijuana Possession\"\n"
      ]
    },
    {
      "metadata": {
        "id": "r_gav43RjGyk",
        "colab_type": "text"
      },
      "cell_type": "markdown",
      "source": [
        "\n",
        "\n",
        "### Useful resources\n",
        "\n",
        "\n",
        "* Official Pandas [documentation](http://pandas.pydata.org/pandas-docs/stable/index.html)\n",
        "* [10 minutes to pandas](http://pandas.pydata.org/pandas-docs/stable/10min.html)\n",
        "* GitHub repos: [Pandas exercises](https://github.com/guipsamora/pandas_exercises/) and [\"Effective Pandas\"](https://github.com/TomAugspurger/effective-pandas)\n",
        "* [scipy-lectures.org](http://www.scipy-lectures.org/index.html) — tutorials on pandas, numpy, matplotlib and scikit-learn\n",
        "\n"
      ]
    },
    {
      "metadata": {
        "id": "5IswtGY2jGym",
        "colab_type": "text"
      },
      "cell_type": "markdown",
      "source": [
        "## 1. Intro a EDA con Pandas\n",
        "**[Pandas](http://pandas.pydata.org)** es una biblioteca de Python que proporciona medios extensos para el análisis de datos. Los científicos de datos a menudo trabajan con datos almacenados en formatos de tabla como `.csv`,` .tsv` o `.xlsx`. Pandas hace que sea muy conveniente cargar, procesar y analizar dichos datos tabulares mediante consultas similares a SQL. Las principales estructuras de datos en `Pandas` se implementan con las clases ** Series ** y ** DataFrame **. "
      ]
    },
    {
      "metadata": {
        "id": "zT5G4CzfjGyp",
        "colab_type": "code",
        "colab": {}
      },
      "cell_type": "code",
      "source": [
        "import numpy as np\n",
        "import pandas as pd\n"
      ],
      "execution_count": 0,
      "outputs": []
    },
    {
      "metadata": {
        "id": "CIzU2SL_jGyy",
        "colab_type": "text"
      },
      "cell_type": "markdown",
      "source": [
        "Demostraremos los principales métodos en acción al analizar un conjunto de datos [dataset](https://vincentarelbundock.github.io/Rdatasets/datasets.html) sobre el arresto por posecion de marijuana en USA. Leamos los datos (usando `read_csv`), y echemos un vistazo a las primeras 5 líneas usando el método de la cabeza:\n"
      ]
    },
    {
      "metadata": {
        "id": "XEhTxSOdjGy0",
        "colab_type": "code",
        "outputId": "be6a9413-4e4c-4e2a-b77a-d3a8ddb48e4c",
        "colab": {
          "base_uri": "https://localhost:8080/",
          "height": 195
        }
      },
      "cell_type": "code",
      "source": [
        "df = pd.read_csv('https://vincentarelbundock.github.io/Rdatasets/csv/carData/Arrests.csv')\n",
        "df.head()\n",
        "\n"
      ],
      "execution_count": 2,
      "outputs": [
        {
          "output_type": "execute_result",
          "data": {
            "text/html": [
              "<div>\n",
              "<style scoped>\n",
              "    .dataframe tbody tr th:only-of-type {\n",
              "        vertical-align: middle;\n",
              "    }\n",
              "\n",
              "    .dataframe tbody tr th {\n",
              "        vertical-align: top;\n",
              "    }\n",
              "\n",
              "    .dataframe thead th {\n",
              "        text-align: right;\n",
              "    }\n",
              "</style>\n",
              "<table border=\"1\" class=\"dataframe\">\n",
              "  <thead>\n",
              "    <tr style=\"text-align: right;\">\n",
              "      <th></th>\n",
              "      <th>Unnamed: 0</th>\n",
              "      <th>released</th>\n",
              "      <th>colour</th>\n",
              "      <th>year</th>\n",
              "      <th>age</th>\n",
              "      <th>sex</th>\n",
              "      <th>employed</th>\n",
              "      <th>citizen</th>\n",
              "      <th>checks</th>\n",
              "    </tr>\n",
              "  </thead>\n",
              "  <tbody>\n",
              "    <tr>\n",
              "      <th>0</th>\n",
              "      <td>1</td>\n",
              "      <td>Yes</td>\n",
              "      <td>White</td>\n",
              "      <td>2002</td>\n",
              "      <td>21</td>\n",
              "      <td>Male</td>\n",
              "      <td>Yes</td>\n",
              "      <td>Yes</td>\n",
              "      <td>3</td>\n",
              "    </tr>\n",
              "    <tr>\n",
              "      <th>1</th>\n",
              "      <td>2</td>\n",
              "      <td>No</td>\n",
              "      <td>Black</td>\n",
              "      <td>1999</td>\n",
              "      <td>17</td>\n",
              "      <td>Male</td>\n",
              "      <td>Yes</td>\n",
              "      <td>Yes</td>\n",
              "      <td>3</td>\n",
              "    </tr>\n",
              "    <tr>\n",
              "      <th>2</th>\n",
              "      <td>3</td>\n",
              "      <td>Yes</td>\n",
              "      <td>White</td>\n",
              "      <td>2000</td>\n",
              "      <td>24</td>\n",
              "      <td>Male</td>\n",
              "      <td>Yes</td>\n",
              "      <td>Yes</td>\n",
              "      <td>3</td>\n",
              "    </tr>\n",
              "    <tr>\n",
              "      <th>3</th>\n",
              "      <td>4</td>\n",
              "      <td>No</td>\n",
              "      <td>Black</td>\n",
              "      <td>2000</td>\n",
              "      <td>46</td>\n",
              "      <td>Male</td>\n",
              "      <td>Yes</td>\n",
              "      <td>Yes</td>\n",
              "      <td>1</td>\n",
              "    </tr>\n",
              "    <tr>\n",
              "      <th>4</th>\n",
              "      <td>5</td>\n",
              "      <td>Yes</td>\n",
              "      <td>Black</td>\n",
              "      <td>1999</td>\n",
              "      <td>27</td>\n",
              "      <td>Female</td>\n",
              "      <td>Yes</td>\n",
              "      <td>Yes</td>\n",
              "      <td>1</td>\n",
              "    </tr>\n",
              "  </tbody>\n",
              "</table>\n",
              "</div>"
            ],
            "text/plain": [
              "   Unnamed: 0 released colour  year  age     sex employed citizen  checks\n",
              "0           1      Yes  White  2002   21    Male      Yes     Yes       3\n",
              "1           2       No  Black  1999   17    Male      Yes     Yes       3\n",
              "2           3      Yes  White  2000   24    Male      Yes     Yes       3\n",
              "3           4       No  Black  2000   46    Male      Yes     Yes       1\n",
              "4           5      Yes  Black  1999   27  Female      Yes     Yes       1"
            ]
          },
          "metadata": {
            "tags": []
          },
          "execution_count": 2
        }
      ]
    },
    {
      "metadata": {
        "id": "V5VIN7ctjGy-",
        "colab_type": "text"
      },
      "cell_type": "markdown",
      "source": [
        "<details>\n",
        "<summary>Acerca de la impresión de DataFrames en cuadernos Jupyter</summary>\n",
        "<p>\n",
        "En los cuadernos Jupyter, los cuadros de datos de Pandas se imprimen como estas bonitas tablas que se ven arriba, mientras que `print (df.head ())` tiene un formato menos agradable.\n",
        "Por defecto, Pandas muestra 20 columnas y 60 filas, por lo tanto, si su DataFrame es más grande, use la función `set_option` como se muestra en el siguiente ejemplo:\n",
        "\n",
        "```python\n",
        "pd.set_option('display.max_columns', 100)\n",
        "pd.set_option('display.max_rows', 100)\n",
        "```\n",
        "</p>\n",
        "</details>\n",
        "\n",
        "Recuerde que cada fila corresponde a un cliente, una **instancia**, y las columnas son **features** de esta instancia.\n"
      ]
    },
    {
      "metadata": {
        "id": "hhT_MPr0jGy_",
        "colab_type": "text"
      },
      "cell_type": "markdown",
      "source": [
        "Let’s have a look at data dimensionality, feature names, and feature types."
      ]
    },
    {
      "metadata": {
        "id": "4qaBk5iAjGzA",
        "colab_type": "code",
        "outputId": "a8cd1f86-d03a-4ab1-822c-b3354e2efe04",
        "colab": {
          "base_uri": "https://localhost:8080/",
          "height": 34
        }
      },
      "cell_type": "code",
      "source": [
        "print(df.shape)"
      ],
      "execution_count": 3,
      "outputs": [
        {
          "output_type": "stream",
          "text": [
            "(5226, 9)\n"
          ],
          "name": "stdout"
        }
      ]
    },
    {
      "metadata": {
        "id": "H5iq-dfHjGzH",
        "colab_type": "text"
      },
      "cell_type": "markdown",
      "source": [
        "Ahora intentemos imprimir nombres de columnas usando `columnas`:"
      ]
    },
    {
      "metadata": {
        "id": "zuTeMYVmjGzK",
        "colab_type": "code",
        "outputId": "52e1b70e-bc47-4bcf-b41a-78a9e27133fa",
        "colab": {
          "base_uri": "https://localhost:8080/",
          "height": 67
        }
      },
      "cell_type": "code",
      "source": [
        "print(df.columns)"
      ],
      "execution_count": 4,
      "outputs": [
        {
          "output_type": "stream",
          "text": [
            "Index(['Unnamed: 0', 'released', 'colour', 'year', 'age', 'sex', 'employed',\n",
            "       'citizen', 'checks'],\n",
            "      dtype='object')\n"
          ],
          "name": "stdout"
        }
      ]
    },
    {
      "metadata": {
        "id": "xI7jWzDVjGzR",
        "colab_type": "text"
      },
      "cell_type": "markdown",
      "source": [
        "Podemos usar el método `info ()` para generar información general sobre el marco de datos:"
      ]
    },
    {
      "metadata": {
        "id": "oQy9hGJtjGzT",
        "colab_type": "code",
        "outputId": "efb41e4f-341f-45b0-c2b0-1d9d7b282576",
        "colab": {
          "base_uri": "https://localhost:8080/",
          "height": 269
        }
      },
      "cell_type": "code",
      "source": [
        "print(df.info())"
      ],
      "execution_count": 5,
      "outputs": [
        {
          "output_type": "stream",
          "text": [
            "<class 'pandas.core.frame.DataFrame'>\n",
            "RangeIndex: 5226 entries, 0 to 5225\n",
            "Data columns (total 9 columns):\n",
            "Unnamed: 0    5226 non-null int64\n",
            "released      5226 non-null object\n",
            "colour        5226 non-null object\n",
            "year          5226 non-null int64\n",
            "age           5226 non-null int64\n",
            "sex           5226 non-null object\n",
            "employed      5226 non-null object\n",
            "citizen       5226 non-null object\n",
            "checks        5226 non-null int64\n",
            "dtypes: int64(4), object(5)\n",
            "memory usage: 367.5+ KB\n",
            "None\n"
          ],
          "name": "stdout"
        }
      ]
    },
    {
      "metadata": {
        "id": "0IsyxzwgjGzc",
        "colab_type": "text"
      },
      "cell_type": "markdown",
      "source": [
        "`bool`, `int64`, `float64` y  `object` son los tipos de datos de nuestras características. Vemos que 0 característica es lógica (`bool`), 5 características son de tipo `object` y 4 características son numéricas. Con este mismo método, podemos ver fácilmente si hay algún valor faltante. Aquí, no hay ninguno porque cada columna contiene 5226 observaciones, el mismo número de filas que vimos antes con `shape`.\n",
        "\n",
        "Podemos **cambiar el tipo de columna** con el método `astype`. Apliquemos este método a la función `released` para convertirlo en `int64`:\n"
      ]
    },
    {
      "metadata": {
        "id": "8ZTag7PTjGzd",
        "colab_type": "code",
        "outputId": "2c506c0e-8084-4f59-93f6-63d0f0abcff9",
        "colab": {
          "base_uri": "https://localhost:8080/",
          "height": 269
        }
      },
      "cell_type": "code",
      "source": [
        "df['released'] = df['released'].astype('str').astype('bool')\n",
        "\n",
        "\n",
        "print(df.info())"
      ],
      "execution_count": 6,
      "outputs": [
        {
          "output_type": "stream",
          "text": [
            "<class 'pandas.core.frame.DataFrame'>\n",
            "RangeIndex: 5226 entries, 0 to 5225\n",
            "Data columns (total 9 columns):\n",
            "Unnamed: 0    5226 non-null int64\n",
            "released      5226 non-null bool\n",
            "colour        5226 non-null object\n",
            "year          5226 non-null int64\n",
            "age           5226 non-null int64\n",
            "sex           5226 non-null object\n",
            "employed      5226 non-null object\n",
            "citizen       5226 non-null object\n",
            "checks        5226 non-null int64\n",
            "dtypes: bool(1), int64(4), object(4)\n",
            "memory usage: 331.8+ KB\n",
            "None\n"
          ],
          "name": "stdout"
        }
      ]
    },
    {
      "metadata": {
        "id": "-dH3Pd81AWgo",
        "colab_type": "code",
        "outputId": "65603bac-4097-4009-a359-0525a9925d56",
        "colab": {
          "base_uri": "https://localhost:8080/",
          "height": 447
        }
      },
      "cell_type": "code",
      "source": [
        "#df = df.astype({\"sex\":'category', \"age\":'int', \"employed\" : 'bool'})\n",
        "df = df.astype({\"age\":'int', \"employed\" : 'bool'})\n",
        "print(df.info())\n",
        "df.head()"
      ],
      "execution_count": 7,
      "outputs": [
        {
          "output_type": "stream",
          "text": [
            "<class 'pandas.core.frame.DataFrame'>\n",
            "RangeIndex: 5226 entries, 0 to 5225\n",
            "Data columns (total 9 columns):\n",
            "Unnamed: 0    5226 non-null int64\n",
            "released      5226 non-null bool\n",
            "colour        5226 non-null object\n",
            "year          5226 non-null int64\n",
            "age           5226 non-null int64\n",
            "sex           5226 non-null object\n",
            "employed      5226 non-null bool\n",
            "citizen       5226 non-null object\n",
            "checks        5226 non-null int64\n",
            "dtypes: bool(2), int64(4), object(3)\n",
            "memory usage: 296.1+ KB\n",
            "None\n"
          ],
          "name": "stdout"
        },
        {
          "output_type": "execute_result",
          "data": {
            "text/html": [
              "<div>\n",
              "<style scoped>\n",
              "    .dataframe tbody tr th:only-of-type {\n",
              "        vertical-align: middle;\n",
              "    }\n",
              "\n",
              "    .dataframe tbody tr th {\n",
              "        vertical-align: top;\n",
              "    }\n",
              "\n",
              "    .dataframe thead th {\n",
              "        text-align: right;\n",
              "    }\n",
              "</style>\n",
              "<table border=\"1\" class=\"dataframe\">\n",
              "  <thead>\n",
              "    <tr style=\"text-align: right;\">\n",
              "      <th></th>\n",
              "      <th>Unnamed: 0</th>\n",
              "      <th>released</th>\n",
              "      <th>colour</th>\n",
              "      <th>year</th>\n",
              "      <th>age</th>\n",
              "      <th>sex</th>\n",
              "      <th>employed</th>\n",
              "      <th>citizen</th>\n",
              "      <th>checks</th>\n",
              "    </tr>\n",
              "  </thead>\n",
              "  <tbody>\n",
              "    <tr>\n",
              "      <th>0</th>\n",
              "      <td>1</td>\n",
              "      <td>True</td>\n",
              "      <td>White</td>\n",
              "      <td>2002</td>\n",
              "      <td>21</td>\n",
              "      <td>Male</td>\n",
              "      <td>True</td>\n",
              "      <td>Yes</td>\n",
              "      <td>3</td>\n",
              "    </tr>\n",
              "    <tr>\n",
              "      <th>1</th>\n",
              "      <td>2</td>\n",
              "      <td>True</td>\n",
              "      <td>Black</td>\n",
              "      <td>1999</td>\n",
              "      <td>17</td>\n",
              "      <td>Male</td>\n",
              "      <td>True</td>\n",
              "      <td>Yes</td>\n",
              "      <td>3</td>\n",
              "    </tr>\n",
              "    <tr>\n",
              "      <th>2</th>\n",
              "      <td>3</td>\n",
              "      <td>True</td>\n",
              "      <td>White</td>\n",
              "      <td>2000</td>\n",
              "      <td>24</td>\n",
              "      <td>Male</td>\n",
              "      <td>True</td>\n",
              "      <td>Yes</td>\n",
              "      <td>3</td>\n",
              "    </tr>\n",
              "    <tr>\n",
              "      <th>3</th>\n",
              "      <td>4</td>\n",
              "      <td>True</td>\n",
              "      <td>Black</td>\n",
              "      <td>2000</td>\n",
              "      <td>46</td>\n",
              "      <td>Male</td>\n",
              "      <td>True</td>\n",
              "      <td>Yes</td>\n",
              "      <td>1</td>\n",
              "    </tr>\n",
              "    <tr>\n",
              "      <th>4</th>\n",
              "      <td>5</td>\n",
              "      <td>True</td>\n",
              "      <td>Black</td>\n",
              "      <td>1999</td>\n",
              "      <td>27</td>\n",
              "      <td>Female</td>\n",
              "      <td>True</td>\n",
              "      <td>Yes</td>\n",
              "      <td>1</td>\n",
              "    </tr>\n",
              "  </tbody>\n",
              "</table>\n",
              "</div>"
            ],
            "text/plain": [
              "   Unnamed: 0  released colour  year  age     sex  employed citizen  checks\n",
              "0           1      True  White  2002   21    Male      True     Yes       3\n",
              "1           2      True  Black  1999   17    Male      True     Yes       3\n",
              "2           3      True  White  2000   24    Male      True     Yes       3\n",
              "3           4      True  Black  2000   46    Male      True     Yes       1\n",
              "4           5      True  Black  1999   27  Female      True     Yes       1"
            ]
          },
          "metadata": {
            "tags": []
          },
          "execution_count": 7
        }
      ]
    },
    {
      "metadata": {
        "id": "1NXHfokVjGzs",
        "colab_type": "text"
      },
      "cell_type": "markdown",
      "source": [
        "El método `describe` muestra características estadísticas básicas de cada característica numérica (tipos `int64` y  `float64`): número de valores no faltantes, media, desviación estándar, rango, mediana, 0.25 y 0.75 cuartiles."
      ]
    },
    {
      "metadata": {
        "id": "0F2fArzEjGzu",
        "colab_type": "code",
        "outputId": "5b98bf67-3894-4933-a332-4b2b9cac83b6",
        "colab": {
          "base_uri": "https://localhost:8080/",
          "height": 284
        }
      },
      "cell_type": "code",
      "source": [
        "df.describe()"
      ],
      "execution_count": 8,
      "outputs": [
        {
          "output_type": "execute_result",
          "data": {
            "text/html": [
              "<div>\n",
              "<style scoped>\n",
              "    .dataframe tbody tr th:only-of-type {\n",
              "        vertical-align: middle;\n",
              "    }\n",
              "\n",
              "    .dataframe tbody tr th {\n",
              "        vertical-align: top;\n",
              "    }\n",
              "\n",
              "    .dataframe thead th {\n",
              "        text-align: right;\n",
              "    }\n",
              "</style>\n",
              "<table border=\"1\" class=\"dataframe\">\n",
              "  <thead>\n",
              "    <tr style=\"text-align: right;\">\n",
              "      <th></th>\n",
              "      <th>Unnamed: 0</th>\n",
              "      <th>year</th>\n",
              "      <th>age</th>\n",
              "      <th>checks</th>\n",
              "    </tr>\n",
              "  </thead>\n",
              "  <tbody>\n",
              "    <tr>\n",
              "      <th>count</th>\n",
              "      <td>5226.000000</td>\n",
              "      <td>5226.000000</td>\n",
              "      <td>5226.000000</td>\n",
              "      <td>5226.000000</td>\n",
              "    </tr>\n",
              "    <tr>\n",
              "      <th>mean</th>\n",
              "      <td>2613.500000</td>\n",
              "      <td>1999.509376</td>\n",
              "      <td>23.846537</td>\n",
              "      <td>1.636433</td>\n",
              "    </tr>\n",
              "    <tr>\n",
              "      <th>std</th>\n",
              "      <td>1508.760584</td>\n",
              "      <td>1.390056</td>\n",
              "      <td>8.316133</td>\n",
              "      <td>1.539230</td>\n",
              "    </tr>\n",
              "    <tr>\n",
              "      <th>min</th>\n",
              "      <td>1.000000</td>\n",
              "      <td>1997.000000</td>\n",
              "      <td>12.000000</td>\n",
              "      <td>0.000000</td>\n",
              "    </tr>\n",
              "    <tr>\n",
              "      <th>25%</th>\n",
              "      <td>1307.250000</td>\n",
              "      <td>1998.000000</td>\n",
              "      <td>18.000000</td>\n",
              "      <td>0.000000</td>\n",
              "    </tr>\n",
              "    <tr>\n",
              "      <th>50%</th>\n",
              "      <td>2613.500000</td>\n",
              "      <td>2000.000000</td>\n",
              "      <td>21.000000</td>\n",
              "      <td>1.000000</td>\n",
              "    </tr>\n",
              "    <tr>\n",
              "      <th>75%</th>\n",
              "      <td>3919.750000</td>\n",
              "      <td>2001.000000</td>\n",
              "      <td>27.000000</td>\n",
              "      <td>3.000000</td>\n",
              "    </tr>\n",
              "    <tr>\n",
              "      <th>max</th>\n",
              "      <td>5226.000000</td>\n",
              "      <td>2002.000000</td>\n",
              "      <td>66.000000</td>\n",
              "      <td>6.000000</td>\n",
              "    </tr>\n",
              "  </tbody>\n",
              "</table>\n",
              "</div>"
            ],
            "text/plain": [
              "        Unnamed: 0         year          age       checks\n",
              "count  5226.000000  5226.000000  5226.000000  5226.000000\n",
              "mean   2613.500000  1999.509376    23.846537     1.636433\n",
              "std    1508.760584     1.390056     8.316133     1.539230\n",
              "min       1.000000  1997.000000    12.000000     0.000000\n",
              "25%    1307.250000  1998.000000    18.000000     0.000000\n",
              "50%    2613.500000  2000.000000    21.000000     1.000000\n",
              "75%    3919.750000  2001.000000    27.000000     3.000000\n",
              "max    5226.000000  2002.000000    66.000000     6.000000"
            ]
          },
          "metadata": {
            "tags": []
          },
          "execution_count": 8
        }
      ]
    },
    {
      "metadata": {
        "id": "eTpv9sJMjGz0",
        "colab_type": "text"
      },
      "cell_type": "markdown",
      "source": [
        "Para ver estadísticas sobre características no numéricas, uno tiene que indicar explícitamente los tipos de datos de interés en el parámetro `include`."
      ]
    },
    {
      "metadata": {
        "id": "ZG-0etuVjGz2",
        "colab_type": "code",
        "outputId": "aaf6b69c-5ff5-4289-9660-177ac37afe8c",
        "colab": {
          "base_uri": "https://localhost:8080/",
          "height": 166
        }
      },
      "cell_type": "code",
      "source": [
        "df.describe(include=['object', 'bool', 'category'])\n"
      ],
      "execution_count": 9,
      "outputs": [
        {
          "output_type": "execute_result",
          "data": {
            "text/html": [
              "<div>\n",
              "<style scoped>\n",
              "    .dataframe tbody tr th:only-of-type {\n",
              "        vertical-align: middle;\n",
              "    }\n",
              "\n",
              "    .dataframe tbody tr th {\n",
              "        vertical-align: top;\n",
              "    }\n",
              "\n",
              "    .dataframe thead th {\n",
              "        text-align: right;\n",
              "    }\n",
              "</style>\n",
              "<table border=\"1\" class=\"dataframe\">\n",
              "  <thead>\n",
              "    <tr style=\"text-align: right;\">\n",
              "      <th></th>\n",
              "      <th>released</th>\n",
              "      <th>colour</th>\n",
              "      <th>sex</th>\n",
              "      <th>employed</th>\n",
              "      <th>citizen</th>\n",
              "    </tr>\n",
              "  </thead>\n",
              "  <tbody>\n",
              "    <tr>\n",
              "      <th>count</th>\n",
              "      <td>5226</td>\n",
              "      <td>5226</td>\n",
              "      <td>5226</td>\n",
              "      <td>5226</td>\n",
              "      <td>5226</td>\n",
              "    </tr>\n",
              "    <tr>\n",
              "      <th>unique</th>\n",
              "      <td>1</td>\n",
              "      <td>2</td>\n",
              "      <td>2</td>\n",
              "      <td>1</td>\n",
              "      <td>2</td>\n",
              "    </tr>\n",
              "    <tr>\n",
              "      <th>top</th>\n",
              "      <td>True</td>\n",
              "      <td>White</td>\n",
              "      <td>Male</td>\n",
              "      <td>True</td>\n",
              "      <td>Yes</td>\n",
              "    </tr>\n",
              "    <tr>\n",
              "      <th>freq</th>\n",
              "      <td>5226</td>\n",
              "      <td>3938</td>\n",
              "      <td>4783</td>\n",
              "      <td>5226</td>\n",
              "      <td>4455</td>\n",
              "    </tr>\n",
              "  </tbody>\n",
              "</table>\n",
              "</div>"
            ],
            "text/plain": [
              "       released colour   sex employed citizen\n",
              "count      5226   5226  5226     5226    5226\n",
              "unique        1      2     2        1       2\n",
              "top        True  White  Male     True     Yes\n",
              "freq       5226   3938  4783     5226    4455"
            ]
          },
          "metadata": {
            "tags": []
          },
          "execution_count": 9
        }
      ]
    },
    {
      "metadata": {
        "id": "rBElwOCtjGz9",
        "colab_type": "text"
      },
      "cell_type": "markdown",
      "source": [
        "Para las características categóricas (tipo `objeto`) y booleano (tipo `bool`) podemos usar el método `value_counts`.  Echemos un vistazo a la distribución de `colour`:"
      ]
    },
    {
      "metadata": {
        "id": "Zc5gPiWWjGz_",
        "colab_type": "code",
        "outputId": "ed89ad5a-d46d-42e4-fecc-59249e631d3f",
        "colab": {
          "base_uri": "https://localhost:8080/",
          "height": 67
        }
      },
      "cell_type": "code",
      "source": [
        "df['colour'].value_counts()"
      ],
      "execution_count": 10,
      "outputs": [
        {
          "output_type": "execute_result",
          "data": {
            "text/plain": [
              "White    3938\n",
              "Black    1288\n",
              "Name: colour, dtype: int64"
            ]
          },
          "metadata": {
            "tags": []
          },
          "execution_count": 10
        }
      ]
    },
    {
      "metadata": {
        "id": "s3tfNp6AjG0G",
        "colab_type": "text"
      },
      "cell_type": "markdown",
      "source": [
        "De los 5226 detenidos, 3938 son *White*;  y todos tienen trabajo. Para calcular fracciones, usar `normalize = True` a la función `value_counts`."
      ]
    },
    {
      "metadata": {
        "id": "jbD0NftgjG0G",
        "colab_type": "code",
        "outputId": "08c39a74-f741-491c-95a3-1ff866dcdd51",
        "colab": {
          "base_uri": "https://localhost:8080/",
          "height": 67
        }
      },
      "cell_type": "code",
      "source": [
        "df['colour'].value_counts(normalize=True)"
      ],
      "execution_count": 11,
      "outputs": [
        {
          "output_type": "execute_result",
          "data": {
            "text/plain": [
              "White    0.75354\n",
              "Black    0.24646\n",
              "Name: colour, dtype: float64"
            ]
          },
          "metadata": {
            "tags": []
          },
          "execution_count": 11
        }
      ]
    },
    {
      "metadata": {
        "id": "tDCbAOMMjG0M",
        "colab_type": "text"
      },
      "cell_type": "markdown",
      "source": [
        "\n",
        "### Sorting\n",
        "\n",
        "Un DataFrame se puede ordenar por el valor de una de las variables (es decir, columnas). Por ejemplo, podemos clasificar por *age* (use `ascending = False` para ordenar en orden descendente):\n"
      ]
    },
    {
      "metadata": {
        "id": "9VzLZDFsjG0O",
        "colab_type": "code",
        "outputId": "1e5fc36a-c3cb-41ee-e5c9-0e0bcd674ba8",
        "colab": {
          "base_uri": "https://localhost:8080/",
          "height": 195
        }
      },
      "cell_type": "code",
      "source": [
        "df.sort_values(by='age', ascending=True).head()"
      ],
      "execution_count": 12,
      "outputs": [
        {
          "output_type": "execute_result",
          "data": {
            "text/html": [
              "<div>\n",
              "<style scoped>\n",
              "    .dataframe tbody tr th:only-of-type {\n",
              "        vertical-align: middle;\n",
              "    }\n",
              "\n",
              "    .dataframe tbody tr th {\n",
              "        vertical-align: top;\n",
              "    }\n",
              "\n",
              "    .dataframe thead th {\n",
              "        text-align: right;\n",
              "    }\n",
              "</style>\n",
              "<table border=\"1\" class=\"dataframe\">\n",
              "  <thead>\n",
              "    <tr style=\"text-align: right;\">\n",
              "      <th></th>\n",
              "      <th>Unnamed: 0</th>\n",
              "      <th>released</th>\n",
              "      <th>colour</th>\n",
              "      <th>year</th>\n",
              "      <th>age</th>\n",
              "      <th>sex</th>\n",
              "      <th>employed</th>\n",
              "      <th>citizen</th>\n",
              "      <th>checks</th>\n",
              "    </tr>\n",
              "  </thead>\n",
              "  <tbody>\n",
              "    <tr>\n",
              "      <th>5100</th>\n",
              "      <td>5101</td>\n",
              "      <td>True</td>\n",
              "      <td>White</td>\n",
              "      <td>1999</td>\n",
              "      <td>12</td>\n",
              "      <td>Male</td>\n",
              "      <td>True</td>\n",
              "      <td>Yes</td>\n",
              "      <td>0</td>\n",
              "    </tr>\n",
              "    <tr>\n",
              "      <th>3806</th>\n",
              "      <td>3807</td>\n",
              "      <td>True</td>\n",
              "      <td>White</td>\n",
              "      <td>1997</td>\n",
              "      <td>12</td>\n",
              "      <td>Male</td>\n",
              "      <td>True</td>\n",
              "      <td>No</td>\n",
              "      <td>5</td>\n",
              "    </tr>\n",
              "    <tr>\n",
              "      <th>4967</th>\n",
              "      <td>4968</td>\n",
              "      <td>True</td>\n",
              "      <td>White</td>\n",
              "      <td>1998</td>\n",
              "      <td>12</td>\n",
              "      <td>Male</td>\n",
              "      <td>True</td>\n",
              "      <td>Yes</td>\n",
              "      <td>0</td>\n",
              "    </tr>\n",
              "    <tr>\n",
              "      <th>189</th>\n",
              "      <td>190</td>\n",
              "      <td>True</td>\n",
              "      <td>White</td>\n",
              "      <td>2001</td>\n",
              "      <td>12</td>\n",
              "      <td>Male</td>\n",
              "      <td>True</td>\n",
              "      <td>Yes</td>\n",
              "      <td>0</td>\n",
              "    </tr>\n",
              "    <tr>\n",
              "      <th>2832</th>\n",
              "      <td>2833</td>\n",
              "      <td>True</td>\n",
              "      <td>White</td>\n",
              "      <td>2000</td>\n",
              "      <td>13</td>\n",
              "      <td>Male</td>\n",
              "      <td>True</td>\n",
              "      <td>Yes</td>\n",
              "      <td>0</td>\n",
              "    </tr>\n",
              "  </tbody>\n",
              "</table>\n",
              "</div>"
            ],
            "text/plain": [
              "      Unnamed: 0  released colour  year  age   sex  employed citizen  checks\n",
              "5100        5101      True  White  1999   12  Male      True     Yes       0\n",
              "3806        3807      True  White  1997   12  Male      True      No       5\n",
              "4967        4968      True  White  1998   12  Male      True     Yes       0\n",
              "189          190      True  White  2001   12  Male      True     Yes       0\n",
              "2832        2833      True  White  2000   13  Male      True     Yes       0"
            ]
          },
          "metadata": {
            "tags": []
          },
          "execution_count": 12
        }
      ]
    },
    {
      "metadata": {
        "id": "prodWAm4jG0U",
        "colab_type": "text"
      },
      "cell_type": "markdown",
      "source": [
        "También podemos ordenar por múltiples columnas:"
      ]
    },
    {
      "metadata": {
        "id": "5TLH15w8jG0V",
        "colab_type": "code",
        "outputId": "16e6a1e2-7f34-4b53-e550-6f315a365e10",
        "colab": {
          "base_uri": "https://localhost:8080/",
          "height": 195
        }
      },
      "cell_type": "code",
      "source": [
        "df.sort_values(by=['age', 'year'],ascending=[True, True]).head()"
      ],
      "execution_count": 14,
      "outputs": [
        {
          "output_type": "execute_result",
          "data": {
            "text/html": [
              "<div>\n",
              "<style scoped>\n",
              "    .dataframe tbody tr th:only-of-type {\n",
              "        vertical-align: middle;\n",
              "    }\n",
              "\n",
              "    .dataframe tbody tr th {\n",
              "        vertical-align: top;\n",
              "    }\n",
              "\n",
              "    .dataframe thead th {\n",
              "        text-align: right;\n",
              "    }\n",
              "</style>\n",
              "<table border=\"1\" class=\"dataframe\">\n",
              "  <thead>\n",
              "    <tr style=\"text-align: right;\">\n",
              "      <th></th>\n",
              "      <th>Unnamed: 0</th>\n",
              "      <th>released</th>\n",
              "      <th>colour</th>\n",
              "      <th>year</th>\n",
              "      <th>age</th>\n",
              "      <th>sex</th>\n",
              "      <th>employed</th>\n",
              "      <th>citizen</th>\n",
              "      <th>checks</th>\n",
              "    </tr>\n",
              "  </thead>\n",
              "  <tbody>\n",
              "    <tr>\n",
              "      <th>3806</th>\n",
              "      <td>3807</td>\n",
              "      <td>True</td>\n",
              "      <td>White</td>\n",
              "      <td>1997</td>\n",
              "      <td>12</td>\n",
              "      <td>Male</td>\n",
              "      <td>True</td>\n",
              "      <td>No</td>\n",
              "      <td>5</td>\n",
              "    </tr>\n",
              "    <tr>\n",
              "      <th>4967</th>\n",
              "      <td>4968</td>\n",
              "      <td>True</td>\n",
              "      <td>White</td>\n",
              "      <td>1998</td>\n",
              "      <td>12</td>\n",
              "      <td>Male</td>\n",
              "      <td>True</td>\n",
              "      <td>Yes</td>\n",
              "      <td>0</td>\n",
              "    </tr>\n",
              "    <tr>\n",
              "      <th>5100</th>\n",
              "      <td>5101</td>\n",
              "      <td>True</td>\n",
              "      <td>White</td>\n",
              "      <td>1999</td>\n",
              "      <td>12</td>\n",
              "      <td>Male</td>\n",
              "      <td>True</td>\n",
              "      <td>Yes</td>\n",
              "      <td>0</td>\n",
              "    </tr>\n",
              "    <tr>\n",
              "      <th>189</th>\n",
              "      <td>190</td>\n",
              "      <td>True</td>\n",
              "      <td>White</td>\n",
              "      <td>2001</td>\n",
              "      <td>12</td>\n",
              "      <td>Male</td>\n",
              "      <td>True</td>\n",
              "      <td>Yes</td>\n",
              "      <td>0</td>\n",
              "    </tr>\n",
              "    <tr>\n",
              "      <th>1575</th>\n",
              "      <td>1576</td>\n",
              "      <td>True</td>\n",
              "      <td>Black</td>\n",
              "      <td>1997</td>\n",
              "      <td>13</td>\n",
              "      <td>Male</td>\n",
              "      <td>True</td>\n",
              "      <td>No</td>\n",
              "      <td>2</td>\n",
              "    </tr>\n",
              "  </tbody>\n",
              "</table>\n",
              "</div>"
            ],
            "text/plain": [
              "      Unnamed: 0  released colour  year  age   sex  employed citizen  checks\n",
              "3806        3807      True  White  1997   12  Male      True      No       5\n",
              "4967        4968      True  White  1998   12  Male      True     Yes       0\n",
              "5100        5101      True  White  1999   12  Male      True     Yes       0\n",
              "189          190      True  White  2001   12  Male      True     Yes       0\n",
              "1575        1576      True  Black  1997   13  Male      True      No       2"
            ]
          },
          "metadata": {
            "tags": []
          },
          "execution_count": 14
        }
      ]
    },
    {
      "metadata": {
        "id": "NIU0pau0jG0i",
        "colab_type": "text"
      },
      "cell_type": "markdown",
      "source": [
        "\n",
        "### Indexing and retrieving data\n",
        "\n",
        "Un DataFrame se puede indexar de diferentes maneras.\n",
        "\n",
        "Para obtener una sola columna, puede usar una construcción `DataFrame['Name']`. Usemos esto para responder solo a una pregunta sobre esa columna: \n",
        "\n",
        "**¿Cuál es la edad promedio de los detenidos?**\n",
        "\n"
      ]
    },
    {
      "metadata": {
        "id": "Gnsqm5bejG0l",
        "colab_type": "code",
        "outputId": "5cceeefd-d7f4-4779-d8de-1b4199c8f3db",
        "colab": {
          "base_uri": "https://localhost:8080/",
          "height": 34
        }
      },
      "cell_type": "code",
      "source": [
        "df['age'].mean()"
      ],
      "execution_count": 15,
      "outputs": [
        {
          "output_type": "execute_result",
          "data": {
            "text/plain": [
              "23.846536548029086"
            ]
          },
          "metadata": {
            "tags": []
          },
          "execution_count": 15
        }
      ]
    },
    {
      "metadata": {
        "id": "y1Dxe0lQjG0r",
        "colab_type": "text"
      },
      "cell_type": "markdown",
      "source": [
        "**Boolean indexing** con una columna también es muy conveniente. La sintaxis es `df[P (df['Name'])]`, donde `P` es una condición lógica que se comprueba para cada elemento de la columna `Name`.  El resultado de dicha indexación es el DataFrame que consiste solo en filas que satisfacen la condición `P` en la columna `Nombre`.\n",
        "\n",
        "Vamos a usarlo para responder la pregunta:\n",
        "\n",
        "**¿Cuáles son los valores promedio de las características numéricas para los detenidos de raza black? **\n"
      ]
    },
    {
      "metadata": {
        "id": "ibP2yLE5jG0t",
        "colab_type": "code",
        "outputId": "768549bd-15cb-470d-ffe5-97aac17371fa",
        "colab": {
          "base_uri": "https://localhost:8080/",
          "height": 134
        }
      },
      "cell_type": "code",
      "source": [
        "df[df['colour'] == 'Black'].mean()"
      ],
      "execution_count": 16,
      "outputs": [
        {
          "output_type": "execute_result",
          "data": {
            "text/plain": [
              "Unnamed: 0    2641.455745\n",
              "released         1.000000\n",
              "year          1999.520186\n",
              "age             24.825311\n",
              "employed         1.000000\n",
              "checks           2.099379\n",
              "dtype: float64"
            ]
          },
          "metadata": {
            "tags": []
          },
          "execution_count": 16
        }
      ]
    },
    {
      "metadata": {
        "id": "I2xiZ-OijG0z",
        "colab_type": "text"
      },
      "cell_type": "markdown",
      "source": [
        "**¿Cuál es la edad promedio de las detenidas mujeres?**"
      ]
    },
    {
      "metadata": {
        "id": "ruhfhAAQjG02",
        "colab_type": "code",
        "outputId": "9a257d72-099a-48e0-a4ea-76497b48a7cc",
        "colab": {
          "base_uri": "https://localhost:8080/",
          "height": 34
        }
      },
      "cell_type": "code",
      "source": [
        "df[df['sex'] == 'Female']['age'].mean()"
      ],
      "execution_count": 18,
      "outputs": [
        {
          "output_type": "execute_result",
          "data": {
            "text/plain": [
              "23.532731376975168"
            ]
          },
          "metadata": {
            "tags": []
          },
          "execution_count": 18
        }
      ]
    },
    {
      "metadata": {
        "id": "8HqPVP7ijG08",
        "colab_type": "text"
      },
      "cell_type": "markdown",
      "source": [
        "**¿Cuántos de los detenidos hombres fueron detenidos por primera vez?**\n",
        "\n"
      ]
    },
    {
      "metadata": {
        "id": "-n6HkAOujG0-",
        "colab_type": "code",
        "outputId": "bc9caf02-75eb-4af0-a112-ef6254048643",
        "colab": {
          "base_uri": "https://localhost:8080/",
          "height": 34
        }
      },
      "cell_type": "code",
      "source": [
        "df[(df['sex'] == 'Male') & (df['citizen'] == 'No')]['checks'].max()"
      ],
      "execution_count": 19,
      "outputs": [
        {
          "output_type": "execute_result",
          "data": {
            "text/plain": [
              "6"
            ]
          },
          "metadata": {
            "tags": []
          },
          "execution_count": 19
        }
      ]
    },
    {
      "metadata": {
        "id": "Zkynyu31jG1C",
        "colab_type": "text"
      },
      "cell_type": "markdown",
      "source": [
        "\n",
        "DataFrames can be indexed by column name (label) or row name (index) or by the serial number of a row. The `loc` method is used for **indexing by name**, while `iloc()` is used for **indexing by number**.\n",
        "\n",
        "In the first case below, we say *\"give us the values of the rows with index from 0 to 5 (inclusive) and columns labeled from State to Area code (inclusive)\"*. In the second case, we say *\"give us the values of the first five rows in the first three columns\"* (as in a typical Python slice: the maximal value is not included).\n",
        "\n",
        "Los DataFrames se pueden indexar por nombre de columna (etiqueta) o por nombre de fila (índice) o por el número de serie de una fila. El método `loc` se usa para **indexar por nombre**,  mientras que `iloc()` se usa para **indexar por número**.\n"
      ]
    },
    {
      "metadata": {
        "id": "EvBPu_g7jG1D",
        "colab_type": "code",
        "outputId": "8712bde2-9255-4be8-91eb-657e628661ec",
        "colab": {
          "base_uri": "https://localhost:8080/",
          "height": 373
        }
      },
      "cell_type": "code",
      "source": [
        "df.loc[0:10, 'sex':'checks']"
      ],
      "execution_count": 20,
      "outputs": [
        {
          "output_type": "execute_result",
          "data": {
            "text/html": [
              "<div>\n",
              "<style scoped>\n",
              "    .dataframe tbody tr th:only-of-type {\n",
              "        vertical-align: middle;\n",
              "    }\n",
              "\n",
              "    .dataframe tbody tr th {\n",
              "        vertical-align: top;\n",
              "    }\n",
              "\n",
              "    .dataframe thead th {\n",
              "        text-align: right;\n",
              "    }\n",
              "</style>\n",
              "<table border=\"1\" class=\"dataframe\">\n",
              "  <thead>\n",
              "    <tr style=\"text-align: right;\">\n",
              "      <th></th>\n",
              "      <th>sex</th>\n",
              "      <th>employed</th>\n",
              "      <th>citizen</th>\n",
              "      <th>checks</th>\n",
              "    </tr>\n",
              "  </thead>\n",
              "  <tbody>\n",
              "    <tr>\n",
              "      <th>0</th>\n",
              "      <td>Male</td>\n",
              "      <td>True</td>\n",
              "      <td>Yes</td>\n",
              "      <td>3</td>\n",
              "    </tr>\n",
              "    <tr>\n",
              "      <th>1</th>\n",
              "      <td>Male</td>\n",
              "      <td>True</td>\n",
              "      <td>Yes</td>\n",
              "      <td>3</td>\n",
              "    </tr>\n",
              "    <tr>\n",
              "      <th>2</th>\n",
              "      <td>Male</td>\n",
              "      <td>True</td>\n",
              "      <td>Yes</td>\n",
              "      <td>3</td>\n",
              "    </tr>\n",
              "    <tr>\n",
              "      <th>3</th>\n",
              "      <td>Male</td>\n",
              "      <td>True</td>\n",
              "      <td>Yes</td>\n",
              "      <td>1</td>\n",
              "    </tr>\n",
              "    <tr>\n",
              "      <th>4</th>\n",
              "      <td>Female</td>\n",
              "      <td>True</td>\n",
              "      <td>Yes</td>\n",
              "      <td>1</td>\n",
              "    </tr>\n",
              "    <tr>\n",
              "      <th>5</th>\n",
              "      <td>Female</td>\n",
              "      <td>True</td>\n",
              "      <td>Yes</td>\n",
              "      <td>0</td>\n",
              "    </tr>\n",
              "    <tr>\n",
              "      <th>6</th>\n",
              "      <td>Male</td>\n",
              "      <td>True</td>\n",
              "      <td>Yes</td>\n",
              "      <td>0</td>\n",
              "    </tr>\n",
              "    <tr>\n",
              "      <th>7</th>\n",
              "      <td>Female</td>\n",
              "      <td>True</td>\n",
              "      <td>Yes</td>\n",
              "      <td>1</td>\n",
              "    </tr>\n",
              "    <tr>\n",
              "      <th>8</th>\n",
              "      <td>Male</td>\n",
              "      <td>True</td>\n",
              "      <td>Yes</td>\n",
              "      <td>4</td>\n",
              "    </tr>\n",
              "    <tr>\n",
              "      <th>9</th>\n",
              "      <td>Male</td>\n",
              "      <td>True</td>\n",
              "      <td>Yes</td>\n",
              "      <td>3</td>\n",
              "    </tr>\n",
              "    <tr>\n",
              "      <th>10</th>\n",
              "      <td>Male</td>\n",
              "      <td>True</td>\n",
              "      <td>No</td>\n",
              "      <td>0</td>\n",
              "    </tr>\n",
              "  </tbody>\n",
              "</table>\n",
              "</div>"
            ],
            "text/plain": [
              "       sex  employed citizen  checks\n",
              "0     Male      True     Yes       3\n",
              "1     Male      True     Yes       3\n",
              "2     Male      True     Yes       3\n",
              "3     Male      True     Yes       1\n",
              "4   Female      True     Yes       1\n",
              "5   Female      True     Yes       0\n",
              "6     Male      True     Yes       0\n",
              "7   Female      True     Yes       1\n",
              "8     Male      True     Yes       4\n",
              "9     Male      True     Yes       3\n",
              "10    Male      True      No       0"
            ]
          },
          "metadata": {
            "tags": []
          },
          "execution_count": 20
        }
      ]
    },
    {
      "metadata": {
        "id": "Uut-LxOZjG1J",
        "colab_type": "code",
        "outputId": "7b39d137-8c6f-454c-f277-c8a6b68bb0bf",
        "colab": {
          "base_uri": "https://localhost:8080/",
          "height": 195
        }
      },
      "cell_type": "code",
      "source": [
        "df.iloc[0:5, 0:4]"
      ],
      "execution_count": 21,
      "outputs": [
        {
          "output_type": "execute_result",
          "data": {
            "text/html": [
              "<div>\n",
              "<style scoped>\n",
              "    .dataframe tbody tr th:only-of-type {\n",
              "        vertical-align: middle;\n",
              "    }\n",
              "\n",
              "    .dataframe tbody tr th {\n",
              "        vertical-align: top;\n",
              "    }\n",
              "\n",
              "    .dataframe thead th {\n",
              "        text-align: right;\n",
              "    }\n",
              "</style>\n",
              "<table border=\"1\" class=\"dataframe\">\n",
              "  <thead>\n",
              "    <tr style=\"text-align: right;\">\n",
              "      <th></th>\n",
              "      <th>Unnamed: 0</th>\n",
              "      <th>released</th>\n",
              "      <th>colour</th>\n",
              "      <th>year</th>\n",
              "    </tr>\n",
              "  </thead>\n",
              "  <tbody>\n",
              "    <tr>\n",
              "      <th>0</th>\n",
              "      <td>1</td>\n",
              "      <td>True</td>\n",
              "      <td>White</td>\n",
              "      <td>2002</td>\n",
              "    </tr>\n",
              "    <tr>\n",
              "      <th>1</th>\n",
              "      <td>2</td>\n",
              "      <td>True</td>\n",
              "      <td>Black</td>\n",
              "      <td>1999</td>\n",
              "    </tr>\n",
              "    <tr>\n",
              "      <th>2</th>\n",
              "      <td>3</td>\n",
              "      <td>True</td>\n",
              "      <td>White</td>\n",
              "      <td>2000</td>\n",
              "    </tr>\n",
              "    <tr>\n",
              "      <th>3</th>\n",
              "      <td>4</td>\n",
              "      <td>True</td>\n",
              "      <td>Black</td>\n",
              "      <td>2000</td>\n",
              "    </tr>\n",
              "    <tr>\n",
              "      <th>4</th>\n",
              "      <td>5</td>\n",
              "      <td>True</td>\n",
              "      <td>Black</td>\n",
              "      <td>1999</td>\n",
              "    </tr>\n",
              "  </tbody>\n",
              "</table>\n",
              "</div>"
            ],
            "text/plain": [
              "   Unnamed: 0  released colour  year\n",
              "0           1      True  White  2002\n",
              "1           2      True  Black  1999\n",
              "2           3      True  White  2000\n",
              "3           4      True  Black  2000\n",
              "4           5      True  Black  1999"
            ]
          },
          "metadata": {
            "tags": []
          },
          "execution_count": 21
        }
      ]
    },
    {
      "metadata": {
        "id": "H5O7bIBfjG1Q",
        "colab_type": "text"
      },
      "cell_type": "markdown",
      "source": [
        "Si necesitamos la primera o la última línea del marco de datos, podemos usar la construcción `df[: 1]` o `df[-1:]`:"
      ]
    },
    {
      "metadata": {
        "id": "tmUtEvD-jG1R",
        "colab_type": "code",
        "outputId": "71e5db54-2b00-4b59-df45-6f0597a1bd81",
        "colab": {
          "base_uri": "https://localhost:8080/",
          "height": 77
        }
      },
      "cell_type": "code",
      "source": [
        "df[-1:]\n",
        "\n",
        "df[:1]"
      ],
      "execution_count": 27,
      "outputs": [
        {
          "output_type": "execute_result",
          "data": {
            "text/html": [
              "<div>\n",
              "<style scoped>\n",
              "    .dataframe tbody tr th:only-of-type {\n",
              "        vertical-align: middle;\n",
              "    }\n",
              "\n",
              "    .dataframe tbody tr th {\n",
              "        vertical-align: top;\n",
              "    }\n",
              "\n",
              "    .dataframe thead th {\n",
              "        text-align: right;\n",
              "    }\n",
              "</style>\n",
              "<table border=\"1\" class=\"dataframe\">\n",
              "  <thead>\n",
              "    <tr style=\"text-align: right;\">\n",
              "      <th></th>\n",
              "      <th>Unnamed: 0</th>\n",
              "      <th>released</th>\n",
              "      <th>colour</th>\n",
              "      <th>year</th>\n",
              "      <th>age</th>\n",
              "      <th>sex</th>\n",
              "      <th>employed</th>\n",
              "      <th>citizen</th>\n",
              "      <th>checks</th>\n",
              "    </tr>\n",
              "  </thead>\n",
              "  <tbody>\n",
              "    <tr>\n",
              "      <th>0</th>\n",
              "      <td>1</td>\n",
              "      <td>True</td>\n",
              "      <td>White</td>\n",
              "      <td>2002</td>\n",
              "      <td>21</td>\n",
              "      <td>Male</td>\n",
              "      <td>True</td>\n",
              "      <td>Yes</td>\n",
              "      <td>3</td>\n",
              "    </tr>\n",
              "  </tbody>\n",
              "</table>\n",
              "</div>"
            ],
            "text/plain": [
              "   Unnamed: 0  released colour  year  age   sex  employed citizen  checks\n",
              "0           1      True  White  2002   21  Male      True     Yes       3"
            ]
          },
          "metadata": {
            "tags": []
          },
          "execution_count": 27
        }
      ]
    },
    {
      "metadata": {
        "id": "JDtF1DSQjG1X",
        "colab_type": "text"
      },
      "cell_type": "markdown",
      "source": [
        "\n",
        "### Aplicando funciones a celdas, columnas y filas\n",
        "\n",
        "**Para aplicar funciones a cada columna, use `apply()` :**\n"
      ]
    },
    {
      "metadata": {
        "id": "gz-wzIZtjG1X",
        "colab_type": "code",
        "outputId": "b5ff23a5-5941-45a9-8ced-8362951e426d",
        "colab": {
          "base_uri": "https://localhost:8080/",
          "height": 185
        }
      },
      "cell_type": "code",
      "source": [
        "df.apply(np.min) "
      ],
      "execution_count": 28,
      "outputs": [
        {
          "output_type": "execute_result",
          "data": {
            "text/plain": [
              "Unnamed: 0         1\n",
              "released        True\n",
              "colour         Black\n",
              "year            1997\n",
              "age               12\n",
              "sex           Female\n",
              "employed        True\n",
              "citizen           No\n",
              "checks             0\n",
              "dtype: object"
            ]
          },
          "metadata": {
            "tags": []
          },
          "execution_count": 28
        }
      ]
    },
    {
      "metadata": {
        "id": "Rk40mr4zjG1a",
        "colab_type": "text"
      },
      "cell_type": "markdown",
      "source": [
        "El método `apply` también se puede usar para aplicar una función a cada fila. \n",
        "\n",
        "Las funciones de `Lambda` son muy convenientes en tales escenarios. Por ejemplo, si necesitamos seleccionar todos los years mayores o iguales que 20o2, podemos hacer:"
      ]
    },
    {
      "metadata": {
        "id": "0Uu62CiPjG1b",
        "colab_type": "code",
        "outputId": "5c3bc657-7816-46ca-b7c6-5d5ea5ca08ba",
        "colab": {
          "base_uri": "https://localhost:8080/",
          "height": 195
        }
      },
      "cell_type": "code",
      "source": [
        "df[df['year'].apply(lambda var: var >= 2002 )].head()"
      ],
      "execution_count": 29,
      "outputs": [
        {
          "output_type": "execute_result",
          "data": {
            "text/html": [
              "<div>\n",
              "<style scoped>\n",
              "    .dataframe tbody tr th:only-of-type {\n",
              "        vertical-align: middle;\n",
              "    }\n",
              "\n",
              "    .dataframe tbody tr th {\n",
              "        vertical-align: top;\n",
              "    }\n",
              "\n",
              "    .dataframe thead th {\n",
              "        text-align: right;\n",
              "    }\n",
              "</style>\n",
              "<table border=\"1\" class=\"dataframe\">\n",
              "  <thead>\n",
              "    <tr style=\"text-align: right;\">\n",
              "      <th></th>\n",
              "      <th>Unnamed: 0</th>\n",
              "      <th>released</th>\n",
              "      <th>colour</th>\n",
              "      <th>year</th>\n",
              "      <th>age</th>\n",
              "      <th>sex</th>\n",
              "      <th>employed</th>\n",
              "      <th>citizen</th>\n",
              "      <th>checks</th>\n",
              "    </tr>\n",
              "  </thead>\n",
              "  <tbody>\n",
              "    <tr>\n",
              "      <th>0</th>\n",
              "      <td>1</td>\n",
              "      <td>True</td>\n",
              "      <td>White</td>\n",
              "      <td>2002</td>\n",
              "      <td>21</td>\n",
              "      <td>Male</td>\n",
              "      <td>True</td>\n",
              "      <td>Yes</td>\n",
              "      <td>3</td>\n",
              "    </tr>\n",
              "    <tr>\n",
              "      <th>17</th>\n",
              "      <td>18</td>\n",
              "      <td>True</td>\n",
              "      <td>White</td>\n",
              "      <td>2002</td>\n",
              "      <td>20</td>\n",
              "      <td>Male</td>\n",
              "      <td>True</td>\n",
              "      <td>Yes</td>\n",
              "      <td>5</td>\n",
              "    </tr>\n",
              "    <tr>\n",
              "      <th>60</th>\n",
              "      <td>61</td>\n",
              "      <td>True</td>\n",
              "      <td>Black</td>\n",
              "      <td>2002</td>\n",
              "      <td>21</td>\n",
              "      <td>Male</td>\n",
              "      <td>True</td>\n",
              "      <td>Yes</td>\n",
              "      <td>1</td>\n",
              "    </tr>\n",
              "    <tr>\n",
              "      <th>106</th>\n",
              "      <td>107</td>\n",
              "      <td>True</td>\n",
              "      <td>White</td>\n",
              "      <td>2002</td>\n",
              "      <td>17</td>\n",
              "      <td>Male</td>\n",
              "      <td>True</td>\n",
              "      <td>Yes</td>\n",
              "      <td>1</td>\n",
              "    </tr>\n",
              "    <tr>\n",
              "      <th>154</th>\n",
              "      <td>155</td>\n",
              "      <td>True</td>\n",
              "      <td>White</td>\n",
              "      <td>2002</td>\n",
              "      <td>17</td>\n",
              "      <td>Male</td>\n",
              "      <td>True</td>\n",
              "      <td>Yes</td>\n",
              "      <td>0</td>\n",
              "    </tr>\n",
              "  </tbody>\n",
              "</table>\n",
              "</div>"
            ],
            "text/plain": [
              "     Unnamed: 0  released colour  year  age   sex  employed citizen  checks\n",
              "0             1      True  White  2002   21  Male      True     Yes       3\n",
              "17           18      True  White  2002   20  Male      True     Yes       5\n",
              "60           61      True  Black  2002   21  Male      True     Yes       1\n",
              "106         107      True  White  2002   17  Male      True     Yes       1\n",
              "154         155      True  White  2002   17  Male      True     Yes       0"
            ]
          },
          "metadata": {
            "tags": []
          },
          "execution_count": 29
        }
      ]
    },
    {
      "metadata": {
        "id": "FbqMtEg6jG1i",
        "colab_type": "text"
      },
      "cell_type": "markdown",
      "source": [
        "The `map` method can be used to **replace values in a column** by passing a dictionary of the form `{old_value: new_value}` as its argument:\n",
        "\n",
        "El método `map` se puede usar para **reemplazar valores en una columna** al pasar un diccionario de la forma `{valor_viejo: valor_nuevo}` como argumento:"
      ]
    },
    {
      "metadata": {
        "id": "XCzUkXmJjG1i",
        "colab_type": "code",
        "outputId": "86f610ec-8908-4d77-fb03-e671fcebe9de",
        "colab": {
          "base_uri": "https://localhost:8080/",
          "height": 252
        }
      },
      "cell_type": "code",
      "source": [
        "d = {'Male' : 'Hombre', 'Female' : 'Mujer'}\n",
        "df['sex'] = df['sex'].map(d)\n",
        "df.head()\n",
        "df.info()"
      ],
      "execution_count": 30,
      "outputs": [
        {
          "output_type": "stream",
          "text": [
            "<class 'pandas.core.frame.DataFrame'>\n",
            "RangeIndex: 5226 entries, 0 to 5225\n",
            "Data columns (total 9 columns):\n",
            "Unnamed: 0    5226 non-null int64\n",
            "released      5226 non-null bool\n",
            "colour        5226 non-null object\n",
            "year          5226 non-null int64\n",
            "age           5226 non-null int64\n",
            "sex           5226 non-null object\n",
            "employed      5226 non-null bool\n",
            "citizen       5226 non-null object\n",
            "checks        5226 non-null int64\n",
            "dtypes: bool(2), int64(4), object(3)\n",
            "memory usage: 296.1+ KB\n"
          ],
          "name": "stdout"
        }
      ]
    },
    {
      "metadata": {
        "id": "5nHIrSYBjG1n",
        "colab_type": "text"
      },
      "cell_type": "markdown",
      "source": [
        "Lo mismo se puede hacer con el método `replace`:\n",
        "\n"
      ]
    },
    {
      "metadata": {
        "id": "gHWbY6S9jG1n",
        "colab_type": "code",
        "colab": {}
      },
      "cell_type": "code",
      "source": [
        "#df = df.replace({'sex': d})\n",
        "#df.head()"
      ],
      "execution_count": 0,
      "outputs": []
    },
    {
      "metadata": {
        "id": "DK6mrPJGT2mv",
        "colab_type": "code",
        "outputId": "1dc94bc1-0267-40cd-be40-39fd60f31bce",
        "colab": {
          "base_uri": "https://localhost:8080/",
          "height": 252
        }
      },
      "cell_type": "code",
      "source": [
        "df.info()"
      ],
      "execution_count": 32,
      "outputs": [
        {
          "output_type": "stream",
          "text": [
            "<class 'pandas.core.frame.DataFrame'>\n",
            "RangeIndex: 5226 entries, 0 to 5225\n",
            "Data columns (total 9 columns):\n",
            "Unnamed: 0    5226 non-null int64\n",
            "released      5226 non-null bool\n",
            "colour        5226 non-null object\n",
            "year          5226 non-null int64\n",
            "age           5226 non-null int64\n",
            "sex           5226 non-null object\n",
            "employed      5226 non-null bool\n",
            "citizen       5226 non-null object\n",
            "checks        5226 non-null int64\n",
            "dtypes: bool(2), int64(4), object(3)\n",
            "memory usage: 296.1+ KB\n"
          ],
          "name": "stdout"
        }
      ]
    },
    {
      "metadata": {
        "id": "0f0D7JubjG1u",
        "colab_type": "text"
      },
      "cell_type": "markdown",
      "source": [
        "\n",
        "### Grouping\n",
        "\n",
        "En general, agrupar datos en Pandas funciona de la siguiente manera:\n"
      ]
    },
    {
      "metadata": {
        "id": "-oPyibNCjG1v",
        "colab_type": "text"
      },
      "cell_type": "markdown",
      "source": [
        "\n",
        "```python\n",
        "df.groupby (by = grouping_columns) [ columns_2_show ].function()\n",
        "```"
      ]
    },
    {
      "metadata": {
        "id": "DAMrP338jG1w",
        "colab_type": "text"
      },
      "cell_type": "markdown",
      "source": [
        "1. Primero, el método `groupby` divide los `grouping_columns` por sus valores. Se convierten en un nuevo índice en el marco de datos resultante.\n",
        "2. Luego, se seleccionan las columnas de interés (`columns_2_show`). Si `columns_2_show` no está incluido, se incluirán todas las columnas que no pertenecen a groupby.\n",
        "3. Finalmente, una o varias funciones se aplican a los grupos obtenidos por columnas seleccionadas.\n",
        "\n",
        "Aquí hay un ejemplo donde agrupamos los datos según los valores de la variable `age` y mostramos estadísticas de tres columnas en cada grupo:"
      ]
    },
    {
      "metadata": {
        "id": "BKCjgCOPjG1x",
        "colab_type": "code",
        "outputId": "ccfa443e-3c36-4161-c18a-3b23e35b65c6",
        "colab": {
          "base_uri": "https://localhost:8080/",
          "height": 166
        }
      },
      "cell_type": "code",
      "source": [
        "columns_2_show = ['year', 'age','checks']\n",
        "\n",
        "df.groupby(['sex'])[columns_2_show].describe(percentiles=[])"
      ],
      "execution_count": 34,
      "outputs": [
        {
          "output_type": "execute_result",
          "data": {
            "text/html": [
              "<div>\n",
              "<style scoped>\n",
              "    .dataframe tbody tr th:only-of-type {\n",
              "        vertical-align: middle;\n",
              "    }\n",
              "\n",
              "    .dataframe tbody tr th {\n",
              "        vertical-align: top;\n",
              "    }\n",
              "\n",
              "    .dataframe thead tr th {\n",
              "        text-align: left;\n",
              "    }\n",
              "\n",
              "    .dataframe thead tr:last-of-type th {\n",
              "        text-align: right;\n",
              "    }\n",
              "</style>\n",
              "<table border=\"1\" class=\"dataframe\">\n",
              "  <thead>\n",
              "    <tr>\n",
              "      <th></th>\n",
              "      <th colspan=\"6\" halign=\"left\">year</th>\n",
              "      <th colspan=\"6\" halign=\"left\">age</th>\n",
              "      <th colspan=\"6\" halign=\"left\">checks</th>\n",
              "    </tr>\n",
              "    <tr>\n",
              "      <th></th>\n",
              "      <th>count</th>\n",
              "      <th>mean</th>\n",
              "      <th>std</th>\n",
              "      <th>min</th>\n",
              "      <th>50%</th>\n",
              "      <th>max</th>\n",
              "      <th>count</th>\n",
              "      <th>mean</th>\n",
              "      <th>std</th>\n",
              "      <th>min</th>\n",
              "      <th>50%</th>\n",
              "      <th>max</th>\n",
              "      <th>count</th>\n",
              "      <th>mean</th>\n",
              "      <th>std</th>\n",
              "      <th>min</th>\n",
              "      <th>50%</th>\n",
              "      <th>max</th>\n",
              "    </tr>\n",
              "    <tr>\n",
              "      <th>sex</th>\n",
              "      <th></th>\n",
              "      <th></th>\n",
              "      <th></th>\n",
              "      <th></th>\n",
              "      <th></th>\n",
              "      <th></th>\n",
              "      <th></th>\n",
              "      <th></th>\n",
              "      <th></th>\n",
              "      <th></th>\n",
              "      <th></th>\n",
              "      <th></th>\n",
              "      <th></th>\n",
              "      <th></th>\n",
              "      <th></th>\n",
              "      <th></th>\n",
              "      <th></th>\n",
              "      <th></th>\n",
              "    </tr>\n",
              "  </thead>\n",
              "  <tbody>\n",
              "    <tr>\n",
              "      <th>Hombre</th>\n",
              "      <td>4783.0</td>\n",
              "      <td>1999.517667</td>\n",
              "      <td>1.395177</td>\n",
              "      <td>1997.0</td>\n",
              "      <td>2000.0</td>\n",
              "      <td>2002.0</td>\n",
              "      <td>4783.0</td>\n",
              "      <td>23.875601</td>\n",
              "      <td>8.289172</td>\n",
              "      <td>12.0</td>\n",
              "      <td>21.0</td>\n",
              "      <td>66.0</td>\n",
              "      <td>4783.0</td>\n",
              "      <td>1.686807</td>\n",
              "      <td>1.540125</td>\n",
              "      <td>0.0</td>\n",
              "      <td>1.0</td>\n",
              "      <td>6.0</td>\n",
              "    </tr>\n",
              "    <tr>\n",
              "      <th>Mujer</th>\n",
              "      <td>443.0</td>\n",
              "      <td>1999.419865</td>\n",
              "      <td>1.331744</td>\n",
              "      <td>1997.0</td>\n",
              "      <td>1999.0</td>\n",
              "      <td>2002.0</td>\n",
              "      <td>443.0</td>\n",
              "      <td>23.532731</td>\n",
              "      <td>8.605254</td>\n",
              "      <td>13.0</td>\n",
              "      <td>20.0</td>\n",
              "      <td>53.0</td>\n",
              "      <td>443.0</td>\n",
              "      <td>1.092551</td>\n",
              "      <td>1.421558</td>\n",
              "      <td>0.0</td>\n",
              "      <td>0.0</td>\n",
              "      <td>5.0</td>\n",
              "    </tr>\n",
              "  </tbody>\n",
              "</table>\n",
              "</div>"
            ],
            "text/plain": [
              "          year                                                    age  \\\n",
              "         count         mean       std     min     50%     max   count   \n",
              "sex                                                                     \n",
              "Hombre  4783.0  1999.517667  1.395177  1997.0  2000.0  2002.0  4783.0   \n",
              "Mujer    443.0  1999.419865  1.331744  1997.0  1999.0  2002.0   443.0   \n",
              "\n",
              "                                               checks                      \\\n",
              "             mean       std   min   50%   max   count      mean       std   \n",
              "sex                                                                         \n",
              "Hombre  23.875601  8.289172  12.0  21.0  66.0  4783.0  1.686807  1.540125   \n",
              "Mujer   23.532731  8.605254  13.0  20.0  53.0   443.0  1.092551  1.421558   \n",
              "\n",
              "                       \n",
              "        min  50%  max  \n",
              "sex                    \n",
              "Hombre  0.0  1.0  6.0  \n",
              "Mujer   0.0  0.0  5.0  "
            ]
          },
          "metadata": {
            "tags": []
          },
          "execution_count": 34
        }
      ]
    },
    {
      "metadata": {
        "id": "5c4AMS8RjG10",
        "colab_type": "text"
      },
      "cell_type": "markdown",
      "source": [
        "Hagamos lo mismo, pero de manera ligeramente diferente al pasar una lista de funciones a `agg ()`:"
      ]
    },
    {
      "metadata": {
        "id": "QDYp4RZNjG10",
        "colab_type": "code",
        "outputId": "c61003c5-75e1-400d-92f1-99c8852fb40c",
        "colab": {
          "base_uri": "https://localhost:8080/",
          "height": 166
        }
      },
      "cell_type": "code",
      "source": [
        "df.groupby(['sex'])[columns_2_show].agg([np.mean, np.std, np.min, np.max])"
      ],
      "execution_count": 35,
      "outputs": [
        {
          "output_type": "execute_result",
          "data": {
            "text/html": [
              "<div>\n",
              "<style scoped>\n",
              "    .dataframe tbody tr th:only-of-type {\n",
              "        vertical-align: middle;\n",
              "    }\n",
              "\n",
              "    .dataframe tbody tr th {\n",
              "        vertical-align: top;\n",
              "    }\n",
              "\n",
              "    .dataframe thead tr th {\n",
              "        text-align: left;\n",
              "    }\n",
              "\n",
              "    .dataframe thead tr:last-of-type th {\n",
              "        text-align: right;\n",
              "    }\n",
              "</style>\n",
              "<table border=\"1\" class=\"dataframe\">\n",
              "  <thead>\n",
              "    <tr>\n",
              "      <th></th>\n",
              "      <th colspan=\"4\" halign=\"left\">year</th>\n",
              "      <th colspan=\"4\" halign=\"left\">age</th>\n",
              "      <th colspan=\"4\" halign=\"left\">checks</th>\n",
              "    </tr>\n",
              "    <tr>\n",
              "      <th></th>\n",
              "      <th>mean</th>\n",
              "      <th>std</th>\n",
              "      <th>amin</th>\n",
              "      <th>amax</th>\n",
              "      <th>mean</th>\n",
              "      <th>std</th>\n",
              "      <th>amin</th>\n",
              "      <th>amax</th>\n",
              "      <th>mean</th>\n",
              "      <th>std</th>\n",
              "      <th>amin</th>\n",
              "      <th>amax</th>\n",
              "    </tr>\n",
              "    <tr>\n",
              "      <th>sex</th>\n",
              "      <th></th>\n",
              "      <th></th>\n",
              "      <th></th>\n",
              "      <th></th>\n",
              "      <th></th>\n",
              "      <th></th>\n",
              "      <th></th>\n",
              "      <th></th>\n",
              "      <th></th>\n",
              "      <th></th>\n",
              "      <th></th>\n",
              "      <th></th>\n",
              "    </tr>\n",
              "  </thead>\n",
              "  <tbody>\n",
              "    <tr>\n",
              "      <th>Hombre</th>\n",
              "      <td>1999.517667</td>\n",
              "      <td>1.395177</td>\n",
              "      <td>1997</td>\n",
              "      <td>2002</td>\n",
              "      <td>23.875601</td>\n",
              "      <td>8.289172</td>\n",
              "      <td>12</td>\n",
              "      <td>66</td>\n",
              "      <td>1.686807</td>\n",
              "      <td>1.540125</td>\n",
              "      <td>0</td>\n",
              "      <td>6</td>\n",
              "    </tr>\n",
              "    <tr>\n",
              "      <th>Mujer</th>\n",
              "      <td>1999.419865</td>\n",
              "      <td>1.331744</td>\n",
              "      <td>1997</td>\n",
              "      <td>2002</td>\n",
              "      <td>23.532731</td>\n",
              "      <td>8.605254</td>\n",
              "      <td>13</td>\n",
              "      <td>53</td>\n",
              "      <td>1.092551</td>\n",
              "      <td>1.421558</td>\n",
              "      <td>0</td>\n",
              "      <td>5</td>\n",
              "    </tr>\n",
              "  </tbody>\n",
              "</table>\n",
              "</div>"
            ],
            "text/plain": [
              "               year                              age                      \\\n",
              "               mean       std  amin  amax       mean       std amin amax   \n",
              "sex                                                                        \n",
              "Hombre  1999.517667  1.395177  1997  2002  23.875601  8.289172   12   66   \n",
              "Mujer   1999.419865  1.331744  1997  2002  23.532731  8.605254   13   53   \n",
              "\n",
              "          checks                      \n",
              "            mean       std amin amax  \n",
              "sex                                   \n",
              "Hombre  1.686807  1.540125    0    6  \n",
              "Mujer   1.092551  1.421558    0    5  "
            ]
          },
          "metadata": {
            "tags": []
          },
          "execution_count": 35
        }
      ]
    },
    {
      "metadata": {
        "id": "S_EsZUXwjG18",
        "colab_type": "text"
      },
      "cell_type": "markdown",
      "source": [
        "\n",
        "### Resumen de tablas\n",
        "\n",
        "Suppose we want to see how the observations in our sample are distributed in the context of two variables - `Churn` and `International plan`. To do so, we can build a **contingency table** using the `crosstab` method:\n",
        "\n",
        "Supongamos que queremos ver cómo se distribuyen las observaciones en nuestra muestra en el contexto de dos variables: `sex` y `checks`. Para hacerlo, podemos construir una  **tabla de contingencia** utilizando el método `crosstab`:\n"
      ]
    },
    {
      "metadata": {
        "id": "7epkK7UkjG19",
        "colab_type": "code",
        "outputId": "55aadebd-f308-4e25-a040-e0b4a79cb855",
        "colab": {
          "base_uri": "https://localhost:8080/",
          "height": 136
        }
      },
      "cell_type": "code",
      "source": [
        "pd.crosstab(df['sex'], df['checks'])"
      ],
      "execution_count": 36,
      "outputs": [
        {
          "output_type": "execute_result",
          "data": {
            "text/html": [
              "<div>\n",
              "<style scoped>\n",
              "    .dataframe tbody tr th:only-of-type {\n",
              "        vertical-align: middle;\n",
              "    }\n",
              "\n",
              "    .dataframe tbody tr th {\n",
              "        vertical-align: top;\n",
              "    }\n",
              "\n",
              "    .dataframe thead th {\n",
              "        text-align: right;\n",
              "    }\n",
              "</style>\n",
              "<table border=\"1\" class=\"dataframe\">\n",
              "  <thead>\n",
              "    <tr style=\"text-align: right;\">\n",
              "      <th>checks</th>\n",
              "      <th>0</th>\n",
              "      <th>1</th>\n",
              "      <th>2</th>\n",
              "      <th>3</th>\n",
              "      <th>4</th>\n",
              "      <th>5</th>\n",
              "      <th>6</th>\n",
              "    </tr>\n",
              "    <tr>\n",
              "      <th>sex</th>\n",
              "      <th></th>\n",
              "      <th></th>\n",
              "      <th></th>\n",
              "      <th></th>\n",
              "      <th></th>\n",
              "      <th></th>\n",
              "      <th></th>\n",
              "    </tr>\n",
              "  </thead>\n",
              "  <tbody>\n",
              "    <tr>\n",
              "      <th>Hombre</th>\n",
              "      <td>1616</td>\n",
              "      <td>783</td>\n",
              "      <td>743</td>\n",
              "      <td>904</td>\n",
              "      <td>607</td>\n",
              "      <td>121</td>\n",
              "      <td>9</td>\n",
              "    </tr>\n",
              "    <tr>\n",
              "      <th>Mujer</th>\n",
              "      <td>235</td>\n",
              "      <td>71</td>\n",
              "      <td>46</td>\n",
              "      <td>49</td>\n",
              "      <td>36</td>\n",
              "      <td>6</td>\n",
              "      <td>0</td>\n",
              "    </tr>\n",
              "  </tbody>\n",
              "</table>\n",
              "</div>"
            ],
            "text/plain": [
              "checks     0    1    2    3    4    5  6\n",
              "sex                                     \n",
              "Hombre  1616  783  743  904  607  121  9\n",
              "Mujer    235   71   46   49   36    6  0"
            ]
          },
          "metadata": {
            "tags": []
          },
          "execution_count": 36
        }
      ]
    },
    {
      "metadata": {
        "scrolled": true,
        "id": "O0Q9BtaajG2C",
        "colab_type": "code",
        "outputId": "bb0a0c3f-6198-4585-ea97-3f894a453dcf",
        "colab": {
          "base_uri": "https://localhost:8080/",
          "height": 136
        }
      },
      "cell_type": "code",
      "source": [
        "pd.crosstab(df['sex'], df['checks'], normalize=True)"
      ],
      "execution_count": 37,
      "outputs": [
        {
          "output_type": "execute_result",
          "data": {
            "text/html": [
              "<div>\n",
              "<style scoped>\n",
              "    .dataframe tbody tr th:only-of-type {\n",
              "        vertical-align: middle;\n",
              "    }\n",
              "\n",
              "    .dataframe tbody tr th {\n",
              "        vertical-align: top;\n",
              "    }\n",
              "\n",
              "    .dataframe thead th {\n",
              "        text-align: right;\n",
              "    }\n",
              "</style>\n",
              "<table border=\"1\" class=\"dataframe\">\n",
              "  <thead>\n",
              "    <tr style=\"text-align: right;\">\n",
              "      <th>checks</th>\n",
              "      <th>0</th>\n",
              "      <th>1</th>\n",
              "      <th>2</th>\n",
              "      <th>3</th>\n",
              "      <th>4</th>\n",
              "      <th>5</th>\n",
              "      <th>6</th>\n",
              "    </tr>\n",
              "    <tr>\n",
              "      <th>sex</th>\n",
              "      <th></th>\n",
              "      <th></th>\n",
              "      <th></th>\n",
              "      <th></th>\n",
              "      <th></th>\n",
              "      <th></th>\n",
              "      <th></th>\n",
              "    </tr>\n",
              "  </thead>\n",
              "  <tbody>\n",
              "    <tr>\n",
              "      <th>Hombre</th>\n",
              "      <td>0.309223</td>\n",
              "      <td>0.149828</td>\n",
              "      <td>0.142174</td>\n",
              "      <td>0.172981</td>\n",
              "      <td>0.116150</td>\n",
              "      <td>0.023153</td>\n",
              "      <td>0.001722</td>\n",
              "    </tr>\n",
              "    <tr>\n",
              "      <th>Mujer</th>\n",
              "      <td>0.044967</td>\n",
              "      <td>0.013586</td>\n",
              "      <td>0.008802</td>\n",
              "      <td>0.009376</td>\n",
              "      <td>0.006889</td>\n",
              "      <td>0.001148</td>\n",
              "      <td>0.000000</td>\n",
              "    </tr>\n",
              "  </tbody>\n",
              "</table>\n",
              "</div>"
            ],
            "text/plain": [
              "checks         0         1         2         3         4         5         6\n",
              "sex                                                                         \n",
              "Hombre  0.309223  0.149828  0.142174  0.172981  0.116150  0.023153  0.001722\n",
              "Mujer   0.044967  0.013586  0.008802  0.009376  0.006889  0.001148  0.000000"
            ]
          },
          "metadata": {
            "tags": []
          },
          "execution_count": 37
        }
      ]
    },
    {
      "metadata": {
        "id": "gjKXYacWjG2G",
        "colab_type": "text"
      },
      "cell_type": "markdown",
      "source": [
        "Esto se asemejará a las **tablas dinámicas** de Excel. Las tablas dinámicas se implementan en Pandas: el método `pivot_table` toma los siguientes parámetros:\n",
        "\n",
        "* `valores` - una lista de variables para calcular estadísticas para,\n",
        "* `index` - una lista de variables para agrupar datos por,\n",
        "* `aggfunc` - qué estadísticas necesitamos calcular para los grupos, ej. Suma, media, máxima, mínima o algo más.\n",
        "\n",
        "Veamos el número promedio de:"
      ]
    },
    {
      "metadata": {
        "scrolled": true,
        "id": "qTk20WtQjG2H",
        "colab_type": "code",
        "outputId": "0a99ff3c-c9d3-4f64-f6ba-6c12fd69bb1c",
        "colab": {
          "base_uri": "https://localhost:8080/",
          "height": 136
        }
      },
      "cell_type": "code",
      "source": [
        "df.pivot_table(['age', 'year', 'checks'], ['sex'], aggfunc='mean')"
      ],
      "execution_count": 38,
      "outputs": [
        {
          "output_type": "execute_result",
          "data": {
            "text/html": [
              "<div>\n",
              "<style scoped>\n",
              "    .dataframe tbody tr th:only-of-type {\n",
              "        vertical-align: middle;\n",
              "    }\n",
              "\n",
              "    .dataframe tbody tr th {\n",
              "        vertical-align: top;\n",
              "    }\n",
              "\n",
              "    .dataframe thead th {\n",
              "        text-align: right;\n",
              "    }\n",
              "</style>\n",
              "<table border=\"1\" class=\"dataframe\">\n",
              "  <thead>\n",
              "    <tr style=\"text-align: right;\">\n",
              "      <th></th>\n",
              "      <th>age</th>\n",
              "      <th>checks</th>\n",
              "      <th>year</th>\n",
              "    </tr>\n",
              "    <tr>\n",
              "      <th>sex</th>\n",
              "      <th></th>\n",
              "      <th></th>\n",
              "      <th></th>\n",
              "    </tr>\n",
              "  </thead>\n",
              "  <tbody>\n",
              "    <tr>\n",
              "      <th>Hombre</th>\n",
              "      <td>23.875601</td>\n",
              "      <td>1.686807</td>\n",
              "      <td>1999.517667</td>\n",
              "    </tr>\n",
              "    <tr>\n",
              "      <th>Mujer</th>\n",
              "      <td>23.532731</td>\n",
              "      <td>1.092551</td>\n",
              "      <td>1999.419865</td>\n",
              "    </tr>\n",
              "  </tbody>\n",
              "</table>\n",
              "</div>"
            ],
            "text/plain": [
              "              age    checks         year\n",
              "sex                                     \n",
              "Hombre  23.875601  1.686807  1999.517667\n",
              "Mujer   23.532731  1.092551  1999.419865"
            ]
          },
          "metadata": {
            "tags": []
          },
          "execution_count": 38
        }
      ]
    },
    {
      "metadata": {
        "id": "uHCApoy2jG2K",
        "colab_type": "text"
      },
      "cell_type": "markdown",
      "source": [
        "\n",
        "### Transformaciones de DataFrame \n",
        "\n",
        "Como muchas otras cosas en Pandas, agregar columnas a un DataFrame se puede hacer de muchas maneras.\n",
        "\n",
        "Por ejemplo, si queremos calcular una cantidad de acuerdo a nuestros atributos, creamos la serie `formula` y la pegamos en el DataFrame:\n",
        "\n"
      ]
    },
    {
      "metadata": {
        "id": "vXN9aN_WjG2L",
        "colab_type": "code",
        "outputId": "04c89b45-a14b-45d1-9069-56985db063a3",
        "colab": {
          "base_uri": "https://localhost:8080/",
          "height": 195
        }
      },
      "cell_type": "code",
      "source": [
        "formula = df['age'] * df['checks'] + df['year'] \n",
        "df.insert(loc=2, column='formula', value=formula) \n",
        "\n",
        "# El parámetro loc es el número de columnas después de las cuales se inserta el objeto Series\n",
        "# Para pegarlo al final del marco de datos, lo configuramos como loc=len(df.columns)\n",
        "\n",
        "df.head()"
      ],
      "execution_count": 39,
      "outputs": [
        {
          "output_type": "execute_result",
          "data": {
            "text/html": [
              "<div>\n",
              "<style scoped>\n",
              "    .dataframe tbody tr th:only-of-type {\n",
              "        vertical-align: middle;\n",
              "    }\n",
              "\n",
              "    .dataframe tbody tr th {\n",
              "        vertical-align: top;\n",
              "    }\n",
              "\n",
              "    .dataframe thead th {\n",
              "        text-align: right;\n",
              "    }\n",
              "</style>\n",
              "<table border=\"1\" class=\"dataframe\">\n",
              "  <thead>\n",
              "    <tr style=\"text-align: right;\">\n",
              "      <th></th>\n",
              "      <th>Unnamed: 0</th>\n",
              "      <th>released</th>\n",
              "      <th>formula</th>\n",
              "      <th>colour</th>\n",
              "      <th>year</th>\n",
              "      <th>age</th>\n",
              "      <th>sex</th>\n",
              "      <th>employed</th>\n",
              "      <th>citizen</th>\n",
              "      <th>checks</th>\n",
              "    </tr>\n",
              "  </thead>\n",
              "  <tbody>\n",
              "    <tr>\n",
              "      <th>0</th>\n",
              "      <td>1</td>\n",
              "      <td>True</td>\n",
              "      <td>2065</td>\n",
              "      <td>White</td>\n",
              "      <td>2002</td>\n",
              "      <td>21</td>\n",
              "      <td>Hombre</td>\n",
              "      <td>True</td>\n",
              "      <td>Yes</td>\n",
              "      <td>3</td>\n",
              "    </tr>\n",
              "    <tr>\n",
              "      <th>1</th>\n",
              "      <td>2</td>\n",
              "      <td>True</td>\n",
              "      <td>2050</td>\n",
              "      <td>Black</td>\n",
              "      <td>1999</td>\n",
              "      <td>17</td>\n",
              "      <td>Hombre</td>\n",
              "      <td>True</td>\n",
              "      <td>Yes</td>\n",
              "      <td>3</td>\n",
              "    </tr>\n",
              "    <tr>\n",
              "      <th>2</th>\n",
              "      <td>3</td>\n",
              "      <td>True</td>\n",
              "      <td>2072</td>\n",
              "      <td>White</td>\n",
              "      <td>2000</td>\n",
              "      <td>24</td>\n",
              "      <td>Hombre</td>\n",
              "      <td>True</td>\n",
              "      <td>Yes</td>\n",
              "      <td>3</td>\n",
              "    </tr>\n",
              "    <tr>\n",
              "      <th>3</th>\n",
              "      <td>4</td>\n",
              "      <td>True</td>\n",
              "      <td>2046</td>\n",
              "      <td>Black</td>\n",
              "      <td>2000</td>\n",
              "      <td>46</td>\n",
              "      <td>Hombre</td>\n",
              "      <td>True</td>\n",
              "      <td>Yes</td>\n",
              "      <td>1</td>\n",
              "    </tr>\n",
              "    <tr>\n",
              "      <th>4</th>\n",
              "      <td>5</td>\n",
              "      <td>True</td>\n",
              "      <td>2026</td>\n",
              "      <td>Black</td>\n",
              "      <td>1999</td>\n",
              "      <td>27</td>\n",
              "      <td>Mujer</td>\n",
              "      <td>True</td>\n",
              "      <td>Yes</td>\n",
              "      <td>1</td>\n",
              "    </tr>\n",
              "  </tbody>\n",
              "</table>\n",
              "</div>"
            ],
            "text/plain": [
              "   Unnamed: 0  released  formula colour  year  age     sex  employed citizen  \\\n",
              "0           1      True     2065  White  2002   21  Hombre      True     Yes   \n",
              "1           2      True     2050  Black  1999   17  Hombre      True     Yes   \n",
              "2           3      True     2072  White  2000   24  Hombre      True     Yes   \n",
              "3           4      True     2046  Black  2000   46  Hombre      True     Yes   \n",
              "4           5      True     2026  Black  1999   27   Mujer      True     Yes   \n",
              "\n",
              "   checks  \n",
              "0       3  \n",
              "1       3  \n",
              "2       3  \n",
              "3       1  \n",
              "4       1  "
            ]
          },
          "metadata": {
            "tags": []
          },
          "execution_count": 39
        }
      ]
    },
    {
      "metadata": {
        "id": "i9G-5mFCjG2O",
        "colab_type": "text"
      },
      "cell_type": "markdown",
      "source": [
        "Es posible agregar una columna sin crear una instancia Serie intermedia:"
      ]
    },
    {
      "metadata": {
        "id": "BoI-tSPXjG2O",
        "colab_type": "code",
        "outputId": "3c5bf88e-5c77-4641-bb09-2a53a08f808b",
        "colab": {
          "base_uri": "https://localhost:8080/",
          "height": 195
        }
      },
      "cell_type": "code",
      "source": [
        "df['Total'] = 0.5*df['formula'] + df['age'] + df['checks'] \n",
        "df.head()"
      ],
      "execution_count": 40,
      "outputs": [
        {
          "output_type": "execute_result",
          "data": {
            "text/html": [
              "<div>\n",
              "<style scoped>\n",
              "    .dataframe tbody tr th:only-of-type {\n",
              "        vertical-align: middle;\n",
              "    }\n",
              "\n",
              "    .dataframe tbody tr th {\n",
              "        vertical-align: top;\n",
              "    }\n",
              "\n",
              "    .dataframe thead th {\n",
              "        text-align: right;\n",
              "    }\n",
              "</style>\n",
              "<table border=\"1\" class=\"dataframe\">\n",
              "  <thead>\n",
              "    <tr style=\"text-align: right;\">\n",
              "      <th></th>\n",
              "      <th>Unnamed: 0</th>\n",
              "      <th>released</th>\n",
              "      <th>formula</th>\n",
              "      <th>colour</th>\n",
              "      <th>year</th>\n",
              "      <th>age</th>\n",
              "      <th>sex</th>\n",
              "      <th>employed</th>\n",
              "      <th>citizen</th>\n",
              "      <th>checks</th>\n",
              "      <th>Total</th>\n",
              "    </tr>\n",
              "  </thead>\n",
              "  <tbody>\n",
              "    <tr>\n",
              "      <th>0</th>\n",
              "      <td>1</td>\n",
              "      <td>True</td>\n",
              "      <td>2065</td>\n",
              "      <td>White</td>\n",
              "      <td>2002</td>\n",
              "      <td>21</td>\n",
              "      <td>Hombre</td>\n",
              "      <td>True</td>\n",
              "      <td>Yes</td>\n",
              "      <td>3</td>\n",
              "      <td>1056.5</td>\n",
              "    </tr>\n",
              "    <tr>\n",
              "      <th>1</th>\n",
              "      <td>2</td>\n",
              "      <td>True</td>\n",
              "      <td>2050</td>\n",
              "      <td>Black</td>\n",
              "      <td>1999</td>\n",
              "      <td>17</td>\n",
              "      <td>Hombre</td>\n",
              "      <td>True</td>\n",
              "      <td>Yes</td>\n",
              "      <td>3</td>\n",
              "      <td>1045.0</td>\n",
              "    </tr>\n",
              "    <tr>\n",
              "      <th>2</th>\n",
              "      <td>3</td>\n",
              "      <td>True</td>\n",
              "      <td>2072</td>\n",
              "      <td>White</td>\n",
              "      <td>2000</td>\n",
              "      <td>24</td>\n",
              "      <td>Hombre</td>\n",
              "      <td>True</td>\n",
              "      <td>Yes</td>\n",
              "      <td>3</td>\n",
              "      <td>1063.0</td>\n",
              "    </tr>\n",
              "    <tr>\n",
              "      <th>3</th>\n",
              "      <td>4</td>\n",
              "      <td>True</td>\n",
              "      <td>2046</td>\n",
              "      <td>Black</td>\n",
              "      <td>2000</td>\n",
              "      <td>46</td>\n",
              "      <td>Hombre</td>\n",
              "      <td>True</td>\n",
              "      <td>Yes</td>\n",
              "      <td>1</td>\n",
              "      <td>1070.0</td>\n",
              "    </tr>\n",
              "    <tr>\n",
              "      <th>4</th>\n",
              "      <td>5</td>\n",
              "      <td>True</td>\n",
              "      <td>2026</td>\n",
              "      <td>Black</td>\n",
              "      <td>1999</td>\n",
              "      <td>27</td>\n",
              "      <td>Mujer</td>\n",
              "      <td>True</td>\n",
              "      <td>Yes</td>\n",
              "      <td>1</td>\n",
              "      <td>1041.0</td>\n",
              "    </tr>\n",
              "  </tbody>\n",
              "</table>\n",
              "</div>"
            ],
            "text/plain": [
              "   Unnamed: 0  released  formula colour  year  age     sex  employed citizen  \\\n",
              "0           1      True     2065  White  2002   21  Hombre      True     Yes   \n",
              "1           2      True     2050  Black  1999   17  Hombre      True     Yes   \n",
              "2           3      True     2072  White  2000   24  Hombre      True     Yes   \n",
              "3           4      True     2046  Black  2000   46  Hombre      True     Yes   \n",
              "4           5      True     2026  Black  1999   27   Mujer      True     Yes   \n",
              "\n",
              "   checks   Total  \n",
              "0       3  1056.5  \n",
              "1       3  1045.0  \n",
              "2       3  1063.0  \n",
              "3       1  1070.0  \n",
              "4       1  1041.0  "
            ]
          },
          "metadata": {
            "tags": []
          },
          "execution_count": 40
        }
      ]
    },
    {
      "metadata": {
        "id": "fQlNhKM6jG2Q",
        "colab_type": "text"
      },
      "cell_type": "markdown",
      "source": [
        "To delete columns or rows, use the `drop` method, passing the required indexes and the `axis` parameter (`1` if you delete columns, and nothing or `0` if you delete rows). The `inplace` argument tells whether to change the original DataFrame. With `inplace=False`, the `drop` method doesn't change the existing DataFrame and returns a new one with dropped rows or columns. With `inplace=True`, it alters the DataFrame.\n",
        " \n",
        "Para eliminar columnas o filas, use el método `drop`, pasando los índices requeridos y el parámetro `axis` (`1` si elimina columnas, y nada o `0` si elimina filas). El argumento `inplace` indica si se debe cambiar el DataFrame original. Con `inplace=False`, el método `drop` no cambia el DataFrame existente y devuelve uno nuevo con filas o columnas eliminadas. Con `inplace=True`, altera el DataFrame."
      ]
    },
    {
      "metadata": {
        "id": "X2AoJ69WjG2R",
        "colab_type": "code",
        "outputId": "07f84b67-b3ba-4b14-a515-1fd0ce3525c7",
        "colab": {
          "base_uri": "https://localhost:8080/",
          "height": 195
        }
      },
      "cell_type": "code",
      "source": [
        "# deshacerse de las columnas recien creadas\n",
        "df.drop(['Total', 'formula'], axis=1, inplace=True) \n",
        "df.drop([1, 2]).head() "
      ],
      "execution_count": 41,
      "outputs": [
        {
          "output_type": "execute_result",
          "data": {
            "text/html": [
              "<div>\n",
              "<style scoped>\n",
              "    .dataframe tbody tr th:only-of-type {\n",
              "        vertical-align: middle;\n",
              "    }\n",
              "\n",
              "    .dataframe tbody tr th {\n",
              "        vertical-align: top;\n",
              "    }\n",
              "\n",
              "    .dataframe thead th {\n",
              "        text-align: right;\n",
              "    }\n",
              "</style>\n",
              "<table border=\"1\" class=\"dataframe\">\n",
              "  <thead>\n",
              "    <tr style=\"text-align: right;\">\n",
              "      <th></th>\n",
              "      <th>Unnamed: 0</th>\n",
              "      <th>released</th>\n",
              "      <th>colour</th>\n",
              "      <th>year</th>\n",
              "      <th>age</th>\n",
              "      <th>sex</th>\n",
              "      <th>employed</th>\n",
              "      <th>citizen</th>\n",
              "      <th>checks</th>\n",
              "    </tr>\n",
              "  </thead>\n",
              "  <tbody>\n",
              "    <tr>\n",
              "      <th>0</th>\n",
              "      <td>1</td>\n",
              "      <td>True</td>\n",
              "      <td>White</td>\n",
              "      <td>2002</td>\n",
              "      <td>21</td>\n",
              "      <td>Hombre</td>\n",
              "      <td>True</td>\n",
              "      <td>Yes</td>\n",
              "      <td>3</td>\n",
              "    </tr>\n",
              "    <tr>\n",
              "      <th>3</th>\n",
              "      <td>4</td>\n",
              "      <td>True</td>\n",
              "      <td>Black</td>\n",
              "      <td>2000</td>\n",
              "      <td>46</td>\n",
              "      <td>Hombre</td>\n",
              "      <td>True</td>\n",
              "      <td>Yes</td>\n",
              "      <td>1</td>\n",
              "    </tr>\n",
              "    <tr>\n",
              "      <th>4</th>\n",
              "      <td>5</td>\n",
              "      <td>True</td>\n",
              "      <td>Black</td>\n",
              "      <td>1999</td>\n",
              "      <td>27</td>\n",
              "      <td>Mujer</td>\n",
              "      <td>True</td>\n",
              "      <td>Yes</td>\n",
              "      <td>1</td>\n",
              "    </tr>\n",
              "    <tr>\n",
              "      <th>5</th>\n",
              "      <td>6</td>\n",
              "      <td>True</td>\n",
              "      <td>Black</td>\n",
              "      <td>1998</td>\n",
              "      <td>16</td>\n",
              "      <td>Mujer</td>\n",
              "      <td>True</td>\n",
              "      <td>Yes</td>\n",
              "      <td>0</td>\n",
              "    </tr>\n",
              "    <tr>\n",
              "      <th>6</th>\n",
              "      <td>7</td>\n",
              "      <td>True</td>\n",
              "      <td>White</td>\n",
              "      <td>1999</td>\n",
              "      <td>40</td>\n",
              "      <td>Hombre</td>\n",
              "      <td>True</td>\n",
              "      <td>Yes</td>\n",
              "      <td>0</td>\n",
              "    </tr>\n",
              "  </tbody>\n",
              "</table>\n",
              "</div>"
            ],
            "text/plain": [
              "   Unnamed: 0  released colour  year  age     sex  employed citizen  checks\n",
              "0           1      True  White  2002   21  Hombre      True     Yes       3\n",
              "3           4      True  Black  2000   46  Hombre      True     Yes       1\n",
              "4           5      True  Black  1999   27   Mujer      True     Yes       1\n",
              "5           6      True  Black  1998   16   Mujer      True     Yes       0\n",
              "6           7      True  White  1999   40  Hombre      True     Yes       0"
            ]
          },
          "metadata": {
            "tags": []
          },
          "execution_count": 41
        }
      ]
    },
    {
      "metadata": {
        "id": "56O_vPTWjG2T",
        "colab_type": "text"
      },
      "cell_type": "markdown",
      "source": [
        "## 2. Tablas de contingencia y Visualizacion\n",
        "\n",
        "\n",
        "Let's see how churn rate is related to the *International plan* feature. We’ll do this using a `crosstab` contingency table and also through visual analysis with `Seaborn` (however, visual analysis will be covered more thoroughly in the next article).\n",
        "\n",
        "Veamos cómo se relaciona el sex con la función *Checks*. \n",
        "\n",
        "\n",
        "---\n",
        "\n",
        "\n",
        "Haremos esto utilizando una tabla de contingencia de la tabla de referencias cruzadas y también a través del análisis visual con \"Seaborn\""
      ]
    },
    {
      "metadata": {
        "id": "dXpWEB-FjG2T",
        "colab_type": "code",
        "outputId": "5ff8748a-a76a-485d-c607-7fa4d94e14bc",
        "colab": {
          "base_uri": "https://localhost:8080/",
          "height": 166
        }
      },
      "cell_type": "code",
      "source": [
        "pd.crosstab(df['sex'], df['checks'], margins=True)"
      ],
      "execution_count": 43,
      "outputs": [
        {
          "output_type": "execute_result",
          "data": {
            "text/html": [
              "<div>\n",
              "<style scoped>\n",
              "    .dataframe tbody tr th:only-of-type {\n",
              "        vertical-align: middle;\n",
              "    }\n",
              "\n",
              "    .dataframe tbody tr th {\n",
              "        vertical-align: top;\n",
              "    }\n",
              "\n",
              "    .dataframe thead th {\n",
              "        text-align: right;\n",
              "    }\n",
              "</style>\n",
              "<table border=\"1\" class=\"dataframe\">\n",
              "  <thead>\n",
              "    <tr style=\"text-align: right;\">\n",
              "      <th>checks</th>\n",
              "      <th>0</th>\n",
              "      <th>1</th>\n",
              "      <th>2</th>\n",
              "      <th>3</th>\n",
              "      <th>4</th>\n",
              "      <th>5</th>\n",
              "      <th>6</th>\n",
              "      <th>All</th>\n",
              "    </tr>\n",
              "    <tr>\n",
              "      <th>sex</th>\n",
              "      <th></th>\n",
              "      <th></th>\n",
              "      <th></th>\n",
              "      <th></th>\n",
              "      <th></th>\n",
              "      <th></th>\n",
              "      <th></th>\n",
              "      <th></th>\n",
              "    </tr>\n",
              "  </thead>\n",
              "  <tbody>\n",
              "    <tr>\n",
              "      <th>Hombre</th>\n",
              "      <td>1616</td>\n",
              "      <td>783</td>\n",
              "      <td>743</td>\n",
              "      <td>904</td>\n",
              "      <td>607</td>\n",
              "      <td>121</td>\n",
              "      <td>9</td>\n",
              "      <td>4783</td>\n",
              "    </tr>\n",
              "    <tr>\n",
              "      <th>Mujer</th>\n",
              "      <td>235</td>\n",
              "      <td>71</td>\n",
              "      <td>46</td>\n",
              "      <td>49</td>\n",
              "      <td>36</td>\n",
              "      <td>6</td>\n",
              "      <td>0</td>\n",
              "      <td>443</td>\n",
              "    </tr>\n",
              "    <tr>\n",
              "      <th>All</th>\n",
              "      <td>1851</td>\n",
              "      <td>854</td>\n",
              "      <td>789</td>\n",
              "      <td>953</td>\n",
              "      <td>643</td>\n",
              "      <td>127</td>\n",
              "      <td>9</td>\n",
              "      <td>5226</td>\n",
              "    </tr>\n",
              "  </tbody>\n",
              "</table>\n",
              "</div>"
            ],
            "text/plain": [
              "checks     0    1    2    3    4    5  6   All\n",
              "sex                                           \n",
              "Hombre  1616  783  743  904  607  121  9  4783\n",
              "Mujer    235   71   46   49   36    6  0   443\n",
              "All     1851  854  789  953  643  127  9  5226"
            ]
          },
          "metadata": {
            "tags": []
          },
          "execution_count": 43
        }
      ]
    },
    {
      "metadata": {
        "id": "f9D7nFAGjG2W",
        "colab_type": "code",
        "colab": {}
      },
      "cell_type": "code",
      "source": [
        "# imports to set up plotting \n",
        "import matplotlib.pyplot as plt\n",
        "# !pip install seaborn \n",
        "import seaborn as sns"
      ],
      "execution_count": 0,
      "outputs": []
    },
    {
      "metadata": {
        "id": "wJveGBQwjG2Y",
        "colab_type": "code",
        "outputId": "a1dd1e61-d039-4c4d-c146-2325c213c309",
        "colab": {
          "base_uri": "https://localhost:8080/",
          "height": 394
        }
      },
      "cell_type": "code",
      "source": [
        "sns.countplot(x='colour', hue='checks', data=df);"
      ],
      "execution_count": 46,
      "outputs": [
        {
          "output_type": "stream",
          "text": [
            "/usr/local/lib/python3.6/dist-packages/seaborn/categorical.py:1468: FutureWarning: remove_na is deprecated and is a private function. Do not use.\n",
            "  stat_data = remove_na(group_data[hue_mask])\n"
          ],
          "name": "stderr"
        },
        {
          "output_type": "display_data",
          "data": {
            "image/png": "[encoded data removed]",
            "text/plain": [
              "<Figure size 576x396 with 1 Axes>"
            ]
          },
          "metadata": {
            "tags": []
          }
        }
      ]
    },
    {
      "metadata": {
        "id": "RiZGYuADjG2a",
        "colab_type": "text"
      },
      "cell_type": "markdown",
      "source": [
        "similarmente"
      ]
    },
    {
      "metadata": {
        "id": "B9rULjAwjG2d",
        "colab_type": "code",
        "outputId": "ec45b48c-5b51-440f-8302-0462e0eaacb4",
        "colab": {
          "base_uri": "https://localhost:8080/",
          "height": 394
        }
      },
      "cell_type": "code",
      "source": [
        "sns.countplot(x='year', hue='checks', data=df);"
      ],
      "execution_count": 47,
      "outputs": [
        {
          "output_type": "stream",
          "text": [
            "/usr/local/lib/python3.6/dist-packages/seaborn/categorical.py:1468: FutureWarning: remove_na is deprecated and is a private function. Do not use.\n",
            "  stat_data = remove_na(group_data[hue_mask])\n"
          ],
          "name": "stderr"
        },
        {
          "output_type": "display_data",
          "data": {
            "image/png": "[encoded data removed]",
            "text/plain": [
              "<Figure size 576x396 with 1 Axes>"
            ]
          },
          "metadata": {
            "tags": []
          }
        }
      ]
    },
    {
      "metadata": {
        "id": "6Z7wpirSjG2f",
        "colab_type": "text"
      },
      "cell_type": "markdown",
      "source": [
        "Ahora agreguemos una función binaria a nuestro Marco de datos: `More than one> 1`. Y una vez más, veamos cómo se relaciona con checks."
      ]
    },
    {
      "metadata": {
        "id": "U-XfDGZMjG2f",
        "colab_type": "code",
        "outputId": "0f1ecc1c-bb13-467c-8c6c-cd635f411c36",
        "colab": {
          "base_uri": "https://localhost:8080/",
          "height": 166
        }
      },
      "cell_type": "code",
      "source": [
        "#df['More than one'] = (df['checks'] > 1).astype('int')\n",
        "df['More than one'] = (df['checks'] > 1)\n",
        "\n",
        "pd.crosstab(df['More than one'], df['checks'], margins=True)"
      ],
      "execution_count": 48,
      "outputs": [
        {
          "output_type": "execute_result",
          "data": {
            "text/html": [
              "<div>\n",
              "<style scoped>\n",
              "    .dataframe tbody tr th:only-of-type {\n",
              "        vertical-align: middle;\n",
              "    }\n",
              "\n",
              "    .dataframe tbody tr th {\n",
              "        vertical-align: top;\n",
              "    }\n",
              "\n",
              "    .dataframe thead th {\n",
              "        text-align: right;\n",
              "    }\n",
              "</style>\n",
              "<table border=\"1\" class=\"dataframe\">\n",
              "  <thead>\n",
              "    <tr style=\"text-align: right;\">\n",
              "      <th>checks</th>\n",
              "      <th>0</th>\n",
              "      <th>1</th>\n",
              "      <th>2</th>\n",
              "      <th>3</th>\n",
              "      <th>4</th>\n",
              "      <th>5</th>\n",
              "      <th>6</th>\n",
              "      <th>All</th>\n",
              "    </tr>\n",
              "    <tr>\n",
              "      <th>More than one</th>\n",
              "      <th></th>\n",
              "      <th></th>\n",
              "      <th></th>\n",
              "      <th></th>\n",
              "      <th></th>\n",
              "      <th></th>\n",
              "      <th></th>\n",
              "      <th></th>\n",
              "    </tr>\n",
              "  </thead>\n",
              "  <tbody>\n",
              "    <tr>\n",
              "      <th>False</th>\n",
              "      <td>1851</td>\n",
              "      <td>854</td>\n",
              "      <td>0</td>\n",
              "      <td>0</td>\n",
              "      <td>0</td>\n",
              "      <td>0</td>\n",
              "      <td>0</td>\n",
              "      <td>2705</td>\n",
              "    </tr>\n",
              "    <tr>\n",
              "      <th>True</th>\n",
              "      <td>0</td>\n",
              "      <td>0</td>\n",
              "      <td>789</td>\n",
              "      <td>953</td>\n",
              "      <td>643</td>\n",
              "      <td>127</td>\n",
              "      <td>9</td>\n",
              "      <td>2521</td>\n",
              "    </tr>\n",
              "    <tr>\n",
              "      <th>All</th>\n",
              "      <td>1851</td>\n",
              "      <td>854</td>\n",
              "      <td>789</td>\n",
              "      <td>953</td>\n",
              "      <td>643</td>\n",
              "      <td>127</td>\n",
              "      <td>9</td>\n",
              "      <td>5226</td>\n",
              "    </tr>\n",
              "  </tbody>\n",
              "</table>\n",
              "</div>"
            ],
            "text/plain": [
              "checks            0    1    2    3    4    5  6   All\n",
              "More than one                                        \n",
              "False          1851  854    0    0    0    0  0  2705\n",
              "True              0    0  789  953  643  127  9  2521\n",
              "All            1851  854  789  953  643  127  9  5226"
            ]
          },
          "metadata": {
            "tags": []
          },
          "execution_count": 48
        }
      ]
    },
    {
      "metadata": {
        "id": "xYKVeAPajG2q",
        "colab_type": "code",
        "outputId": "6345dc70-0132-4b7e-e1a1-c0115dffb1ac",
        "colab": {
          "base_uri": "https://localhost:8080/",
          "height": 394
        }
      },
      "cell_type": "code",
      "source": [
        "sns.countplot(x='More than one', hue='checks', data=df);"
      ],
      "execution_count": 49,
      "outputs": [
        {
          "output_type": "stream",
          "text": [
            "/usr/local/lib/python3.6/dist-packages/seaborn/categorical.py:1468: FutureWarning: remove_na is deprecated and is a private function. Do not use.\n",
            "  stat_data = remove_na(group_data[hue_mask])\n"
          ],
          "name": "stderr"
        },
        {
          "output_type": "display_data",
          "data": {
            "image/png": "[encoded data removed]",
            "text/plain": [
              "<Figure size 576x396 with 1 Axes>"
            ]
          },
          "metadata": {
            "tags": []
          }
        }
      ]
    },
    {
      "metadata": {
        "id": "e0nsjCd0jG2t",
        "colab_type": "text"
      },
      "cell_type": "markdown",
      "source": [
        "Construyamos otra tabla de contingencia que relacione *sex* con *More than one* y con * checks* recién creados.\n",
        "\n"
      ]
    },
    {
      "metadata": {
        "id": "5-gZ3AYhjG2u",
        "colab_type": "code",
        "outputId": "fc302823-a6f1-4dd9-cbbc-7c7281f59c59",
        "colab": {
          "base_uri": "https://localhost:8080/",
          "height": 136
        }
      },
      "cell_type": "code",
      "source": [
        "pd.crosstab(df['More than one'] & df['sex'] , df['checks'])"
      ],
      "execution_count": 50,
      "outputs": [
        {
          "output_type": "execute_result",
          "data": {
            "text/html": [
              "<div>\n",
              "<style scoped>\n",
              "    .dataframe tbody tr th:only-of-type {\n",
              "        vertical-align: middle;\n",
              "    }\n",
              "\n",
              "    .dataframe tbody tr th {\n",
              "        vertical-align: top;\n",
              "    }\n",
              "\n",
              "    .dataframe thead th {\n",
              "        text-align: right;\n",
              "    }\n",
              "</style>\n",
              "<table border=\"1\" class=\"dataframe\">\n",
              "  <thead>\n",
              "    <tr style=\"text-align: right;\">\n",
              "      <th>checks</th>\n",
              "      <th>0</th>\n",
              "      <th>1</th>\n",
              "      <th>2</th>\n",
              "      <th>3</th>\n",
              "      <th>4</th>\n",
              "      <th>5</th>\n",
              "      <th>6</th>\n",
              "    </tr>\n",
              "    <tr>\n",
              "      <th>row_0</th>\n",
              "      <th></th>\n",
              "      <th></th>\n",
              "      <th></th>\n",
              "      <th></th>\n",
              "      <th></th>\n",
              "      <th></th>\n",
              "      <th></th>\n",
              "    </tr>\n",
              "  </thead>\n",
              "  <tbody>\n",
              "    <tr>\n",
              "      <th>False</th>\n",
              "      <td>1851</td>\n",
              "      <td>854</td>\n",
              "      <td>0</td>\n",
              "      <td>0</td>\n",
              "      <td>0</td>\n",
              "      <td>0</td>\n",
              "      <td>0</td>\n",
              "    </tr>\n",
              "    <tr>\n",
              "      <th>True</th>\n",
              "      <td>0</td>\n",
              "      <td>0</td>\n",
              "      <td>789</td>\n",
              "      <td>953</td>\n",
              "      <td>643</td>\n",
              "      <td>127</td>\n",
              "      <td>9</td>\n",
              "    </tr>\n",
              "  </tbody>\n",
              "</table>\n",
              "</div>"
            ],
            "text/plain": [
              "checks     0    1    2    3    4    5  6\n",
              "row_0                                   \n",
              "False   1851  854    0    0    0    0  0\n",
              "True       0    0  789  953  643  127  9"
            ]
          },
          "metadata": {
            "tags": []
          },
          "execution_count": 50
        }
      ]
    },
    {
      "metadata": {
        "id": "EBttfN7UjG2x",
        "colab_type": "text"
      },
      "cell_type": "markdown",
      "source": [
        "A medida que avanzamos en este curso, recuerde que, antes del advenimiento del aprendizaje automático, el proceso de análisis de datos se parecía a esto. Vamos a resumir lo que hemos cubierto:\n",
        "     \n",
        "- Conseguimos estas dos líneas de base sin aplicar el aprendizaje automático, y servirán como punto de partida para nuestros modelos posteriores. Si resulta que con un esfuerzo enorme, aumentamos la proporción de respuestas correctas en un 0,5% per se, entonces posiblemente estamos haciendo algo mal y basta con limitarnos a un modelo simple con dos condiciones;\n",
        "- Antes de entrenar modelos complejos, se recomienda manipular un poco los datos, hacer algunos gráficos y verificar suposiciones simples. Además, en las aplicaciones empresariales de aprendizaje automático, generalmente comienzan con soluciones simples y luego experimentan con soluciones más complejas.\n",
        "\n",
        "## 3. Tarea\n",
        "\n",
        "En esta tarea, debe usar Pandas para responder algunas preguntas sobre el  [dataset](https://archive.ics.uci.edu/ml/datasets/Adult) que contiene datos sociodemográficos\n",
        "\n",
        "Escriba el codigo que da la respuesta."
      ]
    },
    {
      "metadata": {
        "id": "YuAZAj2l9Cbr",
        "colab_type": "code",
        "colab": {}
      },
      "cell_type": "code",
      "source": [
        "#codigo\n",
        "# Leer data de https://archive.ics.uci.edu/ml/datasets/Adult\n",
        "import pandas as pd\n",
        "\n",
        "data = pd.read_csv('url')\n",
        "data.head()"
      ],
      "execution_count": 0,
      "outputs": []
    },
    {
      "metadata": {
        "id": "mky-j4rx8THm",
        "colab_type": "text"
      },
      "cell_type": "markdown",
      "source": [
        "**1.   ¿Cuántos hombres y mujeres están representados en este conjunto de datos?**\n",
        "\n",
        "\n",
        "\n"
      ]
    },
    {
      "metadata": {
        "id": "T07HMEVf9yhX",
        "colab_type": "code",
        "colab": {}
      },
      "cell_type": "code",
      "source": [
        "#codigo"
      ],
      "execution_count": 0,
      "outputs": []
    },
    {
      "metadata": {
        "id": "7Tu6EFWr9zlI",
        "colab_type": "text"
      },
      "cell_type": "markdown",
      "source": [
        "\n",
        "\n",
        "**2.   ¿Cuál es la edad promedio de las mujeres?**\n",
        "\n",
        "\n",
        "\n",
        "\n",
        "\n",
        "\n"
      ]
    },
    {
      "metadata": {
        "id": "383994cU-dQG",
        "colab_type": "code",
        "colab": {}
      },
      "cell_type": "code",
      "source": [
        "#codigo"
      ],
      "execution_count": 0,
      "outputs": []
    },
    {
      "metadata": {
        "id": "EIG3c73h-eUs",
        "colab_type": "text"
      },
      "cell_type": "markdown",
      "source": [
        "**3.   ¿Cuál es el porcentaje de ciudadanos cubanos?**"
      ]
    },
    {
      "metadata": {
        "id": "ohtxeF44-waN",
        "colab_type": "code",
        "colab": {}
      },
      "cell_type": "code",
      "source": [
        "#codigo"
      ],
      "execution_count": 0,
      "outputs": []
    },
    {
      "metadata": {
        "id": "sfDEQdS8-wwK",
        "colab_type": "text"
      },
      "cell_type": "markdown",
      "source": [
        "**4.  ¿Cuál es la media y la desviación estándar de la edad para quienes ganan más de 40 mil y quienes ganan menos de 50 mil?**"
      ]
    },
    {
      "metadata": {
        "id": "xhMEX1s1_B_Z",
        "colab_type": "code",
        "colab": {}
      },
      "cell_type": "code",
      "source": [
        "#codigo"
      ],
      "execution_count": 0,
      "outputs": []
    },
    {
      "metadata": {
        "id": "H-Z0shrJ_CUy",
        "colab_type": "text"
      },
      "cell_type": "markdown",
      "source": [
        "**5.  ¿Es cierto que las personas que ganan más de 50K tienen al menos algun grado de estudios? **"
      ]
    },
    {
      "metadata": {
        "id": "28I6jQqn_eii",
        "colab_type": "code",
        "colab": {}
      },
      "cell_type": "code",
      "source": [
        "#codigo"
      ],
      "execution_count": 0,
      "outputs": []
    },
    {
      "metadata": {
        "id": "xBmj1s6M_e1y",
        "colab_type": "text"
      },
      "cell_type": "markdown",
      "source": [
        "**6. Mostrar estadísticas de edad para cada raza y cada sexo usando groupby() y describe().**"
      ]
    },
    {
      "metadata": {
        "id": "rPgIWPbb_6EA",
        "colab_type": "code",
        "colab": {}
      },
      "cell_type": "code",
      "source": [
        "#codigo"
      ],
      "execution_count": 0,
      "outputs": []
    },
    {
      "metadata": {
        "id": "Zt9QHNAv_6XX",
        "colab_type": "text"
      },
      "cell_type": "markdown",
      "source": [
        "**7. Encuentra la edad máxima de los hombres de raza Asian-Pac-Islander.**"
      ]
    },
    {
      "metadata": {
        "id": "QzBszGUR__zK",
        "colab_type": "code",
        "colab": {}
      },
      "cell_type": "code",
      "source": [
        "#codigo"
      ],
      "execution_count": 0,
      "outputs": []
    },
    {
      "metadata": {
        "id": "wGGLCm3XAYT1",
        "colab_type": "text"
      },
      "cell_type": "markdown",
      "source": [
        "**8. ¿Quiénes son la mayor proporción que ganan mas > 50 K: hombres casados o solteros? Considerar como casados a todos que tienen un estado civil como : cónyuge civil, casado, cónyuge ausente o cónyuge casado**"
      ]
    },
    {
      "metadata": {
        "id": "pcnlq2MIBEoN",
        "colab_type": "code",
        "colab": {}
      },
      "cell_type": "code",
      "source": [
        "#codigo"
      ],
      "execution_count": 0,
      "outputs": []
    },
    {
      "metadata": {
        "id": "t8yEd2LeBG6X",
        "colab_type": "text"
      },
      "cell_type": "markdown",
      "source": [
        "**9. ¿Cuál es el número máximo de horas que una persona trabaja por semana? y ¿Cuántas personas tabajan ese numero de horas? y ¿Cuál es el procentaje de aquellas personas que ganan mas > 50 K?**"
      ]
    },
    {
      "metadata": {
        "id": "z4NXKsdhCOt9",
        "colab_type": "code",
        "colab": {}
      },
      "cell_type": "code",
      "source": [
        "#codigo"
      ],
      "execution_count": 0,
      "outputs": []
    },
    {
      "metadata": {
        "id": "umHUsinLCO4j",
        "colab_type": "text"
      },
      "cell_type": "markdown",
      "source": [
        "**10. Cuente el tiempo promedio de trabajo (horas por semana) para aquellos que ganan poco y aquellos que ganan mucho para cada país.**"
      ]
    },
    {
      "metadata": {
        "id": "kL1KrD54Cgog",
        "colab_type": "code",
        "colab": {}
      },
      "cell_type": "code",
      "source": [
        "#codigo"
      ],
      "execution_count": 0,
      "outputs": []
    },
    {
      "metadata": {
        "id": "w7A9yonYGr3W",
        "colab_type": "text"
      },
      "cell_type": "markdown",
      "source": [
        "## 4. Intro a Regresion lineal\n",
        "\n",
        "En esta parte usar el  [Notebook](https://github.com/PCL-AI/MT616_2018_2/blob/master/Lab01/Lab01a-MT616.ipynb)  y terminar los ejercicios"
      ]
    }
  ]
}