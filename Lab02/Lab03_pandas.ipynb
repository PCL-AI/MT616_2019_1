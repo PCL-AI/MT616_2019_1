{
  "nbformat": 4,
  "nbformat_minor": 0,
  "metadata": {
    "colab": {
      "name": "Lab03_pandas.ipynb",
      "provenance": []
    },
    "language_info": {
      "codemirror_mode": {
        "name": "ipython",
        "version": 3
      },
      "file_extension": ".py",
      "mimetype": "text/x-python",
      "name": "python",
      "nbconvert_exporter": "python",
      "pygments_lexer": "ipython3",
      "version": "3.7.1"
    },
    "kernelspec": {
      "display_name": "Python 3",
      "language": "python",
      "name": "python3"
    }
  },
  "cells": [
    {
      "cell_type": "markdown",
      "metadata": {
        "id": "dcDTLiY8jGyf",
        "colab_type": "text"
      },
      "source": [
        "# UNI Machine Learning Course \n",
        "## Lab 03: Analisis exploratorio de datos (EDA) con pandas.\n",
        "\n",
        "## \"Arrests for Marijuana Possession\"\n"
      ]
    },
    {
      "cell_type": "markdown",
      "metadata": {
        "id": "r_gav43RjGyk",
        "colab_type": "text"
      },
      "source": [
        "\n",
        "\n",
        "### Useful resources\n",
        "\n",
        "\n",
        "* Official Pandas [documentation](http://pandas.pydata.org/pandas-docs/stable/index.html)\n",
        "* [10 minutes to pandas](http://pandas.pydata.org/pandas-docs/stable/10min.html)\n",
        "* GitHub repos: [Pandas exercises](https://github.com/guipsamora/pandas_exercises/) and [\"Effective Pandas\"](https://github.com/TomAugspurger/effective-pandas)\n",
        "* [scipy-lectures.org](http://www.scipy-lectures.org/index.html) — tutorials on pandas, numpy, matplotlib and scikit-learn\n",
        "\n"
      ]
    },
    {
      "cell_type": "markdown",
      "metadata": {
        "id": "5IswtGY2jGym",
        "colab_type": "text"
      },
      "source": [
        "## 1. Intro a EDA con Pandas\n",
        "**[Pandas](http://pandas.pydata.org)** es una biblioteca de Python que proporciona medios extensos para el análisis de datos. Los científicos de datos a menudo trabajan con datos almacenados en formatos de tabla como `.csv`,` .tsv` o `.xlsx`. Pandas hace que sea muy conveniente cargar, procesar y analizar dichos datos tabulares mediante consultas similares a SQL. Las principales estructuras de datos en `Pandas` se implementan con las clases ** Series ** y ** DataFrame **. "
      ]
    },
    {
      "cell_type": "code",
      "metadata": {
        "id": "zT5G4CzfjGyp",
        "colab_type": "code",
        "colab": {}
      },
      "source": [
        "import numpy as np\n",
        "import pandas as pd\n"
      ],
      "execution_count": 0,
      "outputs": []
    },
    {
      "cell_type": "markdown",
      "metadata": {
        "id": "CIzU2SL_jGyy",
        "colab_type": "text"
      },
      "source": [
        "Demostraremos los principales métodos en acción al analizar un conjunto de datos [dataset](https://vincentarelbundock.github.io/Rdatasets/datasets.html) sobre el arresto por posecion de marijuana en USA. Leamos los datos (usando `read_csv`), y echemos un vistazo a las primeras 5 líneas usando el método de la cabeza:\n"
      ]
    },
    {
      "cell_type": "code",
      "metadata": {
        "id": "XEhTxSOdjGy0",
        "colab_type": "code",
        "outputId": "d677e67b-ab2d-4c78-bcc6-f8b9f8e4ddab",
        "colab": {
          "base_uri": "https://localhost:8080/",
          "height": 195
        }
      },
      "source": [
        "df = pd.read_csv('https://vincentarelbundock.github.io/Rdatasets/csv/carData/Arrests.csv')\n",
        "df.head()\n",
        "\n"
      ],
      "execution_count": 51,
      "outputs": [
        {
          "output_type": "execute_result",
          "data": {
            "text/html": [
              "<div>\n",
              "<style scoped>\n",
              "    .dataframe tbody tr th:only-of-type {\n",
              "        vertical-align: middle;\n",
              "    }\n",
              "\n",
              "    .dataframe tbody tr th {\n",
              "        vertical-align: top;\n",
              "    }\n",
              "\n",
              "    .dataframe thead th {\n",
              "        text-align: right;\n",
              "    }\n",
              "</style>\n",
              "<table border=\"1\" class=\"dataframe\">\n",
              "  <thead>\n",
              "    <tr style=\"text-align: right;\">\n",
              "      <th></th>\n",
              "      <th>Unnamed: 0</th>\n",
              "      <th>released</th>\n",
              "      <th>colour</th>\n",
              "      <th>year</th>\n",
              "      <th>age</th>\n",
              "      <th>sex</th>\n",
              "      <th>employed</th>\n",
              "      <th>citizen</th>\n",
              "      <th>checks</th>\n",
              "    </tr>\n",
              "  </thead>\n",
              "  <tbody>\n",
              "    <tr>\n",
              "      <th>0</th>\n",
              "      <td>1</td>\n",
              "      <td>Yes</td>\n",
              "      <td>White</td>\n",
              "      <td>2002</td>\n",
              "      <td>21</td>\n",
              "      <td>Male</td>\n",
              "      <td>Yes</td>\n",
              "      <td>Yes</td>\n",
              "      <td>3</td>\n",
              "    </tr>\n",
              "    <tr>\n",
              "      <th>1</th>\n",
              "      <td>2</td>\n",
              "      <td>No</td>\n",
              "      <td>Black</td>\n",
              "      <td>1999</td>\n",
              "      <td>17</td>\n",
              "      <td>Male</td>\n",
              "      <td>Yes</td>\n",
              "      <td>Yes</td>\n",
              "      <td>3</td>\n",
              "    </tr>\n",
              "    <tr>\n",
              "      <th>2</th>\n",
              "      <td>3</td>\n",
              "      <td>Yes</td>\n",
              "      <td>White</td>\n",
              "      <td>2000</td>\n",
              "      <td>24</td>\n",
              "      <td>Male</td>\n",
              "      <td>Yes</td>\n",
              "      <td>Yes</td>\n",
              "      <td>3</td>\n",
              "    </tr>\n",
              "    <tr>\n",
              "      <th>3</th>\n",
              "      <td>4</td>\n",
              "      <td>No</td>\n",
              "      <td>Black</td>\n",
              "      <td>2000</td>\n",
              "      <td>46</td>\n",
              "      <td>Male</td>\n",
              "      <td>Yes</td>\n",
              "      <td>Yes</td>\n",
              "      <td>1</td>\n",
              "    </tr>\n",
              "    <tr>\n",
              "      <th>4</th>\n",
              "      <td>5</td>\n",
              "      <td>Yes</td>\n",
              "      <td>Black</td>\n",
              "      <td>1999</td>\n",
              "      <td>27</td>\n",
              "      <td>Female</td>\n",
              "      <td>Yes</td>\n",
              "      <td>Yes</td>\n",
              "      <td>1</td>\n",
              "    </tr>\n",
              "  </tbody>\n",
              "</table>\n",
              "</div>"
            ],
            "text/plain": [
              "   Unnamed: 0 released colour  year  age     sex employed citizen  checks\n",
              "0           1      Yes  White  2002   21    Male      Yes     Yes       3\n",
              "1           2       No  Black  1999   17    Male      Yes     Yes       3\n",
              "2           3      Yes  White  2000   24    Male      Yes     Yes       3\n",
              "3           4       No  Black  2000   46    Male      Yes     Yes       1\n",
              "4           5      Yes  Black  1999   27  Female      Yes     Yes       1"
            ]
          },
          "metadata": {
            "tags": []
          },
          "execution_count": 51
        }
      ]
    },
    {
      "cell_type": "markdown",
      "metadata": {
        "id": "V5VIN7ctjGy-",
        "colab_type": "text"
      },
      "source": [
        "<details>\n",
        "<summary>Acerca de la impresión de DataFrames en cuadernos Jupyter</summary>\n",
        "<p>\n",
        "En los cuadernos Jupyter, los cuadros de datos de Pandas se imprimen como estas bonitas tablas que se ven arriba, mientras que `print (df.head ())` tiene un formato menos agradable.\n",
        "Por defecto, Pandas muestra 20 columnas y 60 filas, por lo tanto, si su DataFrame es más grande, use la función `set_option` como se muestra en el siguiente ejemplo:\n",
        "\n",
        "```python\n",
        "pd.set_option('display.max_columns', 100)\n",
        "pd.set_option('display.max_rows', 100)\n",
        "```\n",
        "</p>\n",
        "</details>\n",
        "\n",
        "Recuerde que cada fila corresponde a un cliente, una **instancia**, y las columnas son **features** de esta instancia.\n"
      ]
    },
    {
      "cell_type": "markdown",
      "metadata": {
        "id": "hhT_MPr0jGy_",
        "colab_type": "text"
      },
      "source": [
        "Veamos la dimensionalidad de los datos, los nombres de las características y los tipos de características."
      ]
    },
    {
      "cell_type": "code",
      "metadata": {
        "id": "4qaBk5iAjGzA",
        "colab_type": "code",
        "outputId": "b350a0da-f522-43b3-ef95-f8203081a9ab",
        "colab": {
          "base_uri": "https://localhost:8080/",
          "height": 34
        }
      },
      "source": [
        "print(df.shape)"
      ],
      "execution_count": 52,
      "outputs": [
        {
          "output_type": "stream",
          "text": [
            "(5226, 9)\n"
          ],
          "name": "stdout"
        }
      ]
    },
    {
      "cell_type": "markdown",
      "metadata": {
        "id": "H5iq-dfHjGzH",
        "colab_type": "text"
      },
      "source": [
        "Ahora intentemos imprimir nombres de columnas usando `columnas`:"
      ]
    },
    {
      "cell_type": "code",
      "metadata": {
        "id": "zuTeMYVmjGzK",
        "colab_type": "code",
        "outputId": "167ddbcd-2fdc-421a-efa2-75af6c9fa322",
        "colab": {
          "base_uri": "https://localhost:8080/",
          "height": 67
        }
      },
      "source": [
        "print(df.columns)"
      ],
      "execution_count": 53,
      "outputs": [
        {
          "output_type": "stream",
          "text": [
            "Index(['Unnamed: 0', 'released', 'colour', 'year', 'age', 'sex', 'employed',\n",
            "       'citizen', 'checks'],\n",
            "      dtype='object')\n"
          ],
          "name": "stdout"
        }
      ]
    },
    {
      "cell_type": "markdown",
      "metadata": {
        "id": "xI7jWzDVjGzR",
        "colab_type": "text"
      },
      "source": [
        "Podemos usar el método `info ()` para generar información general sobre el marco de datos:"
      ]
    },
    {
      "cell_type": "code",
      "metadata": {
        "id": "oQy9hGJtjGzT",
        "colab_type": "code",
        "outputId": "d29d846c-0146-4730-d606-c9a70444c826",
        "colab": {
          "base_uri": "https://localhost:8080/",
          "height": 269
        }
      },
      "source": [
        "print(df.info())"
      ],
      "execution_count": 54,
      "outputs": [
        {
          "output_type": "stream",
          "text": [
            "<class 'pandas.core.frame.DataFrame'>\n",
            "RangeIndex: 5226 entries, 0 to 5225\n",
            "Data columns (total 9 columns):\n",
            "Unnamed: 0    5226 non-null int64\n",
            "released      5226 non-null object\n",
            "colour        5226 non-null object\n",
            "year          5226 non-null int64\n",
            "age           5226 non-null int64\n",
            "sex           5226 non-null object\n",
            "employed      5226 non-null object\n",
            "citizen       5226 non-null object\n",
            "checks        5226 non-null int64\n",
            "dtypes: int64(4), object(5)\n",
            "memory usage: 367.5+ KB\n",
            "None\n"
          ],
          "name": "stdout"
        }
      ]
    },
    {
      "cell_type": "markdown",
      "metadata": {
        "id": "0IsyxzwgjGzc",
        "colab_type": "text"
      },
      "source": [
        "`bool`, `int64`, `float64` y  `object` son los tipos de datos de nuestras características. Vemos que 0 característica es lógica (`bool`), 5 características son de tipo `object` y 4 características son numéricas. Con este mismo método, podemos ver fácilmente si hay algún valor faltante. Aquí, no hay ninguno porque cada columna contiene 5226 observaciones, el mismo número de filas que vimos antes con `shape`.\n",
        "\n",
        "Podemos **cambiar el tipo de columna** con el método `astype`. Apliquemos este método a la función `released` para convertirlo en `int64`:\n"
      ]
    },
    {
      "cell_type": "code",
      "metadata": {
        "id": "8ZTag7PTjGzd",
        "colab_type": "code",
        "outputId": "8c759538-7445-40d9-b6ee-0e01d5224480",
        "colab": {
          "base_uri": "https://localhost:8080/",
          "height": 447
        }
      },
      "source": [
        "df['released'] = df['released'].astype('str').astype('bool')\n",
        "\n",
        "print(df.info())\n",
        "\n",
        "df.head()"
      ],
      "execution_count": 57,
      "outputs": [
        {
          "output_type": "stream",
          "text": [
            "<class 'pandas.core.frame.DataFrame'>\n",
            "RangeIndex: 5226 entries, 0 to 5225\n",
            "Data columns (total 9 columns):\n",
            "Unnamed: 0    5226 non-null int64\n",
            "released      5226 non-null bool\n",
            "colour        5226 non-null object\n",
            "year          5226 non-null int64\n",
            "age           5226 non-null int64\n",
            "sex           5226 non-null object\n",
            "employed      5226 non-null object\n",
            "citizen       5226 non-null object\n",
            "checks        5226 non-null int64\n",
            "dtypes: bool(1), int64(4), object(4)\n",
            "memory usage: 331.8+ KB\n",
            "None\n"
          ],
          "name": "stdout"
        },
        {
          "output_type": "execute_result",
          "data": {
            "text/html": [
              "<div>\n",
              "<style scoped>\n",
              "    .dataframe tbody tr th:only-of-type {\n",
              "        vertical-align: middle;\n",
              "    }\n",
              "\n",
              "    .dataframe tbody tr th {\n",
              "        vertical-align: top;\n",
              "    }\n",
              "\n",
              "    .dataframe thead th {\n",
              "        text-align: right;\n",
              "    }\n",
              "</style>\n",
              "<table border=\"1\" class=\"dataframe\">\n",
              "  <thead>\n",
              "    <tr style=\"text-align: right;\">\n",
              "      <th></th>\n",
              "      <th>Unnamed: 0</th>\n",
              "      <th>released</th>\n",
              "      <th>colour</th>\n",
              "      <th>year</th>\n",
              "      <th>age</th>\n",
              "      <th>sex</th>\n",
              "      <th>employed</th>\n",
              "      <th>citizen</th>\n",
              "      <th>checks</th>\n",
              "    </tr>\n",
              "  </thead>\n",
              "  <tbody>\n",
              "    <tr>\n",
              "      <th>0</th>\n",
              "      <td>1</td>\n",
              "      <td>True</td>\n",
              "      <td>White</td>\n",
              "      <td>2002</td>\n",
              "      <td>21</td>\n",
              "      <td>Male</td>\n",
              "      <td>Yes</td>\n",
              "      <td>Yes</td>\n",
              "      <td>3</td>\n",
              "    </tr>\n",
              "    <tr>\n",
              "      <th>1</th>\n",
              "      <td>2</td>\n",
              "      <td>True</td>\n",
              "      <td>Black</td>\n",
              "      <td>1999</td>\n",
              "      <td>17</td>\n",
              "      <td>Male</td>\n",
              "      <td>Yes</td>\n",
              "      <td>Yes</td>\n",
              "      <td>3</td>\n",
              "    </tr>\n",
              "    <tr>\n",
              "      <th>2</th>\n",
              "      <td>3</td>\n",
              "      <td>True</td>\n",
              "      <td>White</td>\n",
              "      <td>2000</td>\n",
              "      <td>24</td>\n",
              "      <td>Male</td>\n",
              "      <td>Yes</td>\n",
              "      <td>Yes</td>\n",
              "      <td>3</td>\n",
              "    </tr>\n",
              "    <tr>\n",
              "      <th>3</th>\n",
              "      <td>4</td>\n",
              "      <td>True</td>\n",
              "      <td>Black</td>\n",
              "      <td>2000</td>\n",
              "      <td>46</td>\n",
              "      <td>Male</td>\n",
              "      <td>Yes</td>\n",
              "      <td>Yes</td>\n",
              "      <td>1</td>\n",
              "    </tr>\n",
              "    <tr>\n",
              "      <th>4</th>\n",
              "      <td>5</td>\n",
              "      <td>True</td>\n",
              "      <td>Black</td>\n",
              "      <td>1999</td>\n",
              "      <td>27</td>\n",
              "      <td>Female</td>\n",
              "      <td>Yes</td>\n",
              "      <td>Yes</td>\n",
              "      <td>1</td>\n",
              "    </tr>\n",
              "  </tbody>\n",
              "</table>\n",
              "</div>"
            ],
            "text/plain": [
              "   Unnamed: 0  released colour  year  age     sex employed citizen  checks\n",
              "0           1      True  White  2002   21    Male      Yes     Yes       3\n",
              "1           2      True  Black  1999   17    Male      Yes     Yes       3\n",
              "2           3      True  White  2000   24    Male      Yes     Yes       3\n",
              "3           4      True  Black  2000   46    Male      Yes     Yes       1\n",
              "4           5      True  Black  1999   27  Female      Yes     Yes       1"
            ]
          },
          "metadata": {
            "tags": []
          },
          "execution_count": 57
        }
      ]
    },
    {
      "cell_type": "code",
      "metadata": {
        "id": "-dH3Pd81AWgo",
        "colab_type": "code",
        "outputId": "72649ab0-43aa-4b7c-e640-7bead66dff3c",
        "colab": {
          "base_uri": "https://localhost:8080/",
          "height": 447
        }
      },
      "source": [
        "#df = df.astype({\"sex\":'category', \"age\":'int', \"employed\" : 'bool'})\n",
        "df = df.astype({\"age\":'int', \"employed\" : 'bool'})\n",
        "print(df.info())\n",
        "df.head()"
      ],
      "execution_count": 58,
      "outputs": [
        {
          "output_type": "stream",
          "text": [
            "<class 'pandas.core.frame.DataFrame'>\n",
            "RangeIndex: 5226 entries, 0 to 5225\n",
            "Data columns (total 9 columns):\n",
            "Unnamed: 0    5226 non-null int64\n",
            "released      5226 non-null bool\n",
            "colour        5226 non-null object\n",
            "year          5226 non-null int64\n",
            "age           5226 non-null int64\n",
            "sex           5226 non-null object\n",
            "employed      5226 non-null bool\n",
            "citizen       5226 non-null object\n",
            "checks        5226 non-null int64\n",
            "dtypes: bool(2), int64(4), object(3)\n",
            "memory usage: 296.1+ KB\n",
            "None\n"
          ],
          "name": "stdout"
        },
        {
          "output_type": "execute_result",
          "data": {
            "text/html": [
              "<div>\n",
              "<style scoped>\n",
              "    .dataframe tbody tr th:only-of-type {\n",
              "        vertical-align: middle;\n",
              "    }\n",
              "\n",
              "    .dataframe tbody tr th {\n",
              "        vertical-align: top;\n",
              "    }\n",
              "\n",
              "    .dataframe thead th {\n",
              "        text-align: right;\n",
              "    }\n",
              "</style>\n",
              "<table border=\"1\" class=\"dataframe\">\n",
              "  <thead>\n",
              "    <tr style=\"text-align: right;\">\n",
              "      <th></th>\n",
              "      <th>Unnamed: 0</th>\n",
              "      <th>released</th>\n",
              "      <th>colour</th>\n",
              "      <th>year</th>\n",
              "      <th>age</th>\n",
              "      <th>sex</th>\n",
              "      <th>employed</th>\n",
              "      <th>citizen</th>\n",
              "      <th>checks</th>\n",
              "    </tr>\n",
              "  </thead>\n",
              "  <tbody>\n",
              "    <tr>\n",
              "      <th>0</th>\n",
              "      <td>1</td>\n",
              "      <td>True</td>\n",
              "      <td>White</td>\n",
              "      <td>2002</td>\n",
              "      <td>21</td>\n",
              "      <td>Male</td>\n",
              "      <td>True</td>\n",
              "      <td>Yes</td>\n",
              "      <td>3</td>\n",
              "    </tr>\n",
              "    <tr>\n",
              "      <th>1</th>\n",
              "      <td>2</td>\n",
              "      <td>True</td>\n",
              "      <td>Black</td>\n",
              "      <td>1999</td>\n",
              "      <td>17</td>\n",
              "      <td>Male</td>\n",
              "      <td>True</td>\n",
              "      <td>Yes</td>\n",
              "      <td>3</td>\n",
              "    </tr>\n",
              "    <tr>\n",
              "      <th>2</th>\n",
              "      <td>3</td>\n",
              "      <td>True</td>\n",
              "      <td>White</td>\n",
              "      <td>2000</td>\n",
              "      <td>24</td>\n",
              "      <td>Male</td>\n",
              "      <td>True</td>\n",
              "      <td>Yes</td>\n",
              "      <td>3</td>\n",
              "    </tr>\n",
              "    <tr>\n",
              "      <th>3</th>\n",
              "      <td>4</td>\n",
              "      <td>True</td>\n",
              "      <td>Black</td>\n",
              "      <td>2000</td>\n",
              "      <td>46</td>\n",
              "      <td>Male</td>\n",
              "      <td>True</td>\n",
              "      <td>Yes</td>\n",
              "      <td>1</td>\n",
              "    </tr>\n",
              "    <tr>\n",
              "      <th>4</th>\n",
              "      <td>5</td>\n",
              "      <td>True</td>\n",
              "      <td>Black</td>\n",
              "      <td>1999</td>\n",
              "      <td>27</td>\n",
              "      <td>Female</td>\n",
              "      <td>True</td>\n",
              "      <td>Yes</td>\n",
              "      <td>1</td>\n",
              "    </tr>\n",
              "  </tbody>\n",
              "</table>\n",
              "</div>"
            ],
            "text/plain": [
              "   Unnamed: 0  released colour  year  age     sex  employed citizen  checks\n",
              "0           1      True  White  2002   21    Male      True     Yes       3\n",
              "1           2      True  Black  1999   17    Male      True     Yes       3\n",
              "2           3      True  White  2000   24    Male      True     Yes       3\n",
              "3           4      True  Black  2000   46    Male      True     Yes       1\n",
              "4           5      True  Black  1999   27  Female      True     Yes       1"
            ]
          },
          "metadata": {
            "tags": []
          },
          "execution_count": 58
        }
      ]
    },
    {
      "cell_type": "markdown",
      "metadata": {
        "id": "1NXHfokVjGzs",
        "colab_type": "text"
      },
      "source": [
        "El método `describe` muestra características estadísticas básicas de cada característica numérica (tipos `int64` y  `float64`): número de valores no faltantes, media, desviación estándar, rango, mediana, 0.25 y 0.75 cuartiles."
      ]
    },
    {
      "cell_type": "code",
      "metadata": {
        "id": "0F2fArzEjGzu",
        "colab_type": "code",
        "outputId": "4e93f8eb-ef58-4f41-8f6c-7dff80b8bf78",
        "colab": {
          "base_uri": "https://localhost:8080/",
          "height": 284
        }
      },
      "source": [
        "df.describe()"
      ],
      "execution_count": 59,
      "outputs": [
        {
          "output_type": "execute_result",
          "data": {
            "text/html": [
              "<div>\n",
              "<style scoped>\n",
              "    .dataframe tbody tr th:only-of-type {\n",
              "        vertical-align: middle;\n",
              "    }\n",
              "\n",
              "    .dataframe tbody tr th {\n",
              "        vertical-align: top;\n",
              "    }\n",
              "\n",
              "    .dataframe thead th {\n",
              "        text-align: right;\n",
              "    }\n",
              "</style>\n",
              "<table border=\"1\" class=\"dataframe\">\n",
              "  <thead>\n",
              "    <tr style=\"text-align: right;\">\n",
              "      <th></th>\n",
              "      <th>Unnamed: 0</th>\n",
              "      <th>year</th>\n",
              "      <th>age</th>\n",
              "      <th>checks</th>\n",
              "    </tr>\n",
              "  </thead>\n",
              "  <tbody>\n",
              "    <tr>\n",
              "      <th>count</th>\n",
              "      <td>5226.000000</td>\n",
              "      <td>5226.000000</td>\n",
              "      <td>5226.000000</td>\n",
              "      <td>5226.000000</td>\n",
              "    </tr>\n",
              "    <tr>\n",
              "      <th>mean</th>\n",
              "      <td>2613.500000</td>\n",
              "      <td>1999.509376</td>\n",
              "      <td>23.846537</td>\n",
              "      <td>1.636433</td>\n",
              "    </tr>\n",
              "    <tr>\n",
              "      <th>std</th>\n",
              "      <td>1508.760584</td>\n",
              "      <td>1.390056</td>\n",
              "      <td>8.316133</td>\n",
              "      <td>1.539230</td>\n",
              "    </tr>\n",
              "    <tr>\n",
              "      <th>min</th>\n",
              "      <td>1.000000</td>\n",
              "      <td>1997.000000</td>\n",
              "      <td>12.000000</td>\n",
              "      <td>0.000000</td>\n",
              "    </tr>\n",
              "    <tr>\n",
              "      <th>25%</th>\n",
              "      <td>1307.250000</td>\n",
              "      <td>1998.000000</td>\n",
              "      <td>18.000000</td>\n",
              "      <td>0.000000</td>\n",
              "    </tr>\n",
              "    <tr>\n",
              "      <th>50%</th>\n",
              "      <td>2613.500000</td>\n",
              "      <td>2000.000000</td>\n",
              "      <td>21.000000</td>\n",
              "      <td>1.000000</td>\n",
              "    </tr>\n",
              "    <tr>\n",
              "      <th>75%</th>\n",
              "      <td>3919.750000</td>\n",
              "      <td>2001.000000</td>\n",
              "      <td>27.000000</td>\n",
              "      <td>3.000000</td>\n",
              "    </tr>\n",
              "    <tr>\n",
              "      <th>max</th>\n",
              "      <td>5226.000000</td>\n",
              "      <td>2002.000000</td>\n",
              "      <td>66.000000</td>\n",
              "      <td>6.000000</td>\n",
              "    </tr>\n",
              "  </tbody>\n",
              "</table>\n",
              "</div>"
            ],
            "text/plain": [
              "        Unnamed: 0         year          age       checks\n",
              "count  5226.000000  5226.000000  5226.000000  5226.000000\n",
              "mean   2613.500000  1999.509376    23.846537     1.636433\n",
              "std    1508.760584     1.390056     8.316133     1.539230\n",
              "min       1.000000  1997.000000    12.000000     0.000000\n",
              "25%    1307.250000  1998.000000    18.000000     0.000000\n",
              "50%    2613.500000  2000.000000    21.000000     1.000000\n",
              "75%    3919.750000  2001.000000    27.000000     3.000000\n",
              "max    5226.000000  2002.000000    66.000000     6.000000"
            ]
          },
          "metadata": {
            "tags": []
          },
          "execution_count": 59
        }
      ]
    },
    {
      "cell_type": "markdown",
      "metadata": {
        "id": "eTpv9sJMjGz0",
        "colab_type": "text"
      },
      "source": [
        "Para ver estadísticas sobre características no numéricas, uno tiene que indicar explícitamente los tipos de datos de interés en el parámetro `include`."
      ]
    },
    {
      "cell_type": "code",
      "metadata": {
        "id": "ZG-0etuVjGz2",
        "colab_type": "code",
        "outputId": "f72f4204-e2af-42f7-dc9e-3c02cd42f24d",
        "colab": {
          "base_uri": "https://localhost:8080/",
          "height": 166
        }
      },
      "source": [
        "df.describe(include=['object', 'bool', 'category'])\n"
      ],
      "execution_count": 60,
      "outputs": [
        {
          "output_type": "execute_result",
          "data": {
            "text/html": [
              "<div>\n",
              "<style scoped>\n",
              "    .dataframe tbody tr th:only-of-type {\n",
              "        vertical-align: middle;\n",
              "    }\n",
              "\n",
              "    .dataframe tbody tr th {\n",
              "        vertical-align: top;\n",
              "    }\n",
              "\n",
              "    .dataframe thead th {\n",
              "        text-align: right;\n",
              "    }\n",
              "</style>\n",
              "<table border=\"1\" class=\"dataframe\">\n",
              "  <thead>\n",
              "    <tr style=\"text-align: right;\">\n",
              "      <th></th>\n",
              "      <th>released</th>\n",
              "      <th>colour</th>\n",
              "      <th>sex</th>\n",
              "      <th>employed</th>\n",
              "      <th>citizen</th>\n",
              "    </tr>\n",
              "  </thead>\n",
              "  <tbody>\n",
              "    <tr>\n",
              "      <th>count</th>\n",
              "      <td>5226</td>\n",
              "      <td>5226</td>\n",
              "      <td>5226</td>\n",
              "      <td>5226</td>\n",
              "      <td>5226</td>\n",
              "    </tr>\n",
              "    <tr>\n",
              "      <th>unique</th>\n",
              "      <td>1</td>\n",
              "      <td>2</td>\n",
              "      <td>2</td>\n",
              "      <td>1</td>\n",
              "      <td>2</td>\n",
              "    </tr>\n",
              "    <tr>\n",
              "      <th>top</th>\n",
              "      <td>True</td>\n",
              "      <td>White</td>\n",
              "      <td>Male</td>\n",
              "      <td>True</td>\n",
              "      <td>Yes</td>\n",
              "    </tr>\n",
              "    <tr>\n",
              "      <th>freq</th>\n",
              "      <td>5226</td>\n",
              "      <td>3938</td>\n",
              "      <td>4783</td>\n",
              "      <td>5226</td>\n",
              "      <td>4455</td>\n",
              "    </tr>\n",
              "  </tbody>\n",
              "</table>\n",
              "</div>"
            ],
            "text/plain": [
              "       released colour   sex employed citizen\n",
              "count      5226   5226  5226     5226    5226\n",
              "unique        1      2     2        1       2\n",
              "top        True  White  Male     True     Yes\n",
              "freq       5226   3938  4783     5226    4455"
            ]
          },
          "metadata": {
            "tags": []
          },
          "execution_count": 60
        }
      ]
    },
    {
      "cell_type": "markdown",
      "metadata": {
        "id": "rBElwOCtjGz9",
        "colab_type": "text"
      },
      "source": [
        "Para las características categóricas (tipo `objeto`) y booleano (tipo `bool`) podemos usar el método `value_counts`.  Echemos un vistazo a la distribución de `colour`:"
      ]
    },
    {
      "cell_type": "code",
      "metadata": {
        "id": "Zc5gPiWWjGz_",
        "colab_type": "code",
        "outputId": "82b697dc-d6f7-4990-f6a0-ef1d68c24a3d",
        "colab": {
          "base_uri": "https://localhost:8080/",
          "height": 67
        }
      },
      "source": [
        "df['colour'].value_counts()"
      ],
      "execution_count": 61,
      "outputs": [
        {
          "output_type": "execute_result",
          "data": {
            "text/plain": [
              "White    3938\n",
              "Black    1288\n",
              "Name: colour, dtype: int64"
            ]
          },
          "metadata": {
            "tags": []
          },
          "execution_count": 61
        }
      ]
    },
    {
      "cell_type": "markdown",
      "metadata": {
        "id": "s3tfNp6AjG0G",
        "colab_type": "text"
      },
      "source": [
        "De los 5226 detenidos, 3938 son *White*;  y todos tienen trabajo. Para calcular fracciones, usar `normalize = True` a la función `value_counts`."
      ]
    },
    {
      "cell_type": "code",
      "metadata": {
        "id": "jbD0NftgjG0G",
        "colab_type": "code",
        "outputId": "6fae4f3a-6493-465d-940c-1f164026f523",
        "colab": {
          "base_uri": "https://localhost:8080/",
          "height": 67
        }
      },
      "source": [
        "df['colour'].value_counts(normalize=True)"
      ],
      "execution_count": 62,
      "outputs": [
        {
          "output_type": "execute_result",
          "data": {
            "text/plain": [
              "White    0.75354\n",
              "Black    0.24646\n",
              "Name: colour, dtype: float64"
            ]
          },
          "metadata": {
            "tags": []
          },
          "execution_count": 62
        }
      ]
    },
    {
      "cell_type": "markdown",
      "metadata": {
        "id": "tDCbAOMMjG0M",
        "colab_type": "text"
      },
      "source": [
        "\n",
        "### Sorting\n",
        "\n",
        "Un DataFrame se puede ordenar por el valor de una de las variables (es decir, columnas). Por ejemplo, podemos clasificar por *age* (use `ascending = False` para ordenar en orden descendente):\n"
      ]
    },
    {
      "cell_type": "code",
      "metadata": {
        "id": "9VzLZDFsjG0O",
        "colab_type": "code",
        "outputId": "d9fad3fc-ffa9-4a97-fa24-e729e7c19362",
        "colab": {
          "base_uri": "https://localhost:8080/",
          "height": 195
        }
      },
      "source": [
        "df.sort_values(by='age', ascending=True).head()"
      ],
      "execution_count": 63,
      "outputs": [
        {
          "output_type": "execute_result",
          "data": {
            "text/html": [
              "<div>\n",
              "<style scoped>\n",
              "    .dataframe tbody tr th:only-of-type {\n",
              "        vertical-align: middle;\n",
              "    }\n",
              "\n",
              "    .dataframe tbody tr th {\n",
              "        vertical-align: top;\n",
              "    }\n",
              "\n",
              "    .dataframe thead th {\n",
              "        text-align: right;\n",
              "    }\n",
              "</style>\n",
              "<table border=\"1\" class=\"dataframe\">\n",
              "  <thead>\n",
              "    <tr style=\"text-align: right;\">\n",
              "      <th></th>\n",
              "      <th>Unnamed: 0</th>\n",
              "      <th>released</th>\n",
              "      <th>colour</th>\n",
              "      <th>year</th>\n",
              "      <th>age</th>\n",
              "      <th>sex</th>\n",
              "      <th>employed</th>\n",
              "      <th>citizen</th>\n",
              "      <th>checks</th>\n",
              "    </tr>\n",
              "  </thead>\n",
              "  <tbody>\n",
              "    <tr>\n",
              "      <th>5100</th>\n",
              "      <td>5101</td>\n",
              "      <td>True</td>\n",
              "      <td>White</td>\n",
              "      <td>1999</td>\n",
              "      <td>12</td>\n",
              "      <td>Male</td>\n",
              "      <td>True</td>\n",
              "      <td>Yes</td>\n",
              "      <td>0</td>\n",
              "    </tr>\n",
              "    <tr>\n",
              "      <th>3806</th>\n",
              "      <td>3807</td>\n",
              "      <td>True</td>\n",
              "      <td>White</td>\n",
              "      <td>1997</td>\n",
              "      <td>12</td>\n",
              "      <td>Male</td>\n",
              "      <td>True</td>\n",
              "      <td>No</td>\n",
              "      <td>5</td>\n",
              "    </tr>\n",
              "    <tr>\n",
              "      <th>4967</th>\n",
              "      <td>4968</td>\n",
              "      <td>True</td>\n",
              "      <td>White</td>\n",
              "      <td>1998</td>\n",
              "      <td>12</td>\n",
              "      <td>Male</td>\n",
              "      <td>True</td>\n",
              "      <td>Yes</td>\n",
              "      <td>0</td>\n",
              "    </tr>\n",
              "    <tr>\n",
              "      <th>189</th>\n",
              "      <td>190</td>\n",
              "      <td>True</td>\n",
              "      <td>White</td>\n",
              "      <td>2001</td>\n",
              "      <td>12</td>\n",
              "      <td>Male</td>\n",
              "      <td>True</td>\n",
              "      <td>Yes</td>\n",
              "      <td>0</td>\n",
              "    </tr>\n",
              "    <tr>\n",
              "      <th>2832</th>\n",
              "      <td>2833</td>\n",
              "      <td>True</td>\n",
              "      <td>White</td>\n",
              "      <td>2000</td>\n",
              "      <td>13</td>\n",
              "      <td>Male</td>\n",
              "      <td>True</td>\n",
              "      <td>Yes</td>\n",
              "      <td>0</td>\n",
              "    </tr>\n",
              "  </tbody>\n",
              "</table>\n",
              "</div>"
            ],
            "text/plain": [
              "      Unnamed: 0  released colour  year  age   sex  employed citizen  checks\n",
              "5100        5101      True  White  1999   12  Male      True     Yes       0\n",
              "3806        3807      True  White  1997   12  Male      True      No       5\n",
              "4967        4968      True  White  1998   12  Male      True     Yes       0\n",
              "189          190      True  White  2001   12  Male      True     Yes       0\n",
              "2832        2833      True  White  2000   13  Male      True     Yes       0"
            ]
          },
          "metadata": {
            "tags": []
          },
          "execution_count": 63
        }
      ]
    },
    {
      "cell_type": "markdown",
      "metadata": {
        "id": "prodWAm4jG0U",
        "colab_type": "text"
      },
      "source": [
        "También podemos ordenar por múltiples columnas:"
      ]
    },
    {
      "cell_type": "code",
      "metadata": {
        "id": "5TLH15w8jG0V",
        "colab_type": "code",
        "outputId": "ef8a279b-fe95-4232-cbd9-843d018cbf6a",
        "colab": {
          "base_uri": "https://localhost:8080/",
          "height": 195
        }
      },
      "source": [
        "df.sort_values(by=['age', 'year'],ascending=[True, True]).head()"
      ],
      "execution_count": 64,
      "outputs": [
        {
          "output_type": "execute_result",
          "data": {
            "text/html": [
              "<div>\n",
              "<style scoped>\n",
              "    .dataframe tbody tr th:only-of-type {\n",
              "        vertical-align: middle;\n",
              "    }\n",
              "\n",
              "    .dataframe tbody tr th {\n",
              "        vertical-align: top;\n",
              "    }\n",
              "\n",
              "    .dataframe thead th {\n",
              "        text-align: right;\n",
              "    }\n",
              "</style>\n",
              "<table border=\"1\" class=\"dataframe\">\n",
              "  <thead>\n",
              "    <tr style=\"text-align: right;\">\n",
              "      <th></th>\n",
              "      <th>Unnamed: 0</th>\n",
              "      <th>released</th>\n",
              "      <th>colour</th>\n",
              "      <th>year</th>\n",
              "      <th>age</th>\n",
              "      <th>sex</th>\n",
              "      <th>employed</th>\n",
              "      <th>citizen</th>\n",
              "      <th>checks</th>\n",
              "    </tr>\n",
              "  </thead>\n",
              "  <tbody>\n",
              "    <tr>\n",
              "      <th>3806</th>\n",
              "      <td>3807</td>\n",
              "      <td>True</td>\n",
              "      <td>White</td>\n",
              "      <td>1997</td>\n",
              "      <td>12</td>\n",
              "      <td>Male</td>\n",
              "      <td>True</td>\n",
              "      <td>No</td>\n",
              "      <td>5</td>\n",
              "    </tr>\n",
              "    <tr>\n",
              "      <th>4967</th>\n",
              "      <td>4968</td>\n",
              "      <td>True</td>\n",
              "      <td>White</td>\n",
              "      <td>1998</td>\n",
              "      <td>12</td>\n",
              "      <td>Male</td>\n",
              "      <td>True</td>\n",
              "      <td>Yes</td>\n",
              "      <td>0</td>\n",
              "    </tr>\n",
              "    <tr>\n",
              "      <th>5100</th>\n",
              "      <td>5101</td>\n",
              "      <td>True</td>\n",
              "      <td>White</td>\n",
              "      <td>1999</td>\n",
              "      <td>12</td>\n",
              "      <td>Male</td>\n",
              "      <td>True</td>\n",
              "      <td>Yes</td>\n",
              "      <td>0</td>\n",
              "    </tr>\n",
              "    <tr>\n",
              "      <th>189</th>\n",
              "      <td>190</td>\n",
              "      <td>True</td>\n",
              "      <td>White</td>\n",
              "      <td>2001</td>\n",
              "      <td>12</td>\n",
              "      <td>Male</td>\n",
              "      <td>True</td>\n",
              "      <td>Yes</td>\n",
              "      <td>0</td>\n",
              "    </tr>\n",
              "    <tr>\n",
              "      <th>1575</th>\n",
              "      <td>1576</td>\n",
              "      <td>True</td>\n",
              "      <td>Black</td>\n",
              "      <td>1997</td>\n",
              "      <td>13</td>\n",
              "      <td>Male</td>\n",
              "      <td>True</td>\n",
              "      <td>No</td>\n",
              "      <td>2</td>\n",
              "    </tr>\n",
              "  </tbody>\n",
              "</table>\n",
              "</div>"
            ],
            "text/plain": [
              "      Unnamed: 0  released colour  year  age   sex  employed citizen  checks\n",
              "3806        3807      True  White  1997   12  Male      True      No       5\n",
              "4967        4968      True  White  1998   12  Male      True     Yes       0\n",
              "5100        5101      True  White  1999   12  Male      True     Yes       0\n",
              "189          190      True  White  2001   12  Male      True     Yes       0\n",
              "1575        1576      True  Black  1997   13  Male      True      No       2"
            ]
          },
          "metadata": {
            "tags": []
          },
          "execution_count": 64
        }
      ]
    },
    {
      "cell_type": "markdown",
      "metadata": {
        "id": "NIU0pau0jG0i",
        "colab_type": "text"
      },
      "source": [
        "\n",
        "### Indexing and retrieving data\n",
        "\n",
        "Un DataFrame se puede indexar de diferentes maneras.\n",
        "\n",
        "Para obtener una sola columna, puede usar una construcción `DataFrame['Name']`. Usemos esto para responder solo a una pregunta sobre esa columna: \n",
        "\n",
        "**¿Cuál es la edad promedio de los detenidos?**\n",
        "\n"
      ]
    },
    {
      "cell_type": "code",
      "metadata": {
        "id": "Gnsqm5bejG0l",
        "colab_type": "code",
        "outputId": "042cd33e-2e90-4775-8373-9970bfaf6a4c",
        "colab": {
          "base_uri": "https://localhost:8080/",
          "height": 34
        }
      },
      "source": [
        "df['age'].mean()"
      ],
      "execution_count": 65,
      "outputs": [
        {
          "output_type": "execute_result",
          "data": {
            "text/plain": [
              "23.846536548029086"
            ]
          },
          "metadata": {
            "tags": []
          },
          "execution_count": 65
        }
      ]
    },
    {
      "cell_type": "markdown",
      "metadata": {
        "id": "y1Dxe0lQjG0r",
        "colab_type": "text"
      },
      "source": [
        "**Boolean indexing** con una columna también es muy conveniente. La sintaxis es `df[P (df['Name'])]`, donde `P` es una condición lógica que se comprueba para cada elemento de la columna `Name`.  El resultado de dicha indexación es el DataFrame que consiste solo en filas que satisfacen la condición `P` en la columna `Nombre`.\n",
        "\n",
        "Vamos a usarlo para responder la pregunta:\n",
        "\n",
        "**¿Cuáles son los valores promedio de las características numéricas para los detenidos de raza black?**\n"
      ]
    },
    {
      "cell_type": "code",
      "metadata": {
        "id": "ibP2yLE5jG0t",
        "colab_type": "code",
        "outputId": "f47573fa-127f-452f-fbb9-f8aa2a2967e8",
        "colab": {
          "base_uri": "https://localhost:8080/",
          "height": 134
        }
      },
      "source": [
        "df[df['colour'] == 'Black'].mean()"
      ],
      "execution_count": 66,
      "outputs": [
        {
          "output_type": "execute_result",
          "data": {
            "text/plain": [
              "Unnamed: 0    2641.455745\n",
              "released         1.000000\n",
              "year          1999.520186\n",
              "age             24.825311\n",
              "employed         1.000000\n",
              "checks           2.099379\n",
              "dtype: float64"
            ]
          },
          "metadata": {
            "tags": []
          },
          "execution_count": 66
        }
      ]
    },
    {
      "cell_type": "markdown",
      "metadata": {
        "id": "I2xiZ-OijG0z",
        "colab_type": "text"
      },
      "source": [
        "**¿Cuál es la edad promedio de las detenidas mujeres?**"
      ]
    },
    {
      "cell_type": "code",
      "metadata": {
        "id": "ruhfhAAQjG02",
        "colab_type": "code",
        "outputId": "6660fdcd-499b-48fa-9b18-16698cda7d0e",
        "colab": {
          "base_uri": "https://localhost:8080/",
          "height": 34
        }
      },
      "source": [
        "df[df['sex'] == 'Female']['age'].mean()\n"
      ],
      "execution_count": 67,
      "outputs": [
        {
          "output_type": "execute_result",
          "data": {
            "text/plain": [
              "23.532731376975168"
            ]
          },
          "metadata": {
            "tags": []
          },
          "execution_count": 67
        }
      ]
    },
    {
      "cell_type": "markdown",
      "metadata": {
        "id": "8HqPVP7ijG08",
        "colab_type": "text"
      },
      "source": [
        "**¿Cuántos de los detenidos hombres fueron detenidos por primera vez?**\n",
        "\n"
      ]
    },
    {
      "cell_type": "code",
      "metadata": {
        "id": "-n6HkAOujG0-",
        "colab_type": "code",
        "outputId": "04468cb6-37ba-467d-8cf8-8794521edb78",
        "colab": {
          "base_uri": "https://localhost:8080/",
          "height": 34
        }
      },
      "source": [
        "df[(df['sex'] == 'Male') & (df['checks'] == 0)]['checks'].count()"
      ],
      "execution_count": 68,
      "outputs": [
        {
          "output_type": "execute_result",
          "data": {
            "text/plain": [
              "1616"
            ]
          },
          "metadata": {
            "tags": []
          },
          "execution_count": 68
        }
      ]
    },
    {
      "cell_type": "markdown",
      "metadata": {
        "id": "Zkynyu31jG1C",
        "colab_type": "text"
      },
      "source": [
        "Los DataFrames se pueden indexar por nombre de columna (etiqueta) o por nombre de fila (índice) o por el número de serie de una fila. El método `loc` se usa para **indexar por nombre**,  mientras que `iloc()` se usa para **indexar por número**.\n"
      ]
    },
    {
      "cell_type": "code",
      "metadata": {
        "id": "EvBPu_g7jG1D",
        "colab_type": "code",
        "outputId": "d44b4a1e-e463-4ff3-d1ea-1d9d7a32e7ec",
        "colab": {
          "base_uri": "https://localhost:8080/",
          "height": 373
        }
      },
      "source": [
        "df.loc[0:10, 'sex':'checks']"
      ],
      "execution_count": 69,
      "outputs": [
        {
          "output_type": "execute_result",
          "data": {
            "text/html": [
              "<div>\n",
              "<style scoped>\n",
              "    .dataframe tbody tr th:only-of-type {\n",
              "        vertical-align: middle;\n",
              "    }\n",
              "\n",
              "    .dataframe tbody tr th {\n",
              "        vertical-align: top;\n",
              "    }\n",
              "\n",
              "    .dataframe thead th {\n",
              "        text-align: right;\n",
              "    }\n",
              "</style>\n",
              "<table border=\"1\" class=\"dataframe\">\n",
              "  <thead>\n",
              "    <tr style=\"text-align: right;\">\n",
              "      <th></th>\n",
              "      <th>sex</th>\n",
              "      <th>employed</th>\n",
              "      <th>citizen</th>\n",
              "      <th>checks</th>\n",
              "    </tr>\n",
              "  </thead>\n",
              "  <tbody>\n",
              "    <tr>\n",
              "      <th>0</th>\n",
              "      <td>Male</td>\n",
              "      <td>True</td>\n",
              "      <td>Yes</td>\n",
              "      <td>3</td>\n",
              "    </tr>\n",
              "    <tr>\n",
              "      <th>1</th>\n",
              "      <td>Male</td>\n",
              "      <td>True</td>\n",
              "      <td>Yes</td>\n",
              "      <td>3</td>\n",
              "    </tr>\n",
              "    <tr>\n",
              "      <th>2</th>\n",
              "      <td>Male</td>\n",
              "      <td>True</td>\n",
              "      <td>Yes</td>\n",
              "      <td>3</td>\n",
              "    </tr>\n",
              "    <tr>\n",
              "      <th>3</th>\n",
              "      <td>Male</td>\n",
              "      <td>True</td>\n",
              "      <td>Yes</td>\n",
              "      <td>1</td>\n",
              "    </tr>\n",
              "    <tr>\n",
              "      <th>4</th>\n",
              "      <td>Female</td>\n",
              "      <td>True</td>\n",
              "      <td>Yes</td>\n",
              "      <td>1</td>\n",
              "    </tr>\n",
              "    <tr>\n",
              "      <th>5</th>\n",
              "      <td>Female</td>\n",
              "      <td>True</td>\n",
              "      <td>Yes</td>\n",
              "      <td>0</td>\n",
              "    </tr>\n",
              "    <tr>\n",
              "      <th>6</th>\n",
              "      <td>Male</td>\n",
              "      <td>True</td>\n",
              "      <td>Yes</td>\n",
              "      <td>0</td>\n",
              "    </tr>\n",
              "    <tr>\n",
              "      <th>7</th>\n",
              "      <td>Female</td>\n",
              "      <td>True</td>\n",
              "      <td>Yes</td>\n",
              "      <td>1</td>\n",
              "    </tr>\n",
              "    <tr>\n",
              "      <th>8</th>\n",
              "      <td>Male</td>\n",
              "      <td>True</td>\n",
              "      <td>Yes</td>\n",
              "      <td>4</td>\n",
              "    </tr>\n",
              "    <tr>\n",
              "      <th>9</th>\n",
              "      <td>Male</td>\n",
              "      <td>True</td>\n",
              "      <td>Yes</td>\n",
              "      <td>3</td>\n",
              "    </tr>\n",
              "    <tr>\n",
              "      <th>10</th>\n",
              "      <td>Male</td>\n",
              "      <td>True</td>\n",
              "      <td>No</td>\n",
              "      <td>0</td>\n",
              "    </tr>\n",
              "  </tbody>\n",
              "</table>\n",
              "</div>"
            ],
            "text/plain": [
              "       sex  employed citizen  checks\n",
              "0     Male      True     Yes       3\n",
              "1     Male      True     Yes       3\n",
              "2     Male      True     Yes       3\n",
              "3     Male      True     Yes       1\n",
              "4   Female      True     Yes       1\n",
              "5   Female      True     Yes       0\n",
              "6     Male      True     Yes       0\n",
              "7   Female      True     Yes       1\n",
              "8     Male      True     Yes       4\n",
              "9     Male      True     Yes       3\n",
              "10    Male      True      No       0"
            ]
          },
          "metadata": {
            "tags": []
          },
          "execution_count": 69
        }
      ]
    },
    {
      "cell_type": "code",
      "metadata": {
        "id": "Uut-LxOZjG1J",
        "colab_type": "code",
        "outputId": "8f3dee46-1831-411f-892e-f8fdb26a94a8",
        "colab": {
          "base_uri": "https://localhost:8080/",
          "height": 195
        }
      },
      "source": [
        "df.iloc[0:5, 0:4]"
      ],
      "execution_count": 70,
      "outputs": [
        {
          "output_type": "execute_result",
          "data": {
            "text/html": [
              "<div>\n",
              "<style scoped>\n",
              "    .dataframe tbody tr th:only-of-type {\n",
              "        vertical-align: middle;\n",
              "    }\n",
              "\n",
              "    .dataframe tbody tr th {\n",
              "        vertical-align: top;\n",
              "    }\n",
              "\n",
              "    .dataframe thead th {\n",
              "        text-align: right;\n",
              "    }\n",
              "</style>\n",
              "<table border=\"1\" class=\"dataframe\">\n",
              "  <thead>\n",
              "    <tr style=\"text-align: right;\">\n",
              "      <th></th>\n",
              "      <th>Unnamed: 0</th>\n",
              "      <th>released</th>\n",
              "      <th>colour</th>\n",
              "      <th>year</th>\n",
              "    </tr>\n",
              "  </thead>\n",
              "  <tbody>\n",
              "    <tr>\n",
              "      <th>0</th>\n",
              "      <td>1</td>\n",
              "      <td>True</td>\n",
              "      <td>White</td>\n",
              "      <td>2002</td>\n",
              "    </tr>\n",
              "    <tr>\n",
              "      <th>1</th>\n",
              "      <td>2</td>\n",
              "      <td>True</td>\n",
              "      <td>Black</td>\n",
              "      <td>1999</td>\n",
              "    </tr>\n",
              "    <tr>\n",
              "      <th>2</th>\n",
              "      <td>3</td>\n",
              "      <td>True</td>\n",
              "      <td>White</td>\n",
              "      <td>2000</td>\n",
              "    </tr>\n",
              "    <tr>\n",
              "      <th>3</th>\n",
              "      <td>4</td>\n",
              "      <td>True</td>\n",
              "      <td>Black</td>\n",
              "      <td>2000</td>\n",
              "    </tr>\n",
              "    <tr>\n",
              "      <th>4</th>\n",
              "      <td>5</td>\n",
              "      <td>True</td>\n",
              "      <td>Black</td>\n",
              "      <td>1999</td>\n",
              "    </tr>\n",
              "  </tbody>\n",
              "</table>\n",
              "</div>"
            ],
            "text/plain": [
              "   Unnamed: 0  released colour  year\n",
              "0           1      True  White  2002\n",
              "1           2      True  Black  1999\n",
              "2           3      True  White  2000\n",
              "3           4      True  Black  2000\n",
              "4           5      True  Black  1999"
            ]
          },
          "metadata": {
            "tags": []
          },
          "execution_count": 70
        }
      ]
    },
    {
      "cell_type": "markdown",
      "metadata": {
        "id": "H5O7bIBfjG1Q",
        "colab_type": "text"
      },
      "source": [
        "Si necesitamos la primera o la última línea del marco de datos, podemos usar la construcción `df[: 1]` o `df[-1:]`:"
      ]
    },
    {
      "cell_type": "code",
      "metadata": {
        "id": "tmUtEvD-jG1R",
        "colab_type": "code",
        "outputId": "c04ed45f-9074-4452-e69e-96aba7c3a074",
        "colab": {
          "base_uri": "https://localhost:8080/",
          "height": 101
        }
      },
      "source": [
        "print(df[-1:])\n",
        "print(\"                                  \")\n",
        "print(df[:1])"
      ],
      "execution_count": 76,
      "outputs": [
        {
          "output_type": "stream",
          "text": [
            "      Unnamed: 0  released colour  year  age   sex  employed citizen  checks\n",
            "5225        5226      True  White  1999   16  Male      True     Yes       3\n",
            "                                  \n",
            "   Unnamed: 0  released colour  year  age   sex  employed citizen  checks\n",
            "0           1      True  White  2002   21  Male      True     Yes       3\n"
          ],
          "name": "stdout"
        }
      ]
    },
    {
      "cell_type": "markdown",
      "metadata": {
        "id": "JDtF1DSQjG1X",
        "colab_type": "text"
      },
      "source": [
        "\n",
        "### Aplicando funciones a celdas, columnas y filas\n",
        "\n",
        "**Para aplicar funciones a cada columna, use `apply()` :**\n"
      ]
    },
    {
      "cell_type": "code",
      "metadata": {
        "id": "gz-wzIZtjG1X",
        "colab_type": "code",
        "outputId": "540afba8-2c2d-4776-da19-c4de8bdffa2a",
        "colab": {
          "base_uri": "https://localhost:8080/",
          "height": 185
        }
      },
      "source": [
        "df.apply(np.min) "
      ],
      "execution_count": 77,
      "outputs": [
        {
          "output_type": "execute_result",
          "data": {
            "text/plain": [
              "Unnamed: 0         1\n",
              "released        True\n",
              "colour         Black\n",
              "year            1997\n",
              "age               12\n",
              "sex           Female\n",
              "employed        True\n",
              "citizen           No\n",
              "checks             0\n",
              "dtype: object"
            ]
          },
          "metadata": {
            "tags": []
          },
          "execution_count": 77
        }
      ]
    },
    {
      "cell_type": "markdown",
      "metadata": {
        "id": "Rk40mr4zjG1a",
        "colab_type": "text"
      },
      "source": [
        "El método `apply` también se puede usar para aplicar una función a cada fila. \n",
        "\n",
        "Las funciones de `Lambda` son muy convenientes en tales escenarios. Por ejemplo, si necesitamos seleccionar todos los years mayores o iguales que 2002, podemos hacer:"
      ]
    },
    {
      "cell_type": "code",
      "metadata": {
        "id": "0Uu62CiPjG1b",
        "colab_type": "code",
        "outputId": "a4c0a45c-d312-4722-d35d-13afbcdba8d4",
        "colab": {
          "base_uri": "https://localhost:8080/",
          "height": 195
        }
      },
      "source": [
        "df[df['year'].apply(lambda var: var >= 2002 )].head()"
      ],
      "execution_count": 78,
      "outputs": [
        {
          "output_type": "execute_result",
          "data": {
            "text/html": [
              "<div>\n",
              "<style scoped>\n",
              "    .dataframe tbody tr th:only-of-type {\n",
              "        vertical-align: middle;\n",
              "    }\n",
              "\n",
              "    .dataframe tbody tr th {\n",
              "        vertical-align: top;\n",
              "    }\n",
              "\n",
              "    .dataframe thead th {\n",
              "        text-align: right;\n",
              "    }\n",
              "</style>\n",
              "<table border=\"1\" class=\"dataframe\">\n",
              "  <thead>\n",
              "    <tr style=\"text-align: right;\">\n",
              "      <th></th>\n",
              "      <th>Unnamed: 0</th>\n",
              "      <th>released</th>\n",
              "      <th>colour</th>\n",
              "      <th>year</th>\n",
              "      <th>age</th>\n",
              "      <th>sex</th>\n",
              "      <th>employed</th>\n",
              "      <th>citizen</th>\n",
              "      <th>checks</th>\n",
              "    </tr>\n",
              "  </thead>\n",
              "  <tbody>\n",
              "    <tr>\n",
              "      <th>0</th>\n",
              "      <td>1</td>\n",
              "      <td>True</td>\n",
              "      <td>White</td>\n",
              "      <td>2002</td>\n",
              "      <td>21</td>\n",
              "      <td>Male</td>\n",
              "      <td>True</td>\n",
              "      <td>Yes</td>\n",
              "      <td>3</td>\n",
              "    </tr>\n",
              "    <tr>\n",
              "      <th>17</th>\n",
              "      <td>18</td>\n",
              "      <td>True</td>\n",
              "      <td>White</td>\n",
              "      <td>2002</td>\n",
              "      <td>20</td>\n",
              "      <td>Male</td>\n",
              "      <td>True</td>\n",
              "      <td>Yes</td>\n",
              "      <td>5</td>\n",
              "    </tr>\n",
              "    <tr>\n",
              "      <th>60</th>\n",
              "      <td>61</td>\n",
              "      <td>True</td>\n",
              "      <td>Black</td>\n",
              "      <td>2002</td>\n",
              "      <td>21</td>\n",
              "      <td>Male</td>\n",
              "      <td>True</td>\n",
              "      <td>Yes</td>\n",
              "      <td>1</td>\n",
              "    </tr>\n",
              "    <tr>\n",
              "      <th>106</th>\n",
              "      <td>107</td>\n",
              "      <td>True</td>\n",
              "      <td>White</td>\n",
              "      <td>2002</td>\n",
              "      <td>17</td>\n",
              "      <td>Male</td>\n",
              "      <td>True</td>\n",
              "      <td>Yes</td>\n",
              "      <td>1</td>\n",
              "    </tr>\n",
              "    <tr>\n",
              "      <th>154</th>\n",
              "      <td>155</td>\n",
              "      <td>True</td>\n",
              "      <td>White</td>\n",
              "      <td>2002</td>\n",
              "      <td>17</td>\n",
              "      <td>Male</td>\n",
              "      <td>True</td>\n",
              "      <td>Yes</td>\n",
              "      <td>0</td>\n",
              "    </tr>\n",
              "  </tbody>\n",
              "</table>\n",
              "</div>"
            ],
            "text/plain": [
              "     Unnamed: 0  released colour  year  age   sex  employed citizen  checks\n",
              "0             1      True  White  2002   21  Male      True     Yes       3\n",
              "17           18      True  White  2002   20  Male      True     Yes       5\n",
              "60           61      True  Black  2002   21  Male      True     Yes       1\n",
              "106         107      True  White  2002   17  Male      True     Yes       1\n",
              "154         155      True  White  2002   17  Male      True     Yes       0"
            ]
          },
          "metadata": {
            "tags": []
          },
          "execution_count": 78
        }
      ]
    },
    {
      "cell_type": "markdown",
      "metadata": {
        "id": "FbqMtEg6jG1i",
        "colab_type": "text"
      },
      "source": [
        "El método `map` se puede usar para **reemplazar valores en una columna** al pasar un diccionario de la forma `{valor_viejo: valor_nuevo}` como argumento:"
      ]
    },
    {
      "cell_type": "code",
      "metadata": {
        "id": "XCzUkXmJjG1i",
        "colab_type": "code",
        "outputId": "6646cbe5-3027-493f-a60a-2f1d7edc98fb",
        "colab": {
          "base_uri": "https://localhost:8080/",
          "height": 252
        }
      },
      "source": [
        "d = {'Male' : 'Hombre', 'Female' : 'Mujer'}\n",
        "df['sex'] = df['sex'].map(d)\n",
        "df.head()\n",
        "df.info()"
      ],
      "execution_count": 79,
      "outputs": [
        {
          "output_type": "stream",
          "text": [
            "<class 'pandas.core.frame.DataFrame'>\n",
            "RangeIndex: 5226 entries, 0 to 5225\n",
            "Data columns (total 9 columns):\n",
            "Unnamed: 0    5226 non-null int64\n",
            "released      5226 non-null bool\n",
            "colour        5226 non-null object\n",
            "year          5226 non-null int64\n",
            "age           5226 non-null int64\n",
            "sex           5226 non-null object\n",
            "employed      5226 non-null bool\n",
            "citizen       5226 non-null object\n",
            "checks        5226 non-null int64\n",
            "dtypes: bool(2), int64(4), object(3)\n",
            "memory usage: 296.1+ KB\n"
          ],
          "name": "stdout"
        }
      ]
    },
    {
      "cell_type": "markdown",
      "metadata": {
        "id": "5nHIrSYBjG1n",
        "colab_type": "text"
      },
      "source": [
        "Lo mismo se puede hacer con el método `replace`:\n",
        "\n"
      ]
    },
    {
      "cell_type": "code",
      "metadata": {
        "id": "gHWbY6S9jG1n",
        "colab_type": "code",
        "colab": {}
      },
      "source": [
        "#df = df.replace({'sex': d})\n",
        "#df.head()"
      ],
      "execution_count": 0,
      "outputs": []
    },
    {
      "cell_type": "code",
      "metadata": {
        "id": "DK6mrPJGT2mv",
        "colab_type": "code",
        "outputId": "cab2878d-78a7-4f7d-a3a1-f5568f52d18a",
        "colab": {
          "base_uri": "https://localhost:8080/",
          "height": 252
        }
      },
      "source": [
        "df.info()"
      ],
      "execution_count": 81,
      "outputs": [
        {
          "output_type": "stream",
          "text": [
            "<class 'pandas.core.frame.DataFrame'>\n",
            "RangeIndex: 5226 entries, 0 to 5225\n",
            "Data columns (total 9 columns):\n",
            "Unnamed: 0    5226 non-null int64\n",
            "released      5226 non-null bool\n",
            "colour        5226 non-null object\n",
            "year          5226 non-null int64\n",
            "age           5226 non-null int64\n",
            "sex           5226 non-null object\n",
            "employed      5226 non-null bool\n",
            "citizen       5226 non-null object\n",
            "checks        5226 non-null int64\n",
            "dtypes: bool(2), int64(4), object(3)\n",
            "memory usage: 296.1+ KB\n"
          ],
          "name": "stdout"
        }
      ]
    },
    {
      "cell_type": "markdown",
      "metadata": {
        "id": "0f0D7JubjG1u",
        "colab_type": "text"
      },
      "source": [
        "\n",
        "### Grouping\n",
        "\n",
        "En general, agrupar datos en Pandas funciona de la siguiente manera:\n"
      ]
    },
    {
      "cell_type": "markdown",
      "metadata": {
        "id": "-oPyibNCjG1v",
        "colab_type": "text"
      },
      "source": [
        "\n",
        "```python\n",
        "df.groupby (by = grouping_columns) [ columns_2_show ].function()\n",
        "```"
      ]
    },
    {
      "cell_type": "markdown",
      "metadata": {
        "id": "DAMrP338jG1w",
        "colab_type": "text"
      },
      "source": [
        "1. Primero, el método `groupby` divide los `grouping_columns` por sus valores. Se convierten en un nuevo índice en el marco de datos resultante.\n",
        "2. Luego, se seleccionan las columnas de interés (`columns_2_show`). Si `columns_2_show` no está incluido, se incluirán todas las columnas que no pertenecen a groupby.\n",
        "3. Finalmente, una o varias funciones se aplican a los grupos obtenidos por columnas seleccionadas.\n",
        "\n",
        "Aquí hay un ejemplo donde agrupamos los datos según los valores de la variable `age` y mostramos estadísticas de tres columnas en cada grupo:"
      ]
    },
    {
      "cell_type": "code",
      "metadata": {
        "id": "BKCjgCOPjG1x",
        "colab_type": "code",
        "outputId": "587edd29-37fa-4795-861a-95a2ad08978e",
        "colab": {
          "base_uri": "https://localhost:8080/",
          "height": 166
        }
      },
      "source": [
        "columns_2_show = ['year', 'age','checks']\n",
        "\n",
        "df.groupby(['sex'])[columns_2_show].describe(percentiles=[])"
      ],
      "execution_count": 82,
      "outputs": [
        {
          "output_type": "execute_result",
          "data": {
            "text/html": [
              "<div>\n",
              "<style scoped>\n",
              "    .dataframe tbody tr th:only-of-type {\n",
              "        vertical-align: middle;\n",
              "    }\n",
              "\n",
              "    .dataframe tbody tr th {\n",
              "        vertical-align: top;\n",
              "    }\n",
              "\n",
              "    .dataframe thead tr th {\n",
              "        text-align: left;\n",
              "    }\n",
              "\n",
              "    .dataframe thead tr:last-of-type th {\n",
              "        text-align: right;\n",
              "    }\n",
              "</style>\n",
              "<table border=\"1\" class=\"dataframe\">\n",
              "  <thead>\n",
              "    <tr>\n",
              "      <th></th>\n",
              "      <th colspan=\"6\" halign=\"left\">year</th>\n",
              "      <th colspan=\"6\" halign=\"left\">age</th>\n",
              "      <th colspan=\"6\" halign=\"left\">checks</th>\n",
              "    </tr>\n",
              "    <tr>\n",
              "      <th></th>\n",
              "      <th>count</th>\n",
              "      <th>mean</th>\n",
              "      <th>std</th>\n",
              "      <th>min</th>\n",
              "      <th>50%</th>\n",
              "      <th>max</th>\n",
              "      <th>count</th>\n",
              "      <th>mean</th>\n",
              "      <th>std</th>\n",
              "      <th>min</th>\n",
              "      <th>50%</th>\n",
              "      <th>max</th>\n",
              "      <th>count</th>\n",
              "      <th>mean</th>\n",
              "      <th>std</th>\n",
              "      <th>min</th>\n",
              "      <th>50%</th>\n",
              "      <th>max</th>\n",
              "    </tr>\n",
              "    <tr>\n",
              "      <th>sex</th>\n",
              "      <th></th>\n",
              "      <th></th>\n",
              "      <th></th>\n",
              "      <th></th>\n",
              "      <th></th>\n",
              "      <th></th>\n",
              "      <th></th>\n",
              "      <th></th>\n",
              "      <th></th>\n",
              "      <th></th>\n",
              "      <th></th>\n",
              "      <th></th>\n",
              "      <th></th>\n",
              "      <th></th>\n",
              "      <th></th>\n",
              "      <th></th>\n",
              "      <th></th>\n",
              "      <th></th>\n",
              "    </tr>\n",
              "  </thead>\n",
              "  <tbody>\n",
              "    <tr>\n",
              "      <th>Hombre</th>\n",
              "      <td>4783.0</td>\n",
              "      <td>1999.517667</td>\n",
              "      <td>1.395177</td>\n",
              "      <td>1997.0</td>\n",
              "      <td>2000.0</td>\n",
              "      <td>2002.0</td>\n",
              "      <td>4783.0</td>\n",
              "      <td>23.875601</td>\n",
              "      <td>8.289172</td>\n",
              "      <td>12.0</td>\n",
              "      <td>21.0</td>\n",
              "      <td>66.0</td>\n",
              "      <td>4783.0</td>\n",
              "      <td>1.686807</td>\n",
              "      <td>1.540125</td>\n",
              "      <td>0.0</td>\n",
              "      <td>1.0</td>\n",
              "      <td>6.0</td>\n",
              "    </tr>\n",
              "    <tr>\n",
              "      <th>Mujer</th>\n",
              "      <td>443.0</td>\n",
              "      <td>1999.419865</td>\n",
              "      <td>1.331744</td>\n",
              "      <td>1997.0</td>\n",
              "      <td>1999.0</td>\n",
              "      <td>2002.0</td>\n",
              "      <td>443.0</td>\n",
              "      <td>23.532731</td>\n",
              "      <td>8.605254</td>\n",
              "      <td>13.0</td>\n",
              "      <td>20.0</td>\n",
              "      <td>53.0</td>\n",
              "      <td>443.0</td>\n",
              "      <td>1.092551</td>\n",
              "      <td>1.421558</td>\n",
              "      <td>0.0</td>\n",
              "      <td>0.0</td>\n",
              "      <td>5.0</td>\n",
              "    </tr>\n",
              "  </tbody>\n",
              "</table>\n",
              "</div>"
            ],
            "text/plain": [
              "          year                                 ...    checks               \n",
              "         count         mean       std     min  ...       std  min  50%  max\n",
              "sex                                            ...                         \n",
              "Hombre  4783.0  1999.517667  1.395177  1997.0  ...  1.540125  0.0  1.0  6.0\n",
              "Mujer    443.0  1999.419865  1.331744  1997.0  ...  1.421558  0.0  0.0  5.0\n",
              "\n",
              "[2 rows x 18 columns]"
            ]
          },
          "metadata": {
            "tags": []
          },
          "execution_count": 82
        }
      ]
    },
    {
      "cell_type": "markdown",
      "metadata": {
        "id": "5c4AMS8RjG10",
        "colab_type": "text"
      },
      "source": [
        "Hagamos lo mismo, pero de manera ligeramente diferente al pasar una lista de funciones a `agg ()`:"
      ]
    },
    {
      "cell_type": "code",
      "metadata": {
        "id": "QDYp4RZNjG10",
        "colab_type": "code",
        "outputId": "36068bf7-b924-4420-c63d-66072d05166f",
        "colab": {
          "base_uri": "https://localhost:8080/",
          "height": 166
        }
      },
      "source": [
        "df.groupby(['sex'])[columns_2_show].agg([np.mean, np.std, np.min, np.max])"
      ],
      "execution_count": 83,
      "outputs": [
        {
          "output_type": "execute_result",
          "data": {
            "text/html": [
              "<div>\n",
              "<style scoped>\n",
              "    .dataframe tbody tr th:only-of-type {\n",
              "        vertical-align: middle;\n",
              "    }\n",
              "\n",
              "    .dataframe tbody tr th {\n",
              "        vertical-align: top;\n",
              "    }\n",
              "\n",
              "    .dataframe thead tr th {\n",
              "        text-align: left;\n",
              "    }\n",
              "\n",
              "    .dataframe thead tr:last-of-type th {\n",
              "        text-align: right;\n",
              "    }\n",
              "</style>\n",
              "<table border=\"1\" class=\"dataframe\">\n",
              "  <thead>\n",
              "    <tr>\n",
              "      <th></th>\n",
              "      <th colspan=\"4\" halign=\"left\">year</th>\n",
              "      <th colspan=\"4\" halign=\"left\">age</th>\n",
              "      <th colspan=\"4\" halign=\"left\">checks</th>\n",
              "    </tr>\n",
              "    <tr>\n",
              "      <th></th>\n",
              "      <th>mean</th>\n",
              "      <th>std</th>\n",
              "      <th>amin</th>\n",
              "      <th>amax</th>\n",
              "      <th>mean</th>\n",
              "      <th>std</th>\n",
              "      <th>amin</th>\n",
              "      <th>amax</th>\n",
              "      <th>mean</th>\n",
              "      <th>std</th>\n",
              "      <th>amin</th>\n",
              "      <th>amax</th>\n",
              "    </tr>\n",
              "    <tr>\n",
              "      <th>sex</th>\n",
              "      <th></th>\n",
              "      <th></th>\n",
              "      <th></th>\n",
              "      <th></th>\n",
              "      <th></th>\n",
              "      <th></th>\n",
              "      <th></th>\n",
              "      <th></th>\n",
              "      <th></th>\n",
              "      <th></th>\n",
              "      <th></th>\n",
              "      <th></th>\n",
              "    </tr>\n",
              "  </thead>\n",
              "  <tbody>\n",
              "    <tr>\n",
              "      <th>Hombre</th>\n",
              "      <td>1999.517667</td>\n",
              "      <td>1.395177</td>\n",
              "      <td>1997</td>\n",
              "      <td>2002</td>\n",
              "      <td>23.875601</td>\n",
              "      <td>8.289172</td>\n",
              "      <td>12</td>\n",
              "      <td>66</td>\n",
              "      <td>1.686807</td>\n",
              "      <td>1.540125</td>\n",
              "      <td>0</td>\n",
              "      <td>6</td>\n",
              "    </tr>\n",
              "    <tr>\n",
              "      <th>Mujer</th>\n",
              "      <td>1999.419865</td>\n",
              "      <td>1.331744</td>\n",
              "      <td>1997</td>\n",
              "      <td>2002</td>\n",
              "      <td>23.532731</td>\n",
              "      <td>8.605254</td>\n",
              "      <td>13</td>\n",
              "      <td>53</td>\n",
              "      <td>1.092551</td>\n",
              "      <td>1.421558</td>\n",
              "      <td>0</td>\n",
              "      <td>5</td>\n",
              "    </tr>\n",
              "  </tbody>\n",
              "</table>\n",
              "</div>"
            ],
            "text/plain": [
              "               year                        ...    checks                    \n",
              "               mean       std  amin  amax  ...      mean       std amin amax\n",
              "sex                                        ...                              \n",
              "Hombre  1999.517667  1.395177  1997  2002  ...  1.686807  1.540125    0    6\n",
              "Mujer   1999.419865  1.331744  1997  2002  ...  1.092551  1.421558    0    5\n",
              "\n",
              "[2 rows x 12 columns]"
            ]
          },
          "metadata": {
            "tags": []
          },
          "execution_count": 83
        }
      ]
    },
    {
      "cell_type": "markdown",
      "metadata": {
        "id": "S_EsZUXwjG18",
        "colab_type": "text"
      },
      "source": [
        "\n",
        "### Resumen de tablas\n",
        "\n",
        "Supongamos que queremos ver cómo se distribuyen las observaciones en nuestra muestra en el contexto de dos variables: `sex` y `checks`. Para hacerlo, podemos construir una  **tabla de contingencia** utilizando el método `crosstab`:\n"
      ]
    },
    {
      "cell_type": "code",
      "metadata": {
        "id": "7epkK7UkjG19",
        "colab_type": "code",
        "outputId": "a3438c75-46d3-43f1-9009-b14dbe4a4142",
        "colab": {
          "base_uri": "https://localhost:8080/",
          "height": 136
        }
      },
      "source": [
        "pd.crosstab(df['sex'], df['checks'])"
      ],
      "execution_count": 84,
      "outputs": [
        {
          "output_type": "execute_result",
          "data": {
            "text/html": [
              "<div>\n",
              "<style scoped>\n",
              "    .dataframe tbody tr th:only-of-type {\n",
              "        vertical-align: middle;\n",
              "    }\n",
              "\n",
              "    .dataframe tbody tr th {\n",
              "        vertical-align: top;\n",
              "    }\n",
              "\n",
              "    .dataframe thead th {\n",
              "        text-align: right;\n",
              "    }\n",
              "</style>\n",
              "<table border=\"1\" class=\"dataframe\">\n",
              "  <thead>\n",
              "    <tr style=\"text-align: right;\">\n",
              "      <th>checks</th>\n",
              "      <th>0</th>\n",
              "      <th>1</th>\n",
              "      <th>2</th>\n",
              "      <th>3</th>\n",
              "      <th>4</th>\n",
              "      <th>5</th>\n",
              "      <th>6</th>\n",
              "    </tr>\n",
              "    <tr>\n",
              "      <th>sex</th>\n",
              "      <th></th>\n",
              "      <th></th>\n",
              "      <th></th>\n",
              "      <th></th>\n",
              "      <th></th>\n",
              "      <th></th>\n",
              "      <th></th>\n",
              "    </tr>\n",
              "  </thead>\n",
              "  <tbody>\n",
              "    <tr>\n",
              "      <th>Hombre</th>\n",
              "      <td>1616</td>\n",
              "      <td>783</td>\n",
              "      <td>743</td>\n",
              "      <td>904</td>\n",
              "      <td>607</td>\n",
              "      <td>121</td>\n",
              "      <td>9</td>\n",
              "    </tr>\n",
              "    <tr>\n",
              "      <th>Mujer</th>\n",
              "      <td>235</td>\n",
              "      <td>71</td>\n",
              "      <td>46</td>\n",
              "      <td>49</td>\n",
              "      <td>36</td>\n",
              "      <td>6</td>\n",
              "      <td>0</td>\n",
              "    </tr>\n",
              "  </tbody>\n",
              "</table>\n",
              "</div>"
            ],
            "text/plain": [
              "checks     0    1    2    3    4    5  6\n",
              "sex                                     \n",
              "Hombre  1616  783  743  904  607  121  9\n",
              "Mujer    235   71   46   49   36    6  0"
            ]
          },
          "metadata": {
            "tags": []
          },
          "execution_count": 84
        }
      ]
    },
    {
      "cell_type": "code",
      "metadata": {
        "scrolled": true,
        "id": "O0Q9BtaajG2C",
        "colab_type": "code",
        "outputId": "a2207bf4-c49c-45ab-db42-c26babf26237",
        "colab": {
          "base_uri": "https://localhost:8080/",
          "height": 136
        }
      },
      "source": [
        "pd.crosstab(df['sex'], df['checks'], normalize=True)"
      ],
      "execution_count": 85,
      "outputs": [
        {
          "output_type": "execute_result",
          "data": {
            "text/html": [
              "<div>\n",
              "<style scoped>\n",
              "    .dataframe tbody tr th:only-of-type {\n",
              "        vertical-align: middle;\n",
              "    }\n",
              "\n",
              "    .dataframe tbody tr th {\n",
              "        vertical-align: top;\n",
              "    }\n",
              "\n",
              "    .dataframe thead th {\n",
              "        text-align: right;\n",
              "    }\n",
              "</style>\n",
              "<table border=\"1\" class=\"dataframe\">\n",
              "  <thead>\n",
              "    <tr style=\"text-align: right;\">\n",
              "      <th>checks</th>\n",
              "      <th>0</th>\n",
              "      <th>1</th>\n",
              "      <th>2</th>\n",
              "      <th>3</th>\n",
              "      <th>4</th>\n",
              "      <th>5</th>\n",
              "      <th>6</th>\n",
              "    </tr>\n",
              "    <tr>\n",
              "      <th>sex</th>\n",
              "      <th></th>\n",
              "      <th></th>\n",
              "      <th></th>\n",
              "      <th></th>\n",
              "      <th></th>\n",
              "      <th></th>\n",
              "      <th></th>\n",
              "    </tr>\n",
              "  </thead>\n",
              "  <tbody>\n",
              "    <tr>\n",
              "      <th>Hombre</th>\n",
              "      <td>0.309223</td>\n",
              "      <td>0.149828</td>\n",
              "      <td>0.142174</td>\n",
              "      <td>0.172981</td>\n",
              "      <td>0.116150</td>\n",
              "      <td>0.023153</td>\n",
              "      <td>0.001722</td>\n",
              "    </tr>\n",
              "    <tr>\n",
              "      <th>Mujer</th>\n",
              "      <td>0.044967</td>\n",
              "      <td>0.013586</td>\n",
              "      <td>0.008802</td>\n",
              "      <td>0.009376</td>\n",
              "      <td>0.006889</td>\n",
              "      <td>0.001148</td>\n",
              "      <td>0.000000</td>\n",
              "    </tr>\n",
              "  </tbody>\n",
              "</table>\n",
              "</div>"
            ],
            "text/plain": [
              "checks         0         1         2         3         4         5         6\n",
              "sex                                                                         \n",
              "Hombre  0.309223  0.149828  0.142174  0.172981  0.116150  0.023153  0.001722\n",
              "Mujer   0.044967  0.013586  0.008802  0.009376  0.006889  0.001148  0.000000"
            ]
          },
          "metadata": {
            "tags": []
          },
          "execution_count": 85
        }
      ]
    },
    {
      "cell_type": "markdown",
      "metadata": {
        "id": "gjKXYacWjG2G",
        "colab_type": "text"
      },
      "source": [
        "Esto se asemejará a las **tablas dinámicas** de Excel. Las tablas dinámicas se implementan en Pandas: el método `pivot_table` toma los siguientes parámetros:\n",
        "\n",
        "* `valores` - una lista de variables para calcular estadísticas para,\n",
        "* `index` - una lista de variables para agrupar datos por,\n",
        "* `aggfunc` - qué estadísticas necesitamos calcular para los grupos, ej. Suma, media, máxima, mínima o algo más.\n",
        "\n",
        "Veamos el número promedio de:"
      ]
    },
    {
      "cell_type": "code",
      "metadata": {
        "scrolled": true,
        "id": "qTk20WtQjG2H",
        "colab_type": "code",
        "outputId": "6ff148de-68dd-4a35-be79-58c9855484a9",
        "colab": {
          "base_uri": "https://localhost:8080/",
          "height": 136
        }
      },
      "source": [
        "df.pivot_table(['age', 'year', 'checks'], ['sex'], aggfunc='std')"
      ],
      "execution_count": 96,
      "outputs": [
        {
          "output_type": "execute_result",
          "data": {
            "text/html": [
              "<div>\n",
              "<style scoped>\n",
              "    .dataframe tbody tr th:only-of-type {\n",
              "        vertical-align: middle;\n",
              "    }\n",
              "\n",
              "    .dataframe tbody tr th {\n",
              "        vertical-align: top;\n",
              "    }\n",
              "\n",
              "    .dataframe thead th {\n",
              "        text-align: right;\n",
              "    }\n",
              "</style>\n",
              "<table border=\"1\" class=\"dataframe\">\n",
              "  <thead>\n",
              "    <tr style=\"text-align: right;\">\n",
              "      <th></th>\n",
              "      <th>age</th>\n",
              "      <th>checks</th>\n",
              "      <th>year</th>\n",
              "    </tr>\n",
              "    <tr>\n",
              "      <th>sex</th>\n",
              "      <th></th>\n",
              "      <th></th>\n",
              "      <th></th>\n",
              "    </tr>\n",
              "  </thead>\n",
              "  <tbody>\n",
              "    <tr>\n",
              "      <th>Hombre</th>\n",
              "      <td>8.289172</td>\n",
              "      <td>1.540125</td>\n",
              "      <td>1.395177</td>\n",
              "    </tr>\n",
              "    <tr>\n",
              "      <th>Mujer</th>\n",
              "      <td>8.605254</td>\n",
              "      <td>1.421558</td>\n",
              "      <td>1.331744</td>\n",
              "    </tr>\n",
              "  </tbody>\n",
              "</table>\n",
              "</div>"
            ],
            "text/plain": [
              "             age    checks      year\n",
              "sex                                 \n",
              "Hombre  8.289172  1.540125  1.395177\n",
              "Mujer   8.605254  1.421558  1.331744"
            ]
          },
          "metadata": {
            "tags": []
          },
          "execution_count": 96
        }
      ]
    },
    {
      "cell_type": "code",
      "metadata": {
        "id": "pck2xp6_dVO2",
        "colab_type": "code",
        "colab": {
          "base_uri": "https://localhost:8080/",
          "height": 284
        },
        "outputId": "d2060f82-807a-46b4-e24c-86bfb3042f4b"
      },
      "source": [
        "df.pivot_table(['age', 'year', 'sex'], ['checks'], aggfunc='mean')"
      ],
      "execution_count": 95,
      "outputs": [
        {
          "output_type": "execute_result",
          "data": {
            "text/html": [
              "<div>\n",
              "<style scoped>\n",
              "    .dataframe tbody tr th:only-of-type {\n",
              "        vertical-align: middle;\n",
              "    }\n",
              "\n",
              "    .dataframe tbody tr th {\n",
              "        vertical-align: top;\n",
              "    }\n",
              "\n",
              "    .dataframe thead th {\n",
              "        text-align: right;\n",
              "    }\n",
              "</style>\n",
              "<table border=\"1\" class=\"dataframe\">\n",
              "  <thead>\n",
              "    <tr style=\"text-align: right;\">\n",
              "      <th></th>\n",
              "      <th>age</th>\n",
              "      <th>year</th>\n",
              "    </tr>\n",
              "    <tr>\n",
              "      <th>checks</th>\n",
              "      <th></th>\n",
              "      <th></th>\n",
              "    </tr>\n",
              "  </thead>\n",
              "  <tbody>\n",
              "    <tr>\n",
              "      <th>0</th>\n",
              "      <td>7.562631</td>\n",
              "      <td>1.377502</td>\n",
              "    </tr>\n",
              "    <tr>\n",
              "      <th>1</th>\n",
              "      <td>8.100887</td>\n",
              "      <td>1.334287</td>\n",
              "    </tr>\n",
              "    <tr>\n",
              "      <th>2</th>\n",
              "      <td>8.595953</td>\n",
              "      <td>1.420801</td>\n",
              "    </tr>\n",
              "    <tr>\n",
              "      <th>3</th>\n",
              "      <td>9.248959</td>\n",
              "      <td>1.393933</td>\n",
              "    </tr>\n",
              "    <tr>\n",
              "      <th>4</th>\n",
              "      <td>7.815557</td>\n",
              "      <td>1.421754</td>\n",
              "    </tr>\n",
              "    <tr>\n",
              "      <th>5</th>\n",
              "      <td>8.359733</td>\n",
              "      <td>1.473382</td>\n",
              "    </tr>\n",
              "    <tr>\n",
              "      <th>6</th>\n",
              "      <td>8.062258</td>\n",
              "      <td>0.833333</td>\n",
              "    </tr>\n",
              "  </tbody>\n",
              "</table>\n",
              "</div>"
            ],
            "text/plain": [
              "             age      year\n",
              "checks                    \n",
              "0       7.562631  1.377502\n",
              "1       8.100887  1.334287\n",
              "2       8.595953  1.420801\n",
              "3       9.248959  1.393933\n",
              "4       7.815557  1.421754\n",
              "5       8.359733  1.473382\n",
              "6       8.062258  0.833333"
            ]
          },
          "metadata": {
            "tags": []
          },
          "execution_count": 95
        }
      ]
    },
    {
      "cell_type": "markdown",
      "metadata": {
        "id": "uHCApoy2jG2K",
        "colab_type": "text"
      },
      "source": [
        "\n",
        "### Transformaciones de DataFrame \n",
        "\n",
        "Como muchas otras cosas en Pandas, agregar columnas a un DataFrame se puede hacer de muchas maneras.\n",
        "\n",
        "Por ejemplo, si queremos calcular una cantidad de acuerdo a nuestros atributos, creamos la serie `formula` y la pegamos en el DataFrame:\n",
        "\n"
      ]
    },
    {
      "cell_type": "code",
      "metadata": {
        "id": "vXN9aN_WjG2L",
        "colab_type": "code",
        "outputId": "79466c0b-4e59-43f4-bccc-af5ce9a0d0db",
        "colab": {
          "base_uri": "https://localhost:8080/",
          "height": 195
        }
      },
      "source": [
        "formula = df['age'] * df['checks'] + df['year'] \n",
        "df.insert(loc=2, column='formula', value=formula) \n",
        "\n",
        "# El parametro loc es el numero de columnas despues de las cuales se inserta el objeto Series\n",
        "# Para pegarlo al final del marco de datos, lo configuramos como loc=len(df.columns)\n",
        "\n",
        "df.head()"
      ],
      "execution_count": 100,
      "outputs": [
        {
          "output_type": "execute_result",
          "data": {
            "text/html": [
              "<div>\n",
              "<style scoped>\n",
              "    .dataframe tbody tr th:only-of-type {\n",
              "        vertical-align: middle;\n",
              "    }\n",
              "\n",
              "    .dataframe tbody tr th {\n",
              "        vertical-align: top;\n",
              "    }\n",
              "\n",
              "    .dataframe thead th {\n",
              "        text-align: right;\n",
              "    }\n",
              "</style>\n",
              "<table border=\"1\" class=\"dataframe\">\n",
              "  <thead>\n",
              "    <tr style=\"text-align: right;\">\n",
              "      <th></th>\n",
              "      <th>Unnamed: 0</th>\n",
              "      <th>released</th>\n",
              "      <th>formula</th>\n",
              "      <th>colour</th>\n",
              "      <th>year</th>\n",
              "      <th>age</th>\n",
              "      <th>sex</th>\n",
              "      <th>employed</th>\n",
              "      <th>citizen</th>\n",
              "      <th>checks</th>\n",
              "    </tr>\n",
              "  </thead>\n",
              "  <tbody>\n",
              "    <tr>\n",
              "      <th>0</th>\n",
              "      <td>1</td>\n",
              "      <td>True</td>\n",
              "      <td>2065</td>\n",
              "      <td>White</td>\n",
              "      <td>2002</td>\n",
              "      <td>21</td>\n",
              "      <td>Hombre</td>\n",
              "      <td>True</td>\n",
              "      <td>Yes</td>\n",
              "      <td>3</td>\n",
              "    </tr>\n",
              "    <tr>\n",
              "      <th>1</th>\n",
              "      <td>2</td>\n",
              "      <td>True</td>\n",
              "      <td>2050</td>\n",
              "      <td>Black</td>\n",
              "      <td>1999</td>\n",
              "      <td>17</td>\n",
              "      <td>Hombre</td>\n",
              "      <td>True</td>\n",
              "      <td>Yes</td>\n",
              "      <td>3</td>\n",
              "    </tr>\n",
              "    <tr>\n",
              "      <th>2</th>\n",
              "      <td>3</td>\n",
              "      <td>True</td>\n",
              "      <td>2072</td>\n",
              "      <td>White</td>\n",
              "      <td>2000</td>\n",
              "      <td>24</td>\n",
              "      <td>Hombre</td>\n",
              "      <td>True</td>\n",
              "      <td>Yes</td>\n",
              "      <td>3</td>\n",
              "    </tr>\n",
              "    <tr>\n",
              "      <th>3</th>\n",
              "      <td>4</td>\n",
              "      <td>True</td>\n",
              "      <td>2046</td>\n",
              "      <td>Black</td>\n",
              "      <td>2000</td>\n",
              "      <td>46</td>\n",
              "      <td>Hombre</td>\n",
              "      <td>True</td>\n",
              "      <td>Yes</td>\n",
              "      <td>1</td>\n",
              "    </tr>\n",
              "    <tr>\n",
              "      <th>4</th>\n",
              "      <td>5</td>\n",
              "      <td>True</td>\n",
              "      <td>2026</td>\n",
              "      <td>Black</td>\n",
              "      <td>1999</td>\n",
              "      <td>27</td>\n",
              "      <td>Mujer</td>\n",
              "      <td>True</td>\n",
              "      <td>Yes</td>\n",
              "      <td>1</td>\n",
              "    </tr>\n",
              "  </tbody>\n",
              "</table>\n",
              "</div>"
            ],
            "text/plain": [
              "   Unnamed: 0  released  formula colour  ...     sex  employed citizen  checks\n",
              "0           1      True     2065  White  ...  Hombre      True     Yes       3\n",
              "1           2      True     2050  Black  ...  Hombre      True     Yes       3\n",
              "2           3      True     2072  White  ...  Hombre      True     Yes       3\n",
              "3           4      True     2046  Black  ...  Hombre      True     Yes       1\n",
              "4           5      True     2026  Black  ...   Mujer      True     Yes       1\n",
              "\n",
              "[5 rows x 10 columns]"
            ]
          },
          "metadata": {
            "tags": []
          },
          "execution_count": 100
        }
      ]
    },
    {
      "cell_type": "markdown",
      "metadata": {
        "id": "i9G-5mFCjG2O",
        "colab_type": "text"
      },
      "source": [
        "Es posible agregar una columna sin crear una instancia Serie intermedia:"
      ]
    },
    {
      "cell_type": "code",
      "metadata": {
        "id": "BoI-tSPXjG2O",
        "colab_type": "code",
        "outputId": "b4283ec7-2e7b-45bc-df95-1d09d517300f",
        "colab": {
          "base_uri": "https://localhost:8080/",
          "height": 195
        }
      },
      "source": [
        "df['Total'] = 0.5*df['formula'] + df['age'] + df['checks'] \n",
        "df.head()"
      ],
      "execution_count": 101,
      "outputs": [
        {
          "output_type": "execute_result",
          "data": {
            "text/html": [
              "<div>\n",
              "<style scoped>\n",
              "    .dataframe tbody tr th:only-of-type {\n",
              "        vertical-align: middle;\n",
              "    }\n",
              "\n",
              "    .dataframe tbody tr th {\n",
              "        vertical-align: top;\n",
              "    }\n",
              "\n",
              "    .dataframe thead th {\n",
              "        text-align: right;\n",
              "    }\n",
              "</style>\n",
              "<table border=\"1\" class=\"dataframe\">\n",
              "  <thead>\n",
              "    <tr style=\"text-align: right;\">\n",
              "      <th></th>\n",
              "      <th>Unnamed: 0</th>\n",
              "      <th>released</th>\n",
              "      <th>formula</th>\n",
              "      <th>colour</th>\n",
              "      <th>year</th>\n",
              "      <th>age</th>\n",
              "      <th>sex</th>\n",
              "      <th>employed</th>\n",
              "      <th>citizen</th>\n",
              "      <th>checks</th>\n",
              "      <th>Total</th>\n",
              "    </tr>\n",
              "  </thead>\n",
              "  <tbody>\n",
              "    <tr>\n",
              "      <th>0</th>\n",
              "      <td>1</td>\n",
              "      <td>True</td>\n",
              "      <td>2065</td>\n",
              "      <td>White</td>\n",
              "      <td>2002</td>\n",
              "      <td>21</td>\n",
              "      <td>Hombre</td>\n",
              "      <td>True</td>\n",
              "      <td>Yes</td>\n",
              "      <td>3</td>\n",
              "      <td>1056.5</td>\n",
              "    </tr>\n",
              "    <tr>\n",
              "      <th>1</th>\n",
              "      <td>2</td>\n",
              "      <td>True</td>\n",
              "      <td>2050</td>\n",
              "      <td>Black</td>\n",
              "      <td>1999</td>\n",
              "      <td>17</td>\n",
              "      <td>Hombre</td>\n",
              "      <td>True</td>\n",
              "      <td>Yes</td>\n",
              "      <td>3</td>\n",
              "      <td>1045.0</td>\n",
              "    </tr>\n",
              "    <tr>\n",
              "      <th>2</th>\n",
              "      <td>3</td>\n",
              "      <td>True</td>\n",
              "      <td>2072</td>\n",
              "      <td>White</td>\n",
              "      <td>2000</td>\n",
              "      <td>24</td>\n",
              "      <td>Hombre</td>\n",
              "      <td>True</td>\n",
              "      <td>Yes</td>\n",
              "      <td>3</td>\n",
              "      <td>1063.0</td>\n",
              "    </tr>\n",
              "    <tr>\n",
              "      <th>3</th>\n",
              "      <td>4</td>\n",
              "      <td>True</td>\n",
              "      <td>2046</td>\n",
              "      <td>Black</td>\n",
              "      <td>2000</td>\n",
              "      <td>46</td>\n",
              "      <td>Hombre</td>\n",
              "      <td>True</td>\n",
              "      <td>Yes</td>\n",
              "      <td>1</td>\n",
              "      <td>1070.0</td>\n",
              "    </tr>\n",
              "    <tr>\n",
              "      <th>4</th>\n",
              "      <td>5</td>\n",
              "      <td>True</td>\n",
              "      <td>2026</td>\n",
              "      <td>Black</td>\n",
              "      <td>1999</td>\n",
              "      <td>27</td>\n",
              "      <td>Mujer</td>\n",
              "      <td>True</td>\n",
              "      <td>Yes</td>\n",
              "      <td>1</td>\n",
              "      <td>1041.0</td>\n",
              "    </tr>\n",
              "  </tbody>\n",
              "</table>\n",
              "</div>"
            ],
            "text/plain": [
              "   Unnamed: 0  released  formula colour  ...  employed  citizen checks   Total\n",
              "0           1      True     2065  White  ...      True      Yes      3  1056.5\n",
              "1           2      True     2050  Black  ...      True      Yes      3  1045.0\n",
              "2           3      True     2072  White  ...      True      Yes      3  1063.0\n",
              "3           4      True     2046  Black  ...      True      Yes      1  1070.0\n",
              "4           5      True     2026  Black  ...      True      Yes      1  1041.0\n",
              "\n",
              "[5 rows x 11 columns]"
            ]
          },
          "metadata": {
            "tags": []
          },
          "execution_count": 101
        }
      ]
    },
    {
      "cell_type": "markdown",
      "metadata": {
        "id": "fQlNhKM6jG2Q",
        "colab_type": "text"
      },
      "source": [
        "Para eliminar columnas o filas, use el método `drop`, pasando los índices requeridos y el parámetro `axis` (`1` si elimina columnas, y nada o `0` si elimina filas). El argumento `inplace` indica si se debe cambiar el DataFrame original. Con `inplace=False`, el método `drop` no cambia el DataFrame existente y devuelve uno nuevo con filas o columnas eliminadas. Con `inplace=True`, altera el DataFrame."
      ]
    },
    {
      "cell_type": "code",
      "metadata": {
        "id": "X2AoJ69WjG2R",
        "colab_type": "code",
        "outputId": "6f723c29-57d8-434a-f381-19f7b5026008",
        "colab": {
          "base_uri": "https://localhost:8080/",
          "height": 195
        }
      },
      "source": [
        "# deshacerse de las columnas recien creadas\n",
        "df.drop(['Total', 'formula'], axis=1, inplace=True) \n",
        "df.drop([1, 2]).head() "
      ],
      "execution_count": 104,
      "outputs": [
        {
          "output_type": "execute_result",
          "data": {
            "text/html": [
              "<div>\n",
              "<style scoped>\n",
              "    .dataframe tbody tr th:only-of-type {\n",
              "        vertical-align: middle;\n",
              "    }\n",
              "\n",
              "    .dataframe tbody tr th {\n",
              "        vertical-align: top;\n",
              "    }\n",
              "\n",
              "    .dataframe thead th {\n",
              "        text-align: right;\n",
              "    }\n",
              "</style>\n",
              "<table border=\"1\" class=\"dataframe\">\n",
              "  <thead>\n",
              "    <tr style=\"text-align: right;\">\n",
              "      <th></th>\n",
              "      <th>Unnamed: 0</th>\n",
              "      <th>released</th>\n",
              "      <th>colour</th>\n",
              "      <th>year</th>\n",
              "      <th>age</th>\n",
              "      <th>sex</th>\n",
              "      <th>employed</th>\n",
              "      <th>citizen</th>\n",
              "      <th>checks</th>\n",
              "    </tr>\n",
              "  </thead>\n",
              "  <tbody>\n",
              "    <tr>\n",
              "      <th>0</th>\n",
              "      <td>1</td>\n",
              "      <td>True</td>\n",
              "      <td>White</td>\n",
              "      <td>2002</td>\n",
              "      <td>21</td>\n",
              "      <td>Hombre</td>\n",
              "      <td>True</td>\n",
              "      <td>Yes</td>\n",
              "      <td>3</td>\n",
              "    </tr>\n",
              "    <tr>\n",
              "      <th>3</th>\n",
              "      <td>4</td>\n",
              "      <td>True</td>\n",
              "      <td>Black</td>\n",
              "      <td>2000</td>\n",
              "      <td>46</td>\n",
              "      <td>Hombre</td>\n",
              "      <td>True</td>\n",
              "      <td>Yes</td>\n",
              "      <td>1</td>\n",
              "    </tr>\n",
              "    <tr>\n",
              "      <th>4</th>\n",
              "      <td>5</td>\n",
              "      <td>True</td>\n",
              "      <td>Black</td>\n",
              "      <td>1999</td>\n",
              "      <td>27</td>\n",
              "      <td>Mujer</td>\n",
              "      <td>True</td>\n",
              "      <td>Yes</td>\n",
              "      <td>1</td>\n",
              "    </tr>\n",
              "    <tr>\n",
              "      <th>5</th>\n",
              "      <td>6</td>\n",
              "      <td>True</td>\n",
              "      <td>Black</td>\n",
              "      <td>1998</td>\n",
              "      <td>16</td>\n",
              "      <td>Mujer</td>\n",
              "      <td>True</td>\n",
              "      <td>Yes</td>\n",
              "      <td>0</td>\n",
              "    </tr>\n",
              "    <tr>\n",
              "      <th>6</th>\n",
              "      <td>7</td>\n",
              "      <td>True</td>\n",
              "      <td>White</td>\n",
              "      <td>1999</td>\n",
              "      <td>40</td>\n",
              "      <td>Hombre</td>\n",
              "      <td>True</td>\n",
              "      <td>Yes</td>\n",
              "      <td>0</td>\n",
              "    </tr>\n",
              "  </tbody>\n",
              "</table>\n",
              "</div>"
            ],
            "text/plain": [
              "   Unnamed: 0  released colour  year  age     sex  employed citizen  checks\n",
              "0           1      True  White  2002   21  Hombre      True     Yes       3\n",
              "3           4      True  Black  2000   46  Hombre      True     Yes       1\n",
              "4           5      True  Black  1999   27   Mujer      True     Yes       1\n",
              "5           6      True  Black  1998   16   Mujer      True     Yes       0\n",
              "6           7      True  White  1999   40  Hombre      True     Yes       0"
            ]
          },
          "metadata": {
            "tags": []
          },
          "execution_count": 104
        }
      ]
    },
    {
      "cell_type": "markdown",
      "metadata": {
        "id": "56O_vPTWjG2T",
        "colab_type": "text"
      },
      "source": [
        "## 2. Tablas de contingencia y Visualizacion\n",
        "\n",
        "Veamos cómo se relaciona el sex con la función *Checks*. \n",
        "\n",
        "Haremos esto utilizando una tabla de contingencia de la tabla de referencias cruzadas y también a través del análisis visual con \"Seaborn\""
      ]
    },
    {
      "cell_type": "code",
      "metadata": {
        "id": "dXpWEB-FjG2T",
        "colab_type": "code",
        "outputId": "b1bf4f88-17bd-4ae8-89c8-df95862610da",
        "colab": {
          "base_uri": "https://localhost:8080/",
          "height": 166
        }
      },
      "source": [
        "pd.crosstab(df['sex'], df['checks'], margins=True)"
      ],
      "execution_count": 105,
      "outputs": [
        {
          "output_type": "execute_result",
          "data": {
            "text/html": [
              "<div>\n",
              "<style scoped>\n",
              "    .dataframe tbody tr th:only-of-type {\n",
              "        vertical-align: middle;\n",
              "    }\n",
              "\n",
              "    .dataframe tbody tr th {\n",
              "        vertical-align: top;\n",
              "    }\n",
              "\n",
              "    .dataframe thead th {\n",
              "        text-align: right;\n",
              "    }\n",
              "</style>\n",
              "<table border=\"1\" class=\"dataframe\">\n",
              "  <thead>\n",
              "    <tr style=\"text-align: right;\">\n",
              "      <th>checks</th>\n",
              "      <th>0</th>\n",
              "      <th>1</th>\n",
              "      <th>2</th>\n",
              "      <th>3</th>\n",
              "      <th>4</th>\n",
              "      <th>5</th>\n",
              "      <th>6</th>\n",
              "      <th>All</th>\n",
              "    </tr>\n",
              "    <tr>\n",
              "      <th>sex</th>\n",
              "      <th></th>\n",
              "      <th></th>\n",
              "      <th></th>\n",
              "      <th></th>\n",
              "      <th></th>\n",
              "      <th></th>\n",
              "      <th></th>\n",
              "      <th></th>\n",
              "    </tr>\n",
              "  </thead>\n",
              "  <tbody>\n",
              "    <tr>\n",
              "      <th>Hombre</th>\n",
              "      <td>1616</td>\n",
              "      <td>783</td>\n",
              "      <td>743</td>\n",
              "      <td>904</td>\n",
              "      <td>607</td>\n",
              "      <td>121</td>\n",
              "      <td>9</td>\n",
              "      <td>4783</td>\n",
              "    </tr>\n",
              "    <tr>\n",
              "      <th>Mujer</th>\n",
              "      <td>235</td>\n",
              "      <td>71</td>\n",
              "      <td>46</td>\n",
              "      <td>49</td>\n",
              "      <td>36</td>\n",
              "      <td>6</td>\n",
              "      <td>0</td>\n",
              "      <td>443</td>\n",
              "    </tr>\n",
              "    <tr>\n",
              "      <th>All</th>\n",
              "      <td>1851</td>\n",
              "      <td>854</td>\n",
              "      <td>789</td>\n",
              "      <td>953</td>\n",
              "      <td>643</td>\n",
              "      <td>127</td>\n",
              "      <td>9</td>\n",
              "      <td>5226</td>\n",
              "    </tr>\n",
              "  </tbody>\n",
              "</table>\n",
              "</div>"
            ],
            "text/plain": [
              "checks     0    1    2    3    4    5  6   All\n",
              "sex                                           \n",
              "Hombre  1616  783  743  904  607  121  9  4783\n",
              "Mujer    235   71   46   49   36    6  0   443\n",
              "All     1851  854  789  953  643  127  9  5226"
            ]
          },
          "metadata": {
            "tags": []
          },
          "execution_count": 105
        }
      ]
    },
    {
      "cell_type": "code",
      "metadata": {
        "id": "f9D7nFAGjG2W",
        "colab_type": "code",
        "colab": {}
      },
      "source": [
        "# imports to set up plotting \n",
        "import matplotlib.pyplot as plt\n",
        "# !pip install seaborn \n",
        "import seaborn as sns"
      ],
      "execution_count": 0,
      "outputs": []
    },
    {
      "cell_type": "code",
      "metadata": {
        "id": "wJveGBQwjG2Y",
        "colab_type": "code",
        "outputId": "46f2734d-55f9-4768-8c58-c234c9cd6c50",
        "colab": {
          "base_uri": "https://localhost:8080/",
          "height": 283
        }
      },
      "source": [
        "sns.countplot(x='colour', hue='checks', data=df);"
      ],
      "execution_count": 107,
      "outputs": [
        {
          "output_type": "display_data",
          "data": {
            "image/png": "[encoded data removed]",
            "text/plain": [
              "<Figure size 432x288 with 1 Axes>"
            ]
          },
          "metadata": {
            "tags": []
          }
        }
      ]
    },
    {
      "cell_type": "markdown",
      "metadata": {
        "id": "RiZGYuADjG2a",
        "colab_type": "text"
      },
      "source": [
        "similarmente"
      ]
    },
    {
      "cell_type": "code",
      "metadata": {
        "id": "B9rULjAwjG2d",
        "colab_type": "code",
        "outputId": "65346695-c2c5-4740-dff4-6e740551ad97",
        "colab": {
          "base_uri": "https://localhost:8080/",
          "height": 283
        }
      },
      "source": [
        "sns.countplot(x='year', hue='checks', data=df);"
      ],
      "execution_count": 108,
      "outputs": [
        {
          "output_type": "display_data",
          "data": {
            "image/png": "[encoded data removed]",
            "text/plain": [
              "<Figure size 432x288 with 1 Axes>"
            ]
          },
          "metadata": {
            "tags": []
          }
        }
      ]
    },
    {
      "cell_type": "markdown",
      "metadata": {
        "id": "6Z7wpirSjG2f",
        "colab_type": "text"
      },
      "source": [
        "Ahora agreguemos una función binaria a nuestro Marco de datos: `More than one> 1`. Y una vez más, veamos cómo se relaciona con checks."
      ]
    },
    {
      "cell_type": "code",
      "metadata": {
        "id": "U-XfDGZMjG2f",
        "colab_type": "code",
        "outputId": "a2d5c56e-ce8c-4864-9a68-18d22d828f09",
        "colab": {
          "base_uri": "https://localhost:8080/",
          "height": 166
        }
      },
      "source": [
        "#df['More than one'] = (df['checks'] > 1).astype('int')\n",
        "df['More than one'] = (df['checks'] > 1)\n",
        "\n",
        "pd.crosstab(df['More than one'], df['checks'], margins=True)"
      ],
      "execution_count": 109,
      "outputs": [
        {
          "output_type": "execute_result",
          "data": {
            "text/html": [
              "<div>\n",
              "<style scoped>\n",
              "    .dataframe tbody tr th:only-of-type {\n",
              "        vertical-align: middle;\n",
              "    }\n",
              "\n",
              "    .dataframe tbody tr th {\n",
              "        vertical-align: top;\n",
              "    }\n",
              "\n",
              "    .dataframe thead th {\n",
              "        text-align: right;\n",
              "    }\n",
              "</style>\n",
              "<table border=\"1\" class=\"dataframe\">\n",
              "  <thead>\n",
              "    <tr style=\"text-align: right;\">\n",
              "      <th>checks</th>\n",
              "      <th>0</th>\n",
              "      <th>1</th>\n",
              "      <th>2</th>\n",
              "      <th>3</th>\n",
              "      <th>4</th>\n",
              "      <th>5</th>\n",
              "      <th>6</th>\n",
              "      <th>All</th>\n",
              "    </tr>\n",
              "    <tr>\n",
              "      <th>More than one</th>\n",
              "      <th></th>\n",
              "      <th></th>\n",
              "      <th></th>\n",
              "      <th></th>\n",
              "      <th></th>\n",
              "      <th></th>\n",
              "      <th></th>\n",
              "      <th></th>\n",
              "    </tr>\n",
              "  </thead>\n",
              "  <tbody>\n",
              "    <tr>\n",
              "      <th>False</th>\n",
              "      <td>1851</td>\n",
              "      <td>854</td>\n",
              "      <td>0</td>\n",
              "      <td>0</td>\n",
              "      <td>0</td>\n",
              "      <td>0</td>\n",
              "      <td>0</td>\n",
              "      <td>2705</td>\n",
              "    </tr>\n",
              "    <tr>\n",
              "      <th>True</th>\n",
              "      <td>0</td>\n",
              "      <td>0</td>\n",
              "      <td>789</td>\n",
              "      <td>953</td>\n",
              "      <td>643</td>\n",
              "      <td>127</td>\n",
              "      <td>9</td>\n",
              "      <td>2521</td>\n",
              "    </tr>\n",
              "    <tr>\n",
              "      <th>All</th>\n",
              "      <td>1851</td>\n",
              "      <td>854</td>\n",
              "      <td>789</td>\n",
              "      <td>953</td>\n",
              "      <td>643</td>\n",
              "      <td>127</td>\n",
              "      <td>9</td>\n",
              "      <td>5226</td>\n",
              "    </tr>\n",
              "  </tbody>\n",
              "</table>\n",
              "</div>"
            ],
            "text/plain": [
              "checks            0    1    2    3    4    5  6   All\n",
              "More than one                                        \n",
              "False          1851  854    0    0    0    0  0  2705\n",
              "True              0    0  789  953  643  127  9  2521\n",
              "All            1851  854  789  953  643  127  9  5226"
            ]
          },
          "metadata": {
            "tags": []
          },
          "execution_count": 109
        }
      ]
    },
    {
      "cell_type": "code",
      "metadata": {
        "id": "xYKVeAPajG2q",
        "colab_type": "code",
        "outputId": "e6b77300-fe90-47cb-c113-6bb50d25deb3",
        "colab": {
          "base_uri": "https://localhost:8080/",
          "height": 283
        }
      },
      "source": [
        "sns.countplot(x='More than one', hue='checks', data=df);"
      ],
      "execution_count": 112,
      "outputs": [
        {
          "output_type": "display_data",
          "data": {
            "image/png": "[encoded data removed]",
            "text/plain": [
              "<Figure size 432x288 with 1 Axes>"
            ]
          },
          "metadata": {
            "tags": []
          }
        }
      ]
    },
    {
      "cell_type": "markdown",
      "metadata": {
        "id": "e0nsjCd0jG2t",
        "colab_type": "text"
      },
      "source": [
        "Construyamos otra tabla de contingencia que relacione *sex* con *More than one* y con * checks* recién creados.\n",
        "\n"
      ]
    },
    {
      "cell_type": "code",
      "metadata": {
        "id": "5-gZ3AYhjG2u",
        "colab_type": "code",
        "outputId": "8e50660f-a519-4003-a0be-65a43500b8a6",
        "colab": {
          "base_uri": "https://localhost:8080/",
          "height": 136
        }
      },
      "source": [
        "pd.crosstab(df['More than one'] & df['sex'] , df['checks'])"
      ],
      "execution_count": 113,
      "outputs": [
        {
          "output_type": "execute_result",
          "data": {
            "text/html": [
              "<div>\n",
              "<style scoped>\n",
              "    .dataframe tbody tr th:only-of-type {\n",
              "        vertical-align: middle;\n",
              "    }\n",
              "\n",
              "    .dataframe tbody tr th {\n",
              "        vertical-align: top;\n",
              "    }\n",
              "\n",
              "    .dataframe thead th {\n",
              "        text-align: right;\n",
              "    }\n",
              "</style>\n",
              "<table border=\"1\" class=\"dataframe\">\n",
              "  <thead>\n",
              "    <tr style=\"text-align: right;\">\n",
              "      <th>checks</th>\n",
              "      <th>0</th>\n",
              "      <th>1</th>\n",
              "      <th>2</th>\n",
              "      <th>3</th>\n",
              "      <th>4</th>\n",
              "      <th>5</th>\n",
              "      <th>6</th>\n",
              "    </tr>\n",
              "    <tr>\n",
              "      <th>row_0</th>\n",
              "      <th></th>\n",
              "      <th></th>\n",
              "      <th></th>\n",
              "      <th></th>\n",
              "      <th></th>\n",
              "      <th></th>\n",
              "      <th></th>\n",
              "    </tr>\n",
              "  </thead>\n",
              "  <tbody>\n",
              "    <tr>\n",
              "      <th>False</th>\n",
              "      <td>1851</td>\n",
              "      <td>854</td>\n",
              "      <td>0</td>\n",
              "      <td>0</td>\n",
              "      <td>0</td>\n",
              "      <td>0</td>\n",
              "      <td>0</td>\n",
              "    </tr>\n",
              "    <tr>\n",
              "      <th>True</th>\n",
              "      <td>0</td>\n",
              "      <td>0</td>\n",
              "      <td>789</td>\n",
              "      <td>953</td>\n",
              "      <td>643</td>\n",
              "      <td>127</td>\n",
              "      <td>9</td>\n",
              "    </tr>\n",
              "  </tbody>\n",
              "</table>\n",
              "</div>"
            ],
            "text/plain": [
              "checks     0    1    2    3    4    5  6\n",
              "row_0                                   \n",
              "False   1851  854    0    0    0    0  0\n",
              "True       0    0  789  953  643  127  9"
            ]
          },
          "metadata": {
            "tags": []
          },
          "execution_count": 113
        }
      ]
    },
    {
      "cell_type": "markdown",
      "metadata": {
        "id": "EBttfN7UjG2x",
        "colab_type": "text"
      },
      "source": [
        "A medida que avanzamos en este curso, recuerde que, antes del advenimiento del aprendizaje automático, el proceso de análisis de datos se parecía a esto. Vamos a resumir lo que hemos cubierto:\n",
        "     \n",
        "- Conseguimos estas dos líneas de base sin aplicar el aprendizaje automático, y servirán como punto de partida para nuestros modelos posteriores. Si resulta que con un esfuerzo enorme, aumentamos la proporción de respuestas correctas en un 0,5% per se, entonces posiblemente estamos haciendo algo mal y basta con limitarnos a un modelo simple con dos condiciones;\n",
        "- Antes de entrenar modelos complejos, se recomienda manipular un poco los datos, hacer algunos gráficos y verificar suposiciones simples. Además, en las aplicaciones empresariales de aprendizaje automático, generalmente comienzan con soluciones simples y luego experimentan con soluciones más complejas.\n",
        "\n",
        "## 3. Tarea\n",
        "\n",
        "En esta tarea, debe usar Pandas para responder algunas preguntas sobre el  [dataset](https://archive.ics.uci.edu/ml/datasets/Adult) que contiene datos sociodemográficos\n",
        "\n",
        "Escriba el codigo que da la respuesta."
      ]
    },
    {
      "cell_type": "code",
      "metadata": {
        "id": "YuAZAj2l9Cbr",
        "colab_type": "code",
        "colab": {
          "base_uri": "https://localhost:8080/",
          "height": 195
        },
        "outputId": "3afabbdb-3a35-4b4a-b793-5ef1eaa29e42"
      },
      "source": [
        "#codigo\n",
        "import pandas as pd\n",
        "url = 'https://raw.githubusercontent.com/PCL-AI/MT616_2019_1/master/Lab02/adult.csv'\n",
        "data = pd.read_csv(url)\n",
        "data.head()"
      ],
      "execution_count": 114,
      "outputs": [
        {
          "output_type": "execute_result",
          "data": {
            "text/html": [
              "<div>\n",
              "<style scoped>\n",
              "    .dataframe tbody tr th:only-of-type {\n",
              "        vertical-align: middle;\n",
              "    }\n",
              "\n",
              "    .dataframe tbody tr th {\n",
              "        vertical-align: top;\n",
              "    }\n",
              "\n",
              "    .dataframe thead th {\n",
              "        text-align: right;\n",
              "    }\n",
              "</style>\n",
              "<table border=\"1\" class=\"dataframe\">\n",
              "  <thead>\n",
              "    <tr style=\"text-align: right;\">\n",
              "      <th></th>\n",
              "      <th>39</th>\n",
              "      <th>State-gov</th>\n",
              "      <th>77516</th>\n",
              "      <th>Bachelors</th>\n",
              "      <th>13</th>\n",
              "      <th>Never-married</th>\n",
              "      <th>Adm-clerical</th>\n",
              "      <th>Not-in-family</th>\n",
              "      <th>White</th>\n",
              "      <th>Male</th>\n",
              "      <th>2174</th>\n",
              "      <th>0</th>\n",
              "      <th>40</th>\n",
              "      <th>United-States</th>\n",
              "      <th>&lt;=50K</th>\n",
              "    </tr>\n",
              "  </thead>\n",
              "  <tbody>\n",
              "    <tr>\n",
              "      <th>0</th>\n",
              "      <td>50</td>\n",
              "      <td>Self-emp-not-inc</td>\n",
              "      <td>83311</td>\n",
              "      <td>Bachelors</td>\n",
              "      <td>13</td>\n",
              "      <td>Married-civ-spouse</td>\n",
              "      <td>Exec-managerial</td>\n",
              "      <td>Husband</td>\n",
              "      <td>White</td>\n",
              "      <td>Male</td>\n",
              "      <td>0</td>\n",
              "      <td>0</td>\n",
              "      <td>13</td>\n",
              "      <td>United-States</td>\n",
              "      <td>&lt;=50K</td>\n",
              "    </tr>\n",
              "    <tr>\n",
              "      <th>1</th>\n",
              "      <td>38</td>\n",
              "      <td>Private</td>\n",
              "      <td>215646</td>\n",
              "      <td>HS-grad</td>\n",
              "      <td>9</td>\n",
              "      <td>Divorced</td>\n",
              "      <td>Handlers-cleaners</td>\n",
              "      <td>Not-in-family</td>\n",
              "      <td>White</td>\n",
              "      <td>Male</td>\n",
              "      <td>0</td>\n",
              "      <td>0</td>\n",
              "      <td>40</td>\n",
              "      <td>United-States</td>\n",
              "      <td>&lt;=50K</td>\n",
              "    </tr>\n",
              "    <tr>\n",
              "      <th>2</th>\n",
              "      <td>53</td>\n",
              "      <td>Private</td>\n",
              "      <td>234721</td>\n",
              "      <td>11th</td>\n",
              "      <td>7</td>\n",
              "      <td>Married-civ-spouse</td>\n",
              "      <td>Handlers-cleaners</td>\n",
              "      <td>Husband</td>\n",
              "      <td>Black</td>\n",
              "      <td>Male</td>\n",
              "      <td>0</td>\n",
              "      <td>0</td>\n",
              "      <td>40</td>\n",
              "      <td>United-States</td>\n",
              "      <td>&lt;=50K</td>\n",
              "    </tr>\n",
              "    <tr>\n",
              "      <th>3</th>\n",
              "      <td>28</td>\n",
              "      <td>Private</td>\n",
              "      <td>338409</td>\n",
              "      <td>Bachelors</td>\n",
              "      <td>13</td>\n",
              "      <td>Married-civ-spouse</td>\n",
              "      <td>Prof-specialty</td>\n",
              "      <td>Wife</td>\n",
              "      <td>Black</td>\n",
              "      <td>Female</td>\n",
              "      <td>0</td>\n",
              "      <td>0</td>\n",
              "      <td>40</td>\n",
              "      <td>Cuba</td>\n",
              "      <td>&lt;=50K</td>\n",
              "    </tr>\n",
              "    <tr>\n",
              "      <th>4</th>\n",
              "      <td>37</td>\n",
              "      <td>Private</td>\n",
              "      <td>284582</td>\n",
              "      <td>Masters</td>\n",
              "      <td>14</td>\n",
              "      <td>Married-civ-spouse</td>\n",
              "      <td>Exec-managerial</td>\n",
              "      <td>Wife</td>\n",
              "      <td>White</td>\n",
              "      <td>Female</td>\n",
              "      <td>0</td>\n",
              "      <td>0</td>\n",
              "      <td>40</td>\n",
              "      <td>United-States</td>\n",
              "      <td>&lt;=50K</td>\n",
              "    </tr>\n",
              "  </tbody>\n",
              "</table>\n",
              "</div>"
            ],
            "text/plain": [
              "   39          State-gov   77516   Bachelors  ...   0  40   United-States   <=50K\n",
              "0  50   Self-emp-not-inc   83311   Bachelors  ...   0  13   United-States   <=50K\n",
              "1  38            Private  215646     HS-grad  ...   0  40   United-States   <=50K\n",
              "2  53            Private  234721        11th  ...   0  40   United-States   <=50K\n",
              "3  28            Private  338409   Bachelors  ...   0  40            Cuba   <=50K\n",
              "4  37            Private  284582     Masters  ...   0  40   United-States   <=50K\n",
              "\n",
              "[5 rows x 15 columns]"
            ]
          },
          "metadata": {
            "tags": []
          },
          "execution_count": 114
        }
      ]
    },
    {
      "cell_type": "markdown",
      "metadata": {
        "id": "mky-j4rx8THm",
        "colab_type": "text"
      },
      "source": [
        "**1.   ¿Cuántos hombres y mujeres están representados en este conjunto de datos?**\n",
        "\n",
        "\n",
        "\n"
      ]
    },
    {
      "cell_type": "code",
      "metadata": {
        "id": "T07HMEVf9yhX",
        "colab_type": "code",
        "colab": {}
      },
      "source": [
        "#codigo"
      ],
      "execution_count": 0,
      "outputs": []
    },
    {
      "cell_type": "markdown",
      "metadata": {
        "id": "7Tu6EFWr9zlI",
        "colab_type": "text"
      },
      "source": [
        "\n",
        "\n",
        "**2.   ¿Cuál es la edad promedio de las mujeres?**\n",
        "\n",
        "\n",
        "\n",
        "\n",
        "\n",
        "\n"
      ]
    },
    {
      "cell_type": "code",
      "metadata": {
        "id": "383994cU-dQG",
        "colab_type": "code",
        "colab": {}
      },
      "source": [
        "#codigo"
      ],
      "execution_count": 0,
      "outputs": []
    },
    {
      "cell_type": "markdown",
      "metadata": {
        "id": "EIG3c73h-eUs",
        "colab_type": "text"
      },
      "source": [
        "**3.   ¿Cuál es el porcentaje de ciudadanos cubanos?**"
      ]
    },
    {
      "cell_type": "code",
      "metadata": {
        "id": "ohtxeF44-waN",
        "colab_type": "code",
        "colab": {}
      },
      "source": [
        "#codigo"
      ],
      "execution_count": 0,
      "outputs": []
    },
    {
      "cell_type": "markdown",
      "metadata": {
        "id": "sfDEQdS8-wwK",
        "colab_type": "text"
      },
      "source": [
        "**4.  ¿Cuál es la media y la desviación estándar de la edad para quienes ganan más de 50 mil y quienes ganan menos de 50 mil?**"
      ]
    },
    {
      "cell_type": "code",
      "metadata": {
        "id": "xhMEX1s1_B_Z",
        "colab_type": "code",
        "colab": {}
      },
      "source": [
        "#codigo"
      ],
      "execution_count": 0,
      "outputs": []
    },
    {
      "cell_type": "markdown",
      "metadata": {
        "id": "H-Z0shrJ_CUy",
        "colab_type": "text"
      },
      "source": [
        "**5. ¿Es cierto que las personas que ganan más de 50K tienen al menos algun grado de estudios?**"
      ]
    },
    {
      "cell_type": "code",
      "metadata": {
        "id": "28I6jQqn_eii",
        "colab_type": "code",
        "colab": {}
      },
      "source": [
        "#codigo"
      ],
      "execution_count": 0,
      "outputs": []
    },
    {
      "cell_type": "markdown",
      "metadata": {
        "id": "xBmj1s6M_e1y",
        "colab_type": "text"
      },
      "source": [
        "**6. Mostrar estadísticas de edad para cada raza y cada sexo usando groupby() y describe().**"
      ]
    },
    {
      "cell_type": "code",
      "metadata": {
        "id": "rPgIWPbb_6EA",
        "colab_type": "code",
        "colab": {}
      },
      "source": [
        "#codigo"
      ],
      "execution_count": 0,
      "outputs": []
    },
    {
      "cell_type": "markdown",
      "metadata": {
        "id": "Zt9QHNAv_6XX",
        "colab_type": "text"
      },
      "source": [
        "**7. Encuentra la edad máxima de los hombres de raza Asian-Pac-Islander.**"
      ]
    },
    {
      "cell_type": "code",
      "metadata": {
        "id": "QzBszGUR__zK",
        "colab_type": "code",
        "colab": {}
      },
      "source": [
        "#codigo"
      ],
      "execution_count": 0,
      "outputs": []
    },
    {
      "cell_type": "markdown",
      "metadata": {
        "id": "wGGLCm3XAYT1",
        "colab_type": "text"
      },
      "source": [
        "**8. ¿Quiénes son la mayor proporción que ganan mas > 50 K: hombres casados o solteros? Considerar como casados a todos que tienen un estado civil como : cónyuge civil, casado, cónyuge ausente o cónyuge casado**"
      ]
    },
    {
      "cell_type": "code",
      "metadata": {
        "id": "pcnlq2MIBEoN",
        "colab_type": "code",
        "colab": {}
      },
      "source": [
        "#codigo"
      ],
      "execution_count": 0,
      "outputs": []
    },
    {
      "cell_type": "markdown",
      "metadata": {
        "id": "t8yEd2LeBG6X",
        "colab_type": "text"
      },
      "source": [
        "**9. ¿Cuál es el número máximo de horas que una persona trabaja por semana? y ¿Cuántas personas tabajan ese numero de horas? y ¿Cuál es el procentaje de aquellas personas que ganan mas > 50 K?**"
      ]
    },
    {
      "cell_type": "code",
      "metadata": {
        "id": "z4NXKsdhCOt9",
        "colab_type": "code",
        "colab": {}
      },
      "source": [
        "#codigo"
      ],
      "execution_count": 0,
      "outputs": []
    },
    {
      "cell_type": "markdown",
      "metadata": {
        "id": "umHUsinLCO4j",
        "colab_type": "text"
      },
      "source": [
        "**10. Cuente el tiempo promedio de trabajo (horas por semana) para aquellos que ganan poco y aquellos que ganan mucho para cada país.**"
      ]
    },
    {
      "cell_type": "code",
      "metadata": {
        "id": "kL1KrD54Cgog",
        "colab_type": "code",
        "colab": {}
      },
      "source": [
        "#codigo"
      ],
      "execution_count": 0,
      "outputs": []
    },
    {
      "cell_type": "markdown",
      "metadata": {
        "id": "w7A9yonYGr3W",
        "colab_type": "text"
      },
      "source": [
        "## 4. Intro a Regresion lineal\n",
        "\n",
        "En esta parte usar el  [Notebook](https://github.com/PCL-AI/MT616_2019_1/blob/master/Lab03/Lab03.ipynb)  y terminar los ejercicios"
      ]
    }
  ]
}