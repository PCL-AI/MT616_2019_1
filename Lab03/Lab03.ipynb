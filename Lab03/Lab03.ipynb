{
  "nbformat": 4,
  "nbformat_minor": 0,
  "metadata": {
    "colab": {
      "name": "Lab03.ipynb",
      "version": "0.3.2",
      "provenance": []
    },
    "language_info": {
      "codemirror_mode": {
        "name": "ipython",
        "version": 3
      },
      "file_extension": ".py",
      "mimetype": "text/x-python",
      "name": "python",
      "nbconvert_exporter": "python",
      "pygments_lexer": "ipython3",
      "version": "3.6.3"
    },
    "kernelspec": {
      "display_name": "Python 3",
      "language": "python",
      "name": "python3"
    }
  },
  "cells": [
    {
      "metadata": {
        "id": "3n9usnjGiQwy",
        "colab_type": "text"
      },
      "cell_type": "markdown",
      "source": [
        "# UNI Machine Learning Course  (MT616)\n",
        "# Lab 04: Regresión lineal\n",
        "\n",
        "Los modelos de regresión se utilizan para predecir las variables en espacio continuo, lo que las hace atractivas para\n",
        "    \n",
        "*   Entender las relaciones entre variables.\n",
        "*   Evaluar las tendencias\n",
        "*   Hacer pronósticos\n",
        "    \n",
        "Este Lab tiene 3 partes:\n",
        "\n",
        "# 1.-  Descenso de Gradiente para una función de una sola variable\n",
        "En esta parte se construye la funcion de costo y se usa el gradiente descendiente para obtener los valores optimos y se compara rapidamente con [scikit-learn](https://scikit-learn.org/)\n",
        "\n",
        "https://github.com/PCL-AI/MT616_2018_2/blob/master/Lab02/Lab02a.ipynb\n",
        "\n",
        "# 2.-  Funciones convexas y no convexas y el descenso de gradiente\n",
        "En esta parte se muestra la eficacia de las funciones convexas en optimizacion y se usa regresion multivariable y metricas de evalucacion para predecir las ventas de un producto (en miles de unidades) en función de los presupuestos de publicidad (en miles de dólares) para TV, radio y periódicos.\n",
        "\n",
        "https://github.com/PCL-AI/MT616_2018_2/blob/master/Lab01/Lab01a-MT616.ipynb\n",
        "\n"
      ]
    },
    {
      "metadata": {
        "id": "694VjHGXiQxj",
        "colab_type": "text"
      },
      "cell_type": "markdown",
      "source": [
        "# 3.- Case Study: The Boston Housing dataset"
      ]
    },
    {
      "metadata": {
        "id": "j23Me1m7iQxm",
        "colab_type": "text"
      },
      "cell_type": "markdown",
      "source": [
        "La última clase estudiamos Regresión lineal. Hoy definiremos un problema de regresión y aplicaremos el Algoritmo de Regresión Lineal como modelo de predicción.\n",
        "\n",
        "### Observaciones\n",
        "\n",
        "*   Los modelos de regresión son básicamente ecuaciones de interpolación en el rango de las variables explicativas. Así que pueden dar malas predicciones si extrapolamos fuera de este rango.\n",
        "*    Tenga cuidado con los valores atípicos, que pueden cambiar su hiperplano de regresión de forma no deseada.\n",
        "\n",
        "\n",
        "    "
      ]
    },
    {
      "metadata": {
        "id": "hX81EKYdiQxp",
        "colab_type": "text"
      },
      "cell_type": "markdown",
      "source": [
        "## Supongamos que somos ingenieros consultores en machine learning y nos piden predecir el precio de una casa ubicada en boston de acuerdo a sus atributos.\n",
        "\n",
        "* Queremos encontrar una función en base a sus atributos de entrada que predigan el precio de la casa como salida.\n",
        "\n",
        "* ¿Qué atributos contribuyen mas al precio?\n",
        "\n",
        "* Visualice la relación entre las características y la respuesta usando gráficos de dispersión.\n",
        "\n",
        "El Housing dataset de UCI repository recopila informacion sobre las casas en los suburbios de Boston. Los siguientes son los atributos:\n",
        "\n",
        "1.  **CRIM**      Per capita crime rate by town\n",
        "2.  **ZN**        Proportion of residential land zoned for lots over 25,000 sq.ft.\n",
        "3.  **INDUS**     Proportion of non-retail business acres per town\n",
        "4.  **CHAS**      Charles River dummy variable (= 1 if tract bounds river; 0 otherwise)\n",
        "5.  **NOX**       Nitric oxides concentration (parts per 10 million)\n",
        "6.  **RM**        Average number of rooms per dwelling\n",
        "7.  **AGE**       Proportion of owner-occupied units built prior to 1940\n",
        "8.  **DIS**       Weighted distances to five Boston employment centres\n",
        "9.  **RAD**       Index of accessibility to radial highways\n",
        "10. **TAX**       Full-value property-tax rate per \\$10,000\n",
        "11. **PTRATIO**   Pupil-teacher ratio by town\n",
        "12. **B**         1000(Bk - 0.63)^2 where Bk is the proportion of blacks by town\n",
        "13. **LSTAT**     % lower status of the population\n",
        "14. **MEDV**      Median value of owner-occupied homes in $1000's\n",
        "\n",
        "\n",
        "\n",
        "\n",
        "\n",
        "Hoy vamos a hacer un analysis de regresion\n",
        "\n",
        "1. Descargar el archivo o leerlo directamente del https://archive.ics.uci.edu/ml/machine-learning-databases/housing/housing.data\n",
        "\n",
        "2. Analisis y visualizacion rapida\n",
        "\n",
        "3. Entrenar modelo de regresion lineal\n",
        "\n",
        "4. Mostrar los estimadores/coeficientes aprendidos\n",
        "\n",
        "5. Evaluación del modelo.\n"
      ]
    },
    {
      "metadata": {
        "id": "fJ5sdu3iiQxs",
        "colab_type": "code",
        "outputId": "c17ecfad-f546-4d70-ae74-4d27aaab726a",
        "colab": {
          "base_uri": "https://localhost:8080/",
          "height": 206
        }
      },
      "cell_type": "code",
      "source": [
        "%matplotlib inline  \n",
        "import matplotlib.pyplot as plt\n",
        "import numpy as np\n",
        "\n",
        "import numpy as np\n",
        "import pandas as pd\n",
        "# import model\n",
        "from sklearn.linear_model import LinearRegression\n",
        "from sklearn.model_selection import train_test_split\n",
        "# import module to calculate model perfomance metrics\n",
        "import seaborn as sns\n",
        "from sklearn import metrics\n",
        "\n",
        "web_data= \"https://archive.ics.uci.edu/ml/machine-learning-databases/housing/housing.data\"\n",
        "\n",
        "df = pd.read_csv(web_data,header=None, sep='\\s+')\n",
        "\n",
        " \n",
        "\n",
        "df.columns = [ 'CRIM', 'ZN', 'INDUS', 'CHAS', 'NOX', 'RM', 'AGE', 'DIS', 'RAD', 'TAX', 'PTRATIO', 'B', 'LSTAT', 'MEDV']\n",
        "df.head()\n",
        "\n",
        "#sns.pairplot(df);\n",
        "#df.info()"
      ],
      "execution_count": 0,
      "outputs": [
        {
          "output_type": "execute_result",
          "data": {
            "text/html": [
              "<div>\n",
              "<style scoped>\n",
              "    .dataframe tbody tr th:only-of-type {\n",
              "        vertical-align: middle;\n",
              "    }\n",
              "\n",
              "    .dataframe tbody tr th {\n",
              "        vertical-align: top;\n",
              "    }\n",
              "\n",
              "    .dataframe thead th {\n",
              "        text-align: right;\n",
              "    }\n",
              "</style>\n",
              "<table border=\"1\" class=\"dataframe\">\n",
              "  <thead>\n",
              "    <tr style=\"text-align: right;\">\n",
              "      <th></th>\n",
              "      <th>CRIM</th>\n",
              "      <th>ZN</th>\n",
              "      <th>INDUS</th>\n",
              "      <th>CHAS</th>\n",
              "      <th>NOX</th>\n",
              "      <th>RM</th>\n",
              "      <th>AGE</th>\n",
              "      <th>DIS</th>\n",
              "      <th>RAD</th>\n",
              "      <th>TAX</th>\n",
              "      <th>PTRATIO</th>\n",
              "      <th>B</th>\n",
              "      <th>LSTAT</th>\n",
              "      <th>MEDV</th>\n",
              "    </tr>\n",
              "  </thead>\n",
              "  <tbody>\n",
              "    <tr>\n",
              "      <th>0</th>\n",
              "      <td>0.00632</td>\n",
              "      <td>18.0</td>\n",
              "      <td>2.31</td>\n",
              "      <td>0</td>\n",
              "      <td>0.538</td>\n",
              "      <td>6.575</td>\n",
              "      <td>65.2</td>\n",
              "      <td>4.0900</td>\n",
              "      <td>1</td>\n",
              "      <td>296.0</td>\n",
              "      <td>15.3</td>\n",
              "      <td>396.90</td>\n",
              "      <td>4.98</td>\n",
              "      <td>24.0</td>\n",
              "    </tr>\n",
              "    <tr>\n",
              "      <th>1</th>\n",
              "      <td>0.02731</td>\n",
              "      <td>0.0</td>\n",
              "      <td>7.07</td>\n",
              "      <td>0</td>\n",
              "      <td>0.469</td>\n",
              "      <td>6.421</td>\n",
              "      <td>78.9</td>\n",
              "      <td>4.9671</td>\n",
              "      <td>2</td>\n",
              "      <td>242.0</td>\n",
              "      <td>17.8</td>\n",
              "      <td>396.90</td>\n",
              "      <td>9.14</td>\n",
              "      <td>21.6</td>\n",
              "    </tr>\n",
              "    <tr>\n",
              "      <th>2</th>\n",
              "      <td>0.02729</td>\n",
              "      <td>0.0</td>\n",
              "      <td>7.07</td>\n",
              "      <td>0</td>\n",
              "      <td>0.469</td>\n",
              "      <td>7.185</td>\n",
              "      <td>61.1</td>\n",
              "      <td>4.9671</td>\n",
              "      <td>2</td>\n",
              "      <td>242.0</td>\n",
              "      <td>17.8</td>\n",
              "      <td>392.83</td>\n",
              "      <td>4.03</td>\n",
              "      <td>34.7</td>\n",
              "    </tr>\n",
              "    <tr>\n",
              "      <th>3</th>\n",
              "      <td>0.03237</td>\n",
              "      <td>0.0</td>\n",
              "      <td>2.18</td>\n",
              "      <td>0</td>\n",
              "      <td>0.458</td>\n",
              "      <td>6.998</td>\n",
              "      <td>45.8</td>\n",
              "      <td>6.0622</td>\n",
              "      <td>3</td>\n",
              "      <td>222.0</td>\n",
              "      <td>18.7</td>\n",
              "      <td>394.63</td>\n",
              "      <td>2.94</td>\n",
              "      <td>33.4</td>\n",
              "    </tr>\n",
              "    <tr>\n",
              "      <th>4</th>\n",
              "      <td>0.06905</td>\n",
              "      <td>0.0</td>\n",
              "      <td>2.18</td>\n",
              "      <td>0</td>\n",
              "      <td>0.458</td>\n",
              "      <td>7.147</td>\n",
              "      <td>54.2</td>\n",
              "      <td>6.0622</td>\n",
              "      <td>3</td>\n",
              "      <td>222.0</td>\n",
              "      <td>18.7</td>\n",
              "      <td>396.90</td>\n",
              "      <td>5.33</td>\n",
              "      <td>36.2</td>\n",
              "    </tr>\n",
              "  </tbody>\n",
              "</table>\n",
              "</div>"
            ],
            "text/plain": [
              "      CRIM    ZN  INDUS  CHAS    NOX     RM   AGE     DIS  RAD    TAX  \\\n",
              "0  0.00632  18.0   2.31     0  0.538  6.575  65.2  4.0900    1  296.0   \n",
              "1  0.02731   0.0   7.07     0  0.469  6.421  78.9  4.9671    2  242.0   \n",
              "2  0.02729   0.0   7.07     0  0.469  7.185  61.1  4.9671    2  242.0   \n",
              "3  0.03237   0.0   2.18     0  0.458  6.998  45.8  6.0622    3  222.0   \n",
              "4  0.06905   0.0   2.18     0  0.458  7.147  54.2  6.0622    3  222.0   \n",
              "\n",
              "   PTRATIO       B  LSTAT  MEDV  \n",
              "0     15.3  396.90   4.98  24.0  \n",
              "1     17.8  396.90   9.14  21.6  \n",
              "2     17.8  392.83   4.03  34.7  \n",
              "3     18.7  394.63   2.94  33.4  \n",
              "4     18.7  396.90   5.33  36.2  "
            ]
          },
          "metadata": {
            "tags": []
          },
          "execution_count": 2
        }
      ]
    },
    {
      "metadata": {
        "id": "0j1MjYajiQx2",
        "colab_type": "code",
        "outputId": "3bbbf01f-68f7-4747-83e8-2dc00f14c041",
        "colab": {
          "base_uri": "https://localhost:8080/",
          "height": 438
        }
      },
      "cell_type": "code",
      "source": [
        "from sklearn.preprocessing import StandardScaler\n",
        "from sklearn.metrics import r2_score\n",
        "from sklearn.metrics import mean_squared_error\n",
        "\n",
        "# use la lista para seleccionar un subconjunto del DataFrame original\n",
        "feature_names = [ 'CRIM', 'ZN', 'INDUS', 'CHAS', 'NOX', 'RM', 'AGE', 'DIS', 'RAD', 'TAX', 'PTRATIO', 'B', 'LSTAT']\n",
        "\n",
        "X = df[feature_names]\n",
        "#X = df.iloc[:, :-1].values \n",
        "print (X.head())\n",
        "\n",
        "# salida\n",
        "y = df.MEDV\n",
        "\n",
        "# Dividir X e Y en juegos de entrenamiento y prueba\n",
        "X_train, X_test, y_train, y_test = train_test_split(X, y, test_size=0.2,random_state=0)\n",
        "\n",
        "print('#Training data points: %d' % X_train.shape[0])\n",
        "print('#Testing data points: %d' % X_test.shape[0])\n",
        "\n",
        "sc = StandardScaler()\n",
        "sc.fit(X_train)\n",
        "X_train_std = sc.transform(X_train)\n",
        "X_test_std = sc.transform(X_test)\n",
        "\n",
        "#X_train_std = X_train\n",
        "#X_test_std = X_test\n",
        "\n",
        "# Modelo\n",
        "linreg = LinearRegression()\n",
        "\n",
        "# ajustar el modelo a los datos de entrenamiento \n",
        "linreg.fit(X_train_std, y_train)\n",
        "\n",
        "# Los coeficientes\n",
        "print('\\nCoeficientes:', linreg.coef_)\n",
        "\n",
        "# hacer predicciones en el conjunto de prueba\n",
        "\n",
        "y_train_pred = linreg.predict(X_train_std)\n",
        "\n",
        "y_pred = linreg.predict(X_test_std)\n",
        "\n",
        "\n"
      ],
      "execution_count": 0,
      "outputs": [
        {
          "output_type": "stream",
          "text": [
            "      CRIM    ZN  INDUS  CHAS    NOX     RM   AGE     DIS  RAD    TAX  \\\n",
            "0  0.00632  18.0   2.31     0  0.538  6.575  65.2  4.0900    1  296.0   \n",
            "1  0.02731   0.0   7.07     0  0.469  6.421  78.9  4.9671    2  242.0   \n",
            "2  0.02729   0.0   7.07     0  0.469  7.185  61.1  4.9671    2  242.0   \n",
            "3  0.03237   0.0   2.18     0  0.458  6.998  45.8  6.0622    3  222.0   \n",
            "4  0.06905   0.0   2.18     0  0.458  7.147  54.2  6.0622    3  222.0   \n",
            "\n",
            "   PTRATIO       B  LSTAT  \n",
            "0     15.3  396.90   4.98  \n",
            "1     17.8  396.90   9.14  \n",
            "2     17.8  392.83   4.03  \n",
            "3     18.7  394.63   2.94  \n",
            "4     18.7  396.90   5.33  \n",
            "#Training data points: 404\n",
            "#Testing data points: 102\n",
            "\n",
            "Coeficientes: [-0.97082019  1.05714873  0.03831099  0.59450642 -1.8551476   2.57321942\n",
            " -0.08761547 -2.88094259  2.11224542 -1.87533131 -2.29276735  0.71817947\n",
            " -3.59245482]\n"
          ],
          "name": "stdout"
        },
        {
          "output_type": "stream",
          "text": [
            "/usr/local/lib/python3.6/dist-packages/sklearn/preprocessing/data.py:645: DataConversionWarning: Data with input dtype int64, float64 were all converted to float64 by StandardScaler.\n",
            "  return self.partial_fit(X, y)\n",
            "/usr/local/lib/python3.6/dist-packages/ipykernel_launcher.py:26: DataConversionWarning: Data with input dtype int64, float64 were all converted to float64 by StandardScaler.\n",
            "/usr/local/lib/python3.6/dist-packages/ipykernel_launcher.py:27: DataConversionWarning: Data with input dtype int64, float64 were all converted to float64 by StandardScaler.\n"
          ],
          "name": "stderr"
        }
      ]
    },
    {
      "metadata": {
        "id": "Pjqw5Mnzx3wy",
        "colab_type": "code",
        "outputId": "19c426ea-d07d-42d8-ddeb-7dcd31fad4a7",
        "colab": {
          "base_uri": "https://localhost:8080/",
          "height": 366
        }
      },
      "cell_type": "code",
      "source": [
        "# Ploteo en 2D de un solo atributo\n",
        "sc.fit(X_train)\n",
        "X_train_std = sc.transform(X_train)\n",
        "\n",
        "plt.scatter(df['RM'], y, c='red')\n",
        "\n",
        "X_rm = df['RM'].values[:, np.newaxis]\n",
        "y = df['MEDV'].values\n",
        "\n",
        "\n",
        "# fit \n",
        "linreg.fit(X_rm, y)\n",
        "\n",
        "y_pred_1D = linreg.predict(X_rm)\n",
        "\n",
        "\n",
        "plt.scatter(df['RM'], y, c='red')\n",
        "plt.plot(X_rm, linreg.predict(X_rm), color='blue', linewidth=2)\n",
        "    \n",
        "plt.xlabel('Promedio de cuartos [RM]')\n",
        "plt.ylabel('Precio en $1000\\'s [MEDV]')\n",
        "plt.tight_layout()\n",
        "plt.show()"
      ],
      "execution_count": 0,
      "outputs": [
        {
          "output_type": "stream",
          "text": [
            "/usr/local/lib/python3.6/dist-packages/sklearn/preprocessing/data.py:645: DataConversionWarning: Data with input dtype int64, float64 were all converted to float64 by StandardScaler.\n",
            "  return self.partial_fit(X, y)\n",
            "/usr/local/lib/python3.6/dist-packages/ipykernel_launcher.py:2: DataConversionWarning: Data with input dtype int64, float64 were all converted to float64 by StandardScaler.\n",
            "  \n"
          ],
          "name": "stderr"
        },
        {
          "output_type": "display_data",
          "data": {
            "image/png": "[encoded data removed]",
            "text/plain": [
              "<Figure size 432x288 with 1 Axes>"
            ]
          },
          "metadata": {
            "tags": []
          }
        }
      ]
    },
    {
      "metadata": {
        "id": "VTZDA_gViQx9",
        "colab_type": "text"
      },
      "cell_type": "markdown",
      "source": [
        "## Métricas de evaluación del modelo para la regresión\n",
        "\n",
        "Si tenemos multiples variables explicativas, no podemos visualizar el hiperplano de regresión lineal en un gráfico bidimensional. En este caso, necesitamos otras formas de evaluar el modelo entrenado. Por ejemplo la regresión lineal multivariable necesita métricas de evaluación diseñadas para comparar valores continuos. Aqui evaluemos los resultados utilizando el error de la media al cuadrado (MSE) y el coeficiente de determinación (R2):\n",
        "\n",
        "\n",
        "$$MSE = \\frac{1}{n}\\sum_{i=1}^{n} (y_i -\\hat{y}_i)^2$$\n",
        "\n",
        "$$R^2 =  1− Relative~Squared~Error(RSE) = \\dfrac{\\sum_{i=1}^{N}(y^{(i)}-\\hat{y}^{(i)})^2}{\\sum_{i=1}^{N}(y^{(i)}-\\bar{y})^2}$$\n",
        "\n",
        "El Root Mean Squared Error (https://en.wikipedia.org/wiki/Root-mean-square_deviation) es la raíz cuadrada de la media de los errores al cuadrado (MSE). "
      ]
    },
    {
      "metadata": {
        "id": "E5WQxlbYiQyB",
        "colab_type": "code",
        "outputId": "4159b11e-8d1e-4f2a-8c66-1aa305358f03",
        "colab": {
          "base_uri": "https://localhost:8080/",
          "height": 54
        }
      },
      "cell_type": "code",
      "source": [
        "# calcular el RMSE de nuestras predicciones\n",
        "print('MSE train: %.2f, test: %.2f' % (mean_squared_error(y_train, y_train_pred), mean_squared_error(y_test, y_pred)))\n",
        "\n",
        "\n",
        "# Explicación de R^2: 1 es predicción perfecta\n",
        "print('R^2 train: %.2f, test: %.2f' % (r2_score(y_train, y_train_pred), r2_score(y_test, y_pred)))\n"
      ],
      "execution_count": 0,
      "outputs": [
        {
          "output_type": "stream",
          "text": [
            "MSE train: 19.33, test: 33.45\n",
            "R^2 train: 0.77, test: 0.59\n"
          ],
          "name": "stdout"
        }
      ]
    },
    {
      "metadata": {
        "id": "KLOmEvdU5JQq",
        "colab_type": "text"
      },
      "cell_type": "markdown",
      "source": [
        "Un valor normal  de $R^2$ debería estar entre $0$ y $1$, y cuanto más alto sea $R^2$, mejor. En la práctica, a menudo consideramos que $R^2>0.8$ es bueno. si $R^2$ es negativo, significa que el modelo no se ajusta bien a los datos."
      ]
    },
    {
      "metadata": {
        "id": "rjN-_I0f91Np",
        "colab_type": "text"
      },
      "cell_type": "markdown",
      "source": [
        "\n",
        "## Gráfico residual\n",
        "\n",
        "Es un análisis gráfico comúnmente utilizado para un modelo de regresión para detectar la no linealidad y los valores atípicos y tiene las siguientes caracteristicas:\n",
        "\n",
        "*   En el caso de una predicción perfecta, los residuos serían exactamente cero. Para un buen modelo de regresión, esperaramos que los errores se distribuyan aleatoriamente y los residuos se dispersen aleatoriamente alrededor de la línea central. \n",
        "*  Si vemos patrones en un gráfico de residuos, significa que nuestro modelo no puede capturar cierta información explicativa, que se filtra en los residuos. \n",
        "* Estos gráficos residuales son usados para detectar valores atípicos, que están representados por puntos con una gran desviación de la línea central.\n",
        "\n",
        "https://en.wikipedia.org/wiki/Partial_residual_plot\n",
        "\n"
      ]
    },
    {
      "metadata": {
        "id": "UP5JR9zh54-u",
        "colab_type": "code",
        "outputId": "c388a453-37d9-4082-b631-63ee09bebc21",
        "colab": {
          "base_uri": "https://localhost:8080/",
          "height": 568
        }
      },
      "cell_type": "code",
      "source": [
        "plt.figure(figsize=(8,8))\n",
        "plt.scatter(y_train_pred,y_train_pred - y_train,c='blue',marker='o',label='Training data')\n",
        "plt.scatter(y_pred,y_pred - y_test,c='lightgreen',marker='s',label='Test data')\n",
        "plt.xlabel('Valores predecidos')\n",
        "plt.ylabel('Residuales')\n",
        "plt.legend(loc='upper left')\n",
        "plt.hlines(y=0, xmin=-10, xmax=50, lw=1, color='red')\n",
        "plt.xlim([-10, 50])\n",
        "plt.tight_layout()\n",
        "plt.show()\n",
        "\n"
      ],
      "execution_count": 0,
      "outputs": [
        {
          "output_type": "display_data",
          "data": {
            "image/png": "[encoded data removed]",
            "text/plain": [
              "<Figure size 576x576 with 1 Axes>"
            ]
          },
          "metadata": {
            "tags": []
          }
        }
      ]
    },
    {
      "metadata": {
        "id": "ZeFwu7bIiQyK",
        "colab_type": "text"
      },
      "cell_type": "markdown",
      "source": [
        "## Matriz de correlación\n",
        "\n",
        "Mostrar las distribuciones de unión en pares puede ser abrumador cuando tenemos muchas variables los datos. A veces, podemos trazar la matriz de correlación para cuantificar la relación lineal entre variables. El coeficiente de correlación entre dos variables aleatorias $a$ y $b$ se definen como:\n",
        "\n",
        "$$\\frac{\\mathrm{Cov}(\\mathrm{a},\\mathrm{b})}{\\sqrt{\\mathrm{Var}(\\mathrm{a})\\mathrm{Var}(\\mathrm{b})}}$$\n"
      ]
    },
    {
      "metadata": {
        "id": "60x_JpRViQyR",
        "colab_type": "text"
      },
      "cell_type": "markdown",
      "source": [
        "La varianza \"normalizada\" es la que captura la relación lineal de dos variables aleatorias, y los valores están limitados al rango $[-1,1]$. La matriz de correlación $\\boldsymbol{R}\\in\\mathbb{R}^{D\\times D}$ de un vector aleatorio $x$ es una matriz cuadrada cuyo elemento $R_{i, j}$ denota la correlación entre los atributos $x_i$ y $x_j$. Si consideramos los puntos de datos como i.i.d. muestras de x, entonces podemos tener un estimado $$\\hat{\\boldsymbol{R}} cuyo elemento\n",
        "\n",
        "$$\\hat{R}_{i,j}=\\frac{\\Sigma_{s=1}^{N}(x_{i}^{(s)}-\\hat{\\mu}_{\\mathrm{x}_{i}})(x_{j}^{(s)}-\\hat{\\mu}_{\\mathrm{x}_{j}})}{\\sqrt{\\Sigma_{s=1}^{N}(x_{i}^{(s)}-\\hat{\\mu}_{\\mathrm{x}_{i}})^{2}}\\sqrt{\\Sigma_{s=1}^{N}(x_{j}^{(s)}-\\hat{\\mu}_{\\mathrm{x}_{j}})^{2}}}=\\frac{\\hat{\\sigma}_{\\mathrm{x}_{i},\\mathrm{x}_{j}}}{\\hat{\\sigma}_{\\mathrm{x}_{i}}\\hat{\\sigma}_{\\mathrm{x}_{j}}}$$"
      ]
    },
    {
      "metadata": {
        "id": "aEftqLVwiQyS",
        "colab_type": "text"
      },
      "cell_type": "markdown",
      "source": [
        "es una estimación de la correlación (generalmente llamada r de Pearson) entre los atributos $x_i$ y $x_j$.  Ademas normalizamos $z$ para cada punto de los datos tal que\n",
        "\n",
        "$$z_{i}^{(s)}=\\frac{x_{i}^{(s)}-\\hat{\\mu}_{\\mathrm{x}_{i}}}{\\hat{\\sigma}_{\\mathrm{x}_{i}}}$$"
      ]
    },
    {
      "metadata": {
        "id": "_w1vYwroiQyU",
        "colab_type": "text"
      },
      "cell_type": "markdown",
      "source": [
        "para todo $i$. Entonces simplemente tenemos $\\hat{\\boldsymbol{R}}=\\frac{1}{N}\\boldsymbol{Z}^\\top \\boldsymbol{Z}$, donde $Z$ es la matriz de diseño de los puntos de datos normalizados. Podemos trazar $\\hat{\\boldsymbol{R}}$ de la siguiente manera:"
      ]
    },
    {
      "metadata": {
        "id": "69nrxNLQiQyU",
        "colab_type": "code",
        "outputId": "290e5269-bd68-4cc9-e131-daa4c2be3ada",
        "colab": {
          "base_uri": "https://localhost:8080/",
          "height": 407
        }
      },
      "cell_type": "code",
      "source": [
        "import numpy as np\n",
        "from sklearn.preprocessing import StandardScaler\n",
        "\n",
        "# Z-normalize data\n",
        "sc = StandardScaler()\n",
        "Z = sc.fit_transform(df)\n",
        "# Estimate the correlation matrix\n",
        "R = np.dot(Z.T, Z) / df.shape[0]\n",
        "\n",
        "sns.set(font_scale=1.5)\n",
        "\n",
        "ticklabels = [s for s in df.columns]\n",
        "\n",
        "hm = sns.heatmap(R,cbar=True,square=True,yticklabels=ticklabels,xticklabels=ticklabels)\n",
        "\n",
        "plt.show()\n"
      ],
      "execution_count": 0,
      "outputs": [
        {
          "output_type": "stream",
          "text": [
            "/usr/local/lib/python3.6/dist-packages/sklearn/preprocessing/data.py:645: DataConversionWarning: Data with input dtype int64, float64 were all converted to float64 by StandardScaler.\n",
            "  return self.partial_fit(X, y)\n",
            "/usr/local/lib/python3.6/dist-packages/sklearn/base.py:464: DataConversionWarning: Data with input dtype int64, float64 were all converted to float64 by StandardScaler.\n",
            "  return self.fit(X, **fit_params).transform(X)\n"
          ],
          "name": "stderr"
        },
        {
          "output_type": "display_data",
          "data": {
            "image/png": "[encoded data removed]",
            "text/plain": [
              "<Figure size 432x288 with 2 Axes>"
            ]
          },
          "metadata": {
            "tags": []
          }
        }
      ]
    },
    {
      "metadata": {
        "id": "ETjptuXQWxNn",
        "colab_type": "text"
      },
      "cell_type": "markdown",
      "source": [
        "La matriz de correlación ofrece una visión más concisa de la relación entre variables. La regresión lineal, suponen que las variables están correlacionadas linealmente con la variable objetivo. Un mapa de calor de correlaciones puede ayudarnos a seleccionar variables que respalden esta suposición. "
      ]
    },
    {
      "metadata": {
        "id": "f6QyVsxM_QVN",
        "colab_type": "text"
      },
      "cell_type": "markdown",
      "source": [
        "# Exam 1: Contaminación ambiental por partículas (Particulate pollution)\n",
        "##Assessing Beijing's PM2.5 pollution: severity, weather impact, APEC and winter heating\n",
        "\n",
        "\n",
        "\n",
        "La contaminación de partículas, también llamada particulate matter (PM), es una mezcla de sólidos y gotas de líquido que flotan en el aire. PM2.5 se refiere a particulas que tiene un diámetro menor que 2.5 micrómetros y que es aproximadamente el 3% del diámetro de un cabello humano. Las partículas menores o iguales a 10 micrómetros de diámetro son tan pequeñas que pueden ingresar a los pulmones, lo que podría causar serios problemas de salud. Las lecturas de PM2.5  se incluyen en los informes de calidad del aire de las autoridades ambientales y las empresas. [link](https://blissair.com/what-is-pm-2-5.htm) \n",
        "\n",
        "En la Figura se muestra la comparacion del diametro con el cabello y la tabla te dara una idea de que niveles de PM2.5 son perjudiciales y las precauciones. La cual se basa en los estándares de calidad del aire para la contaminación de partículas publicados por la [EPA](https://www.epa.gov/).\n"
      ]
    },
    {
      "metadata": {
        "id": "FPMd0s5_-49K",
        "colab_type": "code",
        "colab": {
          "base_uri": "https://localhost:8080/",
          "height": 760
        },
        "outputId": "4ec76990-9c56-4893-88bf-4fe10248c9a6"
      },
      "cell_type": "code",
      "source": [
        "from IPython.display import Image\n",
        "from IPython.core.display import HTML \n",
        "display(HTML(\"<table><tr><td><img src='https://blissair.com/wp-content/uploads/2013/06/pm25_comparison.jpg'></td><td><img src='https://2.bp.blogspot.com/-JrOWaLyMpGQ/Wvk4x61tCvI/AAAAAAAAARQ/j89n5Q8QjGcnpD8oXnLzgSlmER1ovReIQCLcBGAs/s1600/4.png'></td></tr></table>\"))"
      ],
      "execution_count": 2,
      "outputs": [
        {
          "output_type": "display_data",
          "data": {
            "text/html": [
              "<table><tr><td><img src='https://blissair.com/wp-content/uploads/2013/06/pm25_comparison.jpg'></td><td><img src='https://2.bp.blogspot.com/-JrOWaLyMpGQ/Wvk4x61tCvI/AAAAAAAAARQ/j89n5Q8QjGcnpD8oXnLzgSlmER1ovReIQCLcBGAs/s1600/4.png'></td></tr></table>"
            ],
            "text/plain": [
              "<IPython.core.display.HTML object>"
            ]
          },
          "metadata": {
            "tags": []
          }
        }
      ]
    },
    {
      "metadata": {
        "id": "g4rMCG3diQyb",
        "colab_type": "text"
      },
      "cell_type": "markdown",
      "source": [
        "## El dataset\n",
        "En esta tarea, debe entrenar los modelos de regresión en el set de datos de [Beijing PM2.5](http://archive.ics.uci.edu/ml/datasets/Beijing+PM2.5+Data#).\n",
        "\n",
        " Este conjunto de datos por hora contiene los datos de PM2.5 de la Embajada de EE. UU. En Beijing. También se incluyen los datos meteorológicos del Aeropuerto Internacional de Pekín.\n",
        "\n",
        "*  **No**: row number\n",
        "*  ** year**: year of data in this row\n",
        "*  ** month**: month of data in this row\n",
        "*   **day**: day of data in this row\n",
        "*   **hour**: hour of data in this row\n",
        "*   **pm2.5**: PM2.5 concentration (ug/m^3)\n",
        "*   **DEWP**: Dew Point (â„ƒ)\n",
        "*   **TEMP**: Temperature (â„ƒ)\n",
        "*   **PRES**: Pressure (hPa)\n",
        "*   **cbwd**: Combined wind direction\n",
        "*   **Iws**: Cumulated wind speed (m/s)\n",
        "*   **Is**: Cumulated hours of snow\n",
        "*   **Ir**: Cumulated hours of rain \n",
        "\n",
        "\n",
        "     \n",
        "     "
      ]
    },
    {
      "metadata": {
        "id": "UGtIfMwGEI-A",
        "colab_type": "text"
      },
      "cell_type": "markdown",
      "source": [
        "## Pregunta  : ¿Cual de los atributos mejora la calidad de nuestras predicciones?\n",
        "**Hipótesis :** el **cbwd**  no mejora las predicciones del modelo. **Prueba de hipótesis**: Que hacemos para mejorar el error.\n",
        "      \n",
        "## Para escojer el mejor modelo:\n",
        "\n",
        "1.  Hacer un analisis inicial de jerarquias en los datos para subdividirlos.\n",
        "2.  Puedes eliminar las filas con **NA** (mas adelante vamos a aprender tecnicas para manejar este tipo de valores)\n",
        "3.  Debes categorizar el atributo **cbwd** o justificar su eliminacion\n",
        "4.  Selecciar las características aleatoriamente, forward, backward\n",
        "5.  Implementar regresores lineales (polinomios) escojiendo los atributos con almenos dos tecnicas mostradas en clase.\n",
        "6.  Mostrar un gráfico residual para cada uno de los modelos tanto en los datos de entrenamiento como en los datos de prueba. \n",
        "7.  El puntaje de $R^2$ debe ser mayor que $0.7$ en los datos de prueba para tu modelo final.\n",
        "\n",
        "##Tip: \n",
        "El error es algo que queremos minimizar, por lo que un número menor para MSE es mejor. Si quisiéramos realizar cambios y mejoras el modelo, el MSE debería ser menor si el modelo está mejorando."
      ]
    },
    {
      "metadata": {
        "id": "jI1hV4EwiQye",
        "colab_type": "code",
        "colab": {
          "base_uri": "https://localhost:8080/",
          "height": 206
        },
        "outputId": "884ed30c-7e23-4cc6-f928-242c9520dfb1"
      },
      "cell_type": "code",
      "source": [
        "import pandas as pd\n",
        "import numpy as np\n",
        "import matplotlib.pyplot as plt\n",
        "%matplotlib inline\n",
        "\n",
        "df = pd.read_csv('http://archive.ics.uci.edu/ml/machine-learning-databases/00381/PRSA_data_2010.1.1-2014.12.31.csv', sep=',')\n",
        "df.head()"
      ],
      "execution_count": 3,
      "outputs": [
        {
          "output_type": "execute_result",
          "data": {
            "text/html": [
              "<div>\n",
              "<style scoped>\n",
              "    .dataframe tbody tr th:only-of-type {\n",
              "        vertical-align: middle;\n",
              "    }\n",
              "\n",
              "    .dataframe tbody tr th {\n",
              "        vertical-align: top;\n",
              "    }\n",
              "\n",
              "    .dataframe thead th {\n",
              "        text-align: right;\n",
              "    }\n",
              "</style>\n",
              "<table border=\"1\" class=\"dataframe\">\n",
              "  <thead>\n",
              "    <tr style=\"text-align: right;\">\n",
              "      <th></th>\n",
              "      <th>No</th>\n",
              "      <th>year</th>\n",
              "      <th>month</th>\n",
              "      <th>day</th>\n",
              "      <th>hour</th>\n",
              "      <th>pm2.5</th>\n",
              "      <th>DEWP</th>\n",
              "      <th>TEMP</th>\n",
              "      <th>PRES</th>\n",
              "      <th>cbwd</th>\n",
              "      <th>Iws</th>\n",
              "      <th>Is</th>\n",
              "      <th>Ir</th>\n",
              "    </tr>\n",
              "  </thead>\n",
              "  <tbody>\n",
              "    <tr>\n",
              "      <th>0</th>\n",
              "      <td>1</td>\n",
              "      <td>2010</td>\n",
              "      <td>1</td>\n",
              "      <td>1</td>\n",
              "      <td>0</td>\n",
              "      <td>NaN</td>\n",
              "      <td>-21</td>\n",
              "      <td>-11.0</td>\n",
              "      <td>1021.0</td>\n",
              "      <td>NW</td>\n",
              "      <td>1.79</td>\n",
              "      <td>0</td>\n",
              "      <td>0</td>\n",
              "    </tr>\n",
              "    <tr>\n",
              "      <th>1</th>\n",
              "      <td>2</td>\n",
              "      <td>2010</td>\n",
              "      <td>1</td>\n",
              "      <td>1</td>\n",
              "      <td>1</td>\n",
              "      <td>NaN</td>\n",
              "      <td>-21</td>\n",
              "      <td>-12.0</td>\n",
              "      <td>1020.0</td>\n",
              "      <td>NW</td>\n",
              "      <td>4.92</td>\n",
              "      <td>0</td>\n",
              "      <td>0</td>\n",
              "    </tr>\n",
              "    <tr>\n",
              "      <th>2</th>\n",
              "      <td>3</td>\n",
              "      <td>2010</td>\n",
              "      <td>1</td>\n",
              "      <td>1</td>\n",
              "      <td>2</td>\n",
              "      <td>NaN</td>\n",
              "      <td>-21</td>\n",
              "      <td>-11.0</td>\n",
              "      <td>1019.0</td>\n",
              "      <td>NW</td>\n",
              "      <td>6.71</td>\n",
              "      <td>0</td>\n",
              "      <td>0</td>\n",
              "    </tr>\n",
              "    <tr>\n",
              "      <th>3</th>\n",
              "      <td>4</td>\n",
              "      <td>2010</td>\n",
              "      <td>1</td>\n",
              "      <td>1</td>\n",
              "      <td>3</td>\n",
              "      <td>NaN</td>\n",
              "      <td>-21</td>\n",
              "      <td>-14.0</td>\n",
              "      <td>1019.0</td>\n",
              "      <td>NW</td>\n",
              "      <td>9.84</td>\n",
              "      <td>0</td>\n",
              "      <td>0</td>\n",
              "    </tr>\n",
              "    <tr>\n",
              "      <th>4</th>\n",
              "      <td>5</td>\n",
              "      <td>2010</td>\n",
              "      <td>1</td>\n",
              "      <td>1</td>\n",
              "      <td>4</td>\n",
              "      <td>NaN</td>\n",
              "      <td>-20</td>\n",
              "      <td>-12.0</td>\n",
              "      <td>1018.0</td>\n",
              "      <td>NW</td>\n",
              "      <td>12.97</td>\n",
              "      <td>0</td>\n",
              "      <td>0</td>\n",
              "    </tr>\n",
              "  </tbody>\n",
              "</table>\n",
              "</div>"
            ],
            "text/plain": [
              "   No  year  month  day  hour  pm2.5  DEWP  TEMP    PRES cbwd    Iws  Is  Ir\n",
              "0   1  2010      1    1     0    NaN   -21 -11.0  1021.0   NW   1.79   0   0\n",
              "1   2  2010      1    1     1    NaN   -21 -12.0  1020.0   NW   4.92   0   0\n",
              "2   3  2010      1    1     2    NaN   -21 -11.0  1019.0   NW   6.71   0   0\n",
              "3   4  2010      1    1     3    NaN   -21 -14.0  1019.0   NW   9.84   0   0\n",
              "4   5  2010      1    1     4    NaN   -20 -12.0  1018.0   NW  12.97   0   0"
            ]
          },
          "metadata": {
            "tags": []
          },
          "execution_count": 3
        }
      ]
    },
    {
      "metadata": {
        "id": "sZ4-g1HFHI9d",
        "colab_type": "code",
        "colab": {}
      },
      "cell_type": "code",
      "source": [
        "## Escribir codigo\n",
        "##"
      ],
      "execution_count": 0,
      "outputs": []
    }
  ]
}