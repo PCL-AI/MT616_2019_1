{
  "nbformat": 4,
  "nbformat_minor": 0,
  "metadata": {
    "colab": {
      "name": "00_intro_2_Python.ipynb",
      "version": "0.3.2",
      "provenance": []
    },
    "kernelspec": {
      "display_name": "Python 3",
      "language": "python",
      "name": "python3"
    }
  },
  "cells": [
    {
      "cell_type": "markdown",
      "metadata": {
        "id": "tl2-yDk3Fd_S",
        "colab_type": "text"
      },
      "source": [
        "# OPERACIONES PRINCIPALES\n"
      ]
    },
    {
      "cell_type": "code",
      "metadata": {
        "id": "y0pwebZSFd_U",
        "colab_type": "code",
        "colab": {}
      },
      "source": [
        "# ejemplo1\n",
        "import numpy \n",
        "from numpy import * \n",
        "sqrt(2) \n",
        "import numpy as np \n",
        "np.sqrt(2) \n",
        "from numpy import sqrt, exp \n",
        "sqrt(2) \n",
        "exp(3) \n",
        "a, b, c = 1, -1, -1\n",
        "(-b + np.sqrt(b**2 - 4*a*c))/(2*a)\n",
        "\n",
        "from numpy.random import random as rng \n",
        "rng() \n",
        "import numpy as np \n",
        "import matplotlib.pyplot as plt \n",
        "import numpy as np, matplotlib.pyplot as plt \n",
        "\n"
      ],
      "execution_count": 0,
      "outputs": []
    },
    {
      "cell_type": "code",
      "metadata": {
        "id": "UC_-nkShFd_Z",
        "colab_type": "code",
        "outputId": "601bd315-8d92-42e3-f7fa-68a2cc958133",
        "colab": {
          "base_uri": "https://localhost:8080/",
          "height": 67
        }
      },
      "source": [
        "# ejemplo2\n",
        "x = [3, 4] # a list object is created \n",
        "y = x # this object now has two labels: x and y \n",
        "del x # we delete one of the labels \n",
        "del y # both labels are removed: the object is deleted \n",
        "\n",
        "counter = 100          # An integer assignment \n",
        "miles   = 1000.0       # A floating point \n",
        "name    = \"John\"       # A string \n",
        "print (counter) \n",
        "print (miles) \n",
        "print (name )\n",
        "a = b = c = 1 \n",
        "a,b,c = 1,2,\"john\" \n",
        "\n"
      ],
      "execution_count": 5,
      "outputs": [
        {
          "output_type": "stream",
          "text": [
            "100\n",
            "1000.0\n",
            "John\n"
          ],
          "name": "stdout"
        }
      ]
    },
    {
      "cell_type": "code",
      "metadata": {
        "id": "VAyZ8MipFd_d",
        "colab_type": "code",
        "outputId": "cd518b79-e18e-45f7-e099-38bb596b15ba",
        "colab": {
          "base_uri": "https://localhost:8080/",
          "height": 50
        }
      },
      "source": [
        "# ejemplo3\n",
        "import math \n",
        "i=12.0 \n",
        "q=5.0 \n",
        "print (\"Cartesian: (%.1f,%.1f)\" %(i,q)) \n",
        "print( \"Polar: r = %.1f\" %math.sqrt(math.pow(i,2) + math.pow(q,2)) + \", Theta = %.1f\" %math.degrees(math.atan(q/i)) + \" degrees\") \n",
        "\n"
      ],
      "execution_count": 7,
      "outputs": [
        {
          "output_type": "stream",
          "text": [
            "Cartesian: (12.0,5.0)\n",
            "Polar: r = 13.0, Theta = 22.6 degrees\n"
          ],
          "name": "stdout"
        }
      ]
    },
    {
      "cell_type": "markdown",
      "metadata": {
        "id": "6_4hDwqMFd_g",
        "colab_type": "text"
      },
      "source": [
        "# Operaciones Algebraicas Y Lógicas en python"
      ]
    },
    {
      "cell_type": "code",
      "metadata": {
        "id": "JVD34-ijFd_h",
        "colab_type": "code",
        "outputId": "6f63fd45-ac5d-43f7-bff8-a213080e030e",
        "colab": {
          "base_uri": "https://localhost:8080/",
          "height": 134
        }
      },
      "source": [
        "# ejemplo4\n",
        "\n",
        "x = 15 \n",
        "y = 4 # Output: x + y = 19 \n",
        "print('x + y =',x+y) # Output: x - y = 11 \n",
        "print('x - y =',x-y) # Output: x * y = 60 \n",
        "print('x * y =',x*y) # Output: x / y = 3.75 \n",
        "print('x / y =',x/y) # Output: x // y = 3 \n",
        "print('x // y =',x//y) # Output: x ** y = 50625 \n",
        "print('x ** y =',x**y) \n",
        "print('x ^ y =',y^x)"
      ],
      "execution_count": 12,
      "outputs": [
        {
          "output_type": "stream",
          "text": [
            "x + y = 19\n",
            "x - y = 11\n",
            "x * y = 60\n",
            "x / y = 3.75\n",
            "x // y = 3\n",
            "x ** y = 50625\n",
            "x ^ y = 11\n"
          ],
          "name": "stdout"
        }
      ]
    },
    {
      "cell_type": "code",
      "metadata": {
        "id": "vfE3CA8dFd_k",
        "colab_type": "code",
        "outputId": "ae5825f3-5a86-4303-8932-82fbfe51b031",
        "colab": {
          "base_uri": "https://localhost:8080/",
          "height": 84
        }
      },
      "source": [
        "# ejemplo5\n",
        "\n",
        "def cmp(a, b):\n",
        "    return (a > b) - (a < b) \n",
        "  \n",
        "\n",
        "import math\n",
        "x = -35 \n",
        "x = abs(x) \n",
        "print(x)  \n",
        "  \n",
        "x = 6 \n",
        "y = 4 \n",
        "cmp(x,y)\n",
        " \n",
        "x = 6 \n",
        "print( math.exp(x) )  \n",
        "  \n",
        "import math \n",
        "x = 6 \n",
        "print( math.log(x) ) \n",
        "math.log10(10)  \n",
        "\n",
        "\n"
      ],
      "execution_count": 13,
      "outputs": [
        {
          "output_type": "stream",
          "text": [
            "35\n",
            "403.4287934927351\n",
            "1.791759469228055\n"
          ],
          "name": "stdout"
        },
        {
          "output_type": "execute_result",
          "data": {
            "text/plain": [
              "1.0"
            ]
          },
          "metadata": {
            "tags": []
          },
          "execution_count": 13
        }
      ]
    },
    {
      "cell_type": "code",
      "metadata": {
        "id": "K4ev3f3IFd_o",
        "colab_type": "code",
        "outputId": "f773a53e-9ce4-4448-99b4-80ef946ab86b",
        "colab": {
          "base_uri": "https://localhost:8080/",
          "height": 34
        }
      },
      "source": [
        "# ejemplo6.1\n",
        "import math\n",
        "x=10\n",
        "exp(x) \t#Return e**x. \n",
        "expm1(x)   #Return e**x - 1. \n",
        "log1p(x)  #Return the natural logarithm  of 1+x (base e).. \n",
        "log10(x)   # math.log(x[, base]) \n",
        "sin(x)  #Return the arc cosine of x, in radians. \n"
      ],
      "execution_count": 14,
      "outputs": [
        {
          "output_type": "execute_result",
          "data": {
            "text/plain": [
              "-0.5440211108893698"
            ]
          },
          "metadata": {
            "tags": []
          },
          "execution_count": 14
        }
      ]
    },
    {
      "cell_type": "code",
      "metadata": {
        "id": "A8t1P_UVFd_r",
        "colab_type": "code",
        "outputId": "63b8513a-d997-4c9b-80fe-4fb8b3ad0505",
        "colab": {
          "base_uri": "https://localhost:8080/",
          "height": 34
        }
      },
      "source": [
        "# ejemplo6.2\n",
        "import numpy as np\n",
        "a=.3\n",
        "b=.4\n",
        "x=-3\n",
        "z=1\n",
        "abs(x) \t#\tDevuelve el valor absoluto de x\n",
        "\n",
        "x=complex(a, b) \t#\tDevuelve el número complejo a + bj\n",
        "x.conjugate \t#\tDevuelve el conjugado complejo de x\n",
        "x.real \t#\tDevuelve la parte real del número complejo x\n",
        "x.imag \t#\tDevuelve la parte imaginaria del número complejo x\n",
        "pow(x, y) \t#\tDevuelve x ** y si z está ausente; devuelve (x ** y)% z si z en presente\n",
        "\n"
      ],
      "execution_count": 16,
      "outputs": [
        {
          "output_type": "execute_result",
          "data": {
            "text/plain": [
              "(-0.0527-0.03360000000000002j)"
            ]
          },
          "metadata": {
            "tags": []
          },
          "execution_count": 16
        }
      ]
    },
    {
      "cell_type": "code",
      "metadata": {
        "id": "mQI8DBxnFd_u",
        "colab_type": "code",
        "outputId": "edc4864d-bbe9-4164-8eae-f50cfaf27c33",
        "colab": {
          "base_uri": "https://localhost:8080/",
          "height": 34
        }
      },
      "source": [
        "# ejemplo7.1\n",
        "\n",
        "x=10\n",
        "x= exp(x) #Return e**x.\n",
        "\n",
        "\n",
        "log1p(x) #Return the natural logarithm of 1+x (base e)..\n",
        "log10(x) #\n",
        "\n",
        "x=0.5\n",
        "math.acos(x) # Return the arc cosine of x, in radians.\n",
        "math.asin(x) # Return the arc sine of x, in radians.\n",
        "math.atan(x) # Return the arc tangent of x, in radians.\n",
        "math.atan2(y, x) # Return atan(y / x), in radians.\n",
        "\n",
        "# ejemplo7.2\n",
        "\n",
        "cos(x) # Return the cosine of x radians.\n",
        "\n",
        "hypot(x, y)  # Return the Euclidean norm, sqrt(x*x + y*y). This is the length of the vector (x, y).\n",
        "\n",
        "sin(x)  # Return the sine of x radians.\n",
        "\n",
        "tan(x) # Return the tangent of x radians.\n",
        "\n",
        "degrees(x)  # Convert angle x from radians to degrees.\n",
        "\n",
        "radians(x)  # Convert angle x from degrees to radians.\n",
        "\n"
      ],
      "execution_count": 24,
      "outputs": [
        {
          "output_type": "execute_result",
          "data": {
            "text/plain": [
              "0.008726646259971648"
            ]
          },
          "metadata": {
            "tags": []
          },
          "execution_count": 24
        }
      ]
    },
    {
      "cell_type": "code",
      "metadata": {
        "id": "360BYeYIFd_z",
        "colab_type": "code",
        "colab": {
          "base_uri": "https://localhost:8080/",
          "height": 34
        },
        "outputId": "949824e3-67c5-4b56-9978-e38eadef3642"
      },
      "source": [
        "x=10\n",
        "math.acosh(x)  \n",
        "math.asinh(x)\n",
        "x=0.2\n",
        "math.atanh(x)  \n",
        "math.cosh(x) \n",
        "math.sinh(x)  \n",
        "math.tanh(x)  \n",
        "math.pi  \n",
        "math.e "
      ],
      "execution_count": 32,
      "outputs": [
        {
          "output_type": "execute_result",
          "data": {
            "text/plain": [
              "2.718281828459045"
            ]
          },
          "metadata": {
            "tags": []
          },
          "execution_count": 32
        }
      ]
    },
    {
      "cell_type": "code",
      "metadata": {
        "id": "1M3rP_mKFd_2",
        "colab_type": "code",
        "outputId": "13e4b2ed-dc78-4b12-fb76-9b1ee66cbf05",
        "colab": {
          "base_uri": "https://localhost:8080/",
          "height": 84
        }
      },
      "source": [
        "#  ejemplo8.1\n",
        "    \n",
        "hc = complex(3.1, 4.2)\n",
        "hc\n",
        "real = 0.2703\n",
        "real = 0.1e-3\n",
        "complejo = 2.1 + 7.8j\n",
        "a=2\n",
        "b=1j\n",
        "he = complex(a)\n",
        "he\n",
        "\n",
        "hk = hc.conjugate()\n",
        "abs(hk)\n",
        "\n",
        "hr = hk.real\n",
        "hi = hk.imag\n",
        "\n",
        "#  ejemplo8.2\n",
        "x,y= 7,3\n",
        "divmod(x, y)\t#the pair (x // y, x % y)\n",
        "a = -3.2\n",
        "aa = abs(a)\n",
        "\n",
        "g = pow(13,11)\t \n",
        "g\t \n",
        "\t\t\n",
        "\t \n",
        "pow(13,11,17)\n",
        "print (round(3.14159265, 2))\n",
        "b=5\n",
        "float(b)\n",
        "\n",
        "\n",
        "import math\n",
        "x = 6\n",
        "print( math.log10(x) ) \n",
        "\n",
        "\n",
        "x = 6\n",
        "print( math.pow(x,2) ) \n",
        "\n",
        "x = 6\n",
        "print( math.sqrt(x) ) \n",
        "\n",
        "\t\t\n"
      ],
      "execution_count": 34,
      "outputs": [
        {
          "output_type": "stream",
          "text": [
            "3.14\n",
            "0.7781512503836436\n",
            "36.0\n",
            "2.449489742783178\n"
          ],
          "name": "stdout"
        }
      ]
    },
    {
      "cell_type": "markdown",
      "metadata": {
        "id": "6IiGlRg6Fd_5",
        "colab_type": "text"
      },
      "source": [
        "# Operaciones Algebraicas Y Lógicas en python"
      ]
    },
    {
      "cell_type": "code",
      "metadata": {
        "id": "oxohvvQTFd_7",
        "colab_type": "code",
        "outputId": "df630dd2-e1d7-419e-ea13-08e570a9304a",
        "colab": {
          "base_uri": "https://localhost:8080/",
          "height": 67
        }
      },
      "source": [
        "# EJEMPLO10\n",
        "\n",
        "x = True\n",
        "y = False\n",
        "\n",
        "# Output: x and y is False\n",
        "print('x and y is',x and y)\n",
        "\n",
        "# Output: x or y is True\n",
        "print('x or y is',x or y)\n",
        "\n",
        "# Output: not x is False\n",
        "print('not x is',not x)\n"
      ],
      "execution_count": 46,
      "outputs": [
        {
          "output_type": "stream",
          "text": [
            "x and y is False\n",
            "x or y is True\n",
            "not x is False\n"
          ],
          "name": "stdout"
        }
      ]
    },
    {
      "cell_type": "markdown",
      "metadata": {
        "id": "M5qPxNCMFd_-",
        "colab_type": "text"
      },
      "source": [
        "# Operaciones  con binarias"
      ]
    },
    {
      "cell_type": "code",
      "metadata": {
        "id": "_kunwLZaMVc7",
        "colab_type": "code",
        "outputId": "c90773f6-18b0-40a1-ad72-e9d1541c9fa6",
        "colab": {
          "base_uri": "https://localhost:8080/",
          "height": 151
        }
      },
      "source": [
        "a = 60            # 60 = 0011 1100 \n",
        "b = 13            # 13 = 0000 1101 \n",
        "c = 0\n",
        "print(a)\n",
        "print(b)\n",
        "c = a & b;        # 12 = 0000 1100\n",
        "print (\"Line 1 - Value of c is \", c)\n",
        "\n",
        "c = a | b;        # 61 = 0011 1101 \n",
        "print (\"Line 2 - Value of c is \", c)\n",
        "\n",
        "c = a ^ b;        # 49 = 0011 0001\n",
        "print (\"Line 3 - Value of c is \", c)\n",
        "\n",
        "c = ~a;           # -61 = 1100 0011\n",
        "print (\"Line 4 - Value of c is \", c)\n",
        "\n",
        "c = a << 2;       # 240 = 1111 0000\n",
        "print (\"Line 5 - Value of c is \", c)\n",
        "\n",
        "c = a >> 2;       # 15 = 0000 1111\n",
        "print (\"Line 6 - Value of c is \", c)"
      ],
      "execution_count": 47,
      "outputs": [
        {
          "output_type": "stream",
          "text": [
            "60\n",
            "13\n",
            "Line 1 - Value of c is  12\n",
            "Line 2 - Value of c is  61\n",
            "Line 3 - Value of c is  49\n",
            "Line 4 - Value of c is  -61\n",
            "Line 5 - Value of c is  240\n",
            "Line 6 - Value of c is  15\n"
          ],
          "name": "stdout"
        }
      ]
    },
    {
      "cell_type": "code",
      "metadata": {
        "id": "jgg3PC2wFeAI",
        "colab_type": "code",
        "colab": {}
      },
      "source": [
        "###EJEMPLO13\n",
        "\n",
        "v1 = int(2.7) # 2\n",
        "v2 = int(-3.9) # -3\n",
        "v3 = int(\"2\") # 2\n",
        "v4 = int(\"11\", 16) # 17, base 16\n",
        "v5 = long(2)\n",
        "v6 = float(2) # 2.0\n",
        "v7 = float(\"2.7\") # 2.7\n",
        "v8 = float(\"2.7E-2\") # 0.027\n",
        "v9 = float(False) # 0.0\n",
        "vA = float(True) # 1.0\n",
        "vB = str(4.5) # \"4.5\"\n",
        "vC = str([1, 3, 5]) # \"[1, 3, 5]\"\n"
      ],
      "execution_count": 0,
      "outputs": []
    },
    {
      "cell_type": "code",
      "metadata": {
        "id": "1Nie3ZkFFeAM",
        "colab_type": "code",
        "outputId": "bee80fd0-6aa6-412e-a5ad-4dde5b2fd1b1",
        "colab": {
          "base_uri": "https://localhost:8080/",
          "height": 34
        }
      },
      "source": [
        "###EJEMPLO14 Type conversion in Python by example:\n",
        "\n",
        "vD = bool(0) # False; bool fn since Python 2.2.1\n",
        "vE = bool(3) # True\n",
        "vF = bool([]) # False - empty list\n",
        "vG = bool([False]) # True - non-empty list\n",
        "vH = bool({}) # False - empty dict; same for empty tuple\n",
        "vI = bool(\"\") # False - empty string\n",
        "vJ = bool(\" \") # True - non-empty string\n",
        "vK = bool(None) # False\n",
        "vL = bool(len) # True\n",
        "vM = set([1, 2])\n",
        "vN = list(vM)\n",
        "vO = list({1: \"a\", 2: \"b\"}) # dict -> list of keys\n",
        "vP = tuple(vN)\n",
        "vQ = list(\"abc\") # ['a', 'b', 'c']\n",
        "print (v1, v2, v3, type(v1), type(v2), type(v3))\n"
      ],
      "execution_count": 59,
      "outputs": [
        {
          "output_type": "stream",
          "text": [
            "2 -3 2 <class 'int'> <class 'int'> <class 'int'>\n"
          ],
          "name": "stdout"
        }
      ]
    },
    {
      "cell_type": "markdown",
      "metadata": {
        "id": "2vlJIf2sFeAP",
        "colab_type": "text"
      },
      "source": [
        "# #####List Tuples arrays"
      ]
    },
    {
      "cell_type": "code",
      "metadata": {
        "id": "NrH5hkfYFeAQ",
        "colab_type": "code",
        "outputId": "129cc416-a952-403b-acef-bf4766f54cae",
        "colab": {
          "base_uri": "https://localhost:8080/",
          "height": 84
        }
      },
      "source": [
        "##ejemplo1\n",
        "my_name = 'ABC XYZ'\n",
        "my_age = 20 # not a lie\n",
        "my_height = 1.75 # m\n",
        "my_weight = 71 # kgrs\n",
        "my_eyes = 'marron oscuro'\n",
        "my_hair = 'negro'\n",
        "\n",
        "print ('hola me presento %s.' % my_name)\n",
        "print ('mido unos %s. ' % my_height+ 'metros')\n",
        "print ('mido unos %s. ' % my_weight+ 'kgrs')\n",
        "print ('mis ojos y pelo son %s %s'  %(my_eyes, my_hair))\n",
        "\n",
        "##ejemplo2\n",
        "vM = set([1, 2])\n",
        "vN = list(vM)\n",
        "vO = list({1: \"a\", 2: \"b\"}) # dict -> list of keys\n",
        "vP = tuple(vN)\n",
        "vQ = list(\"abc\") # ['a', 'b', 'c']"
      ],
      "execution_count": 63,
      "outputs": [
        {
          "output_type": "stream",
          "text": [
            "hola me presento ABC XYZ.\n",
            "mido unos 1.75. metros\n",
            "mido unos 71. kgrs\n",
            "mis ojos y pelo son marron oscuro negro\n"
          ],
          "name": "stdout"
        }
      ]
    },
    {
      "cell_type": "code",
      "metadata": {
        "id": "KX3K_OlkFeAT",
        "colab_type": "code",
        "outputId": "27ee51cc-0d47-42c3-8107-8d320876098e",
        "colab": {
          "base_uri": "https://localhost:8080/",
          "height": 118
        }
      },
      "source": [
        "##ejemplo3\n",
        "str = 'Hello World!'\n",
        "\n",
        "print (str   )       # Prints complete string\n",
        "print (str[0])       # Prints first character of the string\n",
        "print (str[2:5])     # Prints characters starting from 3rd to 5th\n",
        "print (str[2:]    )  # Prints string starting from 3rd character\n",
        "print (str * 2     ) # Prints string two times\n",
        "print (str + ''+'TEST') # Prints concatenated string\n"
      ],
      "execution_count": 64,
      "outputs": [
        {
          "output_type": "stream",
          "text": [
            "Hello World!\n",
            "H\n",
            "llo\n",
            "llo World!\n",
            "Hello World!Hello World!\n",
            "Hello World!TEST\n"
          ],
          "name": "stdout"
        }
      ]
    },
    {
      "cell_type": "code",
      "metadata": {
        "id": "QgijTXTZFeAY",
        "colab_type": "code",
        "colab": {}
      },
      "source": [
        "###ejemplo4\n",
        "f= open(\"guru99.txt\",\"w+\")\n",
        "\n",
        "for i in range(10): \n",
        "    f.write(\"This is line %d\\r\\n\" % (i+1)) \n",
        "\n",
        "f.close() \n",
        "\n",
        "f=open(\"guru99.txt\", \"a+\") \n",
        "\n",
        "for i in range(2): \n",
        "    f.write(\"Appended line %d\\r\\n\" % (i+1))\n",
        "\n",
        "### Cómo leer un archivo\n",
        "# 'r' Este es el modo predeterminado. Abre el archivo para leer.\n",
        "# 'w' Este modo abre el archivo para escribir. Si el archivo no existe, crea un nuevo archivo. Si el archivo existe, trunca el archivo.\n",
        "# 'x' Crea un nuevo archivo. Si el archivo ya existe, la operación falla.\n",
        "# 'a' Abrir archivo en el modo de agregar. Si el archivo no existe, crea un nuevo archivo.\n",
        "# 't' Este es el modo predeterminado. Se abre en modo de texto.\n",
        "# 'b' Esto se abre en modo binario.\n",
        "# '+' Esto abrirá un archivo para lectura y escritura (actualización)\n"
      ],
      "execution_count": 0,
      "outputs": []
    },
    {
      "cell_type": "code",
      "metadata": {
        "id": "mFijeJv7FeAd",
        "colab_type": "code",
        "colab": {}
      },
      "source": [
        "\n",
        "###ejemplo5\n",
        "def main():\n",
        "    f= open(\"guru99.txt\",\"w+\")\n",
        "    #f=open(\"guru99.txt\",\"a+\")\n",
        "    for i in range(10):\n",
        "         f.write(\"This is line %d\\r\\n\" % (i+1))\n",
        "    f.close()\n",
        "    #Open the file back and read the contents\n",
        "    #f=open(\"guru99.txt\", \"r\")\n",
        "    #if f.mode == 'r':\n",
        "    #   contents =f.read()\n",
        "    #    print (contents)\n",
        "    #or, readlines reads the individual line into a list\n",
        "    #fl =f.readlines()\n",
        "    #for x in fl:\n",
        "    #print(x)\n",
        "if __name__== \"__main__\":\n",
        "  main()"
      ],
      "execution_count": 0,
      "outputs": []
    },
    {
      "cell_type": "markdown",
      "metadata": {
        "id": "iqY4WQ5wFeAh",
        "colab_type": "text"
      },
      "source": [
        "# ESTRUCTURAS DE CONTROL"
      ]
    },
    {
      "cell_type": "code",
      "metadata": {
        "id": "uO88PCxLFeAj",
        "colab_type": "code",
        "outputId": "7c873b0e-2436-4873-9c5c-e4538316e227",
        "colab": {
          "base_uri": "https://localhost:8080/",
          "height": 353
        }
      },
      "source": [
        "##Ejemplo6: (Bucle while)Mientras que año sea menor o igual a 2012, imprimir la frase \"Informes del Año año\".\n",
        "\n",
        "# -*- coding: utf-8 -*-\n",
        "anho = 2001 \n",
        "while anho <= 2012: \n",
        "    print (\"Informes del Ano \", anho) \n",
        "    anho += 1\n",
        "\n",
        "##Ejemplo7:El bucle for, en Python, es aquel que nos permitirá iterar sobre una variable compleja, del tipo lista o tupla:\n",
        "\n",
        "\n",
        "\n",
        "#1) Por cada nombre en mi_lista, imprimir nombre\n",
        "\n",
        "mi_lista = ['Juan', 'Antonio', 'Pedro', 'Herminio'] \n",
        "for nombre in mi_lista: \n",
        "    print (nombre)\n",
        "#2) Por cada color en mi_tupla, imprimir color:\n",
        "\n",
        "mi_tupla = ('rosa', 'verde', 'celeste', 'amarillo') \n",
        "for color in mi_tupla: \n",
        "    print (color)\n"
      ],
      "execution_count": 69,
      "outputs": [
        {
          "output_type": "stream",
          "text": [
            "Informes del Ano  2001\n",
            "Informes del Ano  2002\n",
            "Informes del Ano  2003\n",
            "Informes del Ano  2004\n",
            "Informes del Ano  2005\n",
            "Informes del Ano  2006\n",
            "Informes del Ano  2007\n",
            "Informes del Ano  2008\n",
            "Informes del Ano  2009\n",
            "Informes del Ano  2010\n",
            "Informes del Ano  2011\n",
            "Informes del Ano  2012\n",
            "Juan\n",
            "Antonio\n",
            "Pedro\n",
            "Herminio\n",
            "rosa\n",
            "verde\n",
            "celeste\n",
            "amarillo\n"
          ],
          "name": "stdout"
        }
      ]
    },
    {
      "cell_type": "code",
      "metadata": {
        "id": "U3hrFEcpFeAn",
        "colab_type": "code",
        "outputId": "3ce61d38-05b9-4ada-dec1-c600fb8a069d",
        "colab": {
          "base_uri": "https://localhost:8080/",
          "height": 185
        }
      },
      "source": [
        "for num in range(10,20):  # \n",
        "   for i in range(2,num): # \n",
        "      if num%i == 0:      # \n",
        "         j=num/i          #  \n",
        "         print ('%d DFG%d * %d' % (num,i,j))\n",
        "         break            #  \n",
        "   else:                  # \n",
        "      print (num, 'sdsfsdfsdf')\n"
      ],
      "execution_count": 70,
      "outputs": [
        {
          "output_type": "stream",
          "text": [
            "10 DFG2 * 5\n",
            "11 sdsfsdfsdf\n",
            "12 DFG2 * 6\n",
            "13 sdsfsdfsdf\n",
            "14 DFG2 * 7\n",
            "15 DFG3 * 5\n",
            "16 DFG2 * 8\n",
            "17 sdsfsdfsdf\n",
            "18 DFG2 * 9\n",
            "19 sdsfsdfsdf\n"
          ],
          "name": "stdout"
        }
      ]
    },
    {
      "cell_type": "code",
      "metadata": {
        "id": "pDBMliO3FeAs",
        "colab_type": "code",
        "outputId": "05536dce-9e14-4765-b60f-7a48f0e3ff5c",
        "colab": {
          "base_uri": "https://localhost:8080/",
          "height": 67
        }
      },
      "source": [
        "\n",
        "##ejemplo10\n",
        "a = 2\n",
        "b = 5\n",
        "if (a > b):\n",
        "    print (a, ' es mayor a ', b)\n",
        "elif (b > a):\n",
        "    print (b, ' es mayor a ', a)\n",
        "else:\n",
        "    print (a, ' es igual a ', b)\n",
        "\n",
        "\n",
        "#####Definir funciones\n",
        "##ejemplo11\n",
        "\n",
        "def area(width, height):\n",
        "    return width * height\n",
        " \n",
        "def print_welcome(name):\n",
        "    print(\"Welcome\", name)\n",
        "\n",
        "print_welcome(\"w3big\")\n",
        "w = 4\n",
        "h = 5\n",
        "print(\"width =\", w, \" height =\", h, \" area =\", area(w, h))\n"
      ],
      "execution_count": 71,
      "outputs": [
        {
          "output_type": "stream",
          "text": [
            "5  es mayor a  2\n",
            "Welcome w3big\n",
            "width = 4  height = 5  area = 20\n"
          ],
          "name": "stdout"
        }
      ]
    },
    {
      "cell_type": "code",
      "metadata": {
        "id": "kFJO7SlUFeAv",
        "colab_type": "code",
        "outputId": "e09a1493-62fc-43c1-84cf-9fe1e76a1eb8",
        "colab": {
          "base_uri": "https://localhost:8080/",
          "height": 84
        }
      },
      "source": [
        "###Parámetros arbitrarios\n",
        "\n",
        "\n",
        "\n",
        "#Al igual que en otros lenguajes de alto nivel, es posible que una función, espere recibir un número arbitrario -desconocido- de argumentos. Estos argumentos, llegarán a la función en forma de tupla.\n",
        "#Para definir argumentos arbitrarios en una función, se antecede al parámetro un asterisco (*):\n",
        "\n",
        "##ejemplo12\n",
        "\n",
        "def recorrer_parametros_arbitrarios(parametro_fijo, *arbitrarios): \n",
        "    print (parametro_fijo) \n",
        "     # Los parámetros arbitrarios se corren como tuplas\n",
        "    for argumento in arbitrarios: \n",
        "        print (argumento)\n",
        " \n",
        "recorrer_parametros_arbitrarios('Fixed', 'arbitrario 1', 'arbitrario 2', 'arbitrario 3')\n",
        "\n",
        "\n",
        "\n",
        "####Desempaquetado de parámetros\n",
        "##Puede ocurrir además, una situación inversa a la anterior. Es decir, que la función espere una lista fija de parámetros,\n",
        "## pero que éstos, en vez de estar disponibles de forma separada, se encuentren contenidos en una lista o tupla.\n",
        "## En este caso, el signo asterisco (*) deberá preceder al nombre de la lista o tupla que es pasada como parámetro durante la llamada a la función:\n"
      ],
      "execution_count": 72,
      "outputs": [
        {
          "output_type": "stream",
          "text": [
            "Fixed\n",
            "arbitrario 1\n",
            "arbitrario 2\n",
            "arbitrario 3\n"
          ],
          "name": "stdout"
        }
      ]
    },
    {
      "cell_type": "code",
      "metadata": {
        "id": "yDESfmLaFeAx",
        "colab_type": "code",
        "outputId": "41c85926-d240-42f0-ef1f-120bc6fb9d73",
        "colab": {
          "base_uri": "https://localhost:8080/",
          "height": 50
        }
      },
      "source": [
        "\n",
        "##ejemplo13\n",
        "\n",
        "def calcular(importe, descuento): \n",
        "    return importe - (importe * descuento / 100)\n",
        "  \n",
        "  \n",
        "datos = [1500, 10] \n",
        "print (calcular(*datos))\n",
        "\n",
        "\n",
        "\n",
        "\n",
        "##El mismo caso puede darse cuando los valores a ser pasados como parámetros a una función, se encuentren disponibles \n",
        "##en un diccionario. Aquí, deberán pasarse a la función, precedidos de dos asteriscos (**):\n",
        "\n",
        "##ejemplo14\n",
        "\n",
        "def calcular(importe, descuento): \n",
        "    return importe - (importe * descuento / 100) \n",
        " \n",
        "datos = {\"descuento\": 10, \"importe\": 1500} \n",
        "print (calcular(**datos))"
      ],
      "execution_count": 74,
      "outputs": [
        {
          "output_type": "stream",
          "text": [
            "1350.0\n",
            "1350.0\n"
          ],
          "name": "stdout"
        }
      ]
    },
    {
      "cell_type": "markdown",
      "metadata": {
        "id": "ZQqZXIIbR7NF",
        "colab_type": "text"
      },
      "source": [
        "# Tarea Corregir"
      ]
    },
    {
      "cell_type": "code",
      "metadata": {
        "id": "yVGP7a9tFeA1",
        "colab_type": "code",
        "colab": {}
      },
      "source": [
        "\n",
        "#### PROBLEMA RAPIDO PARA EJERCITAR\n",
        "## queremos crear una funcion que nos calcule la\n",
        "## suma de los cuadrados de los valores de un vector\n"
      ],
      "execution_count": 0,
      "outputs": []
    },
    {
      "cell_type": "code",
      "metadata": {
        "id": "MMVaitPRFeA4",
        "colab_type": "code",
        "outputId": "7edd7ff5-9d26-469a-df59-58e509ec2489",
        "colab": {
          "base_uri": "https://localhost:8080/",
          "height": 299
        }
      },
      "source": [
        "##ejemplo15\n",
        "# calcular de mediana\n",
        "# calcular de la media aritmetica\n",
        "# calcular la moda\n",
        "\n",
        "print (\"Datos a tratar: \")\n",
        "data=[1,4,6,7,2,3,4,7,1,2,4,3,4,5,\n",
        "      6,5,2,3,1,2,5,6,7,3,4,1,5,7,\n",
        "      1,7,6,5,3,4,3,4,5,5,5,6,7,3,\n",
        "      4,5,3,4,5,4,5,6,3,4,3,4,5,3,\n",
        "      4,5,3,4,5,3,4,5,3,4,5,3,1,3,\n",
        "      4,5,3,4,5,6,5,4,6,5,6,5,1,7]\n",
        "\n",
        "print (data)\n",
        "dOrder=sorted(data)\n",
        "\n",
        "n=len(dOrder)\n",
        "print(n)\n",
        "middle=n/2\n",
        "\n",
        "\n",
        "# codigo para calcular la mediana\n",
        "if n%2==0:\n",
        "\tmediana=(dOrder[middle+1] + dOrder[middle+2]) / 2\n",
        "else:\n",
        "\tmediana=dOrder[middle+1]*1\n",
        "\n",
        "\n",
        "print ('Total datos', n)\n",
        "print ('Mediana: ', mediana)"
      ],
      "execution_count": 80,
      "outputs": [
        {
          "output_type": "stream",
          "text": [
            "Datos a tratar: \n",
            "[1, 4, 6, 7, 2, 3, 4, 7, 1, 2, 4, 3, 4, 5, 6, 5, 2, 3, 1, 2, 5, 6, 7, 3, 4, 1, 5, 7, 1, 7, 6, 5, 3, 4, 3, 4, 5, 5, 5, 6, 7, 3, 4, 5, 3, 4, 5, 4, 5, 6, 3, 4, 3, 4, 5, 3, 4, 5, 3, 4, 5, 3, 4, 5, 3, 4, 5, 3, 1, 3, 4, 5, 3, 4, 5, 6, 5, 4, 6, 5, 6, 5, 1, 7]\n",
            "84\n"
          ],
          "name": "stdout"
        },
        {
          "output_type": "error",
          "ename": "TypeError",
          "evalue": "ignored",
          "traceback": [
            "\u001b[0;31m---------------------------------------------------------------------------\u001b[0m",
            "\u001b[0;31mTypeError\u001b[0m                                 Traceback (most recent call last)",
            "\u001b[0;32m<ipython-input-80-b3e2e9764198>\u001b[0m in \u001b[0;36m<module>\u001b[0;34m()\u001b[0m\n\u001b[1;32m     18\u001b[0m \u001b[0;31m# codigo para calcular la mediana\u001b[0m\u001b[0;34m\u001b[0m\u001b[0;34m\u001b[0m\u001b[0;34m\u001b[0m\u001b[0m\n\u001b[1;32m     19\u001b[0m \u001b[0;32mif\u001b[0m \u001b[0mn\u001b[0m\u001b[0;34m%\u001b[0m\u001b[0;36m2\u001b[0m\u001b[0;34m==\u001b[0m\u001b[0;36m0\u001b[0m\u001b[0;34m:\u001b[0m\u001b[0;34m\u001b[0m\u001b[0;34m\u001b[0m\u001b[0m\n\u001b[0;32m---> 20\u001b[0;31m         \u001b[0mmediana\u001b[0m\u001b[0;34m=\u001b[0m\u001b[0;34m(\u001b[0m\u001b[0mdOrder\u001b[0m\u001b[0;34m[\u001b[0m\u001b[0mmiddle\u001b[0m\u001b[0;34m+\u001b[0m\u001b[0;36m1\u001b[0m\u001b[0;34m]\u001b[0m \u001b[0;34m+\u001b[0m \u001b[0mdOrder\u001b[0m\u001b[0;34m[\u001b[0m\u001b[0mmiddle\u001b[0m\u001b[0;34m+\u001b[0m\u001b[0;36m2\u001b[0m\u001b[0;34m]\u001b[0m\u001b[0;34m)\u001b[0m \u001b[0;34m/\u001b[0m \u001b[0;36m2\u001b[0m\u001b[0;34m\u001b[0m\u001b[0;34m\u001b[0m\u001b[0m\n\u001b[0m\u001b[1;32m     21\u001b[0m \u001b[0;32melse\u001b[0m\u001b[0;34m:\u001b[0m\u001b[0;34m\u001b[0m\u001b[0;34m\u001b[0m\u001b[0m\n\u001b[1;32m     22\u001b[0m         \u001b[0mmediana\u001b[0m\u001b[0;34m=\u001b[0m\u001b[0mdOrder\u001b[0m\u001b[0;34m[\u001b[0m\u001b[0mmiddle\u001b[0m\u001b[0;34m+\u001b[0m\u001b[0;36m1\u001b[0m\u001b[0;34m]\u001b[0m\u001b[0;34m*\u001b[0m\u001b[0;36m1\u001b[0m\u001b[0;34m\u001b[0m\u001b[0;34m\u001b[0m\u001b[0m\n",
            "\u001b[0;31mTypeError\u001b[0m: list indices must be integers or slices, not float"
          ]
        }
      ]
    },
    {
      "cell_type": "code",
      "metadata": {
        "id": "1WGm1w10FeA7",
        "colab_type": "code",
        "outputId": "ab7a783f-80ff-452e-830b-6c7cfb3c377a",
        "colab": {
          "base_uri": "https://localhost:8080/",
          "height": 50
        }
      },
      "source": [
        "##ejemplo16\n",
        "# codigo para calcular la media aritmetica\n",
        "print ('Mediana Aritmetica: ', round(sum(data)*1.0/n,2))\n",
        "\n",
        "# codigo para calcular la moda\n",
        "repetir = 0                                                                         \n",
        "for i in data:                                                                              \n",
        "    aparece = data.count(i)                                                             \n",
        "    if aparece > repetir:                                                       \n",
        "        repetir = aparece                                                       \n",
        "                                                                                         \n",
        "moda = []                                                                               \n",
        "for i in data:                                                                              \n",
        "    aparece = data.count(i)                                                             \n",
        "    if aparece == repetir and i not in moda:                                   \n",
        "        moda.append(i)                                                                  \n",
        "                                                                                         \n",
        "print (\"moda:\", moda)\n",
        "\n"
      ],
      "execution_count": 81,
      "outputs": [
        {
          "output_type": "stream",
          "text": [
            "Mediana Aritmetica:  4.17\n",
            "moda: [5]\n"
          ],
          "name": "stdout"
        }
      ]
    },
    {
      "cell_type": "markdown",
      "metadata": {
        "id": "GKkq-vCWFeBJ",
        "colab_type": "text"
      },
      "source": [
        "# TAREA: Dibuja Fractals"
      ]
    },
    {
      "cell_type": "code",
      "metadata": {
        "id": "m5j356iaFeBK",
        "colab_type": "code",
        "outputId": "017a0490-4586-4c88-f5d2-f0ffbd2e9006",
        "colab": {
          "base_uri": "https://localhost:8080/",
          "height": 229
        }
      },
      "source": [
        "\n",
        "######## EXTRA GRAFICOS\n",
        "### PREVIO\n",
        "### EN LA VENTANA DE COMD TIPEAR: pip install pygame\n",
        "###\n",
        "import pygame\n",
        "\n",
        "pygame.init()\n",
        "\n",
        "white = (255,255,255)\n",
        "black = (0,0,0)\n",
        "\n",
        "red = (255,0,0)\n",
        "green = (0,255,0)\n",
        "blue = (0,0,255)\n",
        "\n",
        "gameDisplay = pygame.display.set_mode((800,600))\n",
        "gameDisplay.fill(black)\n",
        "\n",
        "\n",
        "pixAr = pygame.PixelArray(gameDisplay)\n",
        "pixAr[10][20] = green\n",
        "\n",
        "pygame.draw.line(gameDisplay, blue, (100,250), (350,450),5)\n",
        "\n",
        "\n",
        "pygame.draw.rect(gameDisplay, red, (400,800,150,25))\n",
        "\n",
        "\n",
        "pygame.draw.circle(gameDisplay, white, (150,150), 75)\n",
        "\n",
        "\n",
        "pygame.draw.polygon(gameDisplay, green, ((25,75),(76,125),(250,375),(400,25),(60,540)))\n",
        "\n",
        "\n",
        "while True:\n",
        "    for event in pygame.event.get():\n",
        "        if event.type == pygame.QUIT:\n",
        "            pygame.quit()\n",
        "            quit()\n",
        "\n",
        "    pygame.display.update()\n",
        "\n"
      ],
      "execution_count": 82,
      "outputs": [
        {
          "output_type": "error",
          "ename": "error",
          "evalue": "ignored",
          "traceback": [
            "\u001b[0;31m---------------------------------------------------------------------------\u001b[0m",
            "\u001b[0;31merror\u001b[0m                                     Traceback (most recent call last)",
            "\u001b[0;32m<ipython-input-82-976d86aef6cf>\u001b[0m in \u001b[0;36m<module>\u001b[0;34m()\u001b[0m\n\u001b[1;32m     10\u001b[0m \u001b[0mblue\u001b[0m \u001b[0;34m=\u001b[0m \u001b[0;34m(\u001b[0m\u001b[0;36m0\u001b[0m\u001b[0;34m,\u001b[0m\u001b[0;36m0\u001b[0m\u001b[0;34m,\u001b[0m\u001b[0;36m255\u001b[0m\u001b[0;34m)\u001b[0m\u001b[0;34m\u001b[0m\u001b[0;34m\u001b[0m\u001b[0m\n\u001b[1;32m     11\u001b[0m \u001b[0;34m\u001b[0m\u001b[0m\n\u001b[0;32m---> 12\u001b[0;31m \u001b[0mgameDisplay\u001b[0m \u001b[0;34m=\u001b[0m \u001b[0mpygame\u001b[0m\u001b[0;34m.\u001b[0m\u001b[0mdisplay\u001b[0m\u001b[0;34m.\u001b[0m\u001b[0mset_mode\u001b[0m\u001b[0;34m(\u001b[0m\u001b[0;34m(\u001b[0m\u001b[0;36m800\u001b[0m\u001b[0;34m,\u001b[0m\u001b[0;36m600\u001b[0m\u001b[0;34m)\u001b[0m\u001b[0;34m)\u001b[0m\u001b[0;34m\u001b[0m\u001b[0;34m\u001b[0m\u001b[0m\n\u001b[0m\u001b[1;32m     13\u001b[0m \u001b[0mgameDisplay\u001b[0m\u001b[0;34m.\u001b[0m\u001b[0mfill\u001b[0m\u001b[0;34m(\u001b[0m\u001b[0mblack\u001b[0m\u001b[0;34m)\u001b[0m\u001b[0;34m\u001b[0m\u001b[0;34m\u001b[0m\u001b[0m\n\u001b[1;32m     14\u001b[0m \u001b[0;34m\u001b[0m\u001b[0m\n",
            "\u001b[0;31merror\u001b[0m: No available video device"
          ]
        }
      ]
    },
    {
      "cell_type": "markdown",
      "metadata": {
        "id": "vFQf59OZFeBP",
        "colab_type": "text"
      },
      "source": [
        "# FRACTALES : Corregir"
      ]
    },
    {
      "cell_type": "code",
      "metadata": {
        "id": "KGnmpYM-FeBP",
        "colab_type": "code",
        "outputId": "53e19089-4710-4d00-8c52-706354dca953",
        "colab": {
          "base_uri": "https://localhost:8080/",
          "height": 346
        }
      },
      "source": [
        "# Importing the python libraries\n",
        "!pip install pygame\n",
        "import pygame, math \n",
        "  \n",
        "# Initialize all imported pygame modules \n",
        "pygame.init() \n",
        "  \n",
        "# Create a new surface and window. \n",
        "surface_height, surface_width = 800, 600        #Surface variables \n",
        "main_surface = pygame.display.set_mode((surface_height,surface_width)) \n",
        "  \n",
        "# Captioning the window \n",
        "pygame.display.set_caption(\"Fractal_Tree_geeksforgeeks\") \n",
        "  \n",
        "def draw_tree(order, theta, sz, posn, heading, color=(0,0,0), depth=0): \n",
        "  \n",
        "   # The relative ratio of the trunk to the whole tree   \n",
        "   trunk_ratio = 0.29     \n",
        "  \n",
        "   # Length of the trunk   \n",
        "   trunk = sz * trunk_ratio \n",
        "   delta_x = trunk * math.cos(heading) \n",
        "   delta_y = trunk * math.sin(heading) \n",
        "   (u, v) = posn \n",
        "   newpos = (u + delta_x, v + delta_y) \n",
        "   pygame.draw.line(main_surface, color, posn, newpos) \n",
        "  \n",
        "   if order > 0:   # Draw another layer of subtrees \n",
        "  \n",
        "      # These next six lines are a simple hack to make  \n",
        "      # the two major halves of the recursion different  \n",
        "      # colors. Fiddle here to change colors at other  \n",
        "      # depths, or when depth is even, or odd, etc. \n",
        "      if depth == 0: \n",
        "          color1 = (255, 0, 0) \n",
        "          color2 = (0, 0, 255) \n",
        "      else: \n",
        "          color1 = color \n",
        "          color2 = color \n",
        "  \n",
        "      # make the recursive calls to draw the two subtrees \n",
        "      newsz = sz*(1 - trunk_ratio) \n",
        "      draw_tree(order-1, theta, newsz, newpos, heading-theta, color1, depth+1) \n",
        "      draw_tree(order-1, theta, newsz, newpos, heading+theta, color2, depth+1) \n",
        "  \n",
        "  \n",
        "def main(): \n",
        "    theta = 0\n",
        "  \n",
        "    while True: \n",
        "  \n",
        "        # Update the angle \n",
        "        theta += 0.01\n",
        "  \n",
        "        # This little part lets us draw the stuffs  \n",
        "        # in the screen everything \n",
        "        main_surface.fill((255, 255, 0)) \n",
        "        draw_tree(9, theta, surface_height*0.9, (surface_width//2, surface_width-50), -math.pi/2) \n",
        "        pygame.display.flip() \n",
        "  \n",
        "# Calling the main function \n",
        "main() \n",
        "pygame.quit() "
      ],
      "execution_count": 3,
      "outputs": [
        {
          "output_type": "stream",
          "text": [
            "Collecting pygame\n",
            "\u001b[?25l  Downloading https://files.pythonhosted.org/packages/8e/24/ede6428359f913ed9cd1643dd5533aefeb5a2699cc95bea089de50ead586/pygame-1.9.6-cp36-cp36m-manylinux1_x86_64.whl (11.4MB)\n",
            "\u001b[K     |████████████████████████████████| 11.4MB 4.2MB/s \n",
            "\u001b[?25hInstalling collected packages: pygame\n",
            "Successfully installed pygame-1.9.6\n",
            "pygame 1.9.6\n",
            "Hello from the pygame community. https://www.pygame.org/contribute.html\n"
          ],
          "name": "stdout"
        },
        {
          "output_type": "error",
          "ename": "error",
          "evalue": "ignored",
          "traceback": [
            "\u001b[0;31m---------------------------------------------------------------------------\u001b[0m",
            "\u001b[0;31merror\u001b[0m                                     Traceback (most recent call last)",
            "\u001b[0;32m<ipython-input-3-32a74ab32b77>\u001b[0m in \u001b[0;36m<module>\u001b[0;34m()\u001b[0m\n\u001b[1;32m      7\u001b[0m \u001b[0;31m# Create a new surface and window.\u001b[0m\u001b[0;34m\u001b[0m\u001b[0;34m\u001b[0m\u001b[0;34m\u001b[0m\u001b[0m\n\u001b[1;32m      8\u001b[0m \u001b[0msurface_height\u001b[0m\u001b[0;34m,\u001b[0m \u001b[0msurface_width\u001b[0m \u001b[0;34m=\u001b[0m \u001b[0;36m800\u001b[0m\u001b[0;34m,\u001b[0m \u001b[0;36m600\u001b[0m        \u001b[0;31m#Surface variables\u001b[0m\u001b[0;34m\u001b[0m\u001b[0;34m\u001b[0m\u001b[0m\n\u001b[0;32m----> 9\u001b[0;31m \u001b[0mmain_surface\u001b[0m \u001b[0;34m=\u001b[0m \u001b[0mpygame\u001b[0m\u001b[0;34m.\u001b[0m\u001b[0mdisplay\u001b[0m\u001b[0;34m.\u001b[0m\u001b[0mset_mode\u001b[0m\u001b[0;34m(\u001b[0m\u001b[0;34m(\u001b[0m\u001b[0msurface_height\u001b[0m\u001b[0;34m,\u001b[0m\u001b[0msurface_width\u001b[0m\u001b[0;34m)\u001b[0m\u001b[0;34m)\u001b[0m\u001b[0;34m\u001b[0m\u001b[0;34m\u001b[0m\u001b[0m\n\u001b[0m\u001b[1;32m     10\u001b[0m \u001b[0;34m\u001b[0m\u001b[0m\n\u001b[1;32m     11\u001b[0m \u001b[0;31m# Captioning the window\u001b[0m\u001b[0;34m\u001b[0m\u001b[0;34m\u001b[0m\u001b[0;34m\u001b[0m\u001b[0m\n",
            "\u001b[0;31merror\u001b[0m: No available video device"
          ]
        }
      ]
    },
    {
      "cell_type": "code",
      "metadata": {
        "id": "JAO4cktRFeBT",
        "colab_type": "code",
        "colab": {
          "base_uri": "https://localhost:8080/",
          "height": 229
        },
        "outputId": "1fa79bdb-b5a1-4b42-9fcd-dc487b7321c2"
      },
      "source": [
        "# Python code for Julia Fractal \n",
        "# en CMD tipear: pip install Imagen\n",
        "# en CMD tipear: pip install Pillow\n",
        "\n",
        "from PIL import Image \n",
        "   \n",
        "# driver function \n",
        "if __name__ == \"__main__\": \n",
        "    \n",
        "    # setting the width, height and zoom  \n",
        "    # of the image to be created \n",
        "    w, h, zoom = 1920,1080,1\n",
        "   \n",
        "    # creating the new image in RGB mode \n",
        "    bitmap = Image.new(\"RGB\", (w, h), \"white\") \n",
        "  \n",
        "    # Allocating the storage for the image and \n",
        "    # loading the pixel data. \n",
        "    pix = bitmap.load() \n",
        "     \n",
        "    # setting up the variables according to  \n",
        "    # the equation to  create the fractal \n",
        "    cX, cY = -0.7, 0.27015\n",
        "    moveX, moveY = 0.0, 0.0\n",
        "    maxIter = 255\n",
        "   \n",
        "    for x in range(w): \n",
        "        for y in range(h): \n",
        "            zx = 1.5*(x - w/2)/(0.5*zoom*w) + moveX \n",
        "            zy = 1.0*(y - h/2)/(0.5*zoom*h) + moveY \n",
        "            i = maxIter \n",
        "            while zx*zx + zy*zy < 4 and i > 1: \n",
        "                tmp = zx*zx - zy*zy + cX \n",
        "                zy,zx = 2.0*zx*zy + cY, tmp \n",
        "                i -= 1\n",
        "  \n",
        "            # convert byte to RGB (3 bytes), kinda  \n",
        "            # magic to get nice colors \n",
        "            pix[x,y] = (i << 21) + (i << 10) + i*8\n",
        "  \n",
        "    # to display the created fractal \n",
        "    bitmap.show() "
      ],
      "execution_count": 83,
      "outputs": [
        {
          "output_type": "error",
          "ename": "KeyboardInterrupt",
          "evalue": "ignored",
          "traceback": [
            "\u001b[0;31m---------------------------------------------------------------------------\u001b[0m",
            "\u001b[0;31mKeyboardInterrupt\u001b[0m                         Traceback (most recent call last)",
            "\u001b[0;32m<ipython-input-83-e3c9795e311e>\u001b[0m in \u001b[0;36m<module>\u001b[0;34m()\u001b[0m\n\u001b[1;32m     29\u001b[0m             \u001b[0;32mwhile\u001b[0m \u001b[0mzx\u001b[0m\u001b[0;34m*\u001b[0m\u001b[0mzx\u001b[0m \u001b[0;34m+\u001b[0m \u001b[0mzy\u001b[0m\u001b[0;34m*\u001b[0m\u001b[0mzy\u001b[0m \u001b[0;34m<\u001b[0m \u001b[0;36m4\u001b[0m \u001b[0;32mand\u001b[0m \u001b[0mi\u001b[0m \u001b[0;34m>\u001b[0m \u001b[0;36m1\u001b[0m\u001b[0;34m:\u001b[0m\u001b[0;34m\u001b[0m\u001b[0;34m\u001b[0m\u001b[0m\n\u001b[1;32m     30\u001b[0m                 \u001b[0mtmp\u001b[0m \u001b[0;34m=\u001b[0m \u001b[0mzx\u001b[0m\u001b[0;34m*\u001b[0m\u001b[0mzx\u001b[0m \u001b[0;34m-\u001b[0m \u001b[0mzy\u001b[0m\u001b[0;34m*\u001b[0m\u001b[0mzy\u001b[0m \u001b[0;34m+\u001b[0m \u001b[0mcX\u001b[0m\u001b[0;34m\u001b[0m\u001b[0;34m\u001b[0m\u001b[0m\n\u001b[0;32m---> 31\u001b[0;31m                 \u001b[0mzy\u001b[0m\u001b[0;34m,\u001b[0m\u001b[0mzx\u001b[0m \u001b[0;34m=\u001b[0m \u001b[0;36m2.0\u001b[0m\u001b[0;34m*\u001b[0m\u001b[0mzx\u001b[0m\u001b[0;34m*\u001b[0m\u001b[0mzy\u001b[0m \u001b[0;34m+\u001b[0m \u001b[0mcY\u001b[0m\u001b[0;34m,\u001b[0m \u001b[0mtmp\u001b[0m\u001b[0;34m\u001b[0m\u001b[0;34m\u001b[0m\u001b[0m\n\u001b[0m\u001b[1;32m     32\u001b[0m                 \u001b[0mi\u001b[0m \u001b[0;34m-=\u001b[0m \u001b[0;36m1\u001b[0m\u001b[0;34m\u001b[0m\u001b[0;34m\u001b[0m\u001b[0m\n\u001b[1;32m     33\u001b[0m \u001b[0;34m\u001b[0m\u001b[0m\n",
            "\u001b[0;31mKeyboardInterrupt\u001b[0m: "
          ]
        }
      ]
    },
    {
      "cell_type": "code",
      "metadata": {
        "id": "spdrvfIwFeBZ",
        "colab_type": "code",
        "colab": {}
      },
      "source": [
        ""
      ],
      "execution_count": 0,
      "outputs": []
    },
    {
      "cell_type": "markdown",
      "metadata": {
        "id": "WJ7laRUtMepY",
        "colab_type": "text"
      },
      "source": [
        "## Website\n",
        "https://www.pythonforbeginners.com/code-snippets-source-code/python-code-examples"
      ]
    }
  ]
}