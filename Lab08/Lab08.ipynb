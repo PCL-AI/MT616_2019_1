{
  "nbformat": 4,
  "nbformat_minor": 0,
  "metadata": {
    "colab": {
      "name": "Lab08.ipynb",
      "provenance": []
    },
    "kernelspec": {
      "name": "python3",
      "display_name": "Python 3"
    },
    "language_info": {
      "name": "python"
    }
  },
  "cells": [
    {
      "cell_type": "markdown",
      "metadata": {
        "id": "gwQxUYq_rwOY"
      },
      "source": [
        "# Lab: Naive Bayes Classification"
      ]
    },
    {
      "cell_type": "markdown",
      "metadata": {
        "id": "YhkZdxvoEhcJ"
      },
      "source": [
        "* El modulo sklearn.naive_bayes implementa algoritmos de Naive Bayes que son problemas de aprendizaje supervisados basados en el teorema de Bayes con supuestos fuertes de independencia entre atributos.\n",
        "\n",
        "> 1. **[BernoulliNB](https://scikit-learn.org/stable/modules/generated/sklearn.naive_bayes.BernoulliNB.html#sklearn.naive_bayes.BernoulliNB)**: Naive Bayes classifier for multivariate Bernoulli models.\n",
        "\n",
        "> 2. **[CategoricalNB](https://scikit-learn.org/stable/modules/generated/sklearn.naive_bayes.CategoricalNB.html#sklearn.naive_bayes.CategoricalNB)**. Naive Bayes classifier for categorical features\n",
        "\n",
        "> 3. **[ComplementNB](https://scikit-learn.org/stable/modules/generated/sklearn.naive_bayes.ComplementNB.html#sklearn.naive_bayes.ComplementNB)**: The Complement Naive Bayes classifier described in Rennie et al.\n",
        "\n",
        "> 4. [**GaussianNB**](https://scikit-learn.org/stable/modules/generated/sklearn.naive_bayes.GaussianNB.html#sklearn.naive_bayes.GaussianNB): Gaussian Naive Bayes (GaussianNB)\n",
        "\n",
        "> 5. **[MultinomialNB](https://scikit-learn.org/stable/modules/generated/sklearn.naive_bayes.MultinomialNB.html#sklearn.naive_bayes.MultinomialNB)**: Naive Bayes classifier for multinomial models"
      ]
    },
    {
      "cell_type": "markdown",
      "metadata": {
        "id": "KWpNA6vCr8lU"
      },
      "source": [
        "* Los modelos Naive Bayes son un grupo de algoritmos de clasificación extremadamente rápidos y simples que a menudo son adecuados para conjuntos de datos de muchas dimensiones.\n",
        "Debido a que son tan rápidos y tienen tan pocos parámetros ajustables, terminan siendo muy útiles para un problema de clasificación."
      ]
    },
    {
      "cell_type": "markdown",
      "metadata": {
        "id": "U45lfz0HsVnT"
      },
      "source": [
        "* Todos los algoritmos clasicos de machine learning asumen que se tiene datos numéricos en un formato de la forma **[n_samples, n_features, N_labels]**.\n",
        " "
      ]
    },
    {
      "cell_type": "markdown",
      "metadata": {
        "id": "ELVzCt_E3RxO"
      },
      "source": [
        "* Para que los documentos sean manejables para las computadoras, primero deben convertirse en alguna estructura numérica. Hay varias técnicas que se usan y una popular esta basada en crear representaciones de espacios vectoriales que son conocidos la bolsa de palabras (BoW). La bolsa de palabras es un enfoque muy intuitivo y consiste:\n",
        "> 1. Dividir los documentos en tokens siguiendo algún patrón.\n",
        "> 2. Asignar un peso a cada token proporcional a la frecuencia con la que aparece en el documento y/o en el texto.\n",
        "> 3. Crear una matriz de términos de documento en la que cada fila represente un documento y cada columna represente un token."
      ]
    },
    {
      "cell_type": "markdown",
      "metadata": {
        "id": "lXFDDL6_45H4"
      },
      "source": [
        "* Los objetos vectorizadores proporcionados por Scikit-Learn son bastante flexibles y tiene tres implementaciones diferentes:\n",
        "> 1. DictVectorizers: convierte listas de nombres de características en valores del tipo de matrices Numpy o matrices scipy.sparse.\n",
        "> 2. Count Vectorizer: el más sencillo, cuenta la cantidad de veces que un token aparece en el documento y usa este valor como su peso.\n",
        "> 3. Hash Vectorizer: Este está diseñado para ser lo más eficiente en memoria posible. En lugar de almacenar los tokens como cadenas, el vectorizador aplica el truco hash para codificarlos como índices numéricos. La desventaja de este método es que una vez vectorizados, los nombres de las características ya no se pueden recuperar.\n",
        "> 4. Vectorizador TF-IDF: TF-IDF significa term frequency-inverse document frequency, lo que significa que el peso asignado a cada token no solo depende de su frecuencia en un documento, sino también de la recurrencia de ese término en todo el corpus. \n",
        "\n",
        "## Categorical Features\n",
        "\n",
        "Salarios y bonus por profesiones"
      ]
    },
    {
      "cell_type": "code",
      "metadata": {
        "id": "bDh69V5h4zL9",
        "colab": {
          "base_uri": "https://localhost:8080/"
        },
        "outputId": "7e486378-5b7c-4030-ffba-b6b8024d438b"
      },
      "source": [
        "import numpy as np\n",
        "import pandas as pd\n",
        "import matplotlib.pyplot as plt\n",
        "import seaborn as sns; sns.set()\n",
        "\n",
        "data = [\n",
        "    {'Salario': 8000, 'N bonus': 4, 'Profesion': 'Ingeniero'},\n",
        "    {'Salario': 7000, 'N bonus': 3, 'Profesion': 'Medico'},\n",
        "    {'Salario': 5000, 'N bonus': 2, 'Profesion': 'Abogado'},\n",
        "    {'Salario': 3000, 'N bonus': 1, 'Profesion': 'Maestro'},\n",
        "    {'Salario': 3000, 'N bonus': 1, 'Profesion': 'Maestro'}\n",
        "]\n",
        "data"
      ],
      "execution_count": 52,
      "outputs": [
        {
          "output_type": "execute_result",
          "data": {
            "text/plain": [
              "[{'N bonus': 4, 'Profesion': 'Ingeniero', 'Salario': 8000},\n",
              " {'N bonus': 3, 'Profesion': 'Medico', 'Salario': 7000},\n",
              " {'N bonus': 2, 'Profesion': 'Abogado', 'Salario': 5000},\n",
              " {'N bonus': 1, 'Profesion': 'Maestro', 'Salario': 3000},\n",
              " {'N bonus': 1, 'Profesion': 'Maestro', 'Salario': 3000}]"
            ]
          },
          "metadata": {},
          "execution_count": 52
        }
      ]
    },
    {
      "cell_type": "code",
      "metadata": {
        "colab": {
          "base_uri": "https://localhost:8080/"
        },
        "id": "mxAsW0Bhrse_",
        "outputId": "25091ac2-5224-47f0-d6f7-ef7dc8200730"
      },
      "source": [
        "from sklearn.feature_extraction import DictVectorizer\n",
        "vec = DictVectorizer(sparse=False, dtype=int)\n",
        "d=vec.fit_transform(data)\n",
        "d"
      ],
      "execution_count": 53,
      "outputs": [
        {
          "output_type": "execute_result",
          "data": {
            "text/plain": [
              "array([[   4,    0,    1,    0,    0, 8000],\n",
              "       [   3,    0,    0,    0,    1, 7000],\n",
              "       [   2,    1,    0,    0,    0, 5000],\n",
              "       [   1,    0,    0,    1,    0, 3000],\n",
              "       [   1,    0,    0,    1,    0, 3000]])"
            ]
          },
          "metadata": {},
          "execution_count": 53
        }
      ]
    },
    {
      "cell_type": "code",
      "metadata": {
        "colab": {
          "base_uri": "https://localhost:8080/"
        },
        "id": "jUKKFeXv7Mel",
        "outputId": "0c4a0d4f-00ee-40d9-cc30-624ffe18aa80"
      },
      "source": [
        "vec.get_feature_names()"
      ],
      "execution_count": 54,
      "outputs": [
        {
          "output_type": "stream",
          "name": "stderr",
          "text": [
            "/usr/local/lib/python3.7/dist-packages/sklearn/utils/deprecation.py:87: FutureWarning: Function get_feature_names is deprecated; get_feature_names is deprecated in 1.0 and will be removed in 1.2. Please use get_feature_names_out instead.\n",
            "  warnings.warn(msg, category=FutureWarning)\n"
          ]
        },
        {
          "output_type": "execute_result",
          "data": {
            "text/plain": [
              "['N bonus',\n",
              " 'Profesion=Abogado',\n",
              " 'Profesion=Ingeniero',\n",
              " 'Profesion=Maestro',\n",
              " 'Profesion=Medico',\n",
              " 'Salario']"
            ]
          },
          "metadata": {},
          "execution_count": 54
        }
      ]
    },
    {
      "cell_type": "code",
      "metadata": {
        "colab": {
          "base_uri": "https://localhost:8080/",
          "height": 261
        },
        "id": "kYUb5u7F-z0_",
        "outputId": "e7c38915-6a94-4512-f028-3df304314bf7"
      },
      "source": [
        "pd.DataFrame(d, columns=vec.get_feature_names())"
      ],
      "execution_count": 55,
      "outputs": [
        {
          "output_type": "stream",
          "name": "stderr",
          "text": [
            "/usr/local/lib/python3.7/dist-packages/sklearn/utils/deprecation.py:87: FutureWarning: Function get_feature_names is deprecated; get_feature_names is deprecated in 1.0 and will be removed in 1.2. Please use get_feature_names_out instead.\n",
            "  warnings.warn(msg, category=FutureWarning)\n"
          ]
        },
        {
          "output_type": "execute_result",
          "data": {
            "text/plain": [
              "   N bonus  Profesion=Abogado  Profesion=Ingeniero  Profesion=Maestro  \\\n",
              "0        4                  0                    1                  0   \n",
              "1        3                  0                    0                  0   \n",
              "2        2                  1                    0                  0   \n",
              "3        1                  0                    0                  1   \n",
              "4        1                  0                    0                  1   \n",
              "\n",
              "   Profesion=Medico  Salario  \n",
              "0                 0     8000  \n",
              "1                 1     7000  \n",
              "2                 0     5000  \n",
              "3                 0     3000  \n",
              "4                 0     3000  "
            ],
            "text/html": [
              "\n",
              "  <div id=\"df-fb6e4027-eaf9-4c9b-9a39-8088d064ef97\">\n",
              "    <div class=\"colab-df-container\">\n",
              "      <div>\n",
              "<style scoped>\n",
              "    .dataframe tbody tr th:only-of-type {\n",
              "        vertical-align: middle;\n",
              "    }\n",
              "\n",
              "    .dataframe tbody tr th {\n",
              "        vertical-align: top;\n",
              "    }\n",
              "\n",
              "    .dataframe thead th {\n",
              "        text-align: right;\n",
              "    }\n",
              "</style>\n",
              "<table border=\"1\" class=\"dataframe\">\n",
              "  <thead>\n",
              "    <tr style=\"text-align: right;\">\n",
              "      <th></th>\n",
              "      <th>N bonus</th>\n",
              "      <th>Profesion=Abogado</th>\n",
              "      <th>Profesion=Ingeniero</th>\n",
              "      <th>Profesion=Maestro</th>\n",
              "      <th>Profesion=Medico</th>\n",
              "      <th>Salario</th>\n",
              "    </tr>\n",
              "  </thead>\n",
              "  <tbody>\n",
              "    <tr>\n",
              "      <th>0</th>\n",
              "      <td>4</td>\n",
              "      <td>0</td>\n",
              "      <td>1</td>\n",
              "      <td>0</td>\n",
              "      <td>0</td>\n",
              "      <td>8000</td>\n",
              "    </tr>\n",
              "    <tr>\n",
              "      <th>1</th>\n",
              "      <td>3</td>\n",
              "      <td>0</td>\n",
              "      <td>0</td>\n",
              "      <td>0</td>\n",
              "      <td>1</td>\n",
              "      <td>7000</td>\n",
              "    </tr>\n",
              "    <tr>\n",
              "      <th>2</th>\n",
              "      <td>2</td>\n",
              "      <td>1</td>\n",
              "      <td>0</td>\n",
              "      <td>0</td>\n",
              "      <td>0</td>\n",
              "      <td>5000</td>\n",
              "    </tr>\n",
              "    <tr>\n",
              "      <th>3</th>\n",
              "      <td>1</td>\n",
              "      <td>0</td>\n",
              "      <td>0</td>\n",
              "      <td>1</td>\n",
              "      <td>0</td>\n",
              "      <td>3000</td>\n",
              "    </tr>\n",
              "    <tr>\n",
              "      <th>4</th>\n",
              "      <td>1</td>\n",
              "      <td>0</td>\n",
              "      <td>0</td>\n",
              "      <td>1</td>\n",
              "      <td>0</td>\n",
              "      <td>3000</td>\n",
              "    </tr>\n",
              "  </tbody>\n",
              "</table>\n",
              "</div>\n",
              "      <button class=\"colab-df-convert\" onclick=\"convertToInteractive('df-fb6e4027-eaf9-4c9b-9a39-8088d064ef97')\"\n",
              "              title=\"Convert this dataframe to an interactive table.\"\n",
              "              style=\"display:none;\">\n",
              "        \n",
              "  <svg xmlns=\"http://www.w3.org/2000/svg\" height=\"24px\"viewBox=\"0 0 24 24\"\n",
              "       width=\"24px\">\n",
              "    <path d=\"M0 0h24v24H0V0z\" fill=\"none\"/>\n",
              "    <path d=\"M18.56 5.44l.94 2.06.94-2.06 2.06-.94-2.06-.94-.94-2.06-.94 2.06-2.06.94zm-11 1L8.5 8.5l.94-2.06 2.06-.94-2.06-.94L8.5 2.5l-.94 2.06-2.06.94zm10 10l.94 2.06.94-2.06 2.06-.94-2.06-.94-.94-2.06-.94 2.06-2.06.94z\"/><path d=\"M17.41 7.96l-1.37-1.37c-.4-.4-.92-.59-1.43-.59-.52 0-1.04.2-1.43.59L10.3 9.45l-7.72 7.72c-.78.78-.78 2.05 0 2.83L4 21.41c.39.39.9.59 1.41.59.51 0 1.02-.2 1.41-.59l7.78-7.78 2.81-2.81c.8-.78.8-2.07 0-2.86zM5.41 20L4 18.59l7.72-7.72 1.47 1.35L5.41 20z\"/>\n",
              "  </svg>\n",
              "      </button>\n",
              "      \n",
              "  <style>\n",
              "    .colab-df-container {\n",
              "      display:flex;\n",
              "      flex-wrap:wrap;\n",
              "      gap: 12px;\n",
              "    }\n",
              "\n",
              "    .colab-df-convert {\n",
              "      background-color: #E8F0FE;\n",
              "      border: none;\n",
              "      border-radius: 50%;\n",
              "      cursor: pointer;\n",
              "      display: none;\n",
              "      fill: #1967D2;\n",
              "      height: 32px;\n",
              "      padding: 0 0 0 0;\n",
              "      width: 32px;\n",
              "    }\n",
              "\n",
              "    .colab-df-convert:hover {\n",
              "      background-color: #E2EBFA;\n",
              "      box-shadow: 0px 1px 2px rgba(60, 64, 67, 0.3), 0px 1px 3px 1px rgba(60, 64, 67, 0.15);\n",
              "      fill: #174EA6;\n",
              "    }\n",
              "\n",
              "    [theme=dark] .colab-df-convert {\n",
              "      background-color: #3B4455;\n",
              "      fill: #D2E3FC;\n",
              "    }\n",
              "\n",
              "    [theme=dark] .colab-df-convert:hover {\n",
              "      background-color: #434B5C;\n",
              "      box-shadow: 0px 1px 3px 1px rgba(0, 0, 0, 0.15);\n",
              "      filter: drop-shadow(0px 1px 2px rgba(0, 0, 0, 0.3));\n",
              "      fill: #FFFFFF;\n",
              "    }\n",
              "  </style>\n",
              "\n",
              "      <script>\n",
              "        const buttonEl =\n",
              "          document.querySelector('#df-fb6e4027-eaf9-4c9b-9a39-8088d064ef97 button.colab-df-convert');\n",
              "        buttonEl.style.display =\n",
              "          google.colab.kernel.accessAllowed ? 'block' : 'none';\n",
              "\n",
              "        async function convertToInteractive(key) {\n",
              "          const element = document.querySelector('#df-fb6e4027-eaf9-4c9b-9a39-8088d064ef97');\n",
              "          const dataTable =\n",
              "            await google.colab.kernel.invokeFunction('convertToInteractive',\n",
              "                                                     [key], {});\n",
              "          if (!dataTable) return;\n",
              "\n",
              "          const docLinkHtml = 'Like what you see? Visit the ' +\n",
              "            '<a target=\"_blank\" href=https://colab.research.google.com/notebooks/data_table.ipynb>data table notebook</a>'\n",
              "            + ' to learn more about interactive tables.';\n",
              "          element.innerHTML = '';\n",
              "          dataTable['output_type'] = 'display_data';\n",
              "          await google.colab.output.renderOutput(dataTable, element);\n",
              "          const docLink = document.createElement('div');\n",
              "          docLink.innerHTML = docLinkHtml;\n",
              "          element.appendChild(docLink);\n",
              "        }\n",
              "      </script>\n",
              "    </div>\n",
              "  </div>\n",
              "  "
            ]
          },
          "metadata": {},
          "execution_count": 55
        }
      ]
    },
    {
      "cell_type": "code",
      "metadata": {
        "colab": {
          "base_uri": "https://localhost:8080/"
        },
        "id": "ZiEuV_Lf77CC",
        "outputId": "9f1438f8-0682-4e59-ff86-3de500c1c921"
      },
      "source": [
        "vec = DictVectorizer(sparse=True, dtype=int)\n",
        "vec.fit_transform(data)"
      ],
      "execution_count": 56,
      "outputs": [
        {
          "output_type": "execute_result",
          "data": {
            "text/plain": [
              "<5x6 sparse matrix of type '<class 'numpy.int64'>'\n",
              "\twith 15 stored elements in Compressed Sparse Row format>"
            ]
          },
          "metadata": {},
          "execution_count": 56
        }
      ]
    },
    {
      "cell_type": "code",
      "metadata": {
        "colab": {
          "base_uri": "https://localhost:8080/"
        },
        "id": "7FvrjPj-79p1",
        "outputId": "72fff9ce-d65e-4ae3-b0d0-02de673ea0bc"
      },
      "source": [
        "vec.get_feature_names()"
      ],
      "execution_count": 57,
      "outputs": [
        {
          "output_type": "stream",
          "name": "stderr",
          "text": [
            "/usr/local/lib/python3.7/dist-packages/sklearn/utils/deprecation.py:87: FutureWarning: Function get_feature_names is deprecated; get_feature_names is deprecated in 1.0 and will be removed in 1.2. Please use get_feature_names_out instead.\n",
            "  warnings.warn(msg, category=FutureWarning)\n"
          ]
        },
        {
          "output_type": "execute_result",
          "data": {
            "text/plain": [
              "['N bonus',\n",
              " 'Profesion=Abogado',\n",
              " 'Profesion=Ingeniero',\n",
              " 'Profesion=Maestro',\n",
              " 'Profesion=Medico',\n",
              " 'Salario']"
            ]
          },
          "metadata": {},
          "execution_count": 57
        }
      ]
    },
    {
      "cell_type": "markdown",
      "metadata": {
        "id": "HBXlsEFC8HfY"
      },
      "source": [
        "## Texto\n",
        "\n",
        "* Otra necesidad común es convertir texto en un set de valores numéricos representativos.\n",
        "Por ejemplo, la mayor parte de la extracción de datos de redes sociales se basa en alguna forma de codificación del texto como números.\n",
        "\n",
        "* Uno de los métodos más simples para codificar datos es mediante *recuentos de palabras*: Se toma cada fragmento de texto, se cuenta las ocurrencias de cada palabra y se coloca los resultados en una tabla.\n",
        "\n",
        "* Por ejemplo, considere el siguiente conjunto de frases:"
      ]
    },
    {
      "cell_type": "code",
      "metadata": {
        "id": "EE_0DZyO8ykY"
      },
      "source": [
        "sample = ['Me gusta el ceviche',\n",
        "          'Lima es una ciudad muy contaminada',\n",
        "          'Las computadoras son muy eficientes en estos dias',\n",
        "          'Machine learning es muy interesante']"
      ],
      "execution_count": 58,
      "outputs": []
    },
    {
      "cell_type": "markdown",
      "metadata": {
        "id": "4iY7yqOt9Juo"
      },
      "source": [
        "* Para la vectorizacion de estos datos basada en el recuento de palabras, se construye una columna que represente la palabra \"ceviche\", la palabra \"Lima\", la palabra \"computadora\", etc."
      ]
    },
    {
      "cell_type": "code",
      "metadata": {
        "colab": {
          "base_uri": "https://localhost:8080/"
        },
        "id": "Z_LvL9wdBMmz",
        "outputId": "798f73ce-d1fc-4870-a17f-58d883a0a0d9"
      },
      "source": [
        "from sklearn.feature_extraction.text import CountVectorizer\n",
        "\n",
        "\n",
        "vec = CountVectorizer()\n",
        "X = vec.fit_transform(sample)\n",
        "print(X.toarray())"
      ],
      "execution_count": 59,
      "outputs": [
        {
          "output_type": "stream",
          "name": "stdout",
          "text": [
            "[[1 0 0 0 0 0 1 0 0 0 1 0 0 0 0 0 1 0 0 0]\n",
            " [0 1 0 1 0 0 0 0 1 0 0 0 0 0 1 0 0 1 0 1]\n",
            " [0 0 1 0 1 1 0 1 0 1 0 0 1 0 0 0 0 1 1 0]\n",
            " [0 0 0 0 0 0 0 0 1 0 0 1 0 1 0 1 0 1 0 0]]\n"
          ]
        }
      ]
    },
    {
      "cell_type": "code",
      "metadata": {
        "colab": {
          "base_uri": "https://localhost:8080/",
          "height": 274
        },
        "id": "tVHJ_CZ0BTA6",
        "outputId": "9e297041-33ab-4368-ad48-8b52d800808c"
      },
      "source": [
        "import pandas as pd\n",
        "pd.DataFrame(X.toarray(), columns=vec.get_feature_names())"
      ],
      "execution_count": 60,
      "outputs": [
        {
          "output_type": "stream",
          "name": "stderr",
          "text": [
            "/usr/local/lib/python3.7/dist-packages/sklearn/utils/deprecation.py:87: FutureWarning: Function get_feature_names is deprecated; get_feature_names is deprecated in 1.0 and will be removed in 1.2. Please use get_feature_names_out instead.\n",
            "  warnings.warn(msg, category=FutureWarning)\n"
          ]
        },
        {
          "output_type": "execute_result",
          "data": {
            "text/plain": [
              "   ceviche  ciudad  computadoras  contaminada  dias  eficientes  el  en  es  \\\n",
              "0        1       0             0            0     0           0   1   0   0   \n",
              "1        0       1             0            1     0           0   0   0   1   \n",
              "2        0       0             1            0     1           1   0   1   0   \n",
              "3        0       0             0            0     0           0   0   0   1   \n",
              "\n",
              "   estos  gusta  interesante  las  learning  lima  machine  me  muy  son  una  \n",
              "0      0      1            0    0         0     0        0   1    0    0    0  \n",
              "1      0      0            0    0         0     1        0   0    1    0    1  \n",
              "2      1      0            0    1         0     0        0   0    1    1    0  \n",
              "3      0      0            1    0         1     0        1   0    1    0    0  "
            ],
            "text/html": [
              "\n",
              "  <div id=\"df-23e7a3a0-9a15-46d1-9335-3fc074113b39\">\n",
              "    <div class=\"colab-df-container\">\n",
              "      <div>\n",
              "<style scoped>\n",
              "    .dataframe tbody tr th:only-of-type {\n",
              "        vertical-align: middle;\n",
              "    }\n",
              "\n",
              "    .dataframe tbody tr th {\n",
              "        vertical-align: top;\n",
              "    }\n",
              "\n",
              "    .dataframe thead th {\n",
              "        text-align: right;\n",
              "    }\n",
              "</style>\n",
              "<table border=\"1\" class=\"dataframe\">\n",
              "  <thead>\n",
              "    <tr style=\"text-align: right;\">\n",
              "      <th></th>\n",
              "      <th>ceviche</th>\n",
              "      <th>ciudad</th>\n",
              "      <th>computadoras</th>\n",
              "      <th>contaminada</th>\n",
              "      <th>dias</th>\n",
              "      <th>eficientes</th>\n",
              "      <th>el</th>\n",
              "      <th>en</th>\n",
              "      <th>es</th>\n",
              "      <th>estos</th>\n",
              "      <th>gusta</th>\n",
              "      <th>interesante</th>\n",
              "      <th>las</th>\n",
              "      <th>learning</th>\n",
              "      <th>lima</th>\n",
              "      <th>machine</th>\n",
              "      <th>me</th>\n",
              "      <th>muy</th>\n",
              "      <th>son</th>\n",
              "      <th>una</th>\n",
              "    </tr>\n",
              "  </thead>\n",
              "  <tbody>\n",
              "    <tr>\n",
              "      <th>0</th>\n",
              "      <td>1</td>\n",
              "      <td>0</td>\n",
              "      <td>0</td>\n",
              "      <td>0</td>\n",
              "      <td>0</td>\n",
              "      <td>0</td>\n",
              "      <td>1</td>\n",
              "      <td>0</td>\n",
              "      <td>0</td>\n",
              "      <td>0</td>\n",
              "      <td>1</td>\n",
              "      <td>0</td>\n",
              "      <td>0</td>\n",
              "      <td>0</td>\n",
              "      <td>0</td>\n",
              "      <td>0</td>\n",
              "      <td>1</td>\n",
              "      <td>0</td>\n",
              "      <td>0</td>\n",
              "      <td>0</td>\n",
              "    </tr>\n",
              "    <tr>\n",
              "      <th>1</th>\n",
              "      <td>0</td>\n",
              "      <td>1</td>\n",
              "      <td>0</td>\n",
              "      <td>1</td>\n",
              "      <td>0</td>\n",
              "      <td>0</td>\n",
              "      <td>0</td>\n",
              "      <td>0</td>\n",
              "      <td>1</td>\n",
              "      <td>0</td>\n",
              "      <td>0</td>\n",
              "      <td>0</td>\n",
              "      <td>0</td>\n",
              "      <td>0</td>\n",
              "      <td>1</td>\n",
              "      <td>0</td>\n",
              "      <td>0</td>\n",
              "      <td>1</td>\n",
              "      <td>0</td>\n",
              "      <td>1</td>\n",
              "    </tr>\n",
              "    <tr>\n",
              "      <th>2</th>\n",
              "      <td>0</td>\n",
              "      <td>0</td>\n",
              "      <td>1</td>\n",
              "      <td>0</td>\n",
              "      <td>1</td>\n",
              "      <td>1</td>\n",
              "      <td>0</td>\n",
              "      <td>1</td>\n",
              "      <td>0</td>\n",
              "      <td>1</td>\n",
              "      <td>0</td>\n",
              "      <td>0</td>\n",
              "      <td>1</td>\n",
              "      <td>0</td>\n",
              "      <td>0</td>\n",
              "      <td>0</td>\n",
              "      <td>0</td>\n",
              "      <td>1</td>\n",
              "      <td>1</td>\n",
              "      <td>0</td>\n",
              "    </tr>\n",
              "    <tr>\n",
              "      <th>3</th>\n",
              "      <td>0</td>\n",
              "      <td>0</td>\n",
              "      <td>0</td>\n",
              "      <td>0</td>\n",
              "      <td>0</td>\n",
              "      <td>0</td>\n",
              "      <td>0</td>\n",
              "      <td>0</td>\n",
              "      <td>1</td>\n",
              "      <td>0</td>\n",
              "      <td>0</td>\n",
              "      <td>1</td>\n",
              "      <td>0</td>\n",
              "      <td>1</td>\n",
              "      <td>0</td>\n",
              "      <td>1</td>\n",
              "      <td>0</td>\n",
              "      <td>1</td>\n",
              "      <td>0</td>\n",
              "      <td>0</td>\n",
              "    </tr>\n",
              "  </tbody>\n",
              "</table>\n",
              "</div>\n",
              "      <button class=\"colab-df-convert\" onclick=\"convertToInteractive('df-23e7a3a0-9a15-46d1-9335-3fc074113b39')\"\n",
              "              title=\"Convert this dataframe to an interactive table.\"\n",
              "              style=\"display:none;\">\n",
              "        \n",
              "  <svg xmlns=\"http://www.w3.org/2000/svg\" height=\"24px\"viewBox=\"0 0 24 24\"\n",
              "       width=\"24px\">\n",
              "    <path d=\"M0 0h24v24H0V0z\" fill=\"none\"/>\n",
              "    <path d=\"M18.56 5.44l.94 2.06.94-2.06 2.06-.94-2.06-.94-.94-2.06-.94 2.06-2.06.94zm-11 1L8.5 8.5l.94-2.06 2.06-.94-2.06-.94L8.5 2.5l-.94 2.06-2.06.94zm10 10l.94 2.06.94-2.06 2.06-.94-2.06-.94-.94-2.06-.94 2.06-2.06.94z\"/><path d=\"M17.41 7.96l-1.37-1.37c-.4-.4-.92-.59-1.43-.59-.52 0-1.04.2-1.43.59L10.3 9.45l-7.72 7.72c-.78.78-.78 2.05 0 2.83L4 21.41c.39.39.9.59 1.41.59.51 0 1.02-.2 1.41-.59l7.78-7.78 2.81-2.81c.8-.78.8-2.07 0-2.86zM5.41 20L4 18.59l7.72-7.72 1.47 1.35L5.41 20z\"/>\n",
              "  </svg>\n",
              "      </button>\n",
              "      \n",
              "  <style>\n",
              "    .colab-df-container {\n",
              "      display:flex;\n",
              "      flex-wrap:wrap;\n",
              "      gap: 12px;\n",
              "    }\n",
              "\n",
              "    .colab-df-convert {\n",
              "      background-color: #E8F0FE;\n",
              "      border: none;\n",
              "      border-radius: 50%;\n",
              "      cursor: pointer;\n",
              "      display: none;\n",
              "      fill: #1967D2;\n",
              "      height: 32px;\n",
              "      padding: 0 0 0 0;\n",
              "      width: 32px;\n",
              "    }\n",
              "\n",
              "    .colab-df-convert:hover {\n",
              "      background-color: #E2EBFA;\n",
              "      box-shadow: 0px 1px 2px rgba(60, 64, 67, 0.3), 0px 1px 3px 1px rgba(60, 64, 67, 0.15);\n",
              "      fill: #174EA6;\n",
              "    }\n",
              "\n",
              "    [theme=dark] .colab-df-convert {\n",
              "      background-color: #3B4455;\n",
              "      fill: #D2E3FC;\n",
              "    }\n",
              "\n",
              "    [theme=dark] .colab-df-convert:hover {\n",
              "      background-color: #434B5C;\n",
              "      box-shadow: 0px 1px 3px 1px rgba(0, 0, 0, 0.15);\n",
              "      filter: drop-shadow(0px 1px 2px rgba(0, 0, 0, 0.3));\n",
              "      fill: #FFFFFF;\n",
              "    }\n",
              "  </style>\n",
              "\n",
              "      <script>\n",
              "        const buttonEl =\n",
              "          document.querySelector('#df-23e7a3a0-9a15-46d1-9335-3fc074113b39 button.colab-df-convert');\n",
              "        buttonEl.style.display =\n",
              "          google.colab.kernel.accessAllowed ? 'block' : 'none';\n",
              "\n",
              "        async function convertToInteractive(key) {\n",
              "          const element = document.querySelector('#df-23e7a3a0-9a15-46d1-9335-3fc074113b39');\n",
              "          const dataTable =\n",
              "            await google.colab.kernel.invokeFunction('convertToInteractive',\n",
              "                                                     [key], {});\n",
              "          if (!dataTable) return;\n",
              "\n",
              "          const docLinkHtml = 'Like what you see? Visit the ' +\n",
              "            '<a target=\"_blank\" href=https://colab.research.google.com/notebooks/data_table.ipynb>data table notebook</a>'\n",
              "            + ' to learn more about interactive tables.';\n",
              "          element.innerHTML = '';\n",
              "          dataTable['output_type'] = 'display_data';\n",
              "          await google.colab.output.renderOutput(dataTable, element);\n",
              "          const docLink = document.createElement('div');\n",
              "          docLink.innerHTML = docLinkHtml;\n",
              "          element.appendChild(docLink);\n",
              "        }\n",
              "      </script>\n",
              "    </div>\n",
              "  </div>\n",
              "  "
            ]
          },
          "metadata": {},
          "execution_count": 60
        }
      ]
    },
    {
      "cell_type": "markdown",
      "metadata": {
        "id": "GwQiRzHkDPo9"
      },
      "source": [
        "* Sin embargo, existen algunos problemas con este enfoque donde los recuentos de palabras sin procesar dan lugar a características que ponen demasiado peso en las palabras que aparecen con mucha frecuencia y esto puede ser contraproducente en algunos problemas de clasificación.\n",
        "Un enfoque para solucionar este problema se conoce como *term frequency-inverse document frequency* (*TF-IDF*) que pondera el recuento de palabras por una medida de la frecuencia con la que aparecen en los documentos.\n",
        "La sintaxis para calcular es similar al ejemplo anterior:"
      ]
    },
    {
      "cell_type": "code",
      "metadata": {
        "colab": {
          "base_uri": "https://localhost:8080/",
          "height": 274
        },
        "id": "agHqI43FD4-u",
        "outputId": "6d1df713-6633-4fae-96b0-c935b0c006ee"
      },
      "source": [
        "from sklearn.feature_extraction.text import TfidfVectorizer\n",
        "vec = TfidfVectorizer()\n",
        "X = vec.fit_transform(sample)\n",
        "\n",
        "pd.DataFrame(X.toarray(), columns=vec.get_feature_names())"
      ],
      "execution_count": 61,
      "outputs": [
        {
          "output_type": "stream",
          "name": "stderr",
          "text": [
            "/usr/local/lib/python3.7/dist-packages/sklearn/utils/deprecation.py:87: FutureWarning: Function get_feature_names is deprecated; get_feature_names is deprecated in 1.0 and will be removed in 1.2. Please use get_feature_names_out instead.\n",
            "  warnings.warn(msg, category=FutureWarning)\n"
          ]
        },
        {
          "output_type": "execute_result",
          "data": {
            "text/plain": [
              "   ceviche    ciudad  computadoras  contaminada      dias  eficientes   el  \\\n",
              "0      0.5  0.000000      0.000000     0.000000  0.000000    0.000000  0.5   \n",
              "1      0.0  0.445922      0.000000     0.445922  0.000000    0.000000  0.0   \n",
              "2      0.0  0.000000      0.367423     0.000000  0.367423    0.367423  0.0   \n",
              "3      0.0  0.000000      0.000000     0.000000  0.000000    0.000000  0.0   \n",
              "\n",
              "         en        es     estos  gusta  interesante       las  learning  \\\n",
              "0  0.000000  0.000000  0.000000    0.5     0.000000  0.000000  0.000000   \n",
              "1  0.000000  0.351570  0.000000    0.0     0.000000  0.000000  0.000000   \n",
              "2  0.367423  0.000000  0.367423    0.0     0.000000  0.367423  0.000000   \n",
              "3  0.000000  0.392784  0.000000    0.0     0.498197  0.000000  0.498197   \n",
              "\n",
              "       lima   machine   me       muy       son       una  \n",
              "0  0.000000  0.000000  0.5  0.000000  0.000000  0.000000  \n",
              "1  0.445922  0.000000  0.0  0.284626  0.000000  0.445922  \n",
              "2  0.000000  0.000000  0.0  0.234522  0.367423  0.000000  \n",
              "3  0.000000  0.498197  0.0  0.317993  0.000000  0.000000  "
            ],
            "text/html": [
              "\n",
              "  <div id=\"df-3509a068-13fe-4ad2-8484-1901f13da9b3\">\n",
              "    <div class=\"colab-df-container\">\n",
              "      <div>\n",
              "<style scoped>\n",
              "    .dataframe tbody tr th:only-of-type {\n",
              "        vertical-align: middle;\n",
              "    }\n",
              "\n",
              "    .dataframe tbody tr th {\n",
              "        vertical-align: top;\n",
              "    }\n",
              "\n",
              "    .dataframe thead th {\n",
              "        text-align: right;\n",
              "    }\n",
              "</style>\n",
              "<table border=\"1\" class=\"dataframe\">\n",
              "  <thead>\n",
              "    <tr style=\"text-align: right;\">\n",
              "      <th></th>\n",
              "      <th>ceviche</th>\n",
              "      <th>ciudad</th>\n",
              "      <th>computadoras</th>\n",
              "      <th>contaminada</th>\n",
              "      <th>dias</th>\n",
              "      <th>eficientes</th>\n",
              "      <th>el</th>\n",
              "      <th>en</th>\n",
              "      <th>es</th>\n",
              "      <th>estos</th>\n",
              "      <th>gusta</th>\n",
              "      <th>interesante</th>\n",
              "      <th>las</th>\n",
              "      <th>learning</th>\n",
              "      <th>lima</th>\n",
              "      <th>machine</th>\n",
              "      <th>me</th>\n",
              "      <th>muy</th>\n",
              "      <th>son</th>\n",
              "      <th>una</th>\n",
              "    </tr>\n",
              "  </thead>\n",
              "  <tbody>\n",
              "    <tr>\n",
              "      <th>0</th>\n",
              "      <td>0.5</td>\n",
              "      <td>0.000000</td>\n",
              "      <td>0.000000</td>\n",
              "      <td>0.000000</td>\n",
              "      <td>0.000000</td>\n",
              "      <td>0.000000</td>\n",
              "      <td>0.5</td>\n",
              "      <td>0.000000</td>\n",
              "      <td>0.000000</td>\n",
              "      <td>0.000000</td>\n",
              "      <td>0.5</td>\n",
              "      <td>0.000000</td>\n",
              "      <td>0.000000</td>\n",
              "      <td>0.000000</td>\n",
              "      <td>0.000000</td>\n",
              "      <td>0.000000</td>\n",
              "      <td>0.5</td>\n",
              "      <td>0.000000</td>\n",
              "      <td>0.000000</td>\n",
              "      <td>0.000000</td>\n",
              "    </tr>\n",
              "    <tr>\n",
              "      <th>1</th>\n",
              "      <td>0.0</td>\n",
              "      <td>0.445922</td>\n",
              "      <td>0.000000</td>\n",
              "      <td>0.445922</td>\n",
              "      <td>0.000000</td>\n",
              "      <td>0.000000</td>\n",
              "      <td>0.0</td>\n",
              "      <td>0.000000</td>\n",
              "      <td>0.351570</td>\n",
              "      <td>0.000000</td>\n",
              "      <td>0.0</td>\n",
              "      <td>0.000000</td>\n",
              "      <td>0.000000</td>\n",
              "      <td>0.000000</td>\n",
              "      <td>0.445922</td>\n",
              "      <td>0.000000</td>\n",
              "      <td>0.0</td>\n",
              "      <td>0.284626</td>\n",
              "      <td>0.000000</td>\n",
              "      <td>0.445922</td>\n",
              "    </tr>\n",
              "    <tr>\n",
              "      <th>2</th>\n",
              "      <td>0.0</td>\n",
              "      <td>0.000000</td>\n",
              "      <td>0.367423</td>\n",
              "      <td>0.000000</td>\n",
              "      <td>0.367423</td>\n",
              "      <td>0.367423</td>\n",
              "      <td>0.0</td>\n",
              "      <td>0.367423</td>\n",
              "      <td>0.000000</td>\n",
              "      <td>0.367423</td>\n",
              "      <td>0.0</td>\n",
              "      <td>0.000000</td>\n",
              "      <td>0.367423</td>\n",
              "      <td>0.000000</td>\n",
              "      <td>0.000000</td>\n",
              "      <td>0.000000</td>\n",
              "      <td>0.0</td>\n",
              "      <td>0.234522</td>\n",
              "      <td>0.367423</td>\n",
              "      <td>0.000000</td>\n",
              "    </tr>\n",
              "    <tr>\n",
              "      <th>3</th>\n",
              "      <td>0.0</td>\n",
              "      <td>0.000000</td>\n",
              "      <td>0.000000</td>\n",
              "      <td>0.000000</td>\n",
              "      <td>0.000000</td>\n",
              "      <td>0.000000</td>\n",
              "      <td>0.0</td>\n",
              "      <td>0.000000</td>\n",
              "      <td>0.392784</td>\n",
              "      <td>0.000000</td>\n",
              "      <td>0.0</td>\n",
              "      <td>0.498197</td>\n",
              "      <td>0.000000</td>\n",
              "      <td>0.498197</td>\n",
              "      <td>0.000000</td>\n",
              "      <td>0.498197</td>\n",
              "      <td>0.0</td>\n",
              "      <td>0.317993</td>\n",
              "      <td>0.000000</td>\n",
              "      <td>0.000000</td>\n",
              "    </tr>\n",
              "  </tbody>\n",
              "</table>\n",
              "</div>\n",
              "      <button class=\"colab-df-convert\" onclick=\"convertToInteractive('df-3509a068-13fe-4ad2-8484-1901f13da9b3')\"\n",
              "              title=\"Convert this dataframe to an interactive table.\"\n",
              "              style=\"display:none;\">\n",
              "        \n",
              "  <svg xmlns=\"http://www.w3.org/2000/svg\" height=\"24px\"viewBox=\"0 0 24 24\"\n",
              "       width=\"24px\">\n",
              "    <path d=\"M0 0h24v24H0V0z\" fill=\"none\"/>\n",
              "    <path d=\"M18.56 5.44l.94 2.06.94-2.06 2.06-.94-2.06-.94-.94-2.06-.94 2.06-2.06.94zm-11 1L8.5 8.5l.94-2.06 2.06-.94-2.06-.94L8.5 2.5l-.94 2.06-2.06.94zm10 10l.94 2.06.94-2.06 2.06-.94-2.06-.94-.94-2.06-.94 2.06-2.06.94z\"/><path d=\"M17.41 7.96l-1.37-1.37c-.4-.4-.92-.59-1.43-.59-.52 0-1.04.2-1.43.59L10.3 9.45l-7.72 7.72c-.78.78-.78 2.05 0 2.83L4 21.41c.39.39.9.59 1.41.59.51 0 1.02-.2 1.41-.59l7.78-7.78 2.81-2.81c.8-.78.8-2.07 0-2.86zM5.41 20L4 18.59l7.72-7.72 1.47 1.35L5.41 20z\"/>\n",
              "  </svg>\n",
              "      </button>\n",
              "      \n",
              "  <style>\n",
              "    .colab-df-container {\n",
              "      display:flex;\n",
              "      flex-wrap:wrap;\n",
              "      gap: 12px;\n",
              "    }\n",
              "\n",
              "    .colab-df-convert {\n",
              "      background-color: #E8F0FE;\n",
              "      border: none;\n",
              "      border-radius: 50%;\n",
              "      cursor: pointer;\n",
              "      display: none;\n",
              "      fill: #1967D2;\n",
              "      height: 32px;\n",
              "      padding: 0 0 0 0;\n",
              "      width: 32px;\n",
              "    }\n",
              "\n",
              "    .colab-df-convert:hover {\n",
              "      background-color: #E2EBFA;\n",
              "      box-shadow: 0px 1px 2px rgba(60, 64, 67, 0.3), 0px 1px 3px 1px rgba(60, 64, 67, 0.15);\n",
              "      fill: #174EA6;\n",
              "    }\n",
              "\n",
              "    [theme=dark] .colab-df-convert {\n",
              "      background-color: #3B4455;\n",
              "      fill: #D2E3FC;\n",
              "    }\n",
              "\n",
              "    [theme=dark] .colab-df-convert:hover {\n",
              "      background-color: #434B5C;\n",
              "      box-shadow: 0px 1px 3px 1px rgba(0, 0, 0, 0.15);\n",
              "      filter: drop-shadow(0px 1px 2px rgba(0, 0, 0, 0.3));\n",
              "      fill: #FFFFFF;\n",
              "    }\n",
              "  </style>\n",
              "\n",
              "      <script>\n",
              "        const buttonEl =\n",
              "          document.querySelector('#df-3509a068-13fe-4ad2-8484-1901f13da9b3 button.colab-df-convert');\n",
              "        buttonEl.style.display =\n",
              "          google.colab.kernel.accessAllowed ? 'block' : 'none';\n",
              "\n",
              "        async function convertToInteractive(key) {\n",
              "          const element = document.querySelector('#df-3509a068-13fe-4ad2-8484-1901f13da9b3');\n",
              "          const dataTable =\n",
              "            await google.colab.kernel.invokeFunction('convertToInteractive',\n",
              "                                                     [key], {});\n",
              "          if (!dataTable) return;\n",
              "\n",
              "          const docLinkHtml = 'Like what you see? Visit the ' +\n",
              "            '<a target=\"_blank\" href=https://colab.research.google.com/notebooks/data_table.ipynb>data table notebook</a>'\n",
              "            + ' to learn more about interactive tables.';\n",
              "          element.innerHTML = '';\n",
              "          dataTable['output_type'] = 'display_data';\n",
              "          await google.colab.output.renderOutput(dataTable, element);\n",
              "          const docLink = document.createElement('div');\n",
              "          docLink.innerHTML = docLinkHtml;\n",
              "          element.appendChild(docLink);\n",
              "        }\n",
              "      </script>\n",
              "    </div>\n",
              "  </div>\n",
              "  "
            ]
          },
          "metadata": {},
          "execution_count": 61
        }
      ]
    },
    {
      "cell_type": "markdown",
      "metadata": {
        "id": "OB5__CHxHICv"
      },
      "source": [
        "## Clasificación bayesiana (Modelos generativos)\n",
        "\n",
        "* Los clasificadores Naive Bayes se basan en el teorema de Bayes que describe la relación de probabilidades condicionales.\n",
        "En la clasificación bayesiana se desea encontrar la probabilidad de una etiqueta dadas algunos atributos observados, que podemos escribir como $P(C_k~|~{\\rm atributos})$.\n",
        "\n",
        "* Segun el teorema de Bayes:\n",
        "\n",
        "$$P(C_k~|~{\\rm atributos}) = \\frac{P({\\rm atributos}~|~C_k)P(C_k)}{P({\\rm atributos})}$$\n",
        "\n",
        "* Si estamos tratando de decidir entre dos etiquetas, llamémoslas $C_0$ y $C_1$, entonces una forma de tomar esta decisión es calcular la razón de las probabilidades posteriores para cada etiqueta:\n",
        "\n",
        "$$\\frac{P(C_0~|~{\\rm atributos})}{P(C_1~|~{\\rm atributos})} = \\frac{P({\\rm atributos}~|~C_0)}{P({\\rm atributos}~|~C_1)}\\frac{P(C_0)}{P(C_1)}\n",
        "$$\n",
        "\n",
        "* Todo lo que se necesita es algún modelo mediante el cual podamos calcular  $P({\\rm atributos}~|~C_k)$ para cada etiqueta.\n",
        "\n",
        "* Especificar el modelo generativo para cada etiqueta es la parte principal del entrenamiento del clasificador bayesiano.\n",
        "La versión general de dicho paso de entrenamiento es una tarea muy difícil, pero se simplifica mediante el uso de algunas suposiciones sobre la forma del modelo y el dataset. Los diferentes tipos de clasificadores Naive Bayes se basan en diferentes suposiciones."
      ]
    },
    {
      "cell_type": "code",
      "metadata": {
        "colab": {
          "base_uri": "https://localhost:8080/",
          "height": 285
        },
        "id": "7sm0VQw2J9pC",
        "outputId": "9f124e11-c5e6-4235-fcfd-916d4b2c2ab8"
      },
      "source": [
        "from sklearn.datasets import make_blobs\n",
        "X, y = make_blobs(500, 2, centers=3, center_box=(-10,10),cluster_std=1)\n",
        "plt.scatter(X[:, 0], X[:, 1], c=y, s=10,cmap='brg')"
      ],
      "execution_count": 62,
      "outputs": [
        {
          "output_type": "execute_result",
          "data": {
            "text/plain": [
              "<matplotlib.collections.PathCollection at 0x7fbb5075c550>"
            ]
          },
          "metadata": {},
          "execution_count": 62
        },
        {
          "output_type": "display_data",
          "data": {
            "text/plain": [
              "<Figure size 432x288 with 1 Axes>"
            ],
            "image/png": "[encoded data removed]"
          },
          "metadata": {}
        }
      ]
    },
    {
      "cell_type": "code",
      "metadata": {
        "colab": {
          "base_uri": "https://localhost:8080/",
          "height": 285
        },
        "id": "eYX6-qQnLwhy",
        "outputId": "e10ab4ae-180f-426b-bd66-a71a565637d4"
      },
      "source": [
        "plt.scatter(X[:, 0], X[:, 1], c=y, s=10, cmap='brg')\n",
        "plt.title('Naive Bayes', size=14)\n",
        "\n",
        "xg = np.linspace(X[:, 0].min()-2, X[:, 0].max()+2, 60)\n",
        "yg = np.linspace(X[:, 1].min()-2, X[:, 1].max()+2, 60)\n",
        "\n",
        "xx, yy = np.meshgrid(xg, yg)\n",
        "Xgrid = np.vstack([xx.ravel(), yy.ravel()]).T\n",
        "\n",
        "for label, color in enumerate(['blue', 'red','green']):\n",
        "    mask = (y == label)\n",
        "    mu, std = X[mask].mean(0), X[mask].std(0)\n",
        "    P = np.exp(-0.5 * (Xgrid - mu) ** 2 / std ** 2).prod(1)\n",
        "    plt.contour(xx, yy, P.reshape(xx.shape), levels=[0.001, 0.01, 0.1, 0.5, 1, 10,100],\n",
        "               colors=color, alpha=0.3)\n",
        "    "
      ],
      "execution_count": 13,
      "outputs": [
        {
          "output_type": "display_data",
          "data": {
            "text/plain": [
              "<Figure size 432x288 with 1 Axes>"
            ],
            "image/png": "[encoded data removed]"
          },
          "metadata": {}
        }
      ]
    },
    {
      "cell_type": "markdown",
      "metadata": {
        "id": "2j3KVWGORa1w"
      },
      "source": [
        "Las elipses representan el modelo generativo gaussiano para cada etiqueta, con mayor probabilidad hacia el centro de las elipses.\n",
        "Con este modelo generativo implementado para cada clase, tenemos una forma simple para calcular la probabilidad $P({\\rm atributos}~|~C_k)$ para cualquier punto de datos calculando el posterior y determinar qué etiqueta es la más probable."
      ]
    },
    {
      "cell_type": "code",
      "metadata": {
        "id": "HyWYOJdXQUqq",
        "colab": {
          "base_uri": "https://localhost:8080/"
        },
        "outputId": "961c5d22-92a2-4b2f-dc5b-623bbbb3b7c4"
      },
      "source": [
        "from sklearn.naive_bayes import GaussianNB\n",
        "model = GaussianNB(priors=[0.1,0.2,0.7])\n",
        "model.fit(X, y)"
      ],
      "execution_count": 14,
      "outputs": [
        {
          "output_type": "execute_result",
          "data": {
            "text/plain": [
              "GaussianNB(priors=[0.1, 0.2, 0.7])"
            ]
          },
          "metadata": {},
          "execution_count": 14
        }
      ]
    },
    {
      "cell_type": "code",
      "metadata": {
        "id": "4WyQk-GtSEZT"
      },
      "source": [
        "Xnew = [-15, 10]* np.random.uniform(-1,1,(4000, 2))\n",
        "ynew = model.predict(Xnew)"
      ],
      "execution_count": 15,
      "outputs": []
    },
    {
      "cell_type": "code",
      "metadata": {
        "colab": {
          "base_uri": "https://localhost:8080/",
          "height": 285
        },
        "id": "UEonCkRDSNTw",
        "outputId": "79a40837-6705-4247-d716-05ef4201501b"
      },
      "source": [
        "plt.scatter(X[:, 0], X[:, 1], c=y, s=50, cmap='brg')\n",
        "plt.scatter(Xnew[:, 0], Xnew[:, 1], c=ynew, s=20, cmap='brg', alpha=0.1)"
      ],
      "execution_count": 16,
      "outputs": [
        {
          "output_type": "execute_result",
          "data": {
            "text/plain": [
              "<matplotlib.collections.PathCollection at 0x7fbb51c39f90>"
            ]
          },
          "metadata": {},
          "execution_count": 16
        },
        {
          "output_type": "display_data",
          "data": {
            "text/plain": [
              "<Figure size 432x288 with 1 Axes>"
            ],
            "image/png": "[encoded data removed]"
          },
          "metadata": {}
        }
      ]
    },
    {
      "cell_type": "code",
      "metadata": {
        "colab": {
          "base_uri": "https://localhost:8080/"
        },
        "id": "X8qPT3H2V3j5",
        "outputId": "4f0b306b-a805-471a-c7c3-11fab9158b12"
      },
      "source": [
        "yprob = model.predict_proba(Xnew)\n",
        "yprob[20:].round(2)"
      ],
      "execution_count": 17,
      "outputs": [
        {
          "output_type": "execute_result",
          "data": {
            "text/plain": [
              "array([[0.  , 1.  , 0.  ],\n",
              "       [0.  , 0.  , 1.  ],\n",
              "       [0.02, 0.  , 0.98],\n",
              "       ...,\n",
              "       [0.  , 1.  , 0.  ],\n",
              "       [0.  , 1.  , 0.  ],\n",
              "       [0.  , 1.  , 0.  ]])"
            ]
          },
          "metadata": {},
          "execution_count": 17
        }
      ]
    },
    {
      "cell_type": "markdown",
      "metadata": {
        "id": "HoZdLHisXjhM"
      },
      "source": [
        "##Email spam (Naive bayes)\n",
        "\n",
        "* La distribución multinomial es una generalización de la distribución binomial y modela n ensayos independientes donde cada uno conduce a un éxito para cada una de las k categorías, y cada categoría tiene una probabilidad de éxito fija. La distribución multinomial da la probabilidad de cualquier combinación particular de números de éxitos para las diversas categorías. Por ejemplo modela la probabilidad de conteos para cada cara de un dado de 6 caras lanzado n veces.\n",
        "\n",
        "* Una de las aplicaciones más populares del aprendizaje automático es el análisis de datos categóricos, específicamente datos de texto. \n",
        "\n",
        "* A pesar de los supuestos aparentemente simplificados en exceso, los clasificadores Naive bayes han funcionado bastante bien en muchas situaciones reales, como la clasificación de documentos y el filtrado de spam. Requieren una pequeña cantidad de datos de entrenamiento para estimar los parámetros necesarios.\n",
        "\n",
        "* Estos clasificadores pueden ser extremadamente rápidos en comparación con métodos más sofisticados. El desacoplamiento de las distribuciones de características condicionales de clase significa que cada distribución se puede estimar de forma independiente como una distribución unidimensional. Esto, a su vez, ayuda a aliviar los problemas derivados de la maldición de la dimensionalidad."
      ]
    },
    {
      "cell_type": "code",
      "metadata": {
        "id": "0Wo3gCLsXiAG",
        "colab": {
          "base_uri": "https://localhost:8080/",
          "height": 424
        },
        "outputId": "5adbf3ac-3208-42f5-8dd8-85f157cb5ec3"
      },
      "source": [
        "import pandas as pd\n",
        "import requests\n",
        "url = 'https://raw.githubusercontent.com/PCL-AI/MT616_2019_1/master/Lab08/email_spam.csv'\n",
        "\n",
        "df = pd.read_csv(url)\n",
        "df"
      ],
      "execution_count": 18,
      "outputs": [
        {
          "output_type": "execute_result",
          "data": {
            "text/plain": [
              "     Category                                            Message\n",
              "0         ham  Go until jurong point, crazy.. Available only ...\n",
              "1         ham                      Ok lar... Joking wif u oni...\n",
              "2        spam  Free entry in 2 a wkly comp to win FA Cup fina...\n",
              "3         ham  U dun say so early hor... U c already then say...\n",
              "4         ham  Nah I don't think he goes to usf, he lives aro...\n",
              "...       ...                                                ...\n",
              "5567     spam  This is the 2nd time we have tried 2 contact u...\n",
              "5568      ham               Will ü b going to esplanade fr home?\n",
              "5569      ham  Pity, * was in mood for that. So...any other s...\n",
              "5570      ham  The guy did some bitching but I acted like i'd...\n",
              "5571      ham                         Rofl. Its true to its name\n",
              "\n",
              "[5572 rows x 2 columns]"
            ],
            "text/html": [
              "\n",
              "  <div id=\"df-75493d1f-5c40-46c5-b7d4-fa3661389d09\">\n",
              "    <div class=\"colab-df-container\">\n",
              "      <div>\n",
              "<style scoped>\n",
              "    .dataframe tbody tr th:only-of-type {\n",
              "        vertical-align: middle;\n",
              "    }\n",
              "\n",
              "    .dataframe tbody tr th {\n",
              "        vertical-align: top;\n",
              "    }\n",
              "\n",
              "    .dataframe thead th {\n",
              "        text-align: right;\n",
              "    }\n",
              "</style>\n",
              "<table border=\"1\" class=\"dataframe\">\n",
              "  <thead>\n",
              "    <tr style=\"text-align: right;\">\n",
              "      <th></th>\n",
              "      <th>Category</th>\n",
              "      <th>Message</th>\n",
              "    </tr>\n",
              "  </thead>\n",
              "  <tbody>\n",
              "    <tr>\n",
              "      <th>0</th>\n",
              "      <td>ham</td>\n",
              "      <td>Go until jurong point, crazy.. Available only ...</td>\n",
              "    </tr>\n",
              "    <tr>\n",
              "      <th>1</th>\n",
              "      <td>ham</td>\n",
              "      <td>Ok lar... Joking wif u oni...</td>\n",
              "    </tr>\n",
              "    <tr>\n",
              "      <th>2</th>\n",
              "      <td>spam</td>\n",
              "      <td>Free entry in 2 a wkly comp to win FA Cup fina...</td>\n",
              "    </tr>\n",
              "    <tr>\n",
              "      <th>3</th>\n",
              "      <td>ham</td>\n",
              "      <td>U dun say so early hor... U c already then say...</td>\n",
              "    </tr>\n",
              "    <tr>\n",
              "      <th>4</th>\n",
              "      <td>ham</td>\n",
              "      <td>Nah I don't think he goes to usf, he lives aro...</td>\n",
              "    </tr>\n",
              "    <tr>\n",
              "      <th>...</th>\n",
              "      <td>...</td>\n",
              "      <td>...</td>\n",
              "    </tr>\n",
              "    <tr>\n",
              "      <th>5567</th>\n",
              "      <td>spam</td>\n",
              "      <td>This is the 2nd time we have tried 2 contact u...</td>\n",
              "    </tr>\n",
              "    <tr>\n",
              "      <th>5568</th>\n",
              "      <td>ham</td>\n",
              "      <td>Will ü b going to esplanade fr home?</td>\n",
              "    </tr>\n",
              "    <tr>\n",
              "      <th>5569</th>\n",
              "      <td>ham</td>\n",
              "      <td>Pity, * was in mood for that. So...any other s...</td>\n",
              "    </tr>\n",
              "    <tr>\n",
              "      <th>5570</th>\n",
              "      <td>ham</td>\n",
              "      <td>The guy did some bitching but I acted like i'd...</td>\n",
              "    </tr>\n",
              "    <tr>\n",
              "      <th>5571</th>\n",
              "      <td>ham</td>\n",
              "      <td>Rofl. Its true to its name</td>\n",
              "    </tr>\n",
              "  </tbody>\n",
              "</table>\n",
              "<p>5572 rows × 2 columns</p>\n",
              "</div>\n",
              "      <button class=\"colab-df-convert\" onclick=\"convertToInteractive('df-75493d1f-5c40-46c5-b7d4-fa3661389d09')\"\n",
              "              title=\"Convert this dataframe to an interactive table.\"\n",
              "              style=\"display:none;\">\n",
              "        \n",
              "  <svg xmlns=\"http://www.w3.org/2000/svg\" height=\"24px\"viewBox=\"0 0 24 24\"\n",
              "       width=\"24px\">\n",
              "    <path d=\"M0 0h24v24H0V0z\" fill=\"none\"/>\n",
              "    <path d=\"M18.56 5.44l.94 2.06.94-2.06 2.06-.94-2.06-.94-.94-2.06-.94 2.06-2.06.94zm-11 1L8.5 8.5l.94-2.06 2.06-.94-2.06-.94L8.5 2.5l-.94 2.06-2.06.94zm10 10l.94 2.06.94-2.06 2.06-.94-2.06-.94-.94-2.06-.94 2.06-2.06.94z\"/><path d=\"M17.41 7.96l-1.37-1.37c-.4-.4-.92-.59-1.43-.59-.52 0-1.04.2-1.43.59L10.3 9.45l-7.72 7.72c-.78.78-.78 2.05 0 2.83L4 21.41c.39.39.9.59 1.41.59.51 0 1.02-.2 1.41-.59l7.78-7.78 2.81-2.81c.8-.78.8-2.07 0-2.86zM5.41 20L4 18.59l7.72-7.72 1.47 1.35L5.41 20z\"/>\n",
              "  </svg>\n",
              "      </button>\n",
              "      \n",
              "  <style>\n",
              "    .colab-df-container {\n",
              "      display:flex;\n",
              "      flex-wrap:wrap;\n",
              "      gap: 12px;\n",
              "    }\n",
              "\n",
              "    .colab-df-convert {\n",
              "      background-color: #E8F0FE;\n",
              "      border: none;\n",
              "      border-radius: 50%;\n",
              "      cursor: pointer;\n",
              "      display: none;\n",
              "      fill: #1967D2;\n",
              "      height: 32px;\n",
              "      padding: 0 0 0 0;\n",
              "      width: 32px;\n",
              "    }\n",
              "\n",
              "    .colab-df-convert:hover {\n",
              "      background-color: #E2EBFA;\n",
              "      box-shadow: 0px 1px 2px rgba(60, 64, 67, 0.3), 0px 1px 3px 1px rgba(60, 64, 67, 0.15);\n",
              "      fill: #174EA6;\n",
              "    }\n",
              "\n",
              "    [theme=dark] .colab-df-convert {\n",
              "      background-color: #3B4455;\n",
              "      fill: #D2E3FC;\n",
              "    }\n",
              "\n",
              "    [theme=dark] .colab-df-convert:hover {\n",
              "      background-color: #434B5C;\n",
              "      box-shadow: 0px 1px 3px 1px rgba(0, 0, 0, 0.15);\n",
              "      filter: drop-shadow(0px 1px 2px rgba(0, 0, 0, 0.3));\n",
              "      fill: #FFFFFF;\n",
              "    }\n",
              "  </style>\n",
              "\n",
              "      <script>\n",
              "        const buttonEl =\n",
              "          document.querySelector('#df-75493d1f-5c40-46c5-b7d4-fa3661389d09 button.colab-df-convert');\n",
              "        buttonEl.style.display =\n",
              "          google.colab.kernel.accessAllowed ? 'block' : 'none';\n",
              "\n",
              "        async function convertToInteractive(key) {\n",
              "          const element = document.querySelector('#df-75493d1f-5c40-46c5-b7d4-fa3661389d09');\n",
              "          const dataTable =\n",
              "            await google.colab.kernel.invokeFunction('convertToInteractive',\n",
              "                                                     [key], {});\n",
              "          if (!dataTable) return;\n",
              "\n",
              "          const docLinkHtml = 'Like what you see? Visit the ' +\n",
              "            '<a target=\"_blank\" href=https://colab.research.google.com/notebooks/data_table.ipynb>data table notebook</a>'\n",
              "            + ' to learn more about interactive tables.';\n",
              "          element.innerHTML = '';\n",
              "          dataTable['output_type'] = 'display_data';\n",
              "          await google.colab.output.renderOutput(dataTable, element);\n",
              "          const docLink = document.createElement('div');\n",
              "          docLink.innerHTML = docLinkHtml;\n",
              "          element.appendChild(docLink);\n",
              "        }\n",
              "      </script>\n",
              "    </div>\n",
              "  </div>\n",
              "  "
            ]
          },
          "metadata": {},
          "execution_count": 18
        }
      ]
    },
    {
      "cell_type": "code",
      "metadata": {
        "colab": {
          "base_uri": "https://localhost:8080/",
          "height": 175
        },
        "id": "xd-_-AasfIM-",
        "outputId": "046f22d8-6241-45c8-ef7e-3ddf1577c296"
      },
      "source": [
        "df.groupby('Category').describe()"
      ],
      "execution_count": 19,
      "outputs": [
        {
          "output_type": "execute_result",
          "data": {
            "text/plain": [
              "         Message                                                            \\\n",
              "           count unique                                                top   \n",
              "Category                                                                     \n",
              "ham         4825   4516                             Sorry, I'll call later   \n",
              "spam         747    641  Please call our customer service representativ...   \n",
              "\n",
              "               \n",
              "         freq  \n",
              "Category       \n",
              "ham        30  \n",
              "spam        4  "
            ],
            "text/html": [
              "\n",
              "  <div id=\"df-061a5a31-6387-48a4-b707-b5b752fb0bdd\">\n",
              "    <div class=\"colab-df-container\">\n",
              "      <div>\n",
              "<style scoped>\n",
              "    .dataframe tbody tr th:only-of-type {\n",
              "        vertical-align: middle;\n",
              "    }\n",
              "\n",
              "    .dataframe tbody tr th {\n",
              "        vertical-align: top;\n",
              "    }\n",
              "\n",
              "    .dataframe thead tr th {\n",
              "        text-align: left;\n",
              "    }\n",
              "\n",
              "    .dataframe thead tr:last-of-type th {\n",
              "        text-align: right;\n",
              "    }\n",
              "</style>\n",
              "<table border=\"1\" class=\"dataframe\">\n",
              "  <thead>\n",
              "    <tr>\n",
              "      <th></th>\n",
              "      <th colspan=\"4\" halign=\"left\">Message</th>\n",
              "    </tr>\n",
              "    <tr>\n",
              "      <th></th>\n",
              "      <th>count</th>\n",
              "      <th>unique</th>\n",
              "      <th>top</th>\n",
              "      <th>freq</th>\n",
              "    </tr>\n",
              "    <tr>\n",
              "      <th>Category</th>\n",
              "      <th></th>\n",
              "      <th></th>\n",
              "      <th></th>\n",
              "      <th></th>\n",
              "    </tr>\n",
              "  </thead>\n",
              "  <tbody>\n",
              "    <tr>\n",
              "      <th>ham</th>\n",
              "      <td>4825</td>\n",
              "      <td>4516</td>\n",
              "      <td>Sorry, I'll call later</td>\n",
              "      <td>30</td>\n",
              "    </tr>\n",
              "    <tr>\n",
              "      <th>spam</th>\n",
              "      <td>747</td>\n",
              "      <td>641</td>\n",
              "      <td>Please call our customer service representativ...</td>\n",
              "      <td>4</td>\n",
              "    </tr>\n",
              "  </tbody>\n",
              "</table>\n",
              "</div>\n",
              "      <button class=\"colab-df-convert\" onclick=\"convertToInteractive('df-061a5a31-6387-48a4-b707-b5b752fb0bdd')\"\n",
              "              title=\"Convert this dataframe to an interactive table.\"\n",
              "              style=\"display:none;\">\n",
              "        \n",
              "  <svg xmlns=\"http://www.w3.org/2000/svg\" height=\"24px\"viewBox=\"0 0 24 24\"\n",
              "       width=\"24px\">\n",
              "    <path d=\"M0 0h24v24H0V0z\" fill=\"none\"/>\n",
              "    <path d=\"M18.56 5.44l.94 2.06.94-2.06 2.06-.94-2.06-.94-.94-2.06-.94 2.06-2.06.94zm-11 1L8.5 8.5l.94-2.06 2.06-.94-2.06-.94L8.5 2.5l-.94 2.06-2.06.94zm10 10l.94 2.06.94-2.06 2.06-.94-2.06-.94-.94-2.06-.94 2.06-2.06.94z\"/><path d=\"M17.41 7.96l-1.37-1.37c-.4-.4-.92-.59-1.43-.59-.52 0-1.04.2-1.43.59L10.3 9.45l-7.72 7.72c-.78.78-.78 2.05 0 2.83L4 21.41c.39.39.9.59 1.41.59.51 0 1.02-.2 1.41-.59l7.78-7.78 2.81-2.81c.8-.78.8-2.07 0-2.86zM5.41 20L4 18.59l7.72-7.72 1.47 1.35L5.41 20z\"/>\n",
              "  </svg>\n",
              "      </button>\n",
              "      \n",
              "  <style>\n",
              "    .colab-df-container {\n",
              "      display:flex;\n",
              "      flex-wrap:wrap;\n",
              "      gap: 12px;\n",
              "    }\n",
              "\n",
              "    .colab-df-convert {\n",
              "      background-color: #E8F0FE;\n",
              "      border: none;\n",
              "      border-radius: 50%;\n",
              "      cursor: pointer;\n",
              "      display: none;\n",
              "      fill: #1967D2;\n",
              "      height: 32px;\n",
              "      padding: 0 0 0 0;\n",
              "      width: 32px;\n",
              "    }\n",
              "\n",
              "    .colab-df-convert:hover {\n",
              "      background-color: #E2EBFA;\n",
              "      box-shadow: 0px 1px 2px rgba(60, 64, 67, 0.3), 0px 1px 3px 1px rgba(60, 64, 67, 0.15);\n",
              "      fill: #174EA6;\n",
              "    }\n",
              "\n",
              "    [theme=dark] .colab-df-convert {\n",
              "      background-color: #3B4455;\n",
              "      fill: #D2E3FC;\n",
              "    }\n",
              "\n",
              "    [theme=dark] .colab-df-convert:hover {\n",
              "      background-color: #434B5C;\n",
              "      box-shadow: 0px 1px 3px 1px rgba(0, 0, 0, 0.15);\n",
              "      filter: drop-shadow(0px 1px 2px rgba(0, 0, 0, 0.3));\n",
              "      fill: #FFFFFF;\n",
              "    }\n",
              "  </style>\n",
              "\n",
              "      <script>\n",
              "        const buttonEl =\n",
              "          document.querySelector('#df-061a5a31-6387-48a4-b707-b5b752fb0bdd button.colab-df-convert');\n",
              "        buttonEl.style.display =\n",
              "          google.colab.kernel.accessAllowed ? 'block' : 'none';\n",
              "\n",
              "        async function convertToInteractive(key) {\n",
              "          const element = document.querySelector('#df-061a5a31-6387-48a4-b707-b5b752fb0bdd');\n",
              "          const dataTable =\n",
              "            await google.colab.kernel.invokeFunction('convertToInteractive',\n",
              "                                                     [key], {});\n",
              "          if (!dataTable) return;\n",
              "\n",
              "          const docLinkHtml = 'Like what you see? Visit the ' +\n",
              "            '<a target=\"_blank\" href=https://colab.research.google.com/notebooks/data_table.ipynb>data table notebook</a>'\n",
              "            + ' to learn more about interactive tables.';\n",
              "          element.innerHTML = '';\n",
              "          dataTable['output_type'] = 'display_data';\n",
              "          await google.colab.output.renderOutput(dataTable, element);\n",
              "          const docLink = document.createElement('div');\n",
              "          docLink.innerHTML = docLinkHtml;\n",
              "          element.appendChild(docLink);\n",
              "        }\n",
              "      </script>\n",
              "    </div>\n",
              "  </div>\n",
              "  "
            ]
          },
          "metadata": {},
          "execution_count": 19
        }
      ]
    },
    {
      "cell_type": "code",
      "metadata": {
        "colab": {
          "base_uri": "https://localhost:8080/",
          "height": 206
        },
        "id": "HE9ms7otfRqs",
        "outputId": "a544f36e-5a96-426f-a60f-783705676e76"
      },
      "source": [
        "df['spam']=df['Category'].apply(lambda x: 1 if x=='spam' else 0)\n",
        "df.head()"
      ],
      "execution_count": 20,
      "outputs": [
        {
          "output_type": "execute_result",
          "data": {
            "text/plain": [
              "  Category                                            Message  spam\n",
              "0      ham  Go until jurong point, crazy.. Available only ...     0\n",
              "1      ham                      Ok lar... Joking wif u oni...     0\n",
              "2     spam  Free entry in 2 a wkly comp to win FA Cup fina...     1\n",
              "3      ham  U dun say so early hor... U c already then say...     0\n",
              "4      ham  Nah I don't think he goes to usf, he lives aro...     0"
            ],
            "text/html": [
              "\n",
              "  <div id=\"df-257e68a4-5cae-4d4b-8938-bf34be350956\">\n",
              "    <div class=\"colab-df-container\">\n",
              "      <div>\n",
              "<style scoped>\n",
              "    .dataframe tbody tr th:only-of-type {\n",
              "        vertical-align: middle;\n",
              "    }\n",
              "\n",
              "    .dataframe tbody tr th {\n",
              "        vertical-align: top;\n",
              "    }\n",
              "\n",
              "    .dataframe thead th {\n",
              "        text-align: right;\n",
              "    }\n",
              "</style>\n",
              "<table border=\"1\" class=\"dataframe\">\n",
              "  <thead>\n",
              "    <tr style=\"text-align: right;\">\n",
              "      <th></th>\n",
              "      <th>Category</th>\n",
              "      <th>Message</th>\n",
              "      <th>spam</th>\n",
              "    </tr>\n",
              "  </thead>\n",
              "  <tbody>\n",
              "    <tr>\n",
              "      <th>0</th>\n",
              "      <td>ham</td>\n",
              "      <td>Go until jurong point, crazy.. Available only ...</td>\n",
              "      <td>0</td>\n",
              "    </tr>\n",
              "    <tr>\n",
              "      <th>1</th>\n",
              "      <td>ham</td>\n",
              "      <td>Ok lar... Joking wif u oni...</td>\n",
              "      <td>0</td>\n",
              "    </tr>\n",
              "    <tr>\n",
              "      <th>2</th>\n",
              "      <td>spam</td>\n",
              "      <td>Free entry in 2 a wkly comp to win FA Cup fina...</td>\n",
              "      <td>1</td>\n",
              "    </tr>\n",
              "    <tr>\n",
              "      <th>3</th>\n",
              "      <td>ham</td>\n",
              "      <td>U dun say so early hor... U c already then say...</td>\n",
              "      <td>0</td>\n",
              "    </tr>\n",
              "    <tr>\n",
              "      <th>4</th>\n",
              "      <td>ham</td>\n",
              "      <td>Nah I don't think he goes to usf, he lives aro...</td>\n",
              "      <td>0</td>\n",
              "    </tr>\n",
              "  </tbody>\n",
              "</table>\n",
              "</div>\n",
              "      <button class=\"colab-df-convert\" onclick=\"convertToInteractive('df-257e68a4-5cae-4d4b-8938-bf34be350956')\"\n",
              "              title=\"Convert this dataframe to an interactive table.\"\n",
              "              style=\"display:none;\">\n",
              "        \n",
              "  <svg xmlns=\"http://www.w3.org/2000/svg\" height=\"24px\"viewBox=\"0 0 24 24\"\n",
              "       width=\"24px\">\n",
              "    <path d=\"M0 0h24v24H0V0z\" fill=\"none\"/>\n",
              "    <path d=\"M18.56 5.44l.94 2.06.94-2.06 2.06-.94-2.06-.94-.94-2.06-.94 2.06-2.06.94zm-11 1L8.5 8.5l.94-2.06 2.06-.94-2.06-.94L8.5 2.5l-.94 2.06-2.06.94zm10 10l.94 2.06.94-2.06 2.06-.94-2.06-.94-.94-2.06-.94 2.06-2.06.94z\"/><path d=\"M17.41 7.96l-1.37-1.37c-.4-.4-.92-.59-1.43-.59-.52 0-1.04.2-1.43.59L10.3 9.45l-7.72 7.72c-.78.78-.78 2.05 0 2.83L4 21.41c.39.39.9.59 1.41.59.51 0 1.02-.2 1.41-.59l7.78-7.78 2.81-2.81c.8-.78.8-2.07 0-2.86zM5.41 20L4 18.59l7.72-7.72 1.47 1.35L5.41 20z\"/>\n",
              "  </svg>\n",
              "      </button>\n",
              "      \n",
              "  <style>\n",
              "    .colab-df-container {\n",
              "      display:flex;\n",
              "      flex-wrap:wrap;\n",
              "      gap: 12px;\n",
              "    }\n",
              "\n",
              "    .colab-df-convert {\n",
              "      background-color: #E8F0FE;\n",
              "      border: none;\n",
              "      border-radius: 50%;\n",
              "      cursor: pointer;\n",
              "      display: none;\n",
              "      fill: #1967D2;\n",
              "      height: 32px;\n",
              "      padding: 0 0 0 0;\n",
              "      width: 32px;\n",
              "    }\n",
              "\n",
              "    .colab-df-convert:hover {\n",
              "      background-color: #E2EBFA;\n",
              "      box-shadow: 0px 1px 2px rgba(60, 64, 67, 0.3), 0px 1px 3px 1px rgba(60, 64, 67, 0.15);\n",
              "      fill: #174EA6;\n",
              "    }\n",
              "\n",
              "    [theme=dark] .colab-df-convert {\n",
              "      background-color: #3B4455;\n",
              "      fill: #D2E3FC;\n",
              "    }\n",
              "\n",
              "    [theme=dark] .colab-df-convert:hover {\n",
              "      background-color: #434B5C;\n",
              "      box-shadow: 0px 1px 3px 1px rgba(0, 0, 0, 0.15);\n",
              "      filter: drop-shadow(0px 1px 2px rgba(0, 0, 0, 0.3));\n",
              "      fill: #FFFFFF;\n",
              "    }\n",
              "  </style>\n",
              "\n",
              "      <script>\n",
              "        const buttonEl =\n",
              "          document.querySelector('#df-257e68a4-5cae-4d4b-8938-bf34be350956 button.colab-df-convert');\n",
              "        buttonEl.style.display =\n",
              "          google.colab.kernel.accessAllowed ? 'block' : 'none';\n",
              "\n",
              "        async function convertToInteractive(key) {\n",
              "          const element = document.querySelector('#df-257e68a4-5cae-4d4b-8938-bf34be350956');\n",
              "          const dataTable =\n",
              "            await google.colab.kernel.invokeFunction('convertToInteractive',\n",
              "                                                     [key], {});\n",
              "          if (!dataTable) return;\n",
              "\n",
              "          const docLinkHtml = 'Like what you see? Visit the ' +\n",
              "            '<a target=\"_blank\" href=https://colab.research.google.com/notebooks/data_table.ipynb>data table notebook</a>'\n",
              "            + ' to learn more about interactive tables.';\n",
              "          element.innerHTML = '';\n",
              "          dataTable['output_type'] = 'display_data';\n",
              "          await google.colab.output.renderOutput(dataTable, element);\n",
              "          const docLink = document.createElement('div');\n",
              "          docLink.innerHTML = docLinkHtml;\n",
              "          element.appendChild(docLink);\n",
              "        }\n",
              "      </script>\n",
              "    </div>\n",
              "  </div>\n",
              "  "
            ]
          },
          "metadata": {},
          "execution_count": 20
        }
      ]
    },
    {
      "cell_type": "code",
      "metadata": {
        "id": "36WvITiRfb7E"
      },
      "source": [
        "from sklearn.model_selection import train_test_split\n",
        "X_train, X_test, y_train, y_test = train_test_split(df.Message,df.spam,test_size=0.2)"
      ],
      "execution_count": 21,
      "outputs": []
    },
    {
      "cell_type": "code",
      "metadata": {
        "colab": {
          "base_uri": "https://localhost:8080/"
        },
        "id": "g0Bj1YsJfo2o",
        "outputId": "505762f8-5385-4313-f52b-d3c7cf637602"
      },
      "source": [
        "from sklearn.feature_extraction.text import CountVectorizer, TfidfVectorizer\n",
        "vec = TfidfVectorizer()\n",
        "#vec = CountVectorizer()\n",
        "X_train_count = vec.fit_transform(X_train.values)\n",
        "X_train_count.toarray().shape"
      ],
      "execution_count": 22,
      "outputs": [
        {
          "output_type": "execute_result",
          "data": {
            "text/plain": [
              "(4457, 7869)"
            ]
          },
          "metadata": {},
          "execution_count": 22
        }
      ]
    },
    {
      "cell_type": "markdown",
      "metadata": {
        "id": "oitQfAnaxtRW"
      },
      "source": [
        "* La distribución multinomial es una generalización de la distribución binomial y modela n ensayos independientes donde cada uno conduce a un éxito para cada una de las k categorías, y cada categoría tiene una probabilidad de éxito fija. La distribución multinomial da la probabilidad de cualquier combinación particular de números de éxitos para las diversas categorías. Por ejemplo modela la probabilidad de conteos para cada cara de un dado de 6 caras lanzado n veces."
      ]
    },
    {
      "cell_type": "code",
      "metadata": {
        "colab": {
          "base_uri": "https://localhost:8080/"
        },
        "id": "tffpOzaVgRML",
        "outputId": "2f96101e-d331-476b-a515-092d53eae3bf"
      },
      "source": [
        "from sklearn.naive_bayes import MultinomialNB\n",
        "MNB = MultinomialNB(alpha=0.001)\n",
        "MNB.fit(X_train_count,y_train)\n",
        "MNB.score(X_train_count, y_train)"
      ],
      "execution_count": 23,
      "outputs": [
        {
          "output_type": "execute_result",
          "data": {
            "text/plain": [
              "0.9993269015032533"
            ]
          },
          "metadata": {},
          "execution_count": 23
        }
      ]
    },
    {
      "cell_type": "code",
      "metadata": {
        "colab": {
          "base_uri": "https://localhost:8080/"
        },
        "id": "5ZskzI_xgcLG",
        "outputId": "bcb54e97-34f3-47f5-87ab-288749de82b1"
      },
      "source": [
        "X_test_count = vec.transform(X_test)\n",
        "MNB.score(X_test_count, y_test)"
      ],
      "execution_count": 24,
      "outputs": [
        {
          "output_type": "execute_result",
          "data": {
            "text/plain": [
              "0.9874439461883409"
            ]
          },
          "metadata": {},
          "execution_count": 24
        }
      ]
    },
    {
      "cell_type": "code",
      "metadata": {
        "colab": {
          "base_uri": "https://localhost:8080/"
        },
        "id": "P7-T9CKygr7A",
        "outputId": "b6b4857d-40e6-4a75-ed61-b22675d4a294"
      },
      "source": [
        "emails = [\n",
        "    'Hey lets play soccer in the beach',\n",
        "    'Up to 20% discount exclusive. Dont miss this reward'\n",
        "]\n",
        "emails_count = vec.transform(emails)\n",
        "MNB.predict(emails_count)"
      ],
      "execution_count": 25,
      "outputs": [
        {
          "output_type": "execute_result",
          "data": {
            "text/plain": [
              "array([0, 1])"
            ]
          },
          "metadata": {},
          "execution_count": 25
        }
      ]
    },
    {
      "cell_type": "code",
      "metadata": {
        "id": "0gCNpn57hjT6"
      },
      "source": [
        "# Pipeline\n",
        "from sklearn.pipeline import Pipeline\n",
        "\n",
        "clf = Pipeline([\n",
        "    ('vectorizer', TfidfVectorizer()),\n",
        "    ('nb', MultinomialNB(alpha=0.001))\n",
        "])"
      ],
      "execution_count": 26,
      "outputs": []
    },
    {
      "cell_type": "code",
      "metadata": {
        "colab": {
          "base_uri": "https://localhost:8080/"
        },
        "id": "RfTC24DDhshb",
        "outputId": "ce3fb022-70fb-4582-9b9d-db26e82ed884"
      },
      "source": [
        "clf.fit(X_train, y_train)"
      ],
      "execution_count": 27,
      "outputs": [
        {
          "output_type": "execute_result",
          "data": {
            "text/plain": [
              "Pipeline(steps=[('vectorizer', TfidfVectorizer()),\n",
              "                ('nb', MultinomialNB(alpha=0.001))])"
            ]
          },
          "metadata": {},
          "execution_count": 27
        }
      ]
    },
    {
      "cell_type": "code",
      "metadata": {
        "colab": {
          "base_uri": "https://localhost:8080/"
        },
        "id": "HjYAbtzThwFN",
        "outputId": "6bf47ae4-d40f-4fc5-d1bc-fa9013fe7a93"
      },
      "source": [
        "clf.score(X_test,y_test)"
      ],
      "execution_count": 28,
      "outputs": [
        {
          "output_type": "execute_result",
          "data": {
            "text/plain": [
              "0.9874439461883409"
            ]
          },
          "metadata": {},
          "execution_count": 28
        }
      ]
    },
    {
      "cell_type": "code",
      "metadata": {
        "colab": {
          "base_uri": "https://localhost:8080/"
        },
        "id": "Y5T_O9rLhzmu",
        "outputId": "c6335092-7201-4b13-e9a5-b82ab2545be7"
      },
      "source": [
        "clf.predict(emails)"
      ],
      "execution_count": 29,
      "outputs": [
        {
          "output_type": "execute_result",
          "data": {
            "text/plain": [
              "array([0, 1])"
            ]
          },
          "metadata": {},
          "execution_count": 29
        }
      ]
    },
    {
      "cell_type": "markdown",
      "metadata": {
        "id": "tmrGipzd5Tb5"
      },
      "source": [
        "### Ejemplo: clasificación de texto\n",
        "\n",
        "Un lugar donde a menudo se usa  multinomial naive Bayes es en la clasificación de texto, donde las características están relacionadas con el recuento de palabras o las frecuencias dentro de los documentos a clasificar.\n",
        "20 grupos de noticias para mostrar cómo podríamos clasificar estos documentos breves en categorías.\n",
        "\n"
      ]
    },
    {
      "cell_type": "code",
      "metadata": {
        "id": "rwouM0UNvkMO",
        "colab": {
          "base_uri": "https://localhost:8080/"
        },
        "outputId": "49ac02cb-6053-453d-d052-1ddb27db5f95"
      },
      "source": [
        "from sklearn.datasets import fetch_20newsgroups\n",
        "\n",
        "df = fetch_20newsgroups()\n",
        "df.target_names"
      ],
      "execution_count": 41,
      "outputs": [
        {
          "output_type": "execute_result",
          "data": {
            "text/plain": [
              "['alt.atheism',\n",
              " 'comp.graphics',\n",
              " 'comp.os.ms-windows.misc',\n",
              " 'comp.sys.ibm.pc.hardware',\n",
              " 'comp.sys.mac.hardware',\n",
              " 'comp.windows.x',\n",
              " 'misc.forsale',\n",
              " 'rec.autos',\n",
              " 'rec.motorcycles',\n",
              " 'rec.sport.baseball',\n",
              " 'rec.sport.hockey',\n",
              " 'sci.crypt',\n",
              " 'sci.electronics',\n",
              " 'sci.med',\n",
              " 'sci.space',\n",
              " 'soc.religion.christian',\n",
              " 'talk.politics.guns',\n",
              " 'talk.politics.mideast',\n",
              " 'talk.politics.misc',\n",
              " 'talk.religion.misc']"
            ]
          },
          "metadata": {},
          "execution_count": 41
        }
      ]
    },
    {
      "cell_type": "code",
      "metadata": {
        "id": "8V67TakN6klU"
      },
      "source": [
        "categories = ['rec.autos', 'sci.electronics',\n",
        "              'talk.politics.misc', 'comp.sys.ibm.pc.hardware', \n",
        "              'comp.os.ms-windows.misc','rec.sport.baseball']\n",
        "train = fetch_20newsgroups(subset='train', categories=categories)\n",
        "test = fetch_20newsgroups(subset='test', categories=categories)"
      ],
      "execution_count": 42,
      "outputs": []
    },
    {
      "cell_type": "code",
      "metadata": {
        "colab": {
          "base_uri": "https://localhost:8080/"
        },
        "id": "-Ol9S__Q7nS1",
        "outputId": "a1dd690d-d17e-4396-a045-6a82e5f108a6"
      },
      "source": [
        "print(train.data[5])"
      ],
      "execution_count": 43,
      "outputs": [
        {
          "output_type": "stream",
          "name": "stdout",
          "text": [
            "From: roger@crux.Princeton.EDU (Roger Lustig)\n",
            "Subject: Re: Jewish Baseball Players?\n",
            "Originator: news@nimaster\n",
            "Nntp-Posting-Host: crux.princeton.edu\n",
            "Reply-To: roger@astro.princeton.edu (Roger Lustig)\n",
            "Organization: Princeton University\n",
            "Lines: 39\n",
            "\n",
            "In article <1993Apr15.221049.14347@midway.uchicago.edu> thf2@midway.uchicago.edu writes:\n",
            ">In article <1qkkodINN5f5@jhunix.hcf.jhu.edu> pablo@jhunix.hcf.jhu.edu (Pablo A Iglesias) writes:\n",
            ">>In article <15APR93.14691229.0062@lafibm.lafayette.edu> VB30@lafibm.lafayette.edu (VB30) writes:\n",
            ">>>Just wondering.  A friend and I were talking the other day, and\n",
            ">>>we were (for some reason) trying to come up with names of Jewish\n",
            ">>>baseball players, past and present.  We weren't able to come up\n",
            ">>>with much, except for Sandy Koufax, (somebody) Stankowitz, and\n",
            ">>>maybe John Lowenstein.  Can anyone come up with any more.  I know\n",
            ">>>it sounds pretty lame to be racking our brains over this, but\n",
            ">>>humor us.  Thanks for your help.\n",
            "\n",
            ">>Hank Greenberg would have to be the most famous, because his Jewish\n",
            ">>faith actually affected his play. (missing late season or was it world\n",
            ">>series games because of Yom Kippur)\n",
            "\n",
            ">The other Jewish HOF'er is Rod Carew (who converted).  \n",
            "\n",
            "Did he ever really convert?  He married a Jewish woman, but I've never\n",
            "heard him say he converted.  Elliot Maddox, on the other hand...\n",
            "\n",
            ">Lowenstein is Jewish, as well as Montana's only representative to the\n",
            ">major leagues.\n",
            "\n",
            ">Undeserving Cy Young award winner Steve Stone is Jewish.  Between Stone,\n",
            ">Koufax, Ken Holtzman (? might have the wrong pitcher, I'm thinking of the\n",
            ">one who threw a no-hitter in both the AL and NL), and Big Ed Reulbach,\n",
            ">that's quite a starting rotation.  Moe Berg can catch.  Harry Steinfeldt,\n",
            ">the 3b in the Tinkers-Evers-Chance infield.\n",
            "\n",
            "Yep, Holtzman.  Saul Rogovin won an ERA title in 1949 or so before blowing out\n",
            "the arm.\n",
            "\n",
            ">Is Stanky Jewish?  Or is that just a \"Dave Cohen\" kinda misinterpretation?\n",
            ">Whatever, doesn't look like he stuck around the majors too long.\n",
            "\n",
            "I'd be surprised.  btw, they may just be shopping Gallego around to\n",
            "make room for AS.\n",
            "\n",
            "Roger\n",
            "\n"
          ]
        }
      ]
    },
    {
      "cell_type": "code",
      "metadata": {
        "colab": {
          "base_uri": "https://localhost:8080/"
        },
        "id": "ePu87_hE76eL",
        "outputId": "ac958a47-0751-4c4b-eb5a-422b736a5d8d"
      },
      "source": [
        "from sklearn.feature_extraction.text import CountVectorizer, TfidfVectorizer\n",
        "from sklearn.naive_bayes import MultinomialNB\n",
        "from sklearn.pipeline import make_pipeline\n",
        "\n",
        "vec = TfidfVectorizer()\n",
        "#vec = CountVectorizer()\n",
        "X_train_text = vec.fit_transform(train.data)\n",
        "X_test_text = vec.transform(test.data)\n",
        "X_train_text.toarray()"
      ],
      "execution_count": 44,
      "outputs": [
        {
          "output_type": "execute_result",
          "data": {
            "text/plain": [
              "array([[0., 0., 0., ..., 0., 0., 0.],\n",
              "       [0., 0., 0., ..., 0., 0., 0.],\n",
              "       [0., 0., 0., ..., 0., 0., 0.],\n",
              "       ...,\n",
              "       [0., 0., 0., ..., 0., 0., 0.],\n",
              "       [0., 0., 0., ..., 0., 0., 0.],\n",
              "       [0., 0., 0., ..., 0., 0., 0.]])"
            ]
          },
          "metadata": {},
          "execution_count": 44
        }
      ]
    },
    {
      "cell_type": "code",
      "metadata": {
        "colab": {
          "base_uri": "https://localhost:8080/"
        },
        "id": "v4tSGIjFgf7Z",
        "outputId": "c77447be-34e0-47e3-eef3-6b2742fb1a60"
      },
      "source": [
        "X_train_text.shape"
      ],
      "execution_count": 45,
      "outputs": [
        {
          "output_type": "execute_result",
          "data": {
            "text/plain": [
              "(3428, 70725)"
            ]
          },
          "metadata": {},
          "execution_count": 45
        }
      ]
    },
    {
      "cell_type": "code",
      "metadata": {
        "colab": {
          "base_uri": "https://localhost:8080/"
        },
        "id": "NNGFgSAI833N",
        "outputId": "fcc71e3b-ece6-4a1e-d789-8be281931bf7"
      },
      "source": [
        "from sklearn.naive_bayes import MultinomialNB\n",
        "mnb = MultinomialNB(alpha=0.1)\n",
        "mnb.fit(X_train_text,train.target)\n",
        "clases_train = mnb.predict(X_train_text)\n",
        "mnb.score(X_train_text,train.target)"
      ],
      "execution_count": 46,
      "outputs": [
        {
          "output_type": "execute_result",
          "data": {
            "text/plain": [
              "0.9953325554259043"
            ]
          },
          "metadata": {},
          "execution_count": 46
        }
      ]
    },
    {
      "cell_type": "code",
      "metadata": {
        "colab": {
          "base_uri": "https://localhost:8080/"
        },
        "id": "-P_bBK7E-TFd",
        "outputId": "a7197dfa-851c-4d7d-ec40-d979ba90a8e8"
      },
      "source": [
        "clases_test = mnb.predict(X_test_text)\n",
        "mnb.score(X_test_text,test.target)\n"
      ],
      "execution_count": 47,
      "outputs": [
        {
          "output_type": "execute_result",
          "data": {
            "text/plain": [
              "0.8777388255915863"
            ]
          },
          "metadata": {},
          "execution_count": 47
        }
      ]
    },
    {
      "cell_type": "code",
      "metadata": {
        "colab": {
          "base_uri": "https://localhost:8080/",
          "height": 456
        },
        "id": "D8Ef7_QgANnS",
        "outputId": "8527c5b6-1f21-4b93-f381-4ee3d3fde594"
      },
      "source": [
        "from sklearn.metrics import confusion_matrix\n",
        "mat = confusion_matrix(train.target, clases_train)\n",
        "sns.heatmap(mat.T, annot=True, fmt='d',\n",
        "            xticklabels=train.target_names, \n",
        "            yticklabels=train.target_names)\n",
        "\n",
        "plt.title('Train set')\n",
        "plt.xlabel('Clase Real')\n",
        "plt.ylabel('Clase predicida')"
      ],
      "execution_count": 48,
      "outputs": [
        {
          "output_type": "execute_result",
          "data": {
            "text/plain": [
              "Text(30.499999999999993, 0.5, 'Clase predicida')"
            ]
          },
          "metadata": {},
          "execution_count": 48
        },
        {
          "output_type": "display_data",
          "data": {
            "text/plain": [
              "<Figure size 432x288 with 2 Axes>"
            ],
            "image/png": "[encoded data removed]"
          },
          "metadata": {}
        }
      ]
    },
    {
      "cell_type": "code",
      "metadata": {
        "colab": {
          "base_uri": "https://localhost:8080/",
          "height": 456
        },
        "id": "00Qe8MMQ_PNs",
        "outputId": "f680cb5b-f8f2-47f6-8111-d185b05d1190"
      },
      "source": [
        "from sklearn.metrics import confusion_matrix\n",
        "mat = confusion_matrix(test.target, clases_test)\n",
        "sns.heatmap(mat.T, annot=True, fmt='d',\n",
        "            xticklabels=test.target_names, \n",
        "            yticklabels=test.target_names)\n",
        "\n",
        "plt.title('Test set')\n",
        "plt.xlabel('Clase Real')\n",
        "plt.ylabel('Clase predicida')"
      ],
      "execution_count": 49,
      "outputs": [
        {
          "output_type": "execute_result",
          "data": {
            "text/plain": [
              "Text(30.499999999999993, 0.5, 'Clase predicida')"
            ]
          },
          "metadata": {},
          "execution_count": 49
        },
        {
          "output_type": "display_data",
          "data": {
            "text/plain": [
              "<Figure size 432x288 with 2 Axes>"
            ],
            "image/png": "[encoded data removed]"
          },
          "metadata": {}
        }
      ]
    },
    {
      "cell_type": "code",
      "metadata": {
        "id": "mgXThuP7A0Yr"
      },
      "source": [
        "from sklearn.pipeline import make_pipeline\n",
        "\n",
        "mnb_p = make_pipeline(TfidfVectorizer(), MultinomialNB(alpha=0.1))\n",
        "\n",
        "mnb_p.fit(train.data, train.target)\n",
        "\n",
        "clases = mnb_p.predict(test.data)"
      ],
      "execution_count": 50,
      "outputs": []
    },
    {
      "cell_type": "code",
      "metadata": {
        "colab": {
          "base_uri": "https://localhost:8080/",
          "height": 37
        },
        "id": "OtKLtPYGBwUZ",
        "outputId": "2926a21c-7cab-4344-a1b3-366e22cc7d4b"
      },
      "source": [
        "pred = mnb_p.predict(['Tesla is faster than honda'])\n",
        "test.target_names[pred[0]]"
      ],
      "execution_count": 51,
      "outputs": [
        {
          "output_type": "execute_result",
          "data": {
            "text/plain": [
              "'rec.autos'"
            ],
            "application/vnd.google.colaboratory.intrinsic+json": {
              "type": "string"
            }
          },
          "metadata": {},
          "execution_count": 51
        }
      ]
    }
  ]
}