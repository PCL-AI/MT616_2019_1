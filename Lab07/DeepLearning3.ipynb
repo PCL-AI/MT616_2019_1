{
  "nbformat": 4,
  "nbformat_minor": 0,
  "metadata": {
    "colab": {
      "name": "DeepLearning3.ipynb",
      "version": "0.3.2",
      "provenance": [],
      "collapsed_sections": []
    },
    "kernelspec": {
      "name": "python3",
      "display_name": "Python 3"
    }
  },
  "cells": [
    {
      "cell_type": "markdown",
      "metadata": {
        "id": "pFo03VQbLIt3",
        "colab_type": "text"
      },
      "source": [
        "#UNI Machine Learning Course\n",
        "#Lab 07:  Red neuronal artificial  (ANN) y Intro a Deep learning"
      ]
    },
    {
      "cell_type": "markdown",
      "metadata": {
        "id": "1L8kFBXTMBrq",
        "colab_type": "text"
      },
      "source": [
        "Pasos para crear una ANN\n",
        "\n",
        "1.   Crear las capas e inicialización de parámetros.\n",
        "2.   Forward propagation\n",
        "3.   Funcion de perdida y funcion de costo.\n",
        "4.   Backpropropagation\n",
        "5.   Actualización de parámetros\n",
        "6.   Predicción con parámetros aprendidos.\n",
        "\n"
      ]
    },
    {
      "cell_type": "code",
      "metadata": {
        "id": "0Yp1Sgp2irJD",
        "colab_type": "code",
        "outputId": "9598888c-7e27-476f-e3ad-6352a4e94988",
        "colab": {
          "base_uri": "https://localhost:8080/",
          "height": 50
        }
      },
      "source": [
        "import numpy as np \n",
        "import pandas as pd \n",
        "import matplotlib.pyplot as plt\n",
        "import warnings\n",
        "# filter warnings\n",
        "warnings.filterwarnings('ignore')\n",
        "import tensorflow as tf\n",
        "# load dataset\n",
        "dataset = tf.keras.datasets.mnist\n",
        "\n",
        "(X_train, Y_train) , (X_test, Y_test) = dataset.load_data()\n",
        "#img_size = 28*28\n",
        "\n",
        "print(\"x_train shape:\", X_train.shape, \"y_train shape:\", Y_train.shape)\n",
        "print(\"x_test shape:\", X_test.shape, \"y_test shape:\", Y_test.shape)"
      ],
      "execution_count": 1,
      "outputs": [
        {
          "output_type": "stream",
          "text": [
            "x_train shape: (60000, 28, 28) y_train shape: (60000,)\n",
            "x_test shape: (10000, 28, 28) y_test shape: (10000,)\n"
          ],
          "name": "stdout"
        }
      ]
    },
    {
      "cell_type": "code",
      "metadata": {
        "id": "1ephL7sLjjub",
        "colab_type": "code",
        "outputId": "5037f7dc-427e-4918-9e8b-be85dc3d161d",
        "colab": {
          "base_uri": "https://localhost:8080/",
          "height": 84
        }
      },
      "source": [
        "number_of_train = X_train.shape[0]\n",
        "number_of_test = X_test.shape[0]\n",
        "X_train_flatten = X_train.reshape(number_of_train,X_train.shape[1]*X_train.shape[2])\n",
        "X_test_flatten = X_test .reshape(number_of_test,X_test.shape[1]*X_test.shape[2])\n",
        "print(\"X train flatten\",X_train_flatten.shape)\n",
        "print(\"X test flatten\",X_test_flatten.shape)\n",
        "\n",
        "\n",
        "Y_train_flatten = Y_train.reshape(number_of_train,1)\n",
        "Y_test_flatten = Y_test .reshape(number_of_test,1)\n",
        "print(\"X train flatten\",Y_train_flatten.shape)\n",
        "print(\"X test flatten\",Y_test_flatten.shape)"
      ],
      "execution_count": 2,
      "outputs": [
        {
          "output_type": "stream",
          "text": [
            "X train flatten (60000, 784)\n",
            "X test flatten (10000, 784)\n",
            "X train flatten (60000, 1)\n",
            "X test flatten (10000, 1)\n"
          ],
          "name": "stdout"
        }
      ]
    },
    {
      "cell_type": "code",
      "metadata": {
        "id": "Puq-wu7wn5uE",
        "colab_type": "code",
        "outputId": "94c2edcd-1f2d-48fb-9b28-52524cd3c044",
        "colab": {
          "base_uri": "https://localhost:8080/",
          "height": 84
        }
      },
      "source": [
        "x_train = X_train_flatten.T\n",
        "x_test = X_test_flatten.T\n",
        "y_train = Y_train_flatten.T\n",
        "y_test = Y_test_flatten.T\n",
        "\n",
        "print(\"x train: \",x_train.shape)\n",
        "print(\"y train: \",y_train.shape)\n",
        "\n",
        "print(\"x test: \",x_test.shape)\n",
        "print(\"y test: \",y_test.shape)"
      ],
      "execution_count": 3,
      "outputs": [
        {
          "output_type": "stream",
          "text": [
            "x train:  (784, 60000)\n",
            "y train:  (1, 60000)\n",
            "x test:  (784, 10000)\n",
            "y test:  (1, 10000)\n"
          ],
          "name": "stdout"
        }
      ]
    },
    {
      "cell_type": "markdown",
      "metadata": {
        "id": "bmQ0Q8bxNFqq",
        "colab_type": "text"
      },
      "source": [
        "## Red neuronal artificial de 2 capaz"
      ]
    },
    {
      "cell_type": "markdown",
      "metadata": {
        "id": "j_eTpfpbLg-W",
        "colab_type": "text"
      },
      "source": [
        "## Inicializar parametros y tamanos de layer.\n"
      ]
    },
    {
      "cell_type": "code",
      "metadata": {
        "id": "XMIqn0kjK3-3",
        "colab_type": "code",
        "colab": {}
      },
      "source": [
        "def set_parameters_and_layer_sizes(x_train, y_train):\n",
        "    parameters = {\"weight1\": np.random.randn(3,x_train.shape[0]) * 0.5,\n",
        "                  \"bias1\": np.zeros((3,1)),\n",
        "                  \"weight2\": np.random.randn(y_train.shape[0],3) * 0.5,\n",
        "                  \"bias2\": np.zeros((y_train.shape[0],1))}\n",
        "    return parameters\n",
        "  \n",
        "def sigmoid(z):\n",
        "    y_head = 1/(1+np.exp(-z))\n",
        "    return y_head"
      ],
      "execution_count": 0,
      "outputs": []
    },
    {
      "cell_type": "markdown",
      "metadata": {
        "id": "YL8pSOx0NUgw",
        "colab_type": "text"
      },
      "source": [
        "##Forward propagation"
      ]
    },
    {
      "cell_type": "code",
      "metadata": {
        "id": "7YgWFTbVnH88",
        "colab_type": "code",
        "colab": {}
      },
      "source": [
        "def forward_propagation(x_train, parameters):\n",
        "\n",
        "    Z1 = np.dot(parameters[\"weight1\"],x_train) +parameters[\"bias1\"]\n",
        "    A1 = np.tanh(Z1)\n",
        "    Z2 = np.dot(parameters[\"weight2\"],A1) + parameters[\"bias2\"]\n",
        "    A2 = sigmoid(Z2)\n",
        "\n",
        "    cache = {\"Z1\": Z1,\n",
        "             \"A1\": A1,\n",
        "             \"Z2\": Z2,\n",
        "             \"A2\": A2}\n",
        "    \n",
        "    return A2, cache"
      ],
      "execution_count": 0,
      "outputs": []
    },
    {
      "cell_type": "markdown",
      "metadata": {
        "id": "wXJZfqM4TVjU",
        "colab_type": "text"
      },
      "source": [
        "## Calcular costo"
      ]
    },
    {
      "cell_type": "code",
      "metadata": {
        "id": "ABu4MZlnnQ06",
        "colab_type": "code",
        "colab": {}
      },
      "source": [
        "def compute_cost(A2, Y, parameters):\n",
        "    logprobs = np.multiply(np.log(A2),Y)\n",
        "    cost = -np.sum(logprobs)/Y.shape[1]\n",
        "    return cost"
      ],
      "execution_count": 0,
      "outputs": []
    },
    {
      "cell_type": "markdown",
      "metadata": {
        "id": "TOsKA1ZdTb-P",
        "colab_type": "text"
      },
      "source": [
        "## Backward Propagation"
      ]
    },
    {
      "cell_type": "code",
      "metadata": {
        "id": "mzK15Jn1nV9B",
        "colab_type": "code",
        "colab": {}
      },
      "source": [
        "def backward_propagation(parameters, cache, X, Y):\n",
        "\n",
        "    dZ2 = cache[\"A2\"]-Y\n",
        "    dW2 = np.dot(dZ2,cache[\"A1\"].T)/X.shape[1]\n",
        "    db2 = np.sum(dZ2,axis =1,keepdims=True)/X.shape[1]\n",
        "    dZ1 = np.dot(parameters[\"weight2\"].T,dZ2)*(1 - np.power(cache[\"A1\"], 2))\n",
        "    dW1 = np.dot(dZ1,X.T)/X.shape[1]\n",
        "    db1 = np.sum(dZ1,axis =1,keepdims=True)/X.shape[1]\n",
        "    grads = {\"dweight1\": dW1,\n",
        "             \"dbias1\": db1,\n",
        "             \"dweight2\": dW2,\n",
        "             \"dbias2\": db2}\n",
        "    return grads\n",
        "  \n",
        "  "
      ],
      "execution_count": 0,
      "outputs": []
    },
    {
      "cell_type": "markdown",
      "metadata": {
        "id": "QrDKtwDBTga_",
        "colab_type": "text"
      },
      "source": [
        "## Actualización de parámetros"
      ]
    },
    {
      "cell_type": "code",
      "metadata": {
        "id": "Qqy6ea8154Zh",
        "colab_type": "code",
        "colab": {}
      },
      "source": [
        "def update_parameters(parameters, grads, learning_rate = 0.05):\n",
        "    parameters = {\"weight1\": parameters[\"weight1\"]-learning_rate*grads[\"dweight1\"],\n",
        "                  \"bias1\": parameters[\"bias1\"]-learning_rate*grads[\"dbias1\"],\n",
        "                  \"weight2\": parameters[\"weight2\"]-learning_rate*grads[\"dweight2\"],\n",
        "                  \"bias2\": parameters[\"bias2\"]-learning_rate*grads[\"dbias2\"]}\n",
        "    \n",
        "    return parameters"
      ],
      "execution_count": 0,
      "outputs": []
    },
    {
      "cell_type": "markdown",
      "metadata": {
        "id": "XFnsmzeFTrqc",
        "colab_type": "text"
      },
      "source": [
        "## Predicción con parámetros aprendidos."
      ]
    },
    {
      "cell_type": "code",
      "metadata": {
        "id": "2E19yWEN58EL",
        "colab_type": "code",
        "colab": {}
      },
      "source": [
        "# prediction\n",
        "def predictNN(parameters,x_test):\n",
        "    # x_test is a input for forward propagation\n",
        "    A2, cache = forward_propagation(x_test,parameters)\n",
        "    Y_prediction = np.zeros((1,x_test.shape[1]))\n",
        "\n",
        "    for i in range(A2.shape[1]):\n",
        "        if A2[0,i]<= 0.5:\n",
        "            Y_prediction[0,i] = 0\n",
        "        else:\n",
        "            Y_prediction[0,i] = 1\n",
        "\n",
        "    return Y_prediction"
      ],
      "execution_count": 0,
      "outputs": []
    },
    {
      "cell_type": "markdown",
      "metadata": {
        "id": "f9fopay8Txgh",
        "colab_type": "text"
      },
      "source": [
        "## Corriendo la  neural network"
      ]
    },
    {
      "cell_type": "code",
      "metadata": {
        "id": "WA1xfDBn6AXD",
        "colab_type": "code",
        "outputId": "dccdabd7-f8fe-4265-d373-6f7050759878",
        "colab": {
          "base_uri": "https://localhost:8080/",
          "height": 376
        }
      },
      "source": [
        "def ANN_2_layer(x_train, y_train,x_test,y_test, iteraciones):\n",
        "    cost_list = []\n",
        "    index_list = []\n",
        "    #initializar parametros\n",
        "    parameters = set_parameters_and_layer_sizes(x_train, y_train)\n",
        "\n",
        "    for i in range(0, iteraciones):\n",
        "         # Forward propagation\n",
        "        A2, cache = forward_propagation(x_train,parameters)\n",
        "        # Calcular costo\n",
        "        cost = compute_cost(A2, y_train, parameters)\n",
        "         # Backward propagation\n",
        "        grads = backward_propagation(parameters, cache, x_train, y_train)\n",
        "         # Actualizar parametros\n",
        "        parameters = update_parameters(parameters, grads)\n",
        "        \n",
        "        if i % 100 == 0:\n",
        "            cost_list.append(cost)\n",
        "            index_list.append(i)\n",
        "            print (\"Costo despues iteracion %i: %f\" %(i, cost))\n",
        "    plt.plot(index_list,cost_list)\n",
        "    plt.xticks(index_list,rotation='vertical')\n",
        "    plt.xlabel(\"Numero de Iteraciones\")\n",
        "    plt.ylabel(\"Costo\")\n",
        "    plt.show()\n",
        "    \n",
        "    # predecir\n",
        "    y_prediction_test = predictNN(parameters,x_test)\n",
        "    y_prediction_train = predictNN(parameters,x_train)\n",
        "\n",
        "    # Errors\n",
        "    print(\"Error en train: {} %\".format(100 - np.mean(np.abs(y_prediction_train - y_train)) * 100))\n",
        "    print(\"Error en test: {} %\".format(100 - np.mean(np.abs(y_prediction_test - y_test)) * 100))\n",
        "    return parameters, y_prediction_test\n",
        "\n",
        "parameters = ANN_2_layer(x_train, y_train,x_test,y_test, iteraciones=300)"
      ],
      "execution_count": 10,
      "outputs": [
        {
          "output_type": "stream",
          "text": [
            "Costo despues iteracion 0: 5.962629\n",
            "Costo despues iteracion 100: 0.000610\n",
            "Costo despues iteracion 200: 0.001013\n"
          ],
          "name": "stdout"
        },
        {
          "output_type": "display_data",
          "data": {
            "image/png": "[encoded data removed]",
            "text/plain": [
              "<Figure size 432x288 with 1 Axes>"
            ]
          },
          "metadata": {
            "tags": []
          }
        },
        {
          "output_type": "stream",
          "text": [
            "Error en train: -265.02333333333337 %\n",
            "Error en test: -263.8 %\n"
          ],
          "name": "stdout"
        }
      ]
    },
    {
      "cell_type": "markdown",
      "metadata": {
        "id": "xUEfKCvhc-42",
        "colab_type": "text"
      },
      "source": [
        "# Intro a Deep Learning"
      ]
    },
    {
      "cell_type": "markdown",
      "metadata": {
        "id": "gCpS9EIQdZn2",
        "colab_type": "text"
      },
      "source": [
        "## THE MNIST DATABASE of handwritten digits\n",
        "\n",
        " \n",
        "The MNIST database of handwritten digits, available from this page, has a training set of 60,000 examples, and a test set of 10,000 examples. It is a subset of a larger set available from NIST. The digits have been size-normalized and centered in a fixed-size image.\n",
        "It is a good database for people who want to try learning techniques and pattern recognition methods on real-world data while spending minimal efforts on preprocessing and formatting.\n",
        "\n",
        "http://yann.lecun.com/exdb/mnist/"
      ]
    },
    {
      "cell_type": "code",
      "metadata": {
        "id": "yWxczpEwte_Q",
        "colab_type": "code",
        "outputId": "e228d02e-80e4-4f8d-fde3-a42c915816cf",
        "colab": {
          "base_uri": "https://localhost:8080/",
          "height": 34
        }
      },
      "source": [
        "#import tensorflow.keras as keras\n",
        "\n",
        "import tensorflow as tf\n",
        "\n",
        "print(tf.__version__)"
      ],
      "execution_count": 11,
      "outputs": [
        {
          "output_type": "stream",
          "text": [
            "1.14.0\n"
          ],
          "name": "stdout"
        }
      ]
    },
    {
      "cell_type": "code",
      "metadata": {
        "id": "UUcsTr9wt0eY",
        "colab_type": "code",
        "outputId": "2de45cda-2008-4e01-d9dd-7de179b19681",
        "colab": {
          "base_uri": "https://localhost:8080/",
          "height": 50
        }
      },
      "source": [
        "import matplotlib.pyplot as plt\n",
        "\n",
        "dataset = tf.keras.datasets.mnist\n",
        "(x_train, y_train),(x_test, y_test) = dataset.load_data()\n",
        "print(\"x_train shape:\", x_train.shape, \"y_train shape:\", y_train.shape)\n",
        "print(\"x_test shape:\", x_test.shape, \"y_test shape:\", y_test.shape)"
      ],
      "execution_count": 12,
      "outputs": [
        {
          "output_type": "stream",
          "text": [
            "x_train shape: (60000, 28, 28) y_train shape: (60000,)\n",
            "x_test shape: (10000, 28, 28) y_test shape: (10000,)\n"
          ],
          "name": "stdout"
        }
      ]
    },
    {
      "cell_type": "code",
      "metadata": {
        "id": "7-mDyCgjhzai",
        "colab_type": "code",
        "outputId": "aa55bc3b-6fdf-4537-a0d9-8eeaad607ba9",
        "colab": {
          "base_uri": "https://localhost:8080/",
          "height": 50
        }
      },
      "source": [
        "print(x_train.shape[0], 'train set')\n",
        "print(x_test.shape[0], 'test set')"
      ],
      "execution_count": 13,
      "outputs": [
        {
          "output_type": "stream",
          "text": [
            "60000 train set\n",
            "10000 test set\n"
          ],
          "name": "stdout"
        }
      ]
    },
    {
      "cell_type": "code",
      "metadata": {
        "id": "G0WhhacKuCsI",
        "colab_type": "code",
        "outputId": "04eddaa8-1505-41f8-b03c-5a73f98fbf90",
        "colab": {
          "base_uri": "https://localhost:8080/",
          "height": 958
        }
      },
      "source": [
        "N_index=6000\n",
        "print(x_train[N_index,:])"
      ],
      "execution_count": 14,
      "outputs": [
        {
          "output_type": "stream",
          "text": [
            "[[  0   0   0   0   0   0   0   0   0   0   0   0   0   0   0   0   0   0\n",
            "    0   0   0   0   0   0   0   0   0   0]\n",
            " [  0   0   0   0   0   0   0   0   0   0   0   0   0   0   0   0   0   0\n",
            "    0   0   0   0   0   0   0   0   0   0]\n",
            " [  0   0   0   0   0   0   0   0   0   0   0   0   0   0   0   0   0   0\n",
            "    0   0   0   0   0   0   0   0   0   0]\n",
            " [  0   0   0   0   0   0   0   0   0   0   0   0   0   0   0   0  59 200\n",
            "  255 229   0   0   0   0   0   0   0   0]\n",
            " [  0   0   0   0   0   0   0   0   0   0   0   0   0   0   0  50 200 253\n",
            "  251 102   0   0   0   0   0   0   0   0]\n",
            " [  0   0   0   0   0   0   0   0   0   0   0   0   0   0  59 236 254 224\n",
            "   98   0   0   0   0   0   0   0   0   0]\n",
            " [  0   0   0   0   0   0   0   0   0   0   0   0   4  21 236 254 217  74\n",
            "    0   0   0   0   0   0   0   0   0   0]\n",
            " [  0   0   0   0   0   0   0   0   0   0   0   0  70 254 253 252  67   0\n",
            "    0   0   0   0   0   0   0   0   0   0]\n",
            " [  0   0   0   0   0   0   0   0   0   0   0  11 192 254 253 108   0   0\n",
            "    0   0   0   0   0   0   0   0   0   0]\n",
            " [  0   0   0   0   0   0   0   0   0   0   0 119 253 254 184  14   0   0\n",
            "    0   0   0   0   0   0   0   0   0   0]\n",
            " [  0   0   0   0   0   0   0   0   0   0  84 250 253 239   9   0   0   0\n",
            "    0   0   0   0   0   0   0   0   0   0]\n",
            " [  0   0   0   0   0   0   0   0   0   0 130 254 239  61   0   0   0   0\n",
            "    0   0   0   0   0   0   0   0   0   0]\n",
            " [  0   0   0   0   0   0   0   0   0  64 242 253 213   0   0   0   0   0\n",
            "    0   0   0   0   0   0   0   0   0   0]\n",
            " [  0   0   0   0   0   0   0   0   0 175 253 252 170   0   0   0   0   3\n",
            "    5   5   4   0   0   0   0   0   0   0]\n",
            " [  0   0   0   0   0   0   0   0   5 193 254 169   0   0  12  61 123 202\n",
            "  253 254 224  36   0   0   0   0   0   0]\n",
            " [  0   0   0   0   0   0   0   0  66 253 253  85  25 152 222 253 254 253\n",
            "  253 254 253 164   0   0   0   0   0   0]\n",
            " [  0   0   0   0   0   0   0   0 159 253 253  93 171 253 253 195  84  84\n",
            "  170 254 253 219   0   0   0   0   0   0]\n",
            " [  0   0   0   0   0   0   0   0 169 254 227  18 182 254 209   6   0   0\n",
            "  120 254 254 130   0   0   0   0   0   0]\n",
            " [  0   0   0   0   0   0   0   0 219 253 184   0  12  74  60   0   0  82\n",
            "  229 254 228  43   0   0   0   0   0   0]\n",
            " [  0   0   0   0   0   0   0   0  75 254 251  78   0   0   0   0  46 188\n",
            "  254 250 181   8   0   0   0   0   0   0]\n",
            " [  0   0   0   0   0   0   0   0   6 194 254 232  46   0  54 131 230 254\n",
            "  253 119   0   0   0   0   0   0   0   0]\n",
            " [  0   0   0   0   0   0   0   0   0  76 222 254 249 245 250 254 254 215\n",
            "  142  13   0   0   0   0   0   0   0   0]\n",
            " [  0   0   0   0   0   0   0   0   0   0  28  88 169 253 175  54  54   9\n",
            "    0   0   0   0   0   0   0   0   0   0]\n",
            " [  0   0   0   0   0   0   0   0   0   0   0   0   0   0   0   0   0   0\n",
            "    0   0   0   0   0   0   0   0   0   0]\n",
            " [  0   0   0   0   0   0   0   0   0   0   0   0   0   0   0   0   0   0\n",
            "    0   0   0   0   0   0   0   0   0   0]\n",
            " [  0   0   0   0   0   0   0   0   0   0   0   0   0   0   0   0   0   0\n",
            "    0   0   0   0   0   0   0   0   0   0]\n",
            " [  0   0   0   0   0   0   0   0   0   0   0   0   0   0   0   0   0   0\n",
            "    0   0   0   0   0   0   0   0   0   0]\n",
            " [  0   0   0   0   0   0   0   0   0   0   0   0   0   0   0   0   0   0\n",
            "    0   0   0   0   0   0   0   0   0   0]]\n"
          ],
          "name": "stdout"
        }
      ]
    },
    {
      "cell_type": "code",
      "metadata": {
        "id": "ZD6Ng-EcuX5m",
        "colab_type": "code",
        "outputId": "cf359584-1dd7-4283-a9fc-725f16113fb1",
        "colab": {
          "base_uri": "https://localhost:8080/",
          "height": 269
        }
      },
      "source": [
        "plt.imshow(x_train[N_index],cmap=plt.cm.binary)\n",
        "plt.show()"
      ],
      "execution_count": 15,
      "outputs": [
        {
          "output_type": "display_data",
          "data": {
            "image/png": "[encoded data removed]",
            "text/plain": [
              "<Figure size 432x288 with 1 Axes>"
            ]
          },
          "metadata": {
            "tags": []
          }
        }
      ]
    },
    {
      "cell_type": "code",
      "metadata": {
        "id": "s6uFvnkEu6xq",
        "colab_type": "code",
        "colab": {}
      },
      "source": [
        "x_train = tf.keras.utils.normalize(x_train, axis=1)\n",
        "x_test = tf.keras.utils.normalize(x_test, axis=1)"
      ],
      "execution_count": 0,
      "outputs": []
    },
    {
      "cell_type": "code",
      "metadata": {
        "id": "xCmBk5k4C47n",
        "colab_type": "code",
        "outputId": "16a27651-e296-4ad4-9ef7-957f57723aa9",
        "colab": {
          "base_uri": "https://localhost:8080/",
          "height": 269
        }
      },
      "source": [
        "plt.imshow(x_train[N_index],cmap=plt.cm.binary)\n",
        "plt.show()"
      ],
      "execution_count": 17,
      "outputs": [
        {
          "output_type": "display_data",
          "data": {
            "image/png": "[encoded data removed]",
            "text/plain": [
              "<Figure size 432x288 with 1 Axes>"
            ]
          },
          "metadata": {
            "tags": []
          }
        }
      ]
    },
    {
      "cell_type": "code",
      "metadata": {
        "id": "DDvJGRSuvBsk",
        "colab_type": "code",
        "outputId": "4d1e9206-68a5-4b0d-8cb6-76aaa55ef9a8",
        "colab": {
          "base_uri": "https://localhost:8080/",
          "height": 1000
        }
      },
      "source": [
        "print(x_train[12])\n",
        "\n",
        "plt.imshow(x_train[12],cmap=plt.cm.binary)\n",
        "plt.show()"
      ],
      "execution_count": 18,
      "outputs": [
        {
          "output_type": "stream",
          "text": [
            "[[0.         0.         0.         0.         0.         0.\n",
            "  0.         0.         0.         0.         0.         0.\n",
            "  0.         0.         0.         0.         0.         0.\n",
            "  0.         0.         0.         0.         0.         0.\n",
            "  0.         0.         0.         0.        ]\n",
            " [0.         0.         0.         0.         0.         0.\n",
            "  0.         0.         0.         0.         0.         0.\n",
            "  0.         0.         0.         0.         0.         0.\n",
            "  0.         0.         0.         0.         0.         0.\n",
            "  0.         0.         0.         0.        ]\n",
            " [0.         0.         0.         0.         0.         0.\n",
            "  0.         0.         0.         0.         0.         0.\n",
            "  0.         0.         0.         0.         0.         0.\n",
            "  0.         0.         0.         0.         0.         0.\n",
            "  0.         0.         0.         0.        ]\n",
            " [0.         0.         0.         0.         0.         0.\n",
            "  0.         0.         0.         0.         0.         0.\n",
            "  0.         0.         0.         0.         0.         0.\n",
            "  0.         0.         0.         0.         0.         0.\n",
            "  0.         0.         0.         0.        ]\n",
            " [0.         0.         0.         0.         0.         0.\n",
            "  0.         0.         0.         0.         0.         0.\n",
            "  0.         0.         0.         0.         0.         0.\n",
            "  0.         0.         0.         0.         0.         0.\n",
            "  0.         0.         0.         0.        ]\n",
            " [0.         0.         0.         0.04574525 0.26060845 0.24448766\n",
            "  0.36612898 0.36087423 0.40903762 0.28250348 0.27713279 0.24237278\n",
            "  0.22878858 0.20973118 0.17109673 0.05983058 0.         0.\n",
            "  0.         0.         0.         0.         0.         0.\n",
            "  0.         0.         0.         0.        ]\n",
            " [0.         0.         0.         0.52607037 0.66863177 0.68241609\n",
            "  0.65490677 0.5913681  0.42233966 0.39426309 0.45414018 0.39717862\n",
            "  0.37491806 0.34368852 0.33174481 0.28994818 0.24835867 0.15370824\n",
            "  0.04462778 0.         0.         0.         0.         0.\n",
            "  0.         0.         0.         0.        ]\n",
            " [0.         0.         0.         0.83866291 0.66863177 0.68241609\n",
            "  0.65490677 0.5471319  0.31426061 0.29336899 0.33792321 0.29553843\n",
            "  0.2214083  0.25573673 0.2677468  0.29224936 0.30039573 0.32001551\n",
            "  0.10142676 0.         0.         0.         0.         0.\n",
            "  0.         0.         0.         0.        ]\n",
            " [0.         0.         0.         0.13342364 0.19479823 0.09403371\n",
            "  0.09024306 0.05820552 0.         0.         0.         0.\n",
            "  0.         0.         0.01697907 0.25773172 0.30039573 0.32001551\n",
            "  0.2069106  0.         0.         0.         0.         0.\n",
            "  0.         0.         0.         0.        ]\n",
            " [0.         0.         0.         0.         0.         0.\n",
            "  0.         0.         0.         0.         0.         0.\n",
            "  0.         0.         0.11754737 0.29224936 0.30039573 0.31119618\n",
            "  0.07167491 0.         0.         0.         0.         0.\n",
            "  0.         0.         0.         0.        ]\n",
            " [0.         0.         0.         0.         0.         0.\n",
            "  0.         0.         0.         0.         0.         0.\n",
            "  0.00885633 0.20567187 0.32129616 0.29224936 0.30039573 0.06173528\n",
            "  0.         0.         0.         0.         0.         0.\n",
            "  0.         0.         0.         0.        ]\n",
            " [0.         0.         0.         0.         0.         0.\n",
            "  0.         0.         0.         0.         0.         0.10320389\n",
            "  0.23321675 0.34368852 0.33174481 0.28649642 0.12181402 0.01007923\n",
            "  0.         0.         0.         0.         0.         0.\n",
            "  0.         0.         0.         0.        ]\n",
            " [0.         0.         0.         0.         0.         0.\n",
            "  0.         0.         0.         0.         0.09654949 0.39248754\n",
            "  0.37491806 0.34368852 0.33174481 0.28534583 0.08751687 0.00629952\n",
            "  0.         0.         0.         0.         0.         0.\n",
            "  0.         0.         0.         0.        ]\n",
            " [0.         0.         0.         0.         0.         0.\n",
            "  0.         0.         0.         0.         0.25031349 0.39717862\n",
            "  0.37491806 0.34368852 0.33174481 0.29224936 0.30039573 0.25450052\n",
            "  0.16904461 0.0591267  0.         0.         0.         0.\n",
            "  0.         0.         0.         0.        ]\n",
            " [0.         0.         0.         0.         0.         0.\n",
            "  0.         0.         0.         0.         0.1037013  0.28302886\n",
            "  0.34539695 0.34368852 0.33174481 0.29224936 0.30039573 0.32001551\n",
            "  0.34349864 0.3311095  0.20426554 0.03769296 0.         0.\n",
            "  0.         0.         0.         0.        ]\n",
            " [0.         0.         0.         0.         0.         0.\n",
            "  0.         0.         0.         0.         0.         0.\n",
            "  0.04428166 0.06765522 0.09534398 0.17834114 0.29921307 0.32001551\n",
            "  0.34349864 0.33373735 0.37059605 0.32724339 0.00854194 0.\n",
            "  0.         0.         0.         0.        ]\n",
            " [0.         0.         0.         0.         0.         0.\n",
            "  0.         0.         0.         0.         0.         0.\n",
            "  0.         0.         0.         0.         0.10762209 0.25198072\n",
            "  0.34349864 0.33373735 0.37059605 0.43518231 0.50397446 0.\n",
            "  0.         0.         0.         0.        ]\n",
            " [0.         0.         0.         0.         0.         0.\n",
            "  0.         0.         0.         0.         0.         0.\n",
            "  0.         0.         0.         0.         0.         0.00503961\n",
            "  0.25965252 0.33373735 0.37059605 0.43518231 0.65772938 0.\n",
            "  0.         0.         0.         0.        ]\n",
            " [0.         0.         0.         0.         0.         0.\n",
            "  0.         0.         0.         0.         0.         0.\n",
            "  0.         0.         0.         0.         0.         0.\n",
            "  0.19068232 0.33373735 0.37059605 0.43518231 0.49543252 0.\n",
            "  0.         0.         0.         0.        ]\n",
            " [0.         0.         0.         0.         0.         0.\n",
            "  0.         0.         0.04156886 0.19557933 0.153764   0.\n",
            "  0.         0.         0.         0.         0.         0.00377971\n",
            "  0.25424309 0.33373735 0.37059605 0.42832905 0.26052917 0.\n",
            "  0.         0.         0.         0.        ]\n",
            " [0.         0.         0.         0.         0.         0.\n",
            "  0.         0.0558773  0.3475157  0.39426309 0.0268193  0.\n",
            "  0.         0.         0.         0.         0.02720119 0.17260679\n",
            "  0.34349864 0.33373735 0.37059605 0.35808308 0.         0.\n",
            "  0.         0.         0.         0.        ]\n",
            " [0.         0.         0.         0.         0.         0.\n",
            "  0.         0.39114111 0.42233966 0.39426309 0.08582177 0.01407326\n",
            "  0.         0.         0.01175474 0.14612468 0.28502115 0.32001551\n",
            "  0.34349864 0.33505128 0.35308757 0.10793892 0.         0.\n",
            "  0.         0.         0.         0.        ]\n",
            " [0.         0.         0.         0.         0.         0.\n",
            "  0.         0.23515031 0.42233966 0.39426309 0.45414018 0.32055755\n",
            "  0.28045052 0.25708984 0.2677468  0.29224936 0.30039573 0.32001551\n",
            "  0.34349864 0.31797024 0.09775565 0.         0.         0.\n",
            "  0.         0.         0.         0.        ]\n",
            " [0.         0.         0.         0.         0.         0.\n",
            "  0.         0.07683129 0.27601726 0.39426309 0.45414018 0.39717862\n",
            "  0.37491806 0.34368852 0.33174481 0.29224936 0.30039573 0.31497589\n",
            "  0.18662525 0.07226596 0.         0.         0.         0.\n",
            "  0.         0.         0.         0.        ]\n",
            " [0.         0.         0.         0.         0.         0.\n",
            "  0.         0.         0.01163928 0.13659509 0.27534484 0.18138866\n",
            "  0.28635474 0.26250225 0.20113662 0.17719055 0.10407411 0.06173528\n",
            "  0.         0.         0.         0.         0.         0.\n",
            "  0.         0.         0.         0.        ]\n",
            " [0.         0.         0.         0.         0.         0.\n",
            "  0.         0.         0.         0.         0.         0.\n",
            "  0.         0.         0.         0.         0.         0.\n",
            "  0.         0.         0.         0.         0.         0.\n",
            "  0.         0.         0.         0.        ]\n",
            " [0.         0.         0.         0.         0.         0.\n",
            "  0.         0.         0.         0.         0.         0.\n",
            "  0.         0.         0.         0.         0.         0.\n",
            "  0.         0.         0.         0.         0.         0.\n",
            "  0.         0.         0.         0.        ]\n",
            " [0.         0.         0.         0.         0.         0.\n",
            "  0.         0.         0.         0.         0.         0.\n",
            "  0.         0.         0.         0.         0.         0.\n",
            "  0.         0.         0.         0.         0.         0.\n",
            "  0.         0.         0.         0.        ]]\n"
          ],
          "name": "stdout"
        },
        {
          "output_type": "display_data",
          "data": {
            "image/png": "[encoded data removed]",
            "text/plain": [
              "<Figure size 432x288 with 1 Axes>"
            ]
          },
          "metadata": {
            "tags": []
          }
        }
      ]
    },
    {
      "cell_type": "markdown",
      "metadata": {
        "id": "bf0V5ZwIHPXV",
        "colab_type": "text"
      },
      "source": [
        "### Referencia de modelos https://keras.io/models/about-keras-models/"
      ]
    },
    {
      "cell_type": "code",
      "metadata": {
        "id": "2L4EBcxkvK6s",
        "colab_type": "code",
        "colab": {}
      },
      "source": [
        "modelo = tf.keras.models.Sequential()"
      ],
      "execution_count": 0,
      "outputs": []
    },
    {
      "cell_type": "code",
      "metadata": {
        "id": "hOTrEunOvQ-k",
        "colab_type": "code",
        "colab": {}
      },
      "source": [
        "modelo.add(tf.keras.layers.Flatten())"
      ],
      "execution_count": 0,
      "outputs": []
    },
    {
      "cell_type": "code",
      "metadata": {
        "id": "fRiMFXoTvcKx",
        "colab_type": "code",
        "outputId": "29395682-76c8-4d42-b39c-98f837a46715",
        "colab": {
          "base_uri": "https://localhost:8080/",
          "height": 104
        }
      },
      "source": [
        "#https://keras.io/activations/\n",
        "modelo.add(tf.keras.layers.Dense(128, activation=tf.nn.softmax))"
      ],
      "execution_count": 21,
      "outputs": [
        {
          "output_type": "stream",
          "text": [
            "WARNING: Logging before flag parsing goes to stderr.\n",
            "W0701 22:26:41.881986 140510311200640 deprecation.py:506] From /usr/local/lib/python3.6/dist-packages/tensorflow/python/ops/init_ops.py:1251: calling VarianceScaling.__init__ (from tensorflow.python.ops.init_ops) with dtype is deprecated and will be removed in a future version.\n",
            "Instructions for updating:\n",
            "Call initializer instance with the dtype argument instead of passing it to the constructor\n"
          ],
          "name": "stderr"
        }
      ]
    },
    {
      "cell_type": "code",
      "metadata": {
        "id": "DEUx357N6Hg3",
        "colab_type": "code",
        "colab": {}
      },
      "source": [
        "modelo.add(tf.keras.layers.Dense(256, activation=tf.nn.relu))  \n",
        "modelo.add(tf.keras.layers.Dense(256, activation=tf.nn.relu)) \n",
        "modelo.add(tf.keras.layers.Dense(256, activation=tf.nn.relu))  \n",
        "modelo.add(tf.keras.layers.Dense(256, activation=tf.nn.relu)) \n",
        "modelo.add(tf.keras.layers.Dense(10, activation=tf.nn.softmax))  \n",
        "\n",
        " \n",
        "\n",
        "modelo.compile(optimizer='adam', loss='sparse_categorical_crossentropy', metrics=['accuracy'])\n"
      ],
      "execution_count": 0,
      "outputs": []
    },
    {
      "cell_type": "code",
      "metadata": {
        "id": "q34DqGm9MA4B",
        "colab_type": "code",
        "outputId": "6adf3470-42e3-45df-81b0-f9020dabc10e",
        "colab": {
          "base_uri": "https://localhost:8080/",
          "height": 706
        }
      },
      "source": [
        "modelo.fit(x_train, y_train, epochs=20) \n"
      ],
      "execution_count": 23,
      "outputs": [
        {
          "output_type": "stream",
          "text": [
            "Epoch 1/20\n",
            "60000/60000 [==============================] - 10s 161us/sample - loss: 0.4810 - acc: 0.8426\n",
            "Epoch 2/20\n",
            "60000/60000 [==============================] - 10s 158us/sample - loss: 0.1696 - acc: 0.9504\n",
            "Epoch 3/20\n",
            "60000/60000 [==============================] - 10s 159us/sample - loss: 0.1234 - acc: 0.9635\n",
            "Epoch 4/20\n",
            "60000/60000 [==============================] - 10s 166us/sample - loss: 0.0973 - acc: 0.9717\n",
            "Epoch 5/20\n",
            "60000/60000 [==============================] - 10s 162us/sample - loss: 0.0796 - acc: 0.9767\n",
            "Epoch 6/20\n",
            "60000/60000 [==============================] - 10s 159us/sample - loss: 0.0664 - acc: 0.9808\n",
            "Epoch 7/20\n",
            "60000/60000 [==============================] - 9s 157us/sample - loss: 0.0567 - acc: 0.9833\n",
            "Epoch 8/20\n",
            "60000/60000 [==============================] - 9s 153us/sample - loss: 0.0495 - acc: 0.9858\n",
            "Epoch 9/20\n",
            "60000/60000 [==============================] - 9s 143us/sample - loss: 0.0425 - acc: 0.9877\n",
            "Epoch 10/20\n",
            "60000/60000 [==============================] - 10s 163us/sample - loss: 0.0361 - acc: 0.9889\n",
            "Epoch 11/20\n",
            "60000/60000 [==============================] - 10s 162us/sample - loss: 0.0336 - acc: 0.9898\n",
            "Epoch 12/20\n",
            "60000/60000 [==============================] - 10s 162us/sample - loss: 0.0291 - acc: 0.9911\n",
            "Epoch 13/20\n",
            "60000/60000 [==============================] - 10s 162us/sample - loss: 0.0253 - acc: 0.9926\n",
            "Epoch 14/20\n",
            "60000/60000 [==============================] - 10s 161us/sample - loss: 0.0239 - acc: 0.9929\n",
            "Epoch 15/20\n",
            "60000/60000 [==============================] - 10s 161us/sample - loss: 0.0218 - acc: 0.9937\n",
            "Epoch 16/20\n",
            "60000/60000 [==============================] - 10s 162us/sample - loss: 0.0203 - acc: 0.9940\n",
            "Epoch 17/20\n",
            "60000/60000 [==============================] - 10s 162us/sample - loss: 0.0183 - acc: 0.9949\n",
            "Epoch 18/20\n",
            "60000/60000 [==============================] - 9s 147us/sample - loss: 0.0166 - acc: 0.9950\n",
            "Epoch 19/20\n",
            "60000/60000 [==============================] - 9s 154us/sample - loss: 0.0143 - acc: 0.9959\n",
            "Epoch 20/20\n",
            "60000/60000 [==============================] - 10s 163us/sample - loss: 0.0131 - acc: 0.9962\n"
          ],
          "name": "stdout"
        },
        {
          "output_type": "execute_result",
          "data": {
            "text/plain": [
              "<tensorflow.python.keras.callbacks.History at 0x7fcae0856908>"
            ]
          },
          "metadata": {
            "tags": []
          },
          "execution_count": 23
        }
      ]
    },
    {
      "cell_type": "code",
      "metadata": {
        "id": "TWdgKaEtRha_",
        "colab_type": "code",
        "outputId": "f70f3a81-4ed1-4ded-bed0-ef6f1656f75f",
        "colab": {
          "base_uri": "https://localhost:8080/",
          "height": 386
        }
      },
      "source": [
        "modelo.summary()"
      ],
      "execution_count": 24,
      "outputs": [
        {
          "output_type": "stream",
          "text": [
            "Model: \"sequential\"\n",
            "_________________________________________________________________\n",
            "Layer (type)                 Output Shape              Param #   \n",
            "=================================================================\n",
            "flatten (Flatten)            multiple                  0         \n",
            "_________________________________________________________________\n",
            "dense (Dense)                multiple                  100480    \n",
            "_________________________________________________________________\n",
            "dense_1 (Dense)              multiple                  33024     \n",
            "_________________________________________________________________\n",
            "dense_2 (Dense)              multiple                  65792     \n",
            "_________________________________________________________________\n",
            "dense_3 (Dense)              multiple                  65792     \n",
            "_________________________________________________________________\n",
            "dense_4 (Dense)              multiple                  65792     \n",
            "_________________________________________________________________\n",
            "dense_5 (Dense)              multiple                  2570      \n",
            "=================================================================\n",
            "Total params: 333,450\n",
            "Trainable params: 333,450\n",
            "Non-trainable params: 0\n",
            "_________________________________________________________________\n"
          ],
          "name": "stdout"
        }
      ]
    },
    {
      "cell_type": "code",
      "metadata": {
        "id": "YU2tfKTNE2Ro",
        "colab_type": "code",
        "outputId": "8acd0e5a-afd0-4226-8cc9-3750a2a1a2f6",
        "colab": {
          "base_uri": "https://localhost:8080/",
          "height": 67
        }
      },
      "source": [
        "val_loss, val_acc = modelo.evaluate(x_test, y_test)\n",
        "print(val_loss)\n",
        "print(val_acc)"
      ],
      "execution_count": 25,
      "outputs": [
        {
          "output_type": "stream",
          "text": [
            "10000/10000 [==============================] - 0s 49us/sample - loss: 0.2168 - acc: 0.9689\n",
            "0.2167776170460689\n",
            "0.9689\n"
          ],
          "name": "stdout"
        }
      ]
    },
    {
      "cell_type": "code",
      "metadata": {
        "id": "Hn47pKILFEz-",
        "colab_type": "code",
        "colab": {}
      },
      "source": [
        "prediciones = modelo.predict(x_test)"
      ],
      "execution_count": 0,
      "outputs": []
    },
    {
      "cell_type": "code",
      "metadata": {
        "id": "7TzN1pX4FZCL",
        "colab_type": "code",
        "outputId": "f0594c78-be81-4d17-f36f-259874974629",
        "colab": {
          "base_uri": "https://localhost:8080/",
          "height": 235
        }
      },
      "source": [
        "print(prediciones)"
      ],
      "execution_count": 27,
      "outputs": [
        {
          "output_type": "stream",
          "text": [
            "[[1.1409702e-13 5.0943614e-18 6.7904742e-13 ... 1.0000000e+00\n",
            "  3.4999296e-15 2.9544592e-10]\n",
            " [3.5466625e-14 2.1885699e-24 1.0000000e+00 ... 3.3557591e-23\n",
            "  1.9872938e-18 3.4977394e-31]\n",
            " [0.0000000e+00 1.0000000e+00 4.0198223e-18 ... 2.1842651e-25\n",
            "  8.9402771e-16 2.0722149e-24]\n",
            " ...\n",
            " [2.0362526e-34 4.4766741e-19 8.4781564e-23 ... 4.6673149e-24\n",
            "  2.1822496e-25 7.7125690e-21]\n",
            " [0.0000000e+00 0.0000000e+00 0.0000000e+00 ... 0.0000000e+00\n",
            "  8.9558093e-31 1.5668761e-33]\n",
            " [3.7227786e-19 4.5283346e-28 1.3967147e-28 ... 1.4153250e-37\n",
            "  1.0226351e-19 1.2743249e-30]]\n"
          ],
          "name": "stdout"
        }
      ]
    },
    {
      "cell_type": "code",
      "metadata": {
        "id": "wh0wRtRUFczj",
        "colab_type": "code",
        "outputId": "a9afe80d-0874-48fd-9f8a-1f614f1d0be2",
        "colab": {
          "base_uri": "https://localhost:8080/",
          "height": 34
        }
      },
      "source": [
        "mnist_labels = [\"CERO\",  \"UNO\", \"DOS\",  \"TRES\", \"CUATRO\",  \"CINCO\", \"SEIS\", \"SIETE\", \"OCHO\",  \"NUEVE\"] \n",
        "import numpy as np\n",
        "N_predicion = 200\n",
        "print(mnist_labels[np.argmax(prediciones[N_predicion])])"
      ],
      "execution_count": 28,
      "outputs": [
        {
          "output_type": "stream",
          "text": [
            "TRES\n"
          ],
          "name": "stdout"
        }
      ]
    },
    {
      "cell_type": "code",
      "metadata": {
        "id": "rEUaBhNSFhKh",
        "colab_type": "code",
        "outputId": "156bc257-cb47-4fd8-b7c1-f23538e0990b",
        "colab": {
          "base_uri": "https://localhost:8080/",
          "height": 269
        }
      },
      "source": [
        "plt.imshow(x_test[N_predicion])\n",
        "plt.show()"
      ],
      "execution_count": 29,
      "outputs": [
        {
          "output_type": "display_data",
          "data": {
            "image/png": "[encoded data removed]",
            "text/plain": [
              "<Figure size 432x288 with 1 Axes>"
            ]
          },
          "metadata": {
            "tags": []
          }
        }
      ]
    },
    {
      "cell_type": "markdown",
      "metadata": {
        "id": "pjYY-SMGn3hU",
        "colab_type": "text"
      },
      "source": [
        "## THE Fashion-MNIST DATABASE\n",
        "\n",
        " \n",
        "Fashion-MNIST is a dataset of Zalando's article images—consisting of a training set of 60,000 examples and a test set of 10,000 examples. Each example is a 28x28 grayscale image, associated with a label from 10 classes. We intend Fashion-MNIST to serve as a direct drop-in replacement for the original MNIST dataset for benchmarking machine learning algorithms. It shares the same image size and structure of training and testing splits.\n",
        "\n",
        "https://github.com/zalandoresearch/fashion-mnist\n"
      ]
    },
    {
      "cell_type": "markdown",
      "metadata": {
        "id": "brN9-Mx-gPSE",
        "colab_type": "text"
      },
      "source": [
        "Label Description\n",
        "0 T-shirt/top\n",
        "1 Trouser\n",
        "2 Pullover\n",
        "3 Dress\n",
        "4 Coat\n",
        "5 Sandal\n",
        "6 Shirt\n",
        "7 Sneaker\n",
        "8 Bag\n",
        "9 Ankle boot\n",
        "\n",
        "Each gray-scale image is 28x28"
      ]
    },
    {
      "cell_type": "code",
      "metadata": {
        "id": "cQsFKVTzgH7p",
        "colab_type": "code",
        "outputId": "b4408855-c259-4b16-8575-33e9e46ad8d5",
        "colab": {
          "base_uri": "https://localhost:8080/",
          "height": 168
        }
      },
      "source": [
        "import tensorflow as tf\n",
        "\n",
        "import numpy as np\n",
        "import matplotlib.pyplot as plt\n",
        "\n",
        "# Load fashion-mnist\n",
        "(x_train, y_train), (x_test, y_test) = tf.keras.datasets.fashion_mnist.load_data()\n",
        "\n",
        "print(\"x_train shape:\", x_train.shape, \"y_train shape:\", y_train.shape)"
      ],
      "execution_count": 30,
      "outputs": [
        {
          "output_type": "stream",
          "text": [
            "Downloading data from https://storage.googleapis.com/tensorflow/tf-keras-datasets/train-labels-idx1-ubyte.gz\n",
            "32768/29515 [=================================] - 0s 0us/step\n",
            "Downloading data from https://storage.googleapis.com/tensorflow/tf-keras-datasets/train-images-idx3-ubyte.gz\n",
            "26427392/26421880 [==============================] - 0s 0us/step\n",
            "Downloading data from https://storage.googleapis.com/tensorflow/tf-keras-datasets/t10k-labels-idx1-ubyte.gz\n",
            "8192/5148 [===============================================] - 0s 0us/step\n",
            "Downloading data from https://storage.googleapis.com/tensorflow/tf-keras-datasets/t10k-images-idx3-ubyte.gz\n",
            "4423680/4422102 [==============================] - 0s 0us/step\n",
            "x_train shape: (60000, 28, 28) y_train shape: (60000,)\n"
          ],
          "name": "stdout"
        }
      ]
    },
    {
      "cell_type": "code",
      "metadata": {
        "id": "4rPI95Z9gaj8",
        "colab_type": "code",
        "outputId": "b50a5814-ea3e-43d8-cd2b-0799a23c5ba8",
        "colab": {
          "base_uri": "https://localhost:8080/",
          "height": 302
        }
      },
      "source": [
        "# Definir Etiquetas       0           1           2           3        4        5           6        7           8         9\n",
        "fashion_mnist_labels = [\"Camisa\",  \"Pantalon\", \"Chompa\",  \"Vestido\", \"Saco\",  \"Sandalia\", \"Polo\", \"Zapatilla\", \"Bolsa\",  \"Botas\"]  \n",
        "\n",
        "# Index de imagen -> 0 a 59,999\n",
        "img_index = 100\n",
        "# y_train tiene etiquetas de 0 a 9\n",
        "label_index = y_train[img_index]\n",
        "# Ejemplo\n",
        "print (\"y = \" + str(label_index) + \" \" +(fashion_mnist_labels[label_index]))\n",
        "\n",
        "plt.imshow(x_train[img_index])"
      ],
      "execution_count": 31,
      "outputs": [
        {
          "output_type": "stream",
          "text": [
            "y = 8 Bolsa\n"
          ],
          "name": "stdout"
        },
        {
          "output_type": "execute_result",
          "data": {
            "text/plain": [
              "<matplotlib.image.AxesImage at 0x7fcada93dcc0>"
            ]
          },
          "metadata": {
            "tags": []
          },
          "execution_count": 31
        },
        {
          "output_type": "display_data",
          "data": {
            "image/png": "[encoded data removed]",
            "text/plain": [
              "<Figure size 432x288 with 1 Axes>"
            ]
          },
          "metadata": {
            "tags": []
          }
        }
      ]
    },
    {
      "cell_type": "code",
      "metadata": {
        "id": "rBvcoiwSggHV",
        "colab_type": "code",
        "outputId": "aca26b4d-10e9-42ee-8880-bc7f24141e93",
        "colab": {
          "base_uri": "https://localhost:8080/",
          "height": 50
        }
      },
      "source": [
        "print(\"Numbero de train set - \" + str(len(x_train)))\n",
        "print(\"Numbero de test set - \" + str(len(x_test)))"
      ],
      "execution_count": 32,
      "outputs": [
        {
          "output_type": "stream",
          "text": [
            "Numbero de train set - 60000\n",
            "Numbero de test set - 10000\n"
          ],
          "name": "stdout"
        }
      ]
    },
    {
      "cell_type": "code",
      "metadata": {
        "id": "uSBhwgwzgmg2",
        "colab_type": "code",
        "colab": {}
      },
      "source": [
        "x_train = tf.keras.utils.normalize(x_train, axis=1)\n",
        "x_test = tf.keras.utils.normalize(x_test, axis=1)\n",
        "\n",
        "#x_train = x_train.astype('float32') / 255\n",
        "#x_test = x_test.astype('float32') / 255\n",
        "\n"
      ],
      "execution_count": 0,
      "outputs": []
    },
    {
      "cell_type": "code",
      "metadata": {
        "id": "Tjkhe3avsXOo",
        "colab_type": "code",
        "outputId": "e73077e0-33c1-45af-b859-ed71c7ff849e",
        "colab": {
          "base_uri": "https://localhost:8080/",
          "height": 286
        }
      },
      "source": [
        "plt.imshow(x_train[img_index])"
      ],
      "execution_count": 34,
      "outputs": [
        {
          "output_type": "execute_result",
          "data": {
            "text/plain": [
              "<matplotlib.image.AxesImage at 0x7fcada914f98>"
            ]
          },
          "metadata": {
            "tags": []
          },
          "execution_count": 34
        },
        {
          "output_type": "display_data",
          "data": {
            "image/png": "[encoded data removed]",
            "text/plain": [
              "<Figure size 432x288 with 1 Axes>"
            ]
          },
          "metadata": {
            "tags": []
          }
        }
      ]
    },
    {
      "cell_type": "code",
      "metadata": {
        "id": "uxAY-nEDgvnh",
        "colab_type": "code",
        "outputId": "13e344d9-f3fd-4c56-f1f9-7c1282501b18",
        "colab": {
          "base_uri": "https://localhost:8080/",
          "height": 84
        }
      },
      "source": [
        "# poner 5000 en el set de validacion y usar el resto 55,000 para train)\n",
        "(x_train, x_valid) = x_train[5000:], x_train[:5000] \n",
        "(y_train, y_valid) = y_train[5000:], y_train[:5000]\n",
        "\n",
        "# Reshape data de entrada de (28, 28) to (28, 28, 1)\n",
        "w, h = 28, 28\n",
        "x_train = x_train.reshape(x_train.shape[0], w, h, 1)\n",
        "x_valid = x_valid.reshape(x_valid.shape[0], w, h, 1)\n",
        "x_test = x_test.reshape(x_test.shape[0], w, h, 1)\n",
        "\n",
        "# One-hot encode (etiquetas)\n",
        "y_train = tf.keras.utils.to_categorical(y_train, 10)\n",
        "y_valid = tf.keras.utils.to_categorical(y_valid, 10)\n",
        "y_test = tf.keras.utils.to_categorical(y_test, 10)\n",
        "\n",
        "\n",
        "print(\"x_train shape:\", x_train.shape, \"y_train shape:\", y_train.shape)\n",
        "\n",
        "\n",
        "print(x_train.shape[0], 'train set')\n",
        "print(x_valid.shape[0], 'validation set')\n",
        "print(x_test.shape[0], 'test set')"
      ],
      "execution_count": 35,
      "outputs": [
        {
          "output_type": "stream",
          "text": [
            "x_train shape: (55000, 28, 28, 1) y_train shape: (55000, 10)\n",
            "55000 train set\n",
            "5000 validation set\n",
            "10000 test set\n"
          ],
          "name": "stdout"
        }
      ]
    },
    {
      "cell_type": "code",
      "metadata": {
        "id": "6OOo7IpEgz7P",
        "colab_type": "code",
        "outputId": "a1b74ae0-f74e-4cab-b6b9-1fcf887fc9c3",
        "colab": {
          "base_uri": "https://localhost:8080/",
          "height": 487
        }
      },
      "source": [
        "model = tf.keras.Sequential()\n",
        "\n",
        "\n",
        "model.add(tf.keras.layers.Conv2D(filters=64, kernel_size=2, padding='same', activation='relu', input_shape=(28,28,1))) \n",
        "model.add(tf.keras.layers.MaxPooling2D(pool_size=2))\n",
        "model.add(tf.keras.layers.Dropout(0.3))\n",
        "\n",
        "model.add(tf.keras.layers.Conv2D(filters=32, kernel_size=2, padding='same', activation='relu'))\n",
        "model.add(tf.keras.layers.MaxPooling2D(pool_size=2))\n",
        "model.add(tf.keras.layers.Dropout(0.3))\n",
        "\n",
        "model.add(tf.keras.layers.Flatten())\n",
        "model.add(tf.keras.layers.Dense(256, activation='relu'))\n",
        "model.add(tf.keras.layers.Dropout(0.5))\n",
        "model.add(tf.keras.layers.Dense(10, activation='softmax'))\n",
        "\n",
        "\n",
        "model.summary()\n",
        "\n"
      ],
      "execution_count": 36,
      "outputs": [
        {
          "output_type": "stream",
          "text": [
            "Model: \"sequential_1\"\n",
            "_________________________________________________________________\n",
            "Layer (type)                 Output Shape              Param #   \n",
            "=================================================================\n",
            "conv2d (Conv2D)              (None, 28, 28, 64)        320       \n",
            "_________________________________________________________________\n",
            "max_pooling2d (MaxPooling2D) (None, 14, 14, 64)        0         \n",
            "_________________________________________________________________\n",
            "dropout (Dropout)            (None, 14, 14, 64)        0         \n",
            "_________________________________________________________________\n",
            "conv2d_1 (Conv2D)            (None, 14, 14, 32)        8224      \n",
            "_________________________________________________________________\n",
            "max_pooling2d_1 (MaxPooling2 (None, 7, 7, 32)          0         \n",
            "_________________________________________________________________\n",
            "dropout_1 (Dropout)          (None, 7, 7, 32)          0         \n",
            "_________________________________________________________________\n",
            "flatten_1 (Flatten)          (None, 1568)              0         \n",
            "_________________________________________________________________\n",
            "dense_6 (Dense)              (None, 256)               401664    \n",
            "_________________________________________________________________\n",
            "dropout_2 (Dropout)          (None, 256)               0         \n",
            "_________________________________________________________________\n",
            "dense_7 (Dense)              (None, 10)                2570      \n",
            "=================================================================\n",
            "Total params: 412,778\n",
            "Trainable params: 412,778\n",
            "Non-trainable params: 0\n",
            "_________________________________________________________________\n"
          ],
          "name": "stdout"
        }
      ]
    },
    {
      "cell_type": "code",
      "metadata": {
        "id": "gsz9nxIeg9au",
        "colab_type": "code",
        "colab": {}
      },
      "source": [
        "model.compile(loss='categorical_crossentropy', optimizer='adam', metrics=['accuracy'])"
      ],
      "execution_count": 0,
      "outputs": []
    },
    {
      "cell_type": "code",
      "metadata": {
        "id": "o5V3xMFQhC1l",
        "colab_type": "code",
        "outputId": "3fe1af71-e220-4a78-b84b-25f11ce3211b",
        "colab": {
          "base_uri": "https://localhost:8080/",
          "height": 403
        }
      },
      "source": [
        "from tensorflow.keras.callbacks import EarlyStopping\n",
        "from keras.callbacks import ModelCheckpoint\n",
        "#filepath=\"weights-improvement-{epoch:02d}-{val_acc:.2f}.hdf5\"\n",
        "#checkpointer = ModelCheckpoint(filepath=filepath, verbose = 1, save_best_only=True)\n",
        "\n",
        "\n",
        "\n",
        "model.fit(x_train,\n",
        "         y_train,\n",
        "         batch_size=64,\n",
        "         epochs=10,\n",
        "         validation_data=(x_valid, y_valid))"
      ],
      "execution_count": 38,
      "outputs": [
        {
          "output_type": "stream",
          "text": [
            "Train on 55000 samples, validate on 5000 samples\n"
          ],
          "name": "stdout"
        },
        {
          "output_type": "stream",
          "text": [
            "Using TensorFlow backend.\n"
          ],
          "name": "stderr"
        },
        {
          "output_type": "stream",
          "text": [
            "Epoch 1/10\n",
            "55000/55000 [==============================] - 74s 1ms/sample - loss: 0.6239 - acc: 0.7652 - val_loss: 0.3846 - val_acc: 0.8594\n",
            "Epoch 2/10\n",
            "55000/55000 [==============================] - 73s 1ms/sample - loss: 0.4284 - acc: 0.8427 - val_loss: 0.3420 - val_acc: 0.8772\n",
            "Epoch 3/10\n",
            "55000/55000 [==============================] - 73s 1ms/sample - loss: 0.3857 - acc: 0.8573 - val_loss: 0.2983 - val_acc: 0.8928\n",
            "Epoch 4/10\n",
            "55000/55000 [==============================] - 73s 1ms/sample - loss: 0.3599 - acc: 0.8675 - val_loss: 0.2871 - val_acc: 0.8932\n",
            "Epoch 5/10\n",
            "55000/55000 [==============================] - 74s 1ms/sample - loss: 0.3410 - acc: 0.8733 - val_loss: 0.2752 - val_acc: 0.8958\n",
            "Epoch 6/10\n",
            "55000/55000 [==============================] - 74s 1ms/sample - loss: 0.3241 - acc: 0.8806 - val_loss: 0.2641 - val_acc: 0.9016\n",
            "Epoch 7/10\n",
            "55000/55000 [==============================] - 75s 1ms/sample - loss: 0.3131 - acc: 0.8845 - val_loss: 0.2659 - val_acc: 0.9000\n",
            "Epoch 8/10\n",
            "55000/55000 [==============================] - 75s 1ms/sample - loss: 0.3031 - acc: 0.8869 - val_loss: 0.2471 - val_acc: 0.9076\n",
            "Epoch 9/10\n",
            "55000/55000 [==============================] - 75s 1ms/sample - loss: 0.2927 - acc: 0.8907 - val_loss: 0.2470 - val_acc: 0.9082\n",
            "Epoch 10/10\n",
            "55000/55000 [==============================] - 74s 1ms/sample - loss: 0.2866 - acc: 0.8946 - val_loss: 0.2412 - val_acc: 0.9096\n"
          ],
          "name": "stdout"
        },
        {
          "output_type": "execute_result",
          "data": {
            "text/plain": [
              "<tensorflow.python.keras.callbacks.History at 0x7fcada512a90>"
            ]
          },
          "metadata": {
            "tags": []
          },
          "execution_count": 38
        }
      ]
    },
    {
      "cell_type": "code",
      "metadata": {
        "id": "hZExFJdOkGaP",
        "colab_type": "code",
        "colab": {
          "base_uri": "https://localhost:8080/",
          "height": 50
        },
        "outputId": "613e4504-bf56-4098-b646-d3a0fb6a7216"
      },
      "source": [
        "val_loss, val_acc = model.evaluate(x_test, y_test, verbose=0)\n",
        "\n",
        "print(val_loss)\n",
        "print(val_acc)"
      ],
      "execution_count": 39,
      "outputs": [
        {
          "output_type": "stream",
          "text": [
            "0.268301521396637\n",
            "0.8992\n"
          ],
          "name": "stdout"
        }
      ]
    },
    {
      "cell_type": "code",
      "metadata": {
        "id": "a-Mapx_-kbe_",
        "colab_type": "code",
        "outputId": "1530739f-94b7-4e7f-e444-388ec1feb154",
        "colab": {
          "base_uri": "https://localhost:8080/",
          "height": 485
        }
      },
      "source": [
        "prediccion = model.predict(x_test)\n",
        "\n",
        "# Graficar una muestra aleatoria de 10 imagenes de prueba, sus etiquetas predecidas y las reales\n",
        "figure = plt.figure(figsize=(20, 8))\n",
        "for i, index in enumerate(np.random.choice(x_test.shape[0], size=15, replace=False)):\n",
        "    ax = figure.add_subplot(3, 5, i + 1, xticks=[], yticks=[])\n",
        "    # Mostrar cada imagen\n",
        "    ax.imshow(np.squeeze(x_test[index]))\n",
        "    predict_index = np.argmax(prediccion[index])\n",
        "    true_index = np.argmax(y_test[index])\n",
        "    # Poner el titulo a cada imagen\n",
        "    ax.set_title(\"{} ({})\".format(fashion_mnist_labels[predict_index], \n",
        "                                  fashion_mnist_labels[true_index]),\n",
        "                                  color=(\"green\" if predict_index == true_index else \"red\"))"
      ],
      "execution_count": 40,
      "outputs": [
        {
          "output_type": "display_data",
          "data": {
            "image/png": "[encoded data removed]",
            "text/plain": [
              "<Figure size 1440x576 with 15 Axes>"
            ]
          },
          "metadata": {
            "tags": []
          }
        }
      ]
    }
  ]
}